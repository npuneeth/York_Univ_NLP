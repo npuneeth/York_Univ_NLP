{
  "nbformat": 4,
  "nbformat_minor": 0,
  "metadata": {
    "colab": {
      "provenance": [],
      "include_colab_link": true
    },
    "kernelspec": {
      "name": "python3",
      "display_name": "Python 3"
    },
    "language_info": {
      "name": "python"
    }
  },
  "cells": [
    {
      "cell_type": "markdown",
      "metadata": {
        "id": "view-in-github",
        "colab_type": "text"
      },
      "source": [
        "<a href=\"https://colab.research.google.com/github/npuneeth/York_Univ_NLP/blob/main/Data_Preparation_and_Data_Exploration.ipynb\" target=\"_parent\"><img src=\"https://colab.research.google.com/assets/colab-badge.svg\" alt=\"Open In Colab\"/></a>"
      ]
    },
    {
      "cell_type": "markdown",
      "source": [
        "## Installation"
      ],
      "metadata": {
        "id": "5I-mVgrXR8lz"
      }
    },
    {
      "cell_type": "code",
      "execution_count": null,
      "metadata": {
        "id": "2NvHs9dj9_rU",
        "colab": {
          "base_uri": "https://localhost:8080/"
        },
        "outputId": "fcefde7b-9378-4e13-c1e7-629dfe8e4dbc"
      },
      "outputs": [
        {
          "output_type": "stream",
          "name": "stdout",
          "text": [
            "Looking in indexes: https://pypi.org/simple, https://us-python.pkg.dev/colab-wheels/public/simple/\n",
            "Requirement already satisfied: pandas in /usr/local/lib/python3.7/dist-packages (1.3.5)\n",
            "Requirement already satisfied: numpy>=1.17.3 in /usr/local/lib/python3.7/dist-packages (from pandas) (1.21.6)\n",
            "Requirement already satisfied: pytz>=2017.3 in /usr/local/lib/python3.7/dist-packages (from pandas) (2022.6)\n",
            "Requirement already satisfied: python-dateutil>=2.7.3 in /usr/local/lib/python3.7/dist-packages (from pandas) (2.8.2)\n",
            "Requirement already satisfied: six>=1.5 in /usr/local/lib/python3.7/dist-packages (from python-dateutil>=2.7.3->pandas) (1.15.0)\n",
            "Looking in indexes: https://pypi.org/simple, https://us-python.pkg.dev/colab-wheels/public/simple/\n",
            "Requirement already satisfied: Kaggle in /usr/local/lib/python3.7/dist-packages (1.5.12)\n",
            "Requirement already satisfied: six>=1.10 in /usr/local/lib/python3.7/dist-packages (from Kaggle) (1.15.0)\n",
            "Requirement already satisfied: python-dateutil in /usr/local/lib/python3.7/dist-packages (from Kaggle) (2.8.2)\n",
            "Requirement already satisfied: python-slugify in /usr/local/lib/python3.7/dist-packages (from Kaggle) (6.1.2)\n",
            "Requirement already satisfied: urllib3 in /usr/local/lib/python3.7/dist-packages (from Kaggle) (1.24.3)\n",
            "Requirement already satisfied: requests in /usr/local/lib/python3.7/dist-packages (from Kaggle) (2.23.0)\n",
            "Requirement already satisfied: certifi in /usr/local/lib/python3.7/dist-packages (from Kaggle) (2022.9.24)\n",
            "Requirement already satisfied: tqdm in /usr/local/lib/python3.7/dist-packages (from Kaggle) (4.64.1)\n",
            "Requirement already satisfied: text-unidecode>=1.3 in /usr/local/lib/python3.7/dist-packages (from python-slugify->Kaggle) (1.3)\n",
            "Requirement already satisfied: chardet<4,>=3.0.2 in /usr/local/lib/python3.7/dist-packages (from requests->Kaggle) (3.0.4)\n",
            "Requirement already satisfied: idna<3,>=2.5 in /usr/local/lib/python3.7/dist-packages (from requests->Kaggle) (2.10)\n"
          ]
        }
      ],
      "source": [
        "! pip install pandas\n",
        "import numpy as np\n",
        "import pandas as pd\n",
        "import matplotlib.pyplot as plt\n",
        "%matplotlib inline\n",
        "import seaborn as sns; sns.set_theme()\n",
        "! pip install Kaggle\n",
        "! mkdir ~/.kaggle"
      ]
    },
    {
      "cell_type": "code",
      "source": [
        "#for text pre-processing\n",
        "import re, string\n",
        "import nltk\n",
        "from nltk.tokenize import word_tokenize\n",
        "from nltk.corpus import stopwords\n",
        "from nltk.stem import SnowballStemmer\n",
        "from nltk.corpus import wordnet\n",
        "from nltk.stem import WordNetLemmatizer\n",
        "\n",
        "nltk.download('punkt')\n",
        "nltk.download('averaged_perceptron_tagger')\n",
        "nltk.download('wordnet')\n",
        "\n",
        "#for model-building\n",
        "from sklearn.model_selection import train_test_split\n",
        "from sklearn.linear_model import LogisticRegression\n",
        "from sklearn.linear_model import SGDClassifier\n",
        "from sklearn.naive_bayes import MultinomialNB\n",
        "from sklearn.metrics import classification_report, f1_score, accuracy_score, confusion_matrix\n",
        "from sklearn.metrics import roc_curve, auc, roc_auc_score\n",
        "\n",
        "# bag of words\n",
        "from sklearn.feature_extraction.text import TfidfVectorizer\n",
        "from sklearn.feature_extraction.text import CountVectorizer\n",
        "\n",
        "#for word embedding\n",
        "import gensim\n",
        "from gensim.models import Word2Vec #Word2Vec is mostly used for huge datasets"
      ],
      "metadata": {
        "id": "zBZCF8YIG5kS",
        "colab": {
          "base_uri": "https://localhost:8080/"
        },
        "outputId": "b98c4eed-b635-484d-ace4-fd1f44a226ca"
      },
      "execution_count": null,
      "outputs": [
        {
          "output_type": "stream",
          "name": "stderr",
          "text": [
            "[nltk_data] Downloading package punkt to /root/nltk_data...\n",
            "[nltk_data]   Unzipping tokenizers/punkt.zip.\n",
            "[nltk_data] Downloading package averaged_perceptron_tagger to\n",
            "[nltk_data]     /root/nltk_data...\n",
            "[nltk_data]   Unzipping taggers/averaged_perceptron_tagger.zip.\n",
            "[nltk_data] Downloading package wordnet to /root/nltk_data...\n"
          ]
        }
      ]
    },
    {
      "cell_type": "code",
      "source": [
        "!pip install -U pip setuptools wheel\n",
        "!pip install spacy\n",
        "!python -m spacy download en_core_web_sm"
      ],
      "metadata": {
        "id": "sPtpUrbVGjya",
        "colab": {
          "base_uri": "https://localhost:8080/",
          "height": 1000
        },
        "outputId": "1289d539-ccf8-48c6-8ce7-40295e998fd3"
      },
      "execution_count": null,
      "outputs": [
        {
          "output_type": "stream",
          "name": "stdout",
          "text": [
            "Looking in indexes: https://pypi.org/simple, https://us-python.pkg.dev/colab-wheels/public/simple/\n",
            "Requirement already satisfied: pip in /usr/local/lib/python3.7/dist-packages (21.1.3)\n",
            "Collecting pip\n",
            "  Downloading pip-22.3.1-py3-none-any.whl (2.1 MB)\n",
            "\u001b[K     |████████████████████████████████| 2.1 MB 5.8 MB/s \n",
            "\u001b[?25hRequirement already satisfied: setuptools in /usr/local/lib/python3.7/dist-packages (57.4.0)\n",
            "Collecting setuptools\n",
            "  Downloading setuptools-65.6.3-py3-none-any.whl (1.2 MB)\n",
            "\u001b[K     |████████████████████████████████| 1.2 MB 34.9 MB/s \n",
            "\u001b[?25hRequirement already satisfied: wheel in /usr/local/lib/python3.7/dist-packages (0.38.4)\n",
            "Installing collected packages: setuptools, pip\n",
            "  Attempting uninstall: setuptools\n",
            "    Found existing installation: setuptools 57.4.0\n",
            "    Uninstalling setuptools-57.4.0:\n",
            "      Successfully uninstalled setuptools-57.4.0\n",
            "  Attempting uninstall: pip\n",
            "    Found existing installation: pip 21.1.3\n",
            "    Uninstalling pip-21.1.3:\n",
            "      Successfully uninstalled pip-21.1.3\n",
            "\u001b[31mERROR: pip's dependency resolver does not currently take into account all the packages that are installed. This behaviour is the source of the following dependency conflicts.\n",
            "ipython 7.9.0 requires jedi>=0.10, which is not installed.\u001b[0m\n",
            "Successfully installed pip-22.3.1 setuptools-65.6.3\n"
          ]
        },
        {
          "output_type": "display_data",
          "data": {
            "application/vnd.colab-display-data+json": {
              "pip_warning": {
                "packages": [
                  "pkg_resources"
                ]
              }
            }
          },
          "metadata": {}
        },
        {
          "output_type": "stream",
          "name": "stdout",
          "text": [
            "Looking in indexes: https://pypi.org/simple, https://us-python.pkg.dev/colab-wheels/public/simple/\n",
            "Requirement already satisfied: spacy in /usr/local/lib/python3.7/dist-packages (3.4.3)\n",
            "Requirement already satisfied: setuptools in /usr/local/lib/python3.7/dist-packages (from spacy) (65.6.3)\n",
            "Requirement already satisfied: numpy>=1.15.0 in /usr/local/lib/python3.7/dist-packages (from spacy) (1.21.6)\n",
            "Requirement already satisfied: pathy>=0.3.5 in /usr/local/lib/python3.7/dist-packages (from spacy) (0.8.1)\n",
            "Requirement already satisfied: cymem<2.1.0,>=2.0.2 in /usr/local/lib/python3.7/dist-packages (from spacy) (2.0.7)\n",
            "Requirement already satisfied: wasabi<1.1.0,>=0.9.1 in /usr/local/lib/python3.7/dist-packages (from spacy) (0.10.1)\n",
            "Requirement already satisfied: spacy-loggers<2.0.0,>=1.0.0 in /usr/local/lib/python3.7/dist-packages (from spacy) (1.0.3)\n",
            "Requirement already satisfied: spacy-legacy<3.1.0,>=3.0.10 in /usr/local/lib/python3.7/dist-packages (from spacy) (3.0.10)\n",
            "Requirement already satisfied: typer<0.8.0,>=0.3.0 in /usr/local/lib/python3.7/dist-packages (from spacy) (0.7.0)\n",
            "Requirement already satisfied: murmurhash<1.1.0,>=0.28.0 in /usr/local/lib/python3.7/dist-packages (from spacy) (1.0.9)\n",
            "Requirement already satisfied: catalogue<2.1.0,>=2.0.6 in /usr/local/lib/python3.7/dist-packages (from spacy) (2.0.8)\n",
            "Requirement already satisfied: langcodes<4.0.0,>=3.2.0 in /usr/local/lib/python3.7/dist-packages (from spacy) (3.3.0)\n",
            "Requirement already satisfied: tqdm<5.0.0,>=4.38.0 in /usr/local/lib/python3.7/dist-packages (from spacy) (4.64.1)\n",
            "Requirement already satisfied: typing-extensions<4.2.0,>=3.7.4 in /usr/local/lib/python3.7/dist-packages (from spacy) (4.1.1)\n",
            "Requirement already satisfied: requests<3.0.0,>=2.13.0 in /usr/local/lib/python3.7/dist-packages (from spacy) (2.23.0)\n",
            "Requirement already satisfied: jinja2 in /usr/local/lib/python3.7/dist-packages (from spacy) (2.11.3)\n",
            "Requirement already satisfied: pydantic!=1.8,!=1.8.1,<1.11.0,>=1.7.4 in /usr/local/lib/python3.7/dist-packages (from spacy) (1.10.2)\n",
            "Requirement already satisfied: packaging>=20.0 in /usr/local/lib/python3.7/dist-packages (from spacy) (21.3)\n",
            "Requirement already satisfied: thinc<8.2.0,>=8.1.0 in /usr/local/lib/python3.7/dist-packages (from spacy) (8.1.5)\n",
            "Requirement already satisfied: preshed<3.1.0,>=3.0.2 in /usr/local/lib/python3.7/dist-packages (from spacy) (3.0.8)\n",
            "Requirement already satisfied: srsly<3.0.0,>=2.4.3 in /usr/local/lib/python3.7/dist-packages (from spacy) (2.4.5)\n",
            "Requirement already satisfied: zipp>=0.5 in /usr/local/lib/python3.7/dist-packages (from catalogue<2.1.0,>=2.0.6->spacy) (3.10.0)\n",
            "Requirement already satisfied: pyparsing!=3.0.5,>=2.0.2 in /usr/local/lib/python3.7/dist-packages (from packaging>=20.0->spacy) (3.0.9)\n",
            "Requirement already satisfied: smart-open<6.0.0,>=5.2.1 in /usr/local/lib/python3.7/dist-packages (from pathy>=0.3.5->spacy) (5.2.1)\n",
            "Requirement already satisfied: urllib3!=1.25.0,!=1.25.1,<1.26,>=1.21.1 in /usr/local/lib/python3.7/dist-packages (from requests<3.0.0,>=2.13.0->spacy) (1.24.3)\n",
            "Requirement already satisfied: idna<3,>=2.5 in /usr/local/lib/python3.7/dist-packages (from requests<3.0.0,>=2.13.0->spacy) (2.10)\n",
            "Requirement already satisfied: chardet<4,>=3.0.2 in /usr/local/lib/python3.7/dist-packages (from requests<3.0.0,>=2.13.0->spacy) (3.0.4)\n",
            "Requirement already satisfied: certifi>=2017.4.17 in /usr/local/lib/python3.7/dist-packages (from requests<3.0.0,>=2.13.0->spacy) (2022.9.24)\n",
            "Requirement already satisfied: confection<1.0.0,>=0.0.1 in /usr/local/lib/python3.7/dist-packages (from thinc<8.2.0,>=8.1.0->spacy) (0.0.3)\n",
            "Requirement already satisfied: blis<0.8.0,>=0.7.8 in /usr/local/lib/python3.7/dist-packages (from thinc<8.2.0,>=8.1.0->spacy) (0.7.9)\n",
            "Requirement already satisfied: click<9.0.0,>=7.1.1 in /usr/local/lib/python3.7/dist-packages (from typer<0.8.0,>=0.3.0->spacy) (7.1.2)\n",
            "Requirement already satisfied: MarkupSafe>=0.23 in /usr/local/lib/python3.7/dist-packages (from jinja2->spacy) (2.0.1)\n",
            "\u001b[33mWARNING: Running pip as the 'root' user can result in broken permissions and conflicting behaviour with the system package manager. It is recommended to use a virtual environment instead: https://pip.pypa.io/warnings/venv\u001b[0m\u001b[33m\n",
            "\u001b[0m2022-11-24 20:21:45.578793: E tensorflow/stream_executor/cuda/cuda_driver.cc:271] failed call to cuInit: CUDA_ERROR_NO_DEVICE: no CUDA-capable device is detected\n",
            "Looking in indexes: https://pypi.org/simple, https://us-python.pkg.dev/colab-wheels/public/simple/\n",
            "Collecting en-core-web-sm==3.4.1\n",
            "  Downloading https://github.com/explosion/spacy-models/releases/download/en_core_web_sm-3.4.1/en_core_web_sm-3.4.1-py3-none-any.whl (12.8 MB)\n",
            "\u001b[2K     \u001b[90m━━━━━━━━━━━━━━━━━━━━━━━━━━━━━━━━━━━━━━━━\u001b[0m \u001b[32m12.8/12.8 MB\u001b[0m \u001b[31m57.2 MB/s\u001b[0m eta \u001b[36m0:00:00\u001b[0m\n",
            "\u001b[?25hRequirement already satisfied: spacy<3.5.0,>=3.4.0 in /usr/local/lib/python3.7/dist-packages (from en-core-web-sm==3.4.1) (3.4.3)\n",
            "Requirement already satisfied: numpy>=1.15.0 in /usr/local/lib/python3.7/dist-packages (from spacy<3.5.0,>=3.4.0->en-core-web-sm==3.4.1) (1.21.6)\n",
            "Requirement already satisfied: thinc<8.2.0,>=8.1.0 in /usr/local/lib/python3.7/dist-packages (from spacy<3.5.0,>=3.4.0->en-core-web-sm==3.4.1) (8.1.5)\n",
            "Requirement already satisfied: murmurhash<1.1.0,>=0.28.0 in /usr/local/lib/python3.7/dist-packages (from spacy<3.5.0,>=3.4.0->en-core-web-sm==3.4.1) (1.0.9)\n",
            "Requirement already satisfied: spacy-legacy<3.1.0,>=3.0.10 in /usr/local/lib/python3.7/dist-packages (from spacy<3.5.0,>=3.4.0->en-core-web-sm==3.4.1) (3.0.10)\n",
            "Requirement already satisfied: srsly<3.0.0,>=2.4.3 in /usr/local/lib/python3.7/dist-packages (from spacy<3.5.0,>=3.4.0->en-core-web-sm==3.4.1) (2.4.5)\n",
            "Requirement already satisfied: setuptools in /usr/local/lib/python3.7/dist-packages (from spacy<3.5.0,>=3.4.0->en-core-web-sm==3.4.1) (65.6.3)\n",
            "Requirement already satisfied: cymem<2.1.0,>=2.0.2 in /usr/local/lib/python3.7/dist-packages (from spacy<3.5.0,>=3.4.0->en-core-web-sm==3.4.1) (2.0.7)\n",
            "Requirement already satisfied: preshed<3.1.0,>=3.0.2 in /usr/local/lib/python3.7/dist-packages (from spacy<3.5.0,>=3.4.0->en-core-web-sm==3.4.1) (3.0.8)\n",
            "Requirement already satisfied: typing-extensions<4.2.0,>=3.7.4 in /usr/local/lib/python3.7/dist-packages (from spacy<3.5.0,>=3.4.0->en-core-web-sm==3.4.1) (4.1.1)\n",
            "Requirement already satisfied: pathy>=0.3.5 in /usr/local/lib/python3.7/dist-packages (from spacy<3.5.0,>=3.4.0->en-core-web-sm==3.4.1) (0.8.1)\n",
            "Requirement already satisfied: packaging>=20.0 in /usr/local/lib/python3.7/dist-packages (from spacy<3.5.0,>=3.4.0->en-core-web-sm==3.4.1) (21.3)\n",
            "Requirement already satisfied: langcodes<4.0.0,>=3.2.0 in /usr/local/lib/python3.7/dist-packages (from spacy<3.5.0,>=3.4.0->en-core-web-sm==3.4.1) (3.3.0)\n",
            "Requirement already satisfied: tqdm<5.0.0,>=4.38.0 in /usr/local/lib/python3.7/dist-packages (from spacy<3.5.0,>=3.4.0->en-core-web-sm==3.4.1) (4.64.1)\n",
            "Requirement already satisfied: jinja2 in /usr/local/lib/python3.7/dist-packages (from spacy<3.5.0,>=3.4.0->en-core-web-sm==3.4.1) (2.11.3)\n",
            "Requirement already satisfied: spacy-loggers<2.0.0,>=1.0.0 in /usr/local/lib/python3.7/dist-packages (from spacy<3.5.0,>=3.4.0->en-core-web-sm==3.4.1) (1.0.3)\n",
            "Requirement already satisfied: wasabi<1.1.0,>=0.9.1 in /usr/local/lib/python3.7/dist-packages (from spacy<3.5.0,>=3.4.0->en-core-web-sm==3.4.1) (0.10.1)\n",
            "Requirement already satisfied: catalogue<2.1.0,>=2.0.6 in /usr/local/lib/python3.7/dist-packages (from spacy<3.5.0,>=3.4.0->en-core-web-sm==3.4.1) (2.0.8)\n",
            "Requirement already satisfied: requests<3.0.0,>=2.13.0 in /usr/local/lib/python3.7/dist-packages (from spacy<3.5.0,>=3.4.0->en-core-web-sm==3.4.1) (2.23.0)\n",
            "Requirement already satisfied: pydantic!=1.8,!=1.8.1,<1.11.0,>=1.7.4 in /usr/local/lib/python3.7/dist-packages (from spacy<3.5.0,>=3.4.0->en-core-web-sm==3.4.1) (1.10.2)\n",
            "Requirement already satisfied: typer<0.8.0,>=0.3.0 in /usr/local/lib/python3.7/dist-packages (from spacy<3.5.0,>=3.4.0->en-core-web-sm==3.4.1) (0.7.0)\n",
            "Requirement already satisfied: zipp>=0.5 in /usr/local/lib/python3.7/dist-packages (from catalogue<2.1.0,>=2.0.6->spacy<3.5.0,>=3.4.0->en-core-web-sm==3.4.1) (3.10.0)\n",
            "Requirement already satisfied: pyparsing!=3.0.5,>=2.0.2 in /usr/local/lib/python3.7/dist-packages (from packaging>=20.0->spacy<3.5.0,>=3.4.0->en-core-web-sm==3.4.1) (3.0.9)\n",
            "Requirement already satisfied: smart-open<6.0.0,>=5.2.1 in /usr/local/lib/python3.7/dist-packages (from pathy>=0.3.5->spacy<3.5.0,>=3.4.0->en-core-web-sm==3.4.1) (5.2.1)\n",
            "Requirement already satisfied: urllib3!=1.25.0,!=1.25.1,<1.26,>=1.21.1 in /usr/local/lib/python3.7/dist-packages (from requests<3.0.0,>=2.13.0->spacy<3.5.0,>=3.4.0->en-core-web-sm==3.4.1) (1.24.3)\n",
            "Requirement already satisfied: certifi>=2017.4.17 in /usr/local/lib/python3.7/dist-packages (from requests<3.0.0,>=2.13.0->spacy<3.5.0,>=3.4.0->en-core-web-sm==3.4.1) (2022.9.24)\n",
            "Requirement already satisfied: idna<3,>=2.5 in /usr/local/lib/python3.7/dist-packages (from requests<3.0.0,>=2.13.0->spacy<3.5.0,>=3.4.0->en-core-web-sm==3.4.1) (2.10)\n",
            "Requirement already satisfied: chardet<4,>=3.0.2 in /usr/local/lib/python3.7/dist-packages (from requests<3.0.0,>=2.13.0->spacy<3.5.0,>=3.4.0->en-core-web-sm==3.4.1) (3.0.4)\n",
            "Requirement already satisfied: blis<0.8.0,>=0.7.8 in /usr/local/lib/python3.7/dist-packages (from thinc<8.2.0,>=8.1.0->spacy<3.5.0,>=3.4.0->en-core-web-sm==3.4.1) (0.7.9)\n",
            "Requirement already satisfied: confection<1.0.0,>=0.0.1 in /usr/local/lib/python3.7/dist-packages (from thinc<8.2.0,>=8.1.0->spacy<3.5.0,>=3.4.0->en-core-web-sm==3.4.1) (0.0.3)\n",
            "Requirement already satisfied: click<9.0.0,>=7.1.1 in /usr/local/lib/python3.7/dist-packages (from typer<0.8.0,>=0.3.0->spacy<3.5.0,>=3.4.0->en-core-web-sm==3.4.1) (7.1.2)\n",
            "Requirement already satisfied: MarkupSafe>=0.23 in /usr/local/lib/python3.7/dist-packages (from jinja2->spacy<3.5.0,>=3.4.0->en-core-web-sm==3.4.1) (2.0.1)\n",
            "\u001b[33mWARNING: Running pip as the 'root' user can result in broken permissions and conflicting behaviour with the system package manager. It is recommended to use a virtual environment instead: https://pip.pypa.io/warnings/venv\u001b[0m\u001b[33m\n",
            "\u001b[0m\u001b[38;5;2m✔ Download and installation successful\u001b[0m\n",
            "You can now load the package via spacy.load('en_core_web_sm')\n"
          ]
        }
      ]
    },
    {
      "cell_type": "code",
      "source": [
        "! cp kaggle.json ~/.kaggle/\n",
        "! chmod 600 ~/.kaggle/kaggle.json\n",
        "! kaggle competitions download -c nlp-getting-started --force\n",
        "! unzip nlp-getting-started.zip"
      ],
      "metadata": {
        "id": "qeEYqM2_Gkbh",
        "colab": {
          "base_uri": "https://localhost:8080/"
        },
        "outputId": "a695e065-01ca-4779-843a-4f3a5bc174d6"
      },
      "execution_count": null,
      "outputs": [
        {
          "output_type": "stream",
          "name": "stdout",
          "text": [
            "Downloading nlp-getting-started.zip to /content\n",
            "\r  0% 0.00/593k [00:00<?, ?B/s]\n",
            "\r100% 593k/593k [00:00<00:00, 84.3MB/s]\n",
            "Archive:  nlp-getting-started.zip\n",
            "  inflating: sample_submission.csv   \n",
            "  inflating: test.csv                \n",
            "  inflating: train.csv               \n"
          ]
        }
      ]
    },
    {
      "cell_type": "code",
      "source": [
        "train_data = pd.read_csv('train.csv')\n",
        "test_data = pd.read_csv('test.csv')"
      ],
      "metadata": {
        "id": "I5wY_EV9GpPB"
      },
      "execution_count": null,
      "outputs": []
    },
    {
      "cell_type": "code",
      "source": [
        "train_data=train_data.drop(['id', 'location'], axis=1)"
      ],
      "metadata": {
        "id": "DKkMq8uoOILC"
      },
      "execution_count": null,
      "outputs": []
    },
    {
      "cell_type": "code",
      "source": [],
      "metadata": {
        "id": "FTzUF4iRWXH2"
      },
      "execution_count": null,
      "outputs": []
    },
    {
      "cell_type": "code",
      "source": [
        "print(train_data.shape)\n",
        "train_data.head()"
      ],
      "metadata": {
        "id": "-kCu5LuIHDwq",
        "colab": {
          "base_uri": "https://localhost:8080/",
          "height": 223
        },
        "outputId": "d0ab2549-ed41-4c68-bf73-3410109494ee"
      },
      "execution_count": null,
      "outputs": [
        {
          "output_type": "stream",
          "name": "stdout",
          "text": [
            "(7613, 3)\n"
          ]
        },
        {
          "output_type": "execute_result",
          "data": {
            "text/plain": [
              "  keyword                                               text  target\n",
              "0     NaN  Our Deeds are the Reason of this #earthquake M...       1\n",
              "1     NaN             Forest fire near La Ronge Sask. Canada       1\n",
              "2     NaN  All residents asked to 'shelter in place' are ...       1\n",
              "3     NaN  13,000 people receive #wildfires evacuation or...       1\n",
              "4     NaN  Just got sent this photo from Ruby #Alaska as ...       1"
            ],
            "text/html": [
              "\n",
              "  <div id=\"df-93af0e5b-764f-4d46-8925-655268415370\">\n",
              "    <div class=\"colab-df-container\">\n",
              "      <div>\n",
              "<style scoped>\n",
              "    .dataframe tbody tr th:only-of-type {\n",
              "        vertical-align: middle;\n",
              "    }\n",
              "\n",
              "    .dataframe tbody tr th {\n",
              "        vertical-align: top;\n",
              "    }\n",
              "\n",
              "    .dataframe thead th {\n",
              "        text-align: right;\n",
              "    }\n",
              "</style>\n",
              "<table border=\"1\" class=\"dataframe\">\n",
              "  <thead>\n",
              "    <tr style=\"text-align: right;\">\n",
              "      <th></th>\n",
              "      <th>keyword</th>\n",
              "      <th>text</th>\n",
              "      <th>target</th>\n",
              "    </tr>\n",
              "  </thead>\n",
              "  <tbody>\n",
              "    <tr>\n",
              "      <th>0</th>\n",
              "      <td>NaN</td>\n",
              "      <td>Our Deeds are the Reason of this #earthquake M...</td>\n",
              "      <td>1</td>\n",
              "    </tr>\n",
              "    <tr>\n",
              "      <th>1</th>\n",
              "      <td>NaN</td>\n",
              "      <td>Forest fire near La Ronge Sask. Canada</td>\n",
              "      <td>1</td>\n",
              "    </tr>\n",
              "    <tr>\n",
              "      <th>2</th>\n",
              "      <td>NaN</td>\n",
              "      <td>All residents asked to 'shelter in place' are ...</td>\n",
              "      <td>1</td>\n",
              "    </tr>\n",
              "    <tr>\n",
              "      <th>3</th>\n",
              "      <td>NaN</td>\n",
              "      <td>13,000 people receive #wildfires evacuation or...</td>\n",
              "      <td>1</td>\n",
              "    </tr>\n",
              "    <tr>\n",
              "      <th>4</th>\n",
              "      <td>NaN</td>\n",
              "      <td>Just got sent this photo from Ruby #Alaska as ...</td>\n",
              "      <td>1</td>\n",
              "    </tr>\n",
              "  </tbody>\n",
              "</table>\n",
              "</div>\n",
              "      <button class=\"colab-df-convert\" onclick=\"convertToInteractive('df-93af0e5b-764f-4d46-8925-655268415370')\"\n",
              "              title=\"Convert this dataframe to an interactive table.\"\n",
              "              style=\"display:none;\">\n",
              "        \n",
              "  <svg xmlns=\"http://www.w3.org/2000/svg\" height=\"24px\"viewBox=\"0 0 24 24\"\n",
              "       width=\"24px\">\n",
              "    <path d=\"M0 0h24v24H0V0z\" fill=\"none\"/>\n",
              "    <path d=\"M18.56 5.44l.94 2.06.94-2.06 2.06-.94-2.06-.94-.94-2.06-.94 2.06-2.06.94zm-11 1L8.5 8.5l.94-2.06 2.06-.94-2.06-.94L8.5 2.5l-.94 2.06-2.06.94zm10 10l.94 2.06.94-2.06 2.06-.94-2.06-.94-.94-2.06-.94 2.06-2.06.94z\"/><path d=\"M17.41 7.96l-1.37-1.37c-.4-.4-.92-.59-1.43-.59-.52 0-1.04.2-1.43.59L10.3 9.45l-7.72 7.72c-.78.78-.78 2.05 0 2.83L4 21.41c.39.39.9.59 1.41.59.51 0 1.02-.2 1.41-.59l7.78-7.78 2.81-2.81c.8-.78.8-2.07 0-2.86zM5.41 20L4 18.59l7.72-7.72 1.47 1.35L5.41 20z\"/>\n",
              "  </svg>\n",
              "      </button>\n",
              "      \n",
              "  <style>\n",
              "    .colab-df-container {\n",
              "      display:flex;\n",
              "      flex-wrap:wrap;\n",
              "      gap: 12px;\n",
              "    }\n",
              "\n",
              "    .colab-df-convert {\n",
              "      background-color: #E8F0FE;\n",
              "      border: none;\n",
              "      border-radius: 50%;\n",
              "      cursor: pointer;\n",
              "      display: none;\n",
              "      fill: #1967D2;\n",
              "      height: 32px;\n",
              "      padding: 0 0 0 0;\n",
              "      width: 32px;\n",
              "    }\n",
              "\n",
              "    .colab-df-convert:hover {\n",
              "      background-color: #E2EBFA;\n",
              "      box-shadow: 0px 1px 2px rgba(60, 64, 67, 0.3), 0px 1px 3px 1px rgba(60, 64, 67, 0.15);\n",
              "      fill: #174EA6;\n",
              "    }\n",
              "\n",
              "    [theme=dark] .colab-df-convert {\n",
              "      background-color: #3B4455;\n",
              "      fill: #D2E3FC;\n",
              "    }\n",
              "\n",
              "    [theme=dark] .colab-df-convert:hover {\n",
              "      background-color: #434B5C;\n",
              "      box-shadow: 0px 1px 3px 1px rgba(0, 0, 0, 0.15);\n",
              "      filter: drop-shadow(0px 1px 2px rgba(0, 0, 0, 0.3));\n",
              "      fill: #FFFFFF;\n",
              "    }\n",
              "  </style>\n",
              "\n",
              "      <script>\n",
              "        const buttonEl =\n",
              "          document.querySelector('#df-93af0e5b-764f-4d46-8925-655268415370 button.colab-df-convert');\n",
              "        buttonEl.style.display =\n",
              "          google.colab.kernel.accessAllowed ? 'block' : 'none';\n",
              "\n",
              "        async function convertToInteractive(key) {\n",
              "          const element = document.querySelector('#df-93af0e5b-764f-4d46-8925-655268415370');\n",
              "          const dataTable =\n",
              "            await google.colab.kernel.invokeFunction('convertToInteractive',\n",
              "                                                     [key], {});\n",
              "          if (!dataTable) return;\n",
              "\n",
              "          const docLinkHtml = 'Like what you see? Visit the ' +\n",
              "            '<a target=\"_blank\" href=https://colab.research.google.com/notebooks/data_table.ipynb>data table notebook</a>'\n",
              "            + ' to learn more about interactive tables.';\n",
              "          element.innerHTML = '';\n",
              "          dataTable['output_type'] = 'display_data';\n",
              "          await google.colab.output.renderOutput(dataTable, element);\n",
              "          const docLink = document.createElement('div');\n",
              "          docLink.innerHTML = docLinkHtml;\n",
              "          element.appendChild(docLink);\n",
              "        }\n",
              "      </script>\n",
              "    </div>\n",
              "  </div>\n",
              "  "
            ]
          },
          "metadata": {},
          "execution_count": 7
        }
      ]
    },
    {
      "cell_type": "markdown",
      "source": [
        "## Experimental Data Analysis"
      ],
      "metadata": {
        "id": "BBHho-zsHMQ6"
      }
    },
    {
      "cell_type": "code",
      "source": [
        "# CLASS DISTRIBUTION\n",
        "#if dataset is balanced or not\n",
        "x=train_data['target'].value_counts()\n",
        "print(x)\n",
        "sns.barplot(x.index,x)"
      ],
      "metadata": {
        "colab": {
          "base_uri": "https://localhost:8080/",
          "height": 392
        },
        "id": "-nq9I2NDHNW6",
        "outputId": "589cf583-4206-48cf-dbf2-00457c96bad1"
      },
      "execution_count": null,
      "outputs": [
        {
          "output_type": "stream",
          "name": "stdout",
          "text": [
            "0    4342\n",
            "1    3271\n",
            "Name: target, dtype: int64\n"
          ]
        },
        {
          "output_type": "stream",
          "name": "stderr",
          "text": [
            "/usr/local/lib/python3.7/dist-packages/seaborn/_decorators.py:43: FutureWarning: Pass the following variables as keyword args: x, y. From version 0.12, the only valid positional argument will be `data`, and passing other arguments without an explicit keyword will result in an error or misinterpretation.\n",
            "  FutureWarning\n"
          ]
        },
        {
          "output_type": "execute_result",
          "data": {
            "text/plain": [
              "<matplotlib.axes._subplots.AxesSubplot at 0x7f0a89862550>"
            ]
          },
          "metadata": {},
          "execution_count": 8
        },
        {
          "output_type": "display_data",
          "data": {
            "text/plain": [
              "<Figure size 432x288 with 1 Axes>"
            ],
            "image/png": "[encoded data removed]"
          },
          "metadata": {}
        }
      ]
    },
    {
      "cell_type": "code",
      "source": [
        "#Missing values\n",
        "train_data.isna().sum()"
      ],
      "metadata": {
        "colab": {
          "base_uri": "https://localhost:8080/"
        },
        "id": "Tds-n52bHUO5",
        "outputId": "9a62596b-740f-4fdf-d609-b7bf73fde5a2"
      },
      "execution_count": null,
      "outputs": [
        {
          "output_type": "execute_result",
          "data": {
            "text/plain": [
              "keyword    61\n",
              "text        0\n",
              "target      0\n",
              "dtype: int64"
            ]
          },
          "metadata": {},
          "execution_count": 9
        }
      ]
    },
    {
      "cell_type": "code",
      "source": [
        "#1. WORD-COUNT\n",
        "train_data['word_count'] = train_data['text'].apply(lambda x: len(str(x).split()))\n",
        "print(train_data[train_data['target']==1]['word_count'].mean()) #Disaster tweets\n",
        "print(train_data[train_data['target']==0]['word_count'].mean()) #Non-Disaster tweets\n",
        "#Disaster tweets are more wordy than the non-disaster tweets\n",
        "\n",
        "#2. CHARACTER-COUNT\n",
        "train_data['char_count'] = train_data['text'].apply(lambda x: len(str(x)))\n",
        "print(train_data[train_data['target']==1]['char_count'].mean()) #Disaster tweets\n",
        "print(train_data[train_data['target']==0]['char_count'].mean()) #Non-Disaster tweets\n",
        "#Disaster tweets are longer than the non-disaster tweets\n",
        "\n",
        "#3. UNIQUE WORD-COUNT\n",
        "train_data['unique_word_count'] = train_data['text'].apply(lambda x: len(set(str(x).split())))\n",
        "print(train_data[train_data['target']==1]['unique_word_count'].mean()) #Disaster tweets\n",
        "print(train_data[train_data['target']==0]['unique_word_count'].mean()) #Non-Disaster tweets"
      ],
      "metadata": {
        "colab": {
          "base_uri": "https://localhost:8080/"
        },
        "id": "TP241y8vHYNp",
        "outputId": "579e7c7c-f987-4222-9dd1-62c0d4c86e3e"
      },
      "execution_count": null,
      "outputs": [
        {
          "output_type": "stream",
          "name": "stdout",
          "text": [
            "15.167532864567411\n",
            "14.704744357438969\n",
            "108.11342097217977\n",
            "95.70681713496084\n",
            "14.664934270865178\n",
            "14.09649930907416\n"
          ]
        }
      ]
    },
    {
      "cell_type": "code",
      "source": [
        "#Plotting word-count per tweet\n",
        "fig,(ax1,ax2)=plt.subplots(1,2,figsize=(10,4))\n",
        "train_words=train_data[train_data['target']==1]['word_count']\n",
        "ax1.hist(train_words,color='red')\n",
        "ax1.set_title('Disaster tweets')\n",
        "train_words=train_data[train_data['target']==0]['word_count']\n",
        "ax2.hist(train_words,color='green')\n",
        "ax2.set_title('Non-disaster tweets')\n",
        "fig.suptitle('Words per tweet')\n",
        "plt.show()"
      ],
      "metadata": {
        "colab": {
          "base_uri": "https://localhost:8080/",
          "height": 297
        },
        "id": "1biHfd-BHy7q",
        "outputId": "955e7976-6cdf-480c-84ca-06c2f4472d7a"
      },
      "execution_count": null,
      "outputs": [
        {
          "output_type": "display_data",
          "data": {
            "text/plain": [
              "<Figure size 720x288 with 2 Axes>"
            ],
            "image/png": "[encoded data removed]"
          },
          "metadata": {}
        }
      ]
    },
    {
      "cell_type": "markdown",
      "source": [
        "## Pre-processing"
      ],
      "metadata": {
        "id": "Bgm2df98IM7R"
      }
    },
    {
      "cell_type": "code",
      "source": [
        "train_data.head()"
      ],
      "metadata": {
        "colab": {
          "base_uri": "https://localhost:8080/",
          "height": 206
        },
        "id": "6RgWBtBlIZjy",
        "outputId": "86d359ce-7677-4a03-8875-9046b19023fc"
      },
      "execution_count": null,
      "outputs": [
        {
          "output_type": "execute_result",
          "data": {
            "text/plain": [
              "  keyword                                               text  target  \\\n",
              "0     NaN  Our Deeds are the Reason of this #earthquake M...       1   \n",
              "1     NaN             Forest fire near La Ronge Sask. Canada       1   \n",
              "2     NaN  All residents asked to 'shelter in place' are ...       1   \n",
              "3     NaN  13,000 people receive #wildfires evacuation or...       1   \n",
              "4     NaN  Just got sent this photo from Ruby #Alaska as ...       1   \n",
              "\n",
              "   word_count  char_count  unique_word_count  \n",
              "0          13          69                 13  \n",
              "1           7          38                  7  \n",
              "2          22         133                 20  \n",
              "3           8          65                  8  \n",
              "4          16          88                 15  "
            ],
            "text/html": [
              "\n",
              "  <div id=\"df-8bc7405c-2d3f-4402-b22e-674e01d5c479\">\n",
              "    <div class=\"colab-df-container\">\n",
              "      <div>\n",
              "<style scoped>\n",
              "    .dataframe tbody tr th:only-of-type {\n",
              "        vertical-align: middle;\n",
              "    }\n",
              "\n",
              "    .dataframe tbody tr th {\n",
              "        vertical-align: top;\n",
              "    }\n",
              "\n",
              "    .dataframe thead th {\n",
              "        text-align: right;\n",
              "    }\n",
              "</style>\n",
              "<table border=\"1\" class=\"dataframe\">\n",
              "  <thead>\n",
              "    <tr style=\"text-align: right;\">\n",
              "      <th></th>\n",
              "      <th>keyword</th>\n",
              "      <th>text</th>\n",
              "      <th>target</th>\n",
              "      <th>word_count</th>\n",
              "      <th>char_count</th>\n",
              "      <th>unique_word_count</th>\n",
              "    </tr>\n",
              "  </thead>\n",
              "  <tbody>\n",
              "    <tr>\n",
              "      <th>0</th>\n",
              "      <td>NaN</td>\n",
              "      <td>Our Deeds are the Reason of this #earthquake M...</td>\n",
              "      <td>1</td>\n",
              "      <td>13</td>\n",
              "      <td>69</td>\n",
              "      <td>13</td>\n",
              "    </tr>\n",
              "    <tr>\n",
              "      <th>1</th>\n",
              "      <td>NaN</td>\n",
              "      <td>Forest fire near La Ronge Sask. Canada</td>\n",
              "      <td>1</td>\n",
              "      <td>7</td>\n",
              "      <td>38</td>\n",
              "      <td>7</td>\n",
              "    </tr>\n",
              "    <tr>\n",
              "      <th>2</th>\n",
              "      <td>NaN</td>\n",
              "      <td>All residents asked to 'shelter in place' are ...</td>\n",
              "      <td>1</td>\n",
              "      <td>22</td>\n",
              "      <td>133</td>\n",
              "      <td>20</td>\n",
              "    </tr>\n",
              "    <tr>\n",
              "      <th>3</th>\n",
              "      <td>NaN</td>\n",
              "      <td>13,000 people receive #wildfires evacuation or...</td>\n",
              "      <td>1</td>\n",
              "      <td>8</td>\n",
              "      <td>65</td>\n",
              "      <td>8</td>\n",
              "    </tr>\n",
              "    <tr>\n",
              "      <th>4</th>\n",
              "      <td>NaN</td>\n",
              "      <td>Just got sent this photo from Ruby #Alaska as ...</td>\n",
              "      <td>1</td>\n",
              "      <td>16</td>\n",
              "      <td>88</td>\n",
              "      <td>15</td>\n",
              "    </tr>\n",
              "  </tbody>\n",
              "</table>\n",
              "</div>\n",
              "      <button class=\"colab-df-convert\" onclick=\"convertToInteractive('df-8bc7405c-2d3f-4402-b22e-674e01d5c479')\"\n",
              "              title=\"Convert this dataframe to an interactive table.\"\n",
              "              style=\"display:none;\">\n",
              "        \n",
              "  <svg xmlns=\"http://www.w3.org/2000/svg\" height=\"24px\"viewBox=\"0 0 24 24\"\n",
              "       width=\"24px\">\n",
              "    <path d=\"M0 0h24v24H0V0z\" fill=\"none\"/>\n",
              "    <path d=\"M18.56 5.44l.94 2.06.94-2.06 2.06-.94-2.06-.94-.94-2.06-.94 2.06-2.06.94zm-11 1L8.5 8.5l.94-2.06 2.06-.94-2.06-.94L8.5 2.5l-.94 2.06-2.06.94zm10 10l.94 2.06.94-2.06 2.06-.94-2.06-.94-.94-2.06-.94 2.06-2.06.94z\"/><path d=\"M17.41 7.96l-1.37-1.37c-.4-.4-.92-.59-1.43-.59-.52 0-1.04.2-1.43.59L10.3 9.45l-7.72 7.72c-.78.78-.78 2.05 0 2.83L4 21.41c.39.39.9.59 1.41.59.51 0 1.02-.2 1.41-.59l7.78-7.78 2.81-2.81c.8-.78.8-2.07 0-2.86zM5.41 20L4 18.59l7.72-7.72 1.47 1.35L5.41 20z\"/>\n",
              "  </svg>\n",
              "      </button>\n",
              "      \n",
              "  <style>\n",
              "    .colab-df-container {\n",
              "      display:flex;\n",
              "      flex-wrap:wrap;\n",
              "      gap: 12px;\n",
              "    }\n",
              "\n",
              "    .colab-df-convert {\n",
              "      background-color: #E8F0FE;\n",
              "      border: none;\n",
              "      border-radius: 50%;\n",
              "      cursor: pointer;\n",
              "      display: none;\n",
              "      fill: #1967D2;\n",
              "      height: 32px;\n",
              "      padding: 0 0 0 0;\n",
              "      width: 32px;\n",
              "    }\n",
              "\n",
              "    .colab-df-convert:hover {\n",
              "      background-color: #E2EBFA;\n",
              "      box-shadow: 0px 1px 2px rgba(60, 64, 67, 0.3), 0px 1px 3px 1px rgba(60, 64, 67, 0.15);\n",
              "      fill: #174EA6;\n",
              "    }\n",
              "\n",
              "    [theme=dark] .colab-df-convert {\n",
              "      background-color: #3B4455;\n",
              "      fill: #D2E3FC;\n",
              "    }\n",
              "\n",
              "    [theme=dark] .colab-df-convert:hover {\n",
              "      background-color: #434B5C;\n",
              "      box-shadow: 0px 1px 3px 1px rgba(0, 0, 0, 0.15);\n",
              "      filter: drop-shadow(0px 1px 2px rgba(0, 0, 0, 0.3));\n",
              "      fill: #FFFFFF;\n",
              "    }\n",
              "  </style>\n",
              "\n",
              "      <script>\n",
              "        const buttonEl =\n",
              "          document.querySelector('#df-8bc7405c-2d3f-4402-b22e-674e01d5c479 button.colab-df-convert');\n",
              "        buttonEl.style.display =\n",
              "          google.colab.kernel.accessAllowed ? 'block' : 'none';\n",
              "\n",
              "        async function convertToInteractive(key) {\n",
              "          const element = document.querySelector('#df-8bc7405c-2d3f-4402-b22e-674e01d5c479');\n",
              "          const dataTable =\n",
              "            await google.colab.kernel.invokeFunction('convertToInteractive',\n",
              "                                                     [key], {});\n",
              "          if (!dataTable) return;\n",
              "\n",
              "          const docLinkHtml = 'Like what you see? Visit the ' +\n",
              "            '<a target=\"_blank\" href=https://colab.research.google.com/notebooks/data_table.ipynb>data table notebook</a>'\n",
              "            + ' to learn more about interactive tables.';\n",
              "          element.innerHTML = '';\n",
              "          dataTable['output_type'] = 'display_data';\n",
              "          await google.colab.output.renderOutput(dataTable, element);\n",
              "          const docLink = document.createElement('div');\n",
              "          docLink.innerHTML = docLinkHtml;\n",
              "          element.appendChild(docLink);\n",
              "        }\n",
              "      </script>\n",
              "    </div>\n",
              "  </div>\n",
              "  "
            ]
          },
          "metadata": {},
          "execution_count": 12
        }
      ]
    },
    {
      "cell_type": "code",
      "source": [
        "import re\n",
        "def clean(s):\n",
        "    s = s.replace(r'#', \" \")\n",
        "    s = re.sub(r'htt.+? ', \" \", s)\n",
        "    s = re.sub(r'\\(*https*://[^\\)]*\\)*', \"\", s)\n",
        "    s = s.replace(r'=>', \" \")\n",
        "    s = s.replace(r'hah', \" \")\n",
        "    s = re.sub(r'ha+ah', \" \", s)\n",
        "    s = re.sub(r'!+', \" \", s)\n",
        "    s = re.sub(r'\\?+', \" \", s)\n",
        "    s = re.sub(r'\\.\\.+', \" \", s)\n",
        "    s = s.replace(r':)', \" \")\n",
        "    s = s.replace(r':D', \" \")\n",
        "    s = s.replace(r':(', \" \")\n",
        "    s = s.replace(r';)', \" \")\n",
        "    s = s.replace(r':P', \" \")\n",
        "    s = s.replace(r'looo+l', \" \")\n",
        "    s = re.sub(r'LOO+OL', \" \", s)\n",
        "    s = re.sub(r'SOOO\\w+', \" \", s)\n",
        "    s = re.sub(r'Coo+oL', \" \", s)\n",
        "    s = re.sub(r'loo+ol', \" \", s)\n",
        "    s = s.replace(r'lol', \" \")\n",
        "    s = s.replace(r'lool', \" \")\n",
        "    s = re.sub(r'coo+ol', \" \", s)\n",
        "    s = re.sub(r'coo+ol', \" \", s)\n",
        "    s = re.sub('Cooo+L', \" \", s)\n",
        "    s = re.sub('Cooo+ol', \" \", s)\n",
        "    s = s.replace(r'Â', \" \")\n",
        "    s = s.replace(r'Ã', \" \")\n",
        "    s = s.replace(r'%', \" \")\n",
        "    s = s.replace(r'›', \" \")\n",
        "    s = re.sub(r'sooo+', \" \", s)\n",
        "    s = s.replace(r'¥', \" \")\n",
        "    s = s.replace(r'&', \" \")\n",
        "    s = s.replace(r'   ', \" \")\n",
        "    s = s.replace(r'  ', \" \")\n",
        "#    s = s.replace(r'&amp', \"\") Does not work\n",
        "    s = s.replace(r'/', \" \")\n",
        "    s = s.replace(r'FYI', \" \")\n",
        "    s = s.replace(r'‰', \" \")\n",
        "    s = re.sub(r'Û', \" \", s)\n",
        "    s = s.replace(r'Ò', \" \")\n",
        "    s = s.replace(r'Ó', \" \")\n",
        "    s = re.sub(r'@.+? ', \" \",  s)\n",
        "    s = re.sub(r'\\b @\\w+', \" \",  s)\n",
        "    s = s.replace(r'£', \" \")\n",
        "    s = s.replace(r'dd-mm-yyyy', \" \")\n",
        "    s = re.sub(r'\\++', \" \", s)\n",
        "    s = re.sub(r':+', \" \",s)\n",
        "    s = s.replace(r';', \" \")\n",
        "    s = s.replace(r'(', \" \")\n",
        "    s = s.replace(r')', \" \")\n",
        "    s = re.sub(r'[0-9*]', \" \", s)\n",
        "    s = s.replace(r' PM ', \" \")\n",
        "    s = s.replace(r' AM ', \" \")\n",
        "    s = s.replace(r' - ', \" \")\n",
        "    s = s.replace(r'å', \" \")\n",
        "    s = s.replace(r'_', \" \")\n",
        "    s = s.replace(r'Ê', \" \")\n",
        "    s = s.replace(r'\\|', \" \")\n",
        "    s = s.replace(r'|', \" \")\n",
        "    s = s.replace(r']', \" \")    \n",
        "    s = s.replace(r'[', \" \")    \n",
        "    s = s.replace(r'¢', \" \")\n",
        "    s = s.replace(r'ã', \" \")\n",
        "    s = s.replace(r'\\$', \" \")\n",
        "    s = s.replace(r'$', \" \")\n",
        "    s = s.replace(r'Ï', \" \")\n",
        "    s = s.replace(r'ª', \" \")\n",
        "    s = s.replace(r'OMG', \" \")\n",
        "    s = s.replace(r'omg', \" \")\n",
        "    s = s.replace(r'LMAO', \" \")\n",
        "    s = s.replace(r'lmao', \" \")\n",
        "    s = s.replace(r'$', \" \")\n",
        "    s = s.replace(r'  ', \" \")\n",
        "    s = s.replace(r'%20', \"\")\n",
        "    s = s.replace(r'[' + string.punctuation + ']',\" \") #trying to remove all special characters\n",
        "    s = s.replace(r'amp', \"\")\n",
        "    return str(s)"
      ],
      "metadata": {
        "id": "kNqS8CFBIL8S"
      },
      "execution_count": null,
      "outputs": []
    },
    {
      "cell_type": "code",
      "source": [
        "train_data[\"text_clean\"] = ''"
      ],
      "metadata": {
        "id": "ZAQImXhkIRqa"
      },
      "execution_count": null,
      "outputs": []
    },
    {
      "cell_type": "code",
      "source": [
        "test_data[\"text_clean\"] = \"\""
      ],
      "metadata": {
        "id": "pc6_6g5wUJp3"
      },
      "execution_count": null,
      "outputs": []
    },
    {
      "cell_type": "code",
      "source": [
        "for i, row in train_data.iterrows():\n",
        "    train_data.at[i, \"text_clean\"] = clean(row.text)"
      ],
      "metadata": {
        "id": "YHQSjuThIgIa"
      },
      "execution_count": null,
      "outputs": []
    },
    {
      "cell_type": "code",
      "source": [
        "for i, row in test_data.iterrows():\n",
        "    test_data.at[i, \"text_clean\"] = clean(row.text)"
      ],
      "metadata": {
        "id": "ZIBvahOtUPBW"
      },
      "execution_count": null,
      "outputs": []
    },
    {
      "cell_type": "code",
      "source": [
        "train_data=train_data.drop(['selftext_clean'], axis=1)"
      ],
      "metadata": {
        "id": "Npz7g0dGT47v"
      },
      "execution_count": null,
      "outputs": []
    },
    {
      "cell_type": "code",
      "source": [
        "train_data"
      ],
      "metadata": {
        "colab": {
          "base_uri": "https://localhost:8080/",
          "height": 424
        },
        "id": "VcXm3cmoIsoL",
        "outputId": "b988c786-0061-4bdb-bc11-ef971448bd88"
      },
      "execution_count": null,
      "outputs": [
        {
          "output_type": "execute_result",
          "data": {
            "text/plain": [
              "     keyword                                               text  target  \\\n",
              "0        NaN  Our Deeds are the Reason of this #earthquake M...       1   \n",
              "1        NaN             Forest fire near La Ronge Sask. Canada       1   \n",
              "2        NaN  All residents asked to 'shelter in place' are ...       1   \n",
              "3        NaN  13,000 people receive #wildfires evacuation or...       1   \n",
              "4        NaN  Just got sent this photo from Ruby #Alaska as ...       1   \n",
              "...      ...                                                ...     ...   \n",
              "7608     NaN  Two giant cranes holding a bridge collapse int...       1   \n",
              "7609     NaN  @aria_ahrary @TheTawniest The out of control w...       1   \n",
              "7610     NaN  M1.94 [01:04 UTC]?5km S of Volcano Hawaii. htt...       1   \n",
              "7611     NaN  Police investigating after an e-bike collided ...       1   \n",
              "7612     NaN  The Latest: More Homes Razed by Northern Calif...       1   \n",
              "\n",
              "                                             text_clean  \n",
              "0     Our Deeds are the Reason of this earthquake Ma...  \n",
              "1                Forest fire near La Ronge Sask. Canada  \n",
              "2     All residents asked to 'shelter in place' are ...  \n",
              "3      ,  people receive wildfires evacuation orders...  \n",
              "4     Just got sent this photo from Ruby Alaska as s...  \n",
              "...                                                 ...  \n",
              "7608  Two giant cranes holding a bridge collapse int...  \n",
              "7609   The out of control wild fires in California e...  \n",
              "7610              M .     UTC  km S of Volcano Hawaii.   \n",
              "7611  Police investigating after an e-bike collided ...  \n",
              "7612  The Latest More Homes Razed by Northern Califo...  \n",
              "\n",
              "[7613 rows x 4 columns]"
            ],
            "text/html": [
              "\n",
              "  <div id=\"df-6e316fcb-f518-4858-a1bb-426bb3e38912\">\n",
              "    <div class=\"colab-df-container\">\n",
              "      <div>\n",
              "<style scoped>\n",
              "    .dataframe tbody tr th:only-of-type {\n",
              "        vertical-align: middle;\n",
              "    }\n",
              "\n",
              "    .dataframe tbody tr th {\n",
              "        vertical-align: top;\n",
              "    }\n",
              "\n",
              "    .dataframe thead th {\n",
              "        text-align: right;\n",
              "    }\n",
              "</style>\n",
              "<table border=\"1\" class=\"dataframe\">\n",
              "  <thead>\n",
              "    <tr style=\"text-align: right;\">\n",
              "      <th></th>\n",
              "      <th>keyword</th>\n",
              "      <th>text</th>\n",
              "      <th>target</th>\n",
              "      <th>text_clean</th>\n",
              "    </tr>\n",
              "  </thead>\n",
              "  <tbody>\n",
              "    <tr>\n",
              "      <th>0</th>\n",
              "      <td>NaN</td>\n",
              "      <td>Our Deeds are the Reason of this #earthquake M...</td>\n",
              "      <td>1</td>\n",
              "      <td>Our Deeds are the Reason of this earthquake Ma...</td>\n",
              "    </tr>\n",
              "    <tr>\n",
              "      <th>1</th>\n",
              "      <td>NaN</td>\n",
              "      <td>Forest fire near La Ronge Sask. Canada</td>\n",
              "      <td>1</td>\n",
              "      <td>Forest fire near La Ronge Sask. Canada</td>\n",
              "    </tr>\n",
              "    <tr>\n",
              "      <th>2</th>\n",
              "      <td>NaN</td>\n",
              "      <td>All residents asked to 'shelter in place' are ...</td>\n",
              "      <td>1</td>\n",
              "      <td>All residents asked to 'shelter in place' are ...</td>\n",
              "    </tr>\n",
              "    <tr>\n",
              "      <th>3</th>\n",
              "      <td>NaN</td>\n",
              "      <td>13,000 people receive #wildfires evacuation or...</td>\n",
              "      <td>1</td>\n",
              "      <td>,  people receive wildfires evacuation orders...</td>\n",
              "    </tr>\n",
              "    <tr>\n",
              "      <th>4</th>\n",
              "      <td>NaN</td>\n",
              "      <td>Just got sent this photo from Ruby #Alaska as ...</td>\n",
              "      <td>1</td>\n",
              "      <td>Just got sent this photo from Ruby Alaska as s...</td>\n",
              "    </tr>\n",
              "    <tr>\n",
              "      <th>...</th>\n",
              "      <td>...</td>\n",
              "      <td>...</td>\n",
              "      <td>...</td>\n",
              "      <td>...</td>\n",
              "    </tr>\n",
              "    <tr>\n",
              "      <th>7608</th>\n",
              "      <td>NaN</td>\n",
              "      <td>Two giant cranes holding a bridge collapse int...</td>\n",
              "      <td>1</td>\n",
              "      <td>Two giant cranes holding a bridge collapse int...</td>\n",
              "    </tr>\n",
              "    <tr>\n",
              "      <th>7609</th>\n",
              "      <td>NaN</td>\n",
              "      <td>@aria_ahrary @TheTawniest The out of control w...</td>\n",
              "      <td>1</td>\n",
              "      <td>The out of control wild fires in California e...</td>\n",
              "    </tr>\n",
              "    <tr>\n",
              "      <th>7610</th>\n",
              "      <td>NaN</td>\n",
              "      <td>M1.94 [01:04 UTC]?5km S of Volcano Hawaii. htt...</td>\n",
              "      <td>1</td>\n",
              "      <td>M .     UTC  km S of Volcano Hawaii.</td>\n",
              "    </tr>\n",
              "    <tr>\n",
              "      <th>7611</th>\n",
              "      <td>NaN</td>\n",
              "      <td>Police investigating after an e-bike collided ...</td>\n",
              "      <td>1</td>\n",
              "      <td>Police investigating after an e-bike collided ...</td>\n",
              "    </tr>\n",
              "    <tr>\n",
              "      <th>7612</th>\n",
              "      <td>NaN</td>\n",
              "      <td>The Latest: More Homes Razed by Northern Calif...</td>\n",
              "      <td>1</td>\n",
              "      <td>The Latest More Homes Razed by Northern Califo...</td>\n",
              "    </tr>\n",
              "  </tbody>\n",
              "</table>\n",
              "<p>7613 rows × 4 columns</p>\n",
              "</div>\n",
              "      <button class=\"colab-df-convert\" onclick=\"convertToInteractive('df-6e316fcb-f518-4858-a1bb-426bb3e38912')\"\n",
              "              title=\"Convert this dataframe to an interactive table.\"\n",
              "              style=\"display:none;\">\n",
              "        \n",
              "  <svg xmlns=\"http://www.w3.org/2000/svg\" height=\"24px\"viewBox=\"0 0 24 24\"\n",
              "       width=\"24px\">\n",
              "    <path d=\"M0 0h24v24H0V0z\" fill=\"none\"/>\n",
              "    <path d=\"M18.56 5.44l.94 2.06.94-2.06 2.06-.94-2.06-.94-.94-2.06-.94 2.06-2.06.94zm-11 1L8.5 8.5l.94-2.06 2.06-.94-2.06-.94L8.5 2.5l-.94 2.06-2.06.94zm10 10l.94 2.06.94-2.06 2.06-.94-2.06-.94-.94-2.06-.94 2.06-2.06.94z\"/><path d=\"M17.41 7.96l-1.37-1.37c-.4-.4-.92-.59-1.43-.59-.52 0-1.04.2-1.43.59L10.3 9.45l-7.72 7.72c-.78.78-.78 2.05 0 2.83L4 21.41c.39.39.9.59 1.41.59.51 0 1.02-.2 1.41-.59l7.78-7.78 2.81-2.81c.8-.78.8-2.07 0-2.86zM5.41 20L4 18.59l7.72-7.72 1.47 1.35L5.41 20z\"/>\n",
              "  </svg>\n",
              "      </button>\n",
              "      \n",
              "  <style>\n",
              "    .colab-df-container {\n",
              "      display:flex;\n",
              "      flex-wrap:wrap;\n",
              "      gap: 12px;\n",
              "    }\n",
              "\n",
              "    .colab-df-convert {\n",
              "      background-color: #E8F0FE;\n",
              "      border: none;\n",
              "      border-radius: 50%;\n",
              "      cursor: pointer;\n",
              "      display: none;\n",
              "      fill: #1967D2;\n",
              "      height: 32px;\n",
              "      padding: 0 0 0 0;\n",
              "      width: 32px;\n",
              "    }\n",
              "\n",
              "    .colab-df-convert:hover {\n",
              "      background-color: #E2EBFA;\n",
              "      box-shadow: 0px 1px 2px rgba(60, 64, 67, 0.3), 0px 1px 3px 1px rgba(60, 64, 67, 0.15);\n",
              "      fill: #174EA6;\n",
              "    }\n",
              "\n",
              "    [theme=dark] .colab-df-convert {\n",
              "      background-color: #3B4455;\n",
              "      fill: #D2E3FC;\n",
              "    }\n",
              "\n",
              "    [theme=dark] .colab-df-convert:hover {\n",
              "      background-color: #434B5C;\n",
              "      box-shadow: 0px 1px 3px 1px rgba(0, 0, 0, 0.15);\n",
              "      filter: drop-shadow(0px 1px 2px rgba(0, 0, 0, 0.3));\n",
              "      fill: #FFFFFF;\n",
              "    }\n",
              "  </style>\n",
              "\n",
              "      <script>\n",
              "        const buttonEl =\n",
              "          document.querySelector('#df-6e316fcb-f518-4858-a1bb-426bb3e38912 button.colab-df-convert');\n",
              "        buttonEl.style.display =\n",
              "          google.colab.kernel.accessAllowed ? 'block' : 'none';\n",
              "\n",
              "        async function convertToInteractive(key) {\n",
              "          const element = document.querySelector('#df-6e316fcb-f518-4858-a1bb-426bb3e38912');\n",
              "          const dataTable =\n",
              "            await google.colab.kernel.invokeFunction('convertToInteractive',\n",
              "                                                     [key], {});\n",
              "          if (!dataTable) return;\n",
              "\n",
              "          const docLinkHtml = 'Like what you see? Visit the ' +\n",
              "            '<a target=\"_blank\" href=https://colab.research.google.com/notebooks/data_table.ipynb>data table notebook</a>'\n",
              "            + ' to learn more about interactive tables.';\n",
              "          element.innerHTML = '';\n",
              "          dataTable['output_type'] = 'display_data';\n",
              "          await google.colab.output.renderOutput(dataTable, element);\n",
              "          const docLink = document.createElement('div');\n",
              "          docLink.innerHTML = docLinkHtml;\n",
              "          element.appendChild(docLink);\n",
              "        }\n",
              "      </script>\n",
              "    </div>\n",
              "  </div>\n",
              "  "
            ]
          },
          "metadata": {},
          "execution_count": 14
        }
      ]
    },
    {
      "cell_type": "code",
      "source": [
        "test_data"
      ],
      "metadata": {
        "colab": {
          "base_uri": "https://localhost:8080/",
          "height": 424
        },
        "id": "zBKoYbkmUSXW",
        "outputId": "19e9a0b2-fd20-4893-d4e8-3c6083ba2894"
      },
      "execution_count": null,
      "outputs": [
        {
          "output_type": "execute_result",
          "data": {
            "text/plain": [
              "         id keyword location  \\\n",
              "0         0     NaN      NaN   \n",
              "1         2     NaN      NaN   \n",
              "2         3     NaN      NaN   \n",
              "3         9     NaN      NaN   \n",
              "4        11     NaN      NaN   \n",
              "...     ...     ...      ...   \n",
              "3258  10861     NaN      NaN   \n",
              "3259  10865     NaN      NaN   \n",
              "3260  10868     NaN      NaN   \n",
              "3261  10874     NaN      NaN   \n",
              "3262  10875     NaN      NaN   \n",
              "\n",
              "                                                   text  \\\n",
              "0                    Just happened a terrible car crash   \n",
              "1     Heard about #earthquake is different cities, s...   \n",
              "2     there is a forest fire at spot pond, geese are...   \n",
              "3              Apocalypse lighting. #Spokane #wildfires   \n",
              "4         Typhoon Soudelor kills 28 in China and Taiwan   \n",
              "...                                                 ...   \n",
              "3258  EARTHQUAKE SAFETY LOS ANGELES ÛÒ SAFETY FASTE...   \n",
              "3259  Storm in RI worse than last hurricane. My city...   \n",
              "3260  Green Line derailment in Chicago http://t.co/U...   \n",
              "3261  MEG issues Hazardous Weather Outlook (HWO) htt...   \n",
              "3262  #CityofCalgary has activated its Municipal Eme...   \n",
              "\n",
              "                                             text_clean  \n",
              "0                    Just happened a terrible car crash  \n",
              "1     Heard about earthquake is different cities, st...  \n",
              "2     there is a forest fire at spot pond, geese are...  \n",
              "3                Apocalypse lighting. Spokane wildfires  \n",
              "4           Typhoon Soudelor kills  in China and Taiwan  \n",
              "...                                                 ...  \n",
              "3258  EARTHQUAKE SAFETY LOS ANGELES   SAFETY FASTEN...  \n",
              "3259  Storm in RI worse than last hurricane. My city...  \n",
              "3260                  Green Line derailment in Chicago   \n",
              "3261          MEG issues Hazardous Weather Outlook HWO   \n",
              "3262   CityofCalgary has activated its Municipal Eme...  \n",
              "\n",
              "[3263 rows x 5 columns]"
            ],
            "text/html": [
              "\n",
              "  <div id=\"df-d21f9e19-0108-4698-a2e7-640169d97e7b\">\n",
              "    <div class=\"colab-df-container\">\n",
              "      <div>\n",
              "<style scoped>\n",
              "    .dataframe tbody tr th:only-of-type {\n",
              "        vertical-align: middle;\n",
              "    }\n",
              "\n",
              "    .dataframe tbody tr th {\n",
              "        vertical-align: top;\n",
              "    }\n",
              "\n",
              "    .dataframe thead th {\n",
              "        text-align: right;\n",
              "    }\n",
              "</style>\n",
              "<table border=\"1\" class=\"dataframe\">\n",
              "  <thead>\n",
              "    <tr style=\"text-align: right;\">\n",
              "      <th></th>\n",
              "      <th>id</th>\n",
              "      <th>keyword</th>\n",
              "      <th>location</th>\n",
              "      <th>text</th>\n",
              "      <th>text_clean</th>\n",
              "    </tr>\n",
              "  </thead>\n",
              "  <tbody>\n",
              "    <tr>\n",
              "      <th>0</th>\n",
              "      <td>0</td>\n",
              "      <td>NaN</td>\n",
              "      <td>NaN</td>\n",
              "      <td>Just happened a terrible car crash</td>\n",
              "      <td>Just happened a terrible car crash</td>\n",
              "    </tr>\n",
              "    <tr>\n",
              "      <th>1</th>\n",
              "      <td>2</td>\n",
              "      <td>NaN</td>\n",
              "      <td>NaN</td>\n",
              "      <td>Heard about #earthquake is different cities, s...</td>\n",
              "      <td>Heard about earthquake is different cities, st...</td>\n",
              "    </tr>\n",
              "    <tr>\n",
              "      <th>2</th>\n",
              "      <td>3</td>\n",
              "      <td>NaN</td>\n",
              "      <td>NaN</td>\n",
              "      <td>there is a forest fire at spot pond, geese are...</td>\n",
              "      <td>there is a forest fire at spot pond, geese are...</td>\n",
              "    </tr>\n",
              "    <tr>\n",
              "      <th>3</th>\n",
              "      <td>9</td>\n",
              "      <td>NaN</td>\n",
              "      <td>NaN</td>\n",
              "      <td>Apocalypse lighting. #Spokane #wildfires</td>\n",
              "      <td>Apocalypse lighting. Spokane wildfires</td>\n",
              "    </tr>\n",
              "    <tr>\n",
              "      <th>4</th>\n",
              "      <td>11</td>\n",
              "      <td>NaN</td>\n",
              "      <td>NaN</td>\n",
              "      <td>Typhoon Soudelor kills 28 in China and Taiwan</td>\n",
              "      <td>Typhoon Soudelor kills  in China and Taiwan</td>\n",
              "    </tr>\n",
              "    <tr>\n",
              "      <th>...</th>\n",
              "      <td>...</td>\n",
              "      <td>...</td>\n",
              "      <td>...</td>\n",
              "      <td>...</td>\n",
              "      <td>...</td>\n",
              "    </tr>\n",
              "    <tr>\n",
              "      <th>3258</th>\n",
              "      <td>10861</td>\n",
              "      <td>NaN</td>\n",
              "      <td>NaN</td>\n",
              "      <td>EARTHQUAKE SAFETY LOS ANGELES ÛÒ SAFETY FASTE...</td>\n",
              "      <td>EARTHQUAKE SAFETY LOS ANGELES   SAFETY FASTEN...</td>\n",
              "    </tr>\n",
              "    <tr>\n",
              "      <th>3259</th>\n",
              "      <td>10865</td>\n",
              "      <td>NaN</td>\n",
              "      <td>NaN</td>\n",
              "      <td>Storm in RI worse than last hurricane. My city...</td>\n",
              "      <td>Storm in RI worse than last hurricane. My city...</td>\n",
              "    </tr>\n",
              "    <tr>\n",
              "      <th>3260</th>\n",
              "      <td>10868</td>\n",
              "      <td>NaN</td>\n",
              "      <td>NaN</td>\n",
              "      <td>Green Line derailment in Chicago http://t.co/U...</td>\n",
              "      <td>Green Line derailment in Chicago</td>\n",
              "    </tr>\n",
              "    <tr>\n",
              "      <th>3261</th>\n",
              "      <td>10874</td>\n",
              "      <td>NaN</td>\n",
              "      <td>NaN</td>\n",
              "      <td>MEG issues Hazardous Weather Outlook (HWO) htt...</td>\n",
              "      <td>MEG issues Hazardous Weather Outlook HWO</td>\n",
              "    </tr>\n",
              "    <tr>\n",
              "      <th>3262</th>\n",
              "      <td>10875</td>\n",
              "      <td>NaN</td>\n",
              "      <td>NaN</td>\n",
              "      <td>#CityofCalgary has activated its Municipal Eme...</td>\n",
              "      <td>CityofCalgary has activated its Municipal Eme...</td>\n",
              "    </tr>\n",
              "  </tbody>\n",
              "</table>\n",
              "<p>3263 rows × 5 columns</p>\n",
              "</div>\n",
              "      <button class=\"colab-df-convert\" onclick=\"convertToInteractive('df-d21f9e19-0108-4698-a2e7-640169d97e7b')\"\n",
              "              title=\"Convert this dataframe to an interactive table.\"\n",
              "              style=\"display:none;\">\n",
              "        \n",
              "  <svg xmlns=\"http://www.w3.org/2000/svg\" height=\"24px\"viewBox=\"0 0 24 24\"\n",
              "       width=\"24px\">\n",
              "    <path d=\"M0 0h24v24H0V0z\" fill=\"none\"/>\n",
              "    <path d=\"M18.56 5.44l.94 2.06.94-2.06 2.06-.94-2.06-.94-.94-2.06-.94 2.06-2.06.94zm-11 1L8.5 8.5l.94-2.06 2.06-.94-2.06-.94L8.5 2.5l-.94 2.06-2.06.94zm10 10l.94 2.06.94-2.06 2.06-.94-2.06-.94-.94-2.06-.94 2.06-2.06.94z\"/><path d=\"M17.41 7.96l-1.37-1.37c-.4-.4-.92-.59-1.43-.59-.52 0-1.04.2-1.43.59L10.3 9.45l-7.72 7.72c-.78.78-.78 2.05 0 2.83L4 21.41c.39.39.9.59 1.41.59.51 0 1.02-.2 1.41-.59l7.78-7.78 2.81-2.81c.8-.78.8-2.07 0-2.86zM5.41 20L4 18.59l7.72-7.72 1.47 1.35L5.41 20z\"/>\n",
              "  </svg>\n",
              "      </button>\n",
              "      \n",
              "  <style>\n",
              "    .colab-df-container {\n",
              "      display:flex;\n",
              "      flex-wrap:wrap;\n",
              "      gap: 12px;\n",
              "    }\n",
              "\n",
              "    .colab-df-convert {\n",
              "      background-color: #E8F0FE;\n",
              "      border: none;\n",
              "      border-radius: 50%;\n",
              "      cursor: pointer;\n",
              "      display: none;\n",
              "      fill: #1967D2;\n",
              "      height: 32px;\n",
              "      padding: 0 0 0 0;\n",
              "      width: 32px;\n",
              "    }\n",
              "\n",
              "    .colab-df-convert:hover {\n",
              "      background-color: #E2EBFA;\n",
              "      box-shadow: 0px 1px 2px rgba(60, 64, 67, 0.3), 0px 1px 3px 1px rgba(60, 64, 67, 0.15);\n",
              "      fill: #174EA6;\n",
              "    }\n",
              "\n",
              "    [theme=dark] .colab-df-convert {\n",
              "      background-color: #3B4455;\n",
              "      fill: #D2E3FC;\n",
              "    }\n",
              "\n",
              "    [theme=dark] .colab-df-convert:hover {\n",
              "      background-color: #434B5C;\n",
              "      box-shadow: 0px 1px 3px 1px rgba(0, 0, 0, 0.15);\n",
              "      filter: drop-shadow(0px 1px 2px rgba(0, 0, 0, 0.3));\n",
              "      fill: #FFFFFF;\n",
              "    }\n",
              "  </style>\n",
              "\n",
              "      <script>\n",
              "        const buttonEl =\n",
              "          document.querySelector('#df-d21f9e19-0108-4698-a2e7-640169d97e7b button.colab-df-convert');\n",
              "        buttonEl.style.display =\n",
              "          google.colab.kernel.accessAllowed ? 'block' : 'none';\n",
              "\n",
              "        async function convertToInteractive(key) {\n",
              "          const element = document.querySelector('#df-d21f9e19-0108-4698-a2e7-640169d97e7b');\n",
              "          const dataTable =\n",
              "            await google.colab.kernel.invokeFunction('convertToInteractive',\n",
              "                                                     [key], {});\n",
              "          if (!dataTable) return;\n",
              "\n",
              "          const docLinkHtml = 'Like what you see? Visit the ' +\n",
              "            '<a target=\"_blank\" href=https://colab.research.google.com/notebooks/data_table.ipynb>data table notebook</a>'\n",
              "            + ' to learn more about interactive tables.';\n",
              "          element.innerHTML = '';\n",
              "          dataTable['output_type'] = 'display_data';\n",
              "          await google.colab.output.renderOutput(dataTable, element);\n",
              "          const docLink = document.createElement('div');\n",
              "          docLink.innerHTML = docLinkHtml;\n",
              "          element.appendChild(docLink);\n",
              "        }\n",
              "      </script>\n",
              "    </div>\n",
              "  </div>\n",
              "  "
            ]
          },
          "metadata": {},
          "execution_count": 25
        }
      ]
    },
    {
      "cell_type": "markdown",
      "source": [
        "## NLP"
      ],
      "metadata": {
        "id": "TiEYlAkxI5N4"
      }
    },
    {
      "cell_type": "code",
      "source": [
        "import spacy\n",
        "nlp = spacy.load(\"en_core_web_sm\")"
      ],
      "metadata": {
        "id": "sUPSZjbsJBLa"
      },
      "execution_count": null,
      "outputs": []
    },
    {
      "cell_type": "code",
      "source": [
        "for i, row in train_data.iterrows():\n",
        "    if i % 1000 == 0:\n",
        "        print(i)\n",
        "    if(row[\"text_clean\"] and len(str(row[\"text_clean\"])) < 10000):\n",
        "        doc = nlp(str(row[\"text_clean\"]))\n",
        "        adjectives = []\n",
        "        nouns = []\n",
        "        verbs = []\n",
        "        lemmas = []\n",
        "\n",
        "        for token in doc:\n",
        "            lemmas.append(token.lemma_)\n",
        "            if token.pos_ == \"ADJ\":\n",
        "                adjectives.append(token.lemma_)\n",
        "            if token.pos_ == \"NOUN\" or token.pos_ == \"PROPN\":\n",
        "                nouns.append(token.lemma_)\n",
        "            if token.pos_ == \"VERB\":\n",
        "                verbs.append(token.lemma_)\n",
        "                \n",
        "        train_data.at[i, \"text_lemma\"] = \" \".join(lemmas)                \n",
        "        train_data.at[i, \"text_nouns\"] = \" \".join(nouns)\n",
        "        train_data.at[i, \"text_adjectives\"] = \" \".join(adjectives)\n",
        "        train_data.at[i, \"text_verbs\"] = \" \".join(verbs)\n",
        "        train_data.at[i, \"text_nav\"] = \" \".join(nouns+adjectives+verbs)\n",
        "        train_data.at[i, \"no_tokens\"] = len(lemmas)"
      ],
      "metadata": {
        "colab": {
          "base_uri": "https://localhost:8080/"
        },
        "id": "PmWEyhWnI6oz",
        "outputId": "ac72dce3-3b2d-40b7-dc69-89608400eb82"
      },
      "execution_count": null,
      "outputs": [
        {
          "output_type": "stream",
          "name": "stdout",
          "text": [
            "0\n",
            "1000\n",
            "2000\n",
            "3000\n",
            "4000\n",
            "5000\n",
            "6000\n",
            "7000\n"
          ]
        }
      ]
    },
    {
      "cell_type": "code",
      "source": [
        "for i, row in test_data.iterrows():\n",
        "    if i % 1000 == 0:\n",
        "        print(i)\n",
        "    if(row[\"text_clean\"] and len(str(row[\"text_clean\"])) < 10000):\n",
        "        doc = nlp(str(row[\"text_clean\"]))\n",
        "        adjectives = []\n",
        "        nouns = []\n",
        "        verbs = []\n",
        "        lemmas = []\n",
        "\n",
        "        for token in doc:\n",
        "            lemmas.append(token.lemma_)\n",
        "            if token.pos_ == \"ADJ\":\n",
        "                adjectives.append(token.lemma_)\n",
        "            if token.pos_ == \"NOUN\" or token.pos_ == \"PROPN\":\n",
        "                nouns.append(token.lemma_)\n",
        "            if token.pos_ == \"VERB\":\n",
        "                verbs.append(token.lemma_)\n",
        "                \n",
        "        test_data.at[i, \"text_lemma\"] = \" \".join(lemmas)                \n",
        "        test_data.at[i, \"text_nouns\"] = \" \".join(nouns)\n",
        "        test_data.at[i, \"text_adjectives\"] = \" \".join(adjectives)\n",
        "        test_data.at[i, \"text_verbs\"] = \" \".join(verbs)\n",
        "        test_data.at[i, \"text_nav\"] = \" \".join(nouns+adjectives+verbs)\n",
        "        test_data.at[i, \"no_tokens\"] = len(lemmas)"
      ],
      "metadata": {
        "colab": {
          "base_uri": "https://localhost:8080/"
        },
        "id": "EAS0fR-QUWuu",
        "outputId": "1f37bd26-4efb-49a8-c180-f6d39afa02f3"
      },
      "execution_count": null,
      "outputs": [
        {
          "output_type": "stream",
          "name": "stdout",
          "text": [
            "0\n",
            "1000\n",
            "2000\n",
            "3000\n"
          ]
        }
      ]
    },
    {
      "cell_type": "code",
      "source": [
        "train_data.head()"
      ],
      "metadata": {
        "colab": {
          "base_uri": "https://localhost:8080/",
          "height": 372
        },
        "id": "GRZK-ddKJOcq",
        "outputId": "3bfaa9f8-a790-4bf7-c627-235fe5784ef2"
      },
      "execution_count": null,
      "outputs": [
        {
          "output_type": "execute_result",
          "data": {
            "text/plain": [
              "  keyword                                               text  target  \\\n",
              "0     NaN  Our Deeds are the Reason of this #earthquake M...       1   \n",
              "1     NaN             Forest fire near La Ronge Sask. Canada       1   \n",
              "2     NaN  All residents asked to 'shelter in place' are ...       1   \n",
              "3     NaN  13,000 people receive #wildfires evacuation or...       1   \n",
              "4     NaN  Just got sent this photo from Ruby #Alaska as ...       1   \n",
              "\n",
              "                                          text_clean  \\\n",
              "0  Our Deeds are the Reason of this earthquake Ma...   \n",
              "1             Forest fire near La Ronge Sask. Canada   \n",
              "2  All residents asked to 'shelter in place' are ...   \n",
              "3   ,  people receive wildfires evacuation orders...   \n",
              "4  Just got sent this photo from Ruby Alaska as s...   \n",
              "\n",
              "                                          text_lemma  \\\n",
              "0  our deed be the reason of this earthquake may ...   \n",
              "1            forest fire near La Ronge Sask . Canada   \n",
              "2  all resident ask to ' shelter in place ' be be...   \n",
              "3    ,   people receive wildfire evacuation order...   \n",
              "4  just got send this photo from Ruby Alaska as s...   \n",
              "\n",
              "                                          text_nouns text_adjectives  \\\n",
              "0                       deed reason earthquake ALLAH                   \n",
              "1                   forest fire La Ronge Sask Canada                   \n",
              "2  resident shelter place officer evacuation shel...           other   \n",
              "3                 people evacuation order California                   \n",
              "4       photo Ruby Alaska smoke wildfire pour school                   \n",
              "\n",
              "          text_verbs                                           text_nav  \\\n",
              "0            forgive               deed reason earthquake ALLAH forgive   \n",
              "1                                      forest fire La Ronge Sask Canada   \n",
              "2  ask notify expect  resident shelter place officer evacuation shel...   \n",
              "3   receive wildfire  people evacuation order California receive wil...   \n",
              "4               send  photo Ruby Alaska smoke wildfire pour school send   \n",
              "\n",
              "   no_tokens  \n",
              "0       13.0  \n",
              "1        8.0  \n",
              "2       25.0  \n",
              "3       10.0  \n",
              "4       16.0  "
            ],
            "text/html": [
              "\n",
              "  <div id=\"df-90d29bf9-f990-4397-9c5b-8f3d4e96c7d5\">\n",
              "    <div class=\"colab-df-container\">\n",
              "      <div>\n",
              "<style scoped>\n",
              "    .dataframe tbody tr th:only-of-type {\n",
              "        vertical-align: middle;\n",
              "    }\n",
              "\n",
              "    .dataframe tbody tr th {\n",
              "        vertical-align: top;\n",
              "    }\n",
              "\n",
              "    .dataframe thead th {\n",
              "        text-align: right;\n",
              "    }\n",
              "</style>\n",
              "<table border=\"1\" class=\"dataframe\">\n",
              "  <thead>\n",
              "    <tr style=\"text-align: right;\">\n",
              "      <th></th>\n",
              "      <th>keyword</th>\n",
              "      <th>text</th>\n",
              "      <th>target</th>\n",
              "      <th>text_clean</th>\n",
              "      <th>text_lemma</th>\n",
              "      <th>text_nouns</th>\n",
              "      <th>text_adjectives</th>\n",
              "      <th>text_verbs</th>\n",
              "      <th>text_nav</th>\n",
              "      <th>no_tokens</th>\n",
              "    </tr>\n",
              "  </thead>\n",
              "  <tbody>\n",
              "    <tr>\n",
              "      <th>0</th>\n",
              "      <td>NaN</td>\n",
              "      <td>Our Deeds are the Reason of this #earthquake M...</td>\n",
              "      <td>1</td>\n",
              "      <td>Our Deeds are the Reason of this earthquake Ma...</td>\n",
              "      <td>our deed be the reason of this earthquake may ...</td>\n",
              "      <td>deed reason earthquake ALLAH</td>\n",
              "      <td></td>\n",
              "      <td>forgive</td>\n",
              "      <td>deed reason earthquake ALLAH forgive</td>\n",
              "      <td>13.0</td>\n",
              "    </tr>\n",
              "    <tr>\n",
              "      <th>1</th>\n",
              "      <td>NaN</td>\n",
              "      <td>Forest fire near La Ronge Sask. Canada</td>\n",
              "      <td>1</td>\n",
              "      <td>Forest fire near La Ronge Sask. Canada</td>\n",
              "      <td>forest fire near La Ronge Sask . Canada</td>\n",
              "      <td>forest fire La Ronge Sask Canada</td>\n",
              "      <td></td>\n",
              "      <td></td>\n",
              "      <td>forest fire La Ronge Sask Canada</td>\n",
              "      <td>8.0</td>\n",
              "    </tr>\n",
              "    <tr>\n",
              "      <th>2</th>\n",
              "      <td>NaN</td>\n",
              "      <td>All residents asked to 'shelter in place' are ...</td>\n",
              "      <td>1</td>\n",
              "      <td>All residents asked to 'shelter in place' are ...</td>\n",
              "      <td>all resident ask to ' shelter in place ' be be...</td>\n",
              "      <td>resident shelter place officer evacuation shel...</td>\n",
              "      <td>other</td>\n",
              "      <td>ask notify expect</td>\n",
              "      <td>resident shelter place officer evacuation shel...</td>\n",
              "      <td>25.0</td>\n",
              "    </tr>\n",
              "    <tr>\n",
              "      <th>3</th>\n",
              "      <td>NaN</td>\n",
              "      <td>13,000 people receive #wildfires evacuation or...</td>\n",
              "      <td>1</td>\n",
              "      <td>,  people receive wildfires evacuation orders...</td>\n",
              "      <td>,   people receive wildfire evacuation order...</td>\n",
              "      <td>people evacuation order California</td>\n",
              "      <td></td>\n",
              "      <td>receive wildfire</td>\n",
              "      <td>people evacuation order California receive wil...</td>\n",
              "      <td>10.0</td>\n",
              "    </tr>\n",
              "    <tr>\n",
              "      <th>4</th>\n",
              "      <td>NaN</td>\n",
              "      <td>Just got sent this photo from Ruby #Alaska as ...</td>\n",
              "      <td>1</td>\n",
              "      <td>Just got sent this photo from Ruby Alaska as s...</td>\n",
              "      <td>just got send this photo from Ruby Alaska as s...</td>\n",
              "      <td>photo Ruby Alaska smoke wildfire pour school</td>\n",
              "      <td></td>\n",
              "      <td>send</td>\n",
              "      <td>photo Ruby Alaska smoke wildfire pour school send</td>\n",
              "      <td>16.0</td>\n",
              "    </tr>\n",
              "  </tbody>\n",
              "</table>\n",
              "</div>\n",
              "      <button class=\"colab-df-convert\" onclick=\"convertToInteractive('df-90d29bf9-f990-4397-9c5b-8f3d4e96c7d5')\"\n",
              "              title=\"Convert this dataframe to an interactive table.\"\n",
              "              style=\"display:none;\">\n",
              "        \n",
              "  <svg xmlns=\"http://www.w3.org/2000/svg\" height=\"24px\"viewBox=\"0 0 24 24\"\n",
              "       width=\"24px\">\n",
              "    <path d=\"M0 0h24v24H0V0z\" fill=\"none\"/>\n",
              "    <path d=\"M18.56 5.44l.94 2.06.94-2.06 2.06-.94-2.06-.94-.94-2.06-.94 2.06-2.06.94zm-11 1L8.5 8.5l.94-2.06 2.06-.94-2.06-.94L8.5 2.5l-.94 2.06-2.06.94zm10 10l.94 2.06.94-2.06 2.06-.94-2.06-.94-.94-2.06-.94 2.06-2.06.94z\"/><path d=\"M17.41 7.96l-1.37-1.37c-.4-.4-.92-.59-1.43-.59-.52 0-1.04.2-1.43.59L10.3 9.45l-7.72 7.72c-.78.78-.78 2.05 0 2.83L4 21.41c.39.39.9.59 1.41.59.51 0 1.02-.2 1.41-.59l7.78-7.78 2.81-2.81c.8-.78.8-2.07 0-2.86zM5.41 20L4 18.59l7.72-7.72 1.47 1.35L5.41 20z\"/>\n",
              "  </svg>\n",
              "      </button>\n",
              "      \n",
              "  <style>\n",
              "    .colab-df-container {\n",
              "      display:flex;\n",
              "      flex-wrap:wrap;\n",
              "      gap: 12px;\n",
              "    }\n",
              "\n",
              "    .colab-df-convert {\n",
              "      background-color: #E8F0FE;\n",
              "      border: none;\n",
              "      border-radius: 50%;\n",
              "      cursor: pointer;\n",
              "      display: none;\n",
              "      fill: #1967D2;\n",
              "      height: 32px;\n",
              "      padding: 0 0 0 0;\n",
              "      width: 32px;\n",
              "    }\n",
              "\n",
              "    .colab-df-convert:hover {\n",
              "      background-color: #E2EBFA;\n",
              "      box-shadow: 0px 1px 2px rgba(60, 64, 67, 0.3), 0px 1px 3px 1px rgba(60, 64, 67, 0.15);\n",
              "      fill: #174EA6;\n",
              "    }\n",
              "\n",
              "    [theme=dark] .colab-df-convert {\n",
              "      background-color: #3B4455;\n",
              "      fill: #D2E3FC;\n",
              "    }\n",
              "\n",
              "    [theme=dark] .colab-df-convert:hover {\n",
              "      background-color: #434B5C;\n",
              "      box-shadow: 0px 1px 3px 1px rgba(0, 0, 0, 0.15);\n",
              "      filter: drop-shadow(0px 1px 2px rgba(0, 0, 0, 0.3));\n",
              "      fill: #FFFFFF;\n",
              "    }\n",
              "  </style>\n",
              "\n",
              "      <script>\n",
              "        const buttonEl =\n",
              "          document.querySelector('#df-90d29bf9-f990-4397-9c5b-8f3d4e96c7d5 button.colab-df-convert');\n",
              "        buttonEl.style.display =\n",
              "          google.colab.kernel.accessAllowed ? 'block' : 'none';\n",
              "\n",
              "        async function convertToInteractive(key) {\n",
              "          const element = document.querySelector('#df-90d29bf9-f990-4397-9c5b-8f3d4e96c7d5');\n",
              "          const dataTable =\n",
              "            await google.colab.kernel.invokeFunction('convertToInteractive',\n",
              "                                                     [key], {});\n",
              "          if (!dataTable) return;\n",
              "\n",
              "          const docLinkHtml = 'Like what you see? Visit the ' +\n",
              "            '<a target=\"_blank\" href=https://colab.research.google.com/notebooks/data_table.ipynb>data table notebook</a>'\n",
              "            + ' to learn more about interactive tables.';\n",
              "          element.innerHTML = '';\n",
              "          dataTable['output_type'] = 'display_data';\n",
              "          await google.colab.output.renderOutput(dataTable, element);\n",
              "          const docLink = document.createElement('div');\n",
              "          docLink.innerHTML = docLinkHtml;\n",
              "          element.appendChild(docLink);\n",
              "        }\n",
              "      </script>\n",
              "    </div>\n",
              "  </div>\n",
              "  "
            ]
          },
          "metadata": {},
          "execution_count": 18
        }
      ]
    },
    {
      "cell_type": "code",
      "source": [
        "test_data.head()"
      ],
      "metadata": {
        "colab": {
          "base_uri": "https://localhost:8080/",
          "height": 337
        },
        "id": "f1CAL-6wUfEm",
        "outputId": "9e9472ba-3953-4b0e-cd5d-690332b97d5e"
      },
      "execution_count": null,
      "outputs": [
        {
          "output_type": "execute_result",
          "data": {
            "text/plain": [
              "   id keyword location                                               text  \\\n",
              "0   0     NaN      NaN                 Just happened a terrible car crash   \n",
              "1   2     NaN      NaN  Heard about #earthquake is different cities, s...   \n",
              "2   3     NaN      NaN  there is a forest fire at spot pond, geese are...   \n",
              "3   9     NaN      NaN           Apocalypse lighting. #Spokane #wildfires   \n",
              "4  11     NaN      NaN      Typhoon Soudelor kills 28 in China and Taiwan   \n",
              "\n",
              "                                          text_clean  \\\n",
              "0                 Just happened a terrible car crash   \n",
              "1  Heard about earthquake is different cities, st...   \n",
              "2  there is a forest fire at spot pond, geese are...   \n",
              "3             Apocalypse lighting. Spokane wildfires   \n",
              "4        Typhoon Soudelor kills  in China and Taiwan   \n",
              "\n",
              "                                          text_lemma  \\\n",
              "0                   just happen a terrible car crash   \n",
              "1  hear about earthquake be different city , stay...   \n",
              "2  there be a forest fire at spot pond , geese be...   \n",
              "3             apocalypse lighting . Spokane wildfire   \n",
              "4        Typhoon Soudelor kill   in China and Taiwan   \n",
              "\n",
              "                           text_nouns text_adjectives    text_verbs  \\\n",
              "0                           car crash        terrible        happen   \n",
              "1                     earthquake city  different safe     hear stay   \n",
              "2  forest fire spot pond geese street                  be flee save   \n",
              "3         apocalypse lighting Spokane                      wildfire   \n",
              "4       Typhoon Soudelor China Taiwan                          kill   \n",
              "\n",
              "                                          text_nav  no_tokens  \n",
              "0                        car crash terrible happen        6.0  \n",
              "1         earthquake city different safe hear stay       11.0  \n",
              "2  forest fire spot pond geese street be flee save       22.0  \n",
              "3             apocalypse lighting Spokane wildfire        5.0  \n",
              "4               Typhoon Soudelor China Taiwan kill        8.0  "
            ],
            "text/html": [
              "\n",
              "  <div id=\"df-afa2f95a-136e-430f-a289-e2fd572508b5\">\n",
              "    <div class=\"colab-df-container\">\n",
              "      <div>\n",
              "<style scoped>\n",
              "    .dataframe tbody tr th:only-of-type {\n",
              "        vertical-align: middle;\n",
              "    }\n",
              "\n",
              "    .dataframe tbody tr th {\n",
              "        vertical-align: top;\n",
              "    }\n",
              "\n",
              "    .dataframe thead th {\n",
              "        text-align: right;\n",
              "    }\n",
              "</style>\n",
              "<table border=\"1\" class=\"dataframe\">\n",
              "  <thead>\n",
              "    <tr style=\"text-align: right;\">\n",
              "      <th></th>\n",
              "      <th>id</th>\n",
              "      <th>keyword</th>\n",
              "      <th>location</th>\n",
              "      <th>text</th>\n",
              "      <th>text_clean</th>\n",
              "      <th>text_lemma</th>\n",
              "      <th>text_nouns</th>\n",
              "      <th>text_adjectives</th>\n",
              "      <th>text_verbs</th>\n",
              "      <th>text_nav</th>\n",
              "      <th>no_tokens</th>\n",
              "    </tr>\n",
              "  </thead>\n",
              "  <tbody>\n",
              "    <tr>\n",
              "      <th>0</th>\n",
              "      <td>0</td>\n",
              "      <td>NaN</td>\n",
              "      <td>NaN</td>\n",
              "      <td>Just happened a terrible car crash</td>\n",
              "      <td>Just happened a terrible car crash</td>\n",
              "      <td>just happen a terrible car crash</td>\n",
              "      <td>car crash</td>\n",
              "      <td>terrible</td>\n",
              "      <td>happen</td>\n",
              "      <td>car crash terrible happen</td>\n",
              "      <td>6.0</td>\n",
              "    </tr>\n",
              "    <tr>\n",
              "      <th>1</th>\n",
              "      <td>2</td>\n",
              "      <td>NaN</td>\n",
              "      <td>NaN</td>\n",
              "      <td>Heard about #earthquake is different cities, s...</td>\n",
              "      <td>Heard about earthquake is different cities, st...</td>\n",
              "      <td>hear about earthquake be different city , stay...</td>\n",
              "      <td>earthquake city</td>\n",
              "      <td>different safe</td>\n",
              "      <td>hear stay</td>\n",
              "      <td>earthquake city different safe hear stay</td>\n",
              "      <td>11.0</td>\n",
              "    </tr>\n",
              "    <tr>\n",
              "      <th>2</th>\n",
              "      <td>3</td>\n",
              "      <td>NaN</td>\n",
              "      <td>NaN</td>\n",
              "      <td>there is a forest fire at spot pond, geese are...</td>\n",
              "      <td>there is a forest fire at spot pond, geese are...</td>\n",
              "      <td>there be a forest fire at spot pond , geese be...</td>\n",
              "      <td>forest fire spot pond geese street</td>\n",
              "      <td></td>\n",
              "      <td>be flee save</td>\n",
              "      <td>forest fire spot pond geese street be flee save</td>\n",
              "      <td>22.0</td>\n",
              "    </tr>\n",
              "    <tr>\n",
              "      <th>3</th>\n",
              "      <td>9</td>\n",
              "      <td>NaN</td>\n",
              "      <td>NaN</td>\n",
              "      <td>Apocalypse lighting. #Spokane #wildfires</td>\n",
              "      <td>Apocalypse lighting. Spokane wildfires</td>\n",
              "      <td>apocalypse lighting . Spokane wildfire</td>\n",
              "      <td>apocalypse lighting Spokane</td>\n",
              "      <td></td>\n",
              "      <td>wildfire</td>\n",
              "      <td>apocalypse lighting Spokane wildfire</td>\n",
              "      <td>5.0</td>\n",
              "    </tr>\n",
              "    <tr>\n",
              "      <th>4</th>\n",
              "      <td>11</td>\n",
              "      <td>NaN</td>\n",
              "      <td>NaN</td>\n",
              "      <td>Typhoon Soudelor kills 28 in China and Taiwan</td>\n",
              "      <td>Typhoon Soudelor kills  in China and Taiwan</td>\n",
              "      <td>Typhoon Soudelor kill   in China and Taiwan</td>\n",
              "      <td>Typhoon Soudelor China Taiwan</td>\n",
              "      <td></td>\n",
              "      <td>kill</td>\n",
              "      <td>Typhoon Soudelor China Taiwan kill</td>\n",
              "      <td>8.0</td>\n",
              "    </tr>\n",
              "  </tbody>\n",
              "</table>\n",
              "</div>\n",
              "      <button class=\"colab-df-convert\" onclick=\"convertToInteractive('df-afa2f95a-136e-430f-a289-e2fd572508b5')\"\n",
              "              title=\"Convert this dataframe to an interactive table.\"\n",
              "              style=\"display:none;\">\n",
              "        \n",
              "  <svg xmlns=\"http://www.w3.org/2000/svg\" height=\"24px\"viewBox=\"0 0 24 24\"\n",
              "       width=\"24px\">\n",
              "    <path d=\"M0 0h24v24H0V0z\" fill=\"none\"/>\n",
              "    <path d=\"M18.56 5.44l.94 2.06.94-2.06 2.06-.94-2.06-.94-.94-2.06-.94 2.06-2.06.94zm-11 1L8.5 8.5l.94-2.06 2.06-.94-2.06-.94L8.5 2.5l-.94 2.06-2.06.94zm10 10l.94 2.06.94-2.06 2.06-.94-2.06-.94-.94-2.06-.94 2.06-2.06.94z\"/><path d=\"M17.41 7.96l-1.37-1.37c-.4-.4-.92-.59-1.43-.59-.52 0-1.04.2-1.43.59L10.3 9.45l-7.72 7.72c-.78.78-.78 2.05 0 2.83L4 21.41c.39.39.9.59 1.41.59.51 0 1.02-.2 1.41-.59l7.78-7.78 2.81-2.81c.8-.78.8-2.07 0-2.86zM5.41 20L4 18.59l7.72-7.72 1.47 1.35L5.41 20z\"/>\n",
              "  </svg>\n",
              "      </button>\n",
              "      \n",
              "  <style>\n",
              "    .colab-df-container {\n",
              "      display:flex;\n",
              "      flex-wrap:wrap;\n",
              "      gap: 12px;\n",
              "    }\n",
              "\n",
              "    .colab-df-convert {\n",
              "      background-color: #E8F0FE;\n",
              "      border: none;\n",
              "      border-radius: 50%;\n",
              "      cursor: pointer;\n",
              "      display: none;\n",
              "      fill: #1967D2;\n",
              "      height: 32px;\n",
              "      padding: 0 0 0 0;\n",
              "      width: 32px;\n",
              "    }\n",
              "\n",
              "    .colab-df-convert:hover {\n",
              "      background-color: #E2EBFA;\n",
              "      box-shadow: 0px 1px 2px rgba(60, 64, 67, 0.3), 0px 1px 3px 1px rgba(60, 64, 67, 0.15);\n",
              "      fill: #174EA6;\n",
              "    }\n",
              "\n",
              "    [theme=dark] .colab-df-convert {\n",
              "      background-color: #3B4455;\n",
              "      fill: #D2E3FC;\n",
              "    }\n",
              "\n",
              "    [theme=dark] .colab-df-convert:hover {\n",
              "      background-color: #434B5C;\n",
              "      box-shadow: 0px 1px 3px 1px rgba(0, 0, 0, 0.15);\n",
              "      filter: drop-shadow(0px 1px 2px rgba(0, 0, 0, 0.3));\n",
              "      fill: #FFFFFF;\n",
              "    }\n",
              "  </style>\n",
              "\n",
              "      <script>\n",
              "        const buttonEl =\n",
              "          document.querySelector('#df-afa2f95a-136e-430f-a289-e2fd572508b5 button.colab-df-convert');\n",
              "        buttonEl.style.display =\n",
              "          google.colab.kernel.accessAllowed ? 'block' : 'none';\n",
              "\n",
              "        async function convertToInteractive(key) {\n",
              "          const element = document.querySelector('#df-afa2f95a-136e-430f-a289-e2fd572508b5');\n",
              "          const dataTable =\n",
              "            await google.colab.kernel.invokeFunction('convertToInteractive',\n",
              "                                                     [key], {});\n",
              "          if (!dataTable) return;\n",
              "\n",
              "          const docLinkHtml = 'Like what you see? Visit the ' +\n",
              "            '<a target=\"_blank\" href=https://colab.research.google.com/notebooks/data_table.ipynb>data table notebook</a>'\n",
              "            + ' to learn more about interactive tables.';\n",
              "          element.innerHTML = '';\n",
              "          dataTable['output_type'] = 'display_data';\n",
              "          await google.colab.output.renderOutput(dataTable, element);\n",
              "          const docLink = document.createElement('div');\n",
              "          docLink.innerHTML = docLinkHtml;\n",
              "          element.appendChild(docLink);\n",
              "        }\n",
              "      </script>\n",
              "    </div>\n",
              "  </div>\n",
              "  "
            ]
          },
          "metadata": {},
          "execution_count": 27
        }
      ]
    },
    {
      "cell_type": "code",
      "source": [
        "train_data[\"text\"][0]"
      ],
      "metadata": {
        "colab": {
          "base_uri": "https://localhost:8080/",
          "height": 35
        },
        "id": "UkLDuvHwJw-r",
        "outputId": "bc9991a7-c302-4c85-b91e-eda9493046ec"
      },
      "execution_count": null,
      "outputs": [
        {
          "output_type": "execute_result",
          "data": {
            "text/plain": [
              "'Our Deeds are the Reason of this #earthquake May ALLAH Forgive us all'"
            ],
            "application/vnd.google.colaboratory.intrinsic+json": {
              "type": "string"
            }
          },
          "metadata": {},
          "execution_count": 28
        }
      ]
    },
    {
      "cell_type": "code",
      "source": [
        "train_data[\"text_nav\"][0]"
      ],
      "metadata": {
        "colab": {
          "base_uri": "https://localhost:8080/",
          "height": 35
        },
        "id": "q3NHAqbyJ896",
        "outputId": "568dbada-e9aa-4f4a-ab19-4f7e5bc3aef6"
      },
      "execution_count": null,
      "outputs": [
        {
          "output_type": "execute_result",
          "data": {
            "text/plain": [
              "'deed reason earthquake ALLAH forgive'"
            ],
            "application/vnd.google.colaboratory.intrinsic+json": {
              "type": "string"
            }
          },
          "metadata": {},
          "execution_count": 30
        }
      ]
    },
    {
      "cell_type": "code",
      "source": [
        "from google.colab import files\n",
        "train_data.to_csv('train_data_processed.csv') \n",
        "files.download('train_data_processed.csv')"
      ],
      "metadata": {
        "colab": {
          "base_uri": "https://localhost:8080/",
          "height": 17
        },
        "id": "sEUc6VRIVdV1",
        "outputId": "83a57947-cd9d-44d5-be23-dd9506f39653"
      },
      "execution_count": null,
      "outputs": [
        {
          "output_type": "display_data",
          "data": {
            "text/plain": [
              "<IPython.core.display.Javascript object>"
            ],
            "application/javascript": [
              "\n",
              "    async function download(id, filename, size) {\n",
              "      if (!google.colab.kernel.accessAllowed) {\n",
              "        return;\n",
              "      }\n",
              "      const div = document.createElement('div');\n",
              "      const label = document.createElement('label');\n",
              "      label.textContent = `Downloading \"${filename}\": `;\n",
              "      div.appendChild(label);\n",
              "      const progress = document.createElement('progress');\n",
              "      progress.max = size;\n",
              "      div.appendChild(progress);\n",
              "      document.body.appendChild(div);\n",
              "\n",
              "      const buffers = [];\n",
              "      let downloaded = 0;\n",
              "\n",
              "      const channel = await google.colab.kernel.comms.open(id);\n",
              "      // Send a message to notify the kernel that we're ready.\n",
              "      channel.send({})\n",
              "\n",
              "      for await (const message of channel.messages) {\n",
              "        // Send a message to notify the kernel that we're ready.\n",
              "        channel.send({})\n",
              "        if (message.buffers) {\n",
              "          for (const buffer of message.buffers) {\n",
              "            buffers.push(buffer);\n",
              "            downloaded += buffer.byteLength;\n",
              "            progress.value = downloaded;\n",
              "          }\n",
              "        }\n",
              "      }\n",
              "      const blob = new Blob(buffers, {type: 'application/binary'});\n",
              "      const a = document.createElement('a');\n",
              "      a.href = window.URL.createObjectURL(blob);\n",
              "      a.download = filename;\n",
              "      div.appendChild(a);\n",
              "      a.click();\n",
              "      div.remove();\n",
              "    }\n",
              "  "
            ]
          },
          "metadata": {}
        },
        {
          "output_type": "display_data",
          "data": {
            "text/plain": [
              "<IPython.core.display.Javascript object>"
            ],
            "application/javascript": [
              "download(\"download_7876a6e6-6292-4d0c-a05e-93a9e30e738d\", \"train_data_processed.csv\", 2988770)"
            ]
          },
          "metadata": {}
        }
      ]
    },
    {
      "cell_type": "code",
      "source": [
        "test_data=test_data.drop(['id', 'location'], axis=1)"
      ],
      "metadata": {
        "id": "_r2WEtpEWbP-"
      },
      "execution_count": null,
      "outputs": []
    },
    {
      "cell_type": "code",
      "source": [
        "test_data\n"
      ],
      "metadata": {
        "id": "Gy8IMmTBWimc",
        "outputId": "3afe34ff-35fa-456e-e8ad-745d3d941fad",
        "colab": {
          "base_uri": "https://localhost:8080/",
          "height": 676
        }
      },
      "execution_count": null,
      "outputs": [
        {
          "output_type": "execute_result",
          "data": {
            "text/plain": [
              "     keyword                                               text  \\\n",
              "0        NaN                 Just happened a terrible car crash   \n",
              "1        NaN  Heard about #earthquake is different cities, s...   \n",
              "2        NaN  there is a forest fire at spot pond, geese are...   \n",
              "3        NaN           Apocalypse lighting. #Spokane #wildfires   \n",
              "4        NaN      Typhoon Soudelor kills 28 in China and Taiwan   \n",
              "...      ...                                                ...   \n",
              "3258     NaN  EARTHQUAKE SAFETY LOS ANGELES ÛÒ SAFETY FASTE...   \n",
              "3259     NaN  Storm in RI worse than last hurricane. My city...   \n",
              "3260     NaN  Green Line derailment in Chicago http://t.co/U...   \n",
              "3261     NaN  MEG issues Hazardous Weather Outlook (HWO) htt...   \n",
              "3262     NaN  #CityofCalgary has activated its Municipal Eme...   \n",
              "\n",
              "                                             text_clean  \\\n",
              "0                    Just happened a terrible car crash   \n",
              "1     Heard about earthquake is different cities, st...   \n",
              "2     there is a forest fire at spot pond, geese are...   \n",
              "3                Apocalypse lighting. Spokane wildfires   \n",
              "4           Typhoon Soudelor kills  in China and Taiwan   \n",
              "...                                                 ...   \n",
              "3258  EARTHQUAKE SAFETY LOS ANGELES   SAFETY FASTEN...   \n",
              "3259  Storm in RI worse than last hurricane. My city...   \n",
              "3260                  Green Line derailment in Chicago    \n",
              "3261          MEG issues Hazardous Weather Outlook HWO    \n",
              "3262   CityofCalgary has activated its Municipal Eme...   \n",
              "\n",
              "                                             text_lemma  \\\n",
              "0                      just happen a terrible car crash   \n",
              "1     hear about earthquake be different city , stay...   \n",
              "2     there be a forest fire at spot pond , geese be...   \n",
              "3                apocalypse lighting . Spokane wildfire   \n",
              "4           Typhoon Soudelor kill   in China and Taiwan   \n",
              "...                                                 ...   \n",
              "3258  earthquake SAFETY LOS ANGELES    SAFETY faste...   \n",
              "3259  storm in RI bad than last hurricane . my city ...   \n",
              "3260                   Green Line derailment in Chicago   \n",
              "3261            MEG issue Hazardous Weather Outlook HWO   \n",
              "3262    CityofCalgary have activate its Municipal Em...   \n",
              "\n",
              "                                      text_nouns text_adjectives  \\\n",
              "0                                      car crash        terrible   \n",
              "1                                earthquake city  different safe   \n",
              "2             forest fire spot pond geese street                   \n",
              "3                    apocalypse lighting Spokane                   \n",
              "4                  Typhoon Soudelor China Taiwan                   \n",
              "...                                          ...             ...   \n",
              "3258        earthquake LOS ANGELES  SAFETY XrWn                   \n",
              "3259  storm RI hurricane city other yard k power        bad last   \n",
              "3260               Green Line derailment Chicago                   \n",
              "3261     MEG issue Hazardous Weather Outlook HWO                   \n",
              "3262      CityofCalgary Municipal Emergency Plan                   \n",
              "\n",
              "             text_verbs                                           text_nav  \\\n",
              "0                happen                          car crash terrible happen   \n",
              "1             hear stay           earthquake city different safe hear stay   \n",
              "2          be flee save    forest fire spot pond geese street be flee save   \n",
              "3              wildfire               apocalypse lighting Spokane wildfire   \n",
              "4                  kill                 Typhoon Soudelor China Taiwan kill   \n",
              "...                 ...                                                ...   \n",
              "3258    SAFETY fastener  earthquake LOS ANGELES  SAFETY XrWn SAFETY fa...   \n",
              "3259      hit look bomb  storm RI hurricane city other yard k power bad...   \n",
              "3260                                         Green Line derailment Chicago   \n",
              "3261                               MEG issue Hazardous Weather Outlook HWO   \n",
              "3262  activate yycstorm  CityofCalgary Municipal Emergency Plan activat...   \n",
              "\n",
              "      no_tokens  \n",
              "0           6.0  \n",
              "1          11.0  \n",
              "2          22.0  \n",
              "3           5.0  \n",
              "4           8.0  \n",
              "...         ...  \n",
              "3258        9.0  \n",
              "3259       29.0  \n",
              "3260        5.0  \n",
              "3261        6.0  \n",
              "3262       10.0  \n",
              "\n",
              "[3263 rows x 9 columns]"
            ],
            "text/html": [
              "\n",
              "  <div id=\"df-73a8b96b-31d4-437d-bba2-741995a71c75\">\n",
              "    <div class=\"colab-df-container\">\n",
              "      <div>\n",
              "<style scoped>\n",
              "    .dataframe tbody tr th:only-of-type {\n",
              "        vertical-align: middle;\n",
              "    }\n",
              "\n",
              "    .dataframe tbody tr th {\n",
              "        vertical-align: top;\n",
              "    }\n",
              "\n",
              "    .dataframe thead th {\n",
              "        text-align: right;\n",
              "    }\n",
              "</style>\n",
              "<table border=\"1\" class=\"dataframe\">\n",
              "  <thead>\n",
              "    <tr style=\"text-align: right;\">\n",
              "      <th></th>\n",
              "      <th>keyword</th>\n",
              "      <th>text</th>\n",
              "      <th>text_clean</th>\n",
              "      <th>text_lemma</th>\n",
              "      <th>text_nouns</th>\n",
              "      <th>text_adjectives</th>\n",
              "      <th>text_verbs</th>\n",
              "      <th>text_nav</th>\n",
              "      <th>no_tokens</th>\n",
              "    </tr>\n",
              "  </thead>\n",
              "  <tbody>\n",
              "    <tr>\n",
              "      <th>0</th>\n",
              "      <td>NaN</td>\n",
              "      <td>Just happened a terrible car crash</td>\n",
              "      <td>Just happened a terrible car crash</td>\n",
              "      <td>just happen a terrible car crash</td>\n",
              "      <td>car crash</td>\n",
              "      <td>terrible</td>\n",
              "      <td>happen</td>\n",
              "      <td>car crash terrible happen</td>\n",
              "      <td>6.0</td>\n",
              "    </tr>\n",
              "    <tr>\n",
              "      <th>1</th>\n",
              "      <td>NaN</td>\n",
              "      <td>Heard about #earthquake is different cities, s...</td>\n",
              "      <td>Heard about earthquake is different cities, st...</td>\n",
              "      <td>hear about earthquake be different city , stay...</td>\n",
              "      <td>earthquake city</td>\n",
              "      <td>different safe</td>\n",
              "      <td>hear stay</td>\n",
              "      <td>earthquake city different safe hear stay</td>\n",
              "      <td>11.0</td>\n",
              "    </tr>\n",
              "    <tr>\n",
              "      <th>2</th>\n",
              "      <td>NaN</td>\n",
              "      <td>there is a forest fire at spot pond, geese are...</td>\n",
              "      <td>there is a forest fire at spot pond, geese are...</td>\n",
              "      <td>there be a forest fire at spot pond , geese be...</td>\n",
              "      <td>forest fire spot pond geese street</td>\n",
              "      <td></td>\n",
              "      <td>be flee save</td>\n",
              "      <td>forest fire spot pond geese street be flee save</td>\n",
              "      <td>22.0</td>\n",
              "    </tr>\n",
              "    <tr>\n",
              "      <th>3</th>\n",
              "      <td>NaN</td>\n",
              "      <td>Apocalypse lighting. #Spokane #wildfires</td>\n",
              "      <td>Apocalypse lighting. Spokane wildfires</td>\n",
              "      <td>apocalypse lighting . Spokane wildfire</td>\n",
              "      <td>apocalypse lighting Spokane</td>\n",
              "      <td></td>\n",
              "      <td>wildfire</td>\n",
              "      <td>apocalypse lighting Spokane wildfire</td>\n",
              "      <td>5.0</td>\n",
              "    </tr>\n",
              "    <tr>\n",
              "      <th>4</th>\n",
              "      <td>NaN</td>\n",
              "      <td>Typhoon Soudelor kills 28 in China and Taiwan</td>\n",
              "      <td>Typhoon Soudelor kills  in China and Taiwan</td>\n",
              "      <td>Typhoon Soudelor kill   in China and Taiwan</td>\n",
              "      <td>Typhoon Soudelor China Taiwan</td>\n",
              "      <td></td>\n",
              "      <td>kill</td>\n",
              "      <td>Typhoon Soudelor China Taiwan kill</td>\n",
              "      <td>8.0</td>\n",
              "    </tr>\n",
              "    <tr>\n",
              "      <th>...</th>\n",
              "      <td>...</td>\n",
              "      <td>...</td>\n",
              "      <td>...</td>\n",
              "      <td>...</td>\n",
              "      <td>...</td>\n",
              "      <td>...</td>\n",
              "      <td>...</td>\n",
              "      <td>...</td>\n",
              "      <td>...</td>\n",
              "    </tr>\n",
              "    <tr>\n",
              "      <th>3258</th>\n",
              "      <td>NaN</td>\n",
              "      <td>EARTHQUAKE SAFETY LOS ANGELES ÛÒ SAFETY FASTE...</td>\n",
              "      <td>EARTHQUAKE SAFETY LOS ANGELES   SAFETY FASTEN...</td>\n",
              "      <td>earthquake SAFETY LOS ANGELES    SAFETY faste...</td>\n",
              "      <td>earthquake LOS ANGELES  SAFETY XrWn</td>\n",
              "      <td></td>\n",
              "      <td>SAFETY fastener</td>\n",
              "      <td>earthquake LOS ANGELES  SAFETY XrWn SAFETY fa...</td>\n",
              "      <td>9.0</td>\n",
              "    </tr>\n",
              "    <tr>\n",
              "      <th>3259</th>\n",
              "      <td>NaN</td>\n",
              "      <td>Storm in RI worse than last hurricane. My city...</td>\n",
              "      <td>Storm in RI worse than last hurricane. My city...</td>\n",
              "      <td>storm in RI bad than last hurricane . my city ...</td>\n",
              "      <td>storm RI hurricane city other yard k power</td>\n",
              "      <td>bad last</td>\n",
              "      <td>hit look bomb</td>\n",
              "      <td>storm RI hurricane city other yard k power bad...</td>\n",
              "      <td>29.0</td>\n",
              "    </tr>\n",
              "    <tr>\n",
              "      <th>3260</th>\n",
              "      <td>NaN</td>\n",
              "      <td>Green Line derailment in Chicago http://t.co/U...</td>\n",
              "      <td>Green Line derailment in Chicago</td>\n",
              "      <td>Green Line derailment in Chicago</td>\n",
              "      <td>Green Line derailment Chicago</td>\n",
              "      <td></td>\n",
              "      <td></td>\n",
              "      <td>Green Line derailment Chicago</td>\n",
              "      <td>5.0</td>\n",
              "    </tr>\n",
              "    <tr>\n",
              "      <th>3261</th>\n",
              "      <td>NaN</td>\n",
              "      <td>MEG issues Hazardous Weather Outlook (HWO) htt...</td>\n",
              "      <td>MEG issues Hazardous Weather Outlook HWO</td>\n",
              "      <td>MEG issue Hazardous Weather Outlook HWO</td>\n",
              "      <td>MEG issue Hazardous Weather Outlook HWO</td>\n",
              "      <td></td>\n",
              "      <td></td>\n",
              "      <td>MEG issue Hazardous Weather Outlook HWO</td>\n",
              "      <td>6.0</td>\n",
              "    </tr>\n",
              "    <tr>\n",
              "      <th>3262</th>\n",
              "      <td>NaN</td>\n",
              "      <td>#CityofCalgary has activated its Municipal Eme...</td>\n",
              "      <td>CityofCalgary has activated its Municipal Eme...</td>\n",
              "      <td>CityofCalgary have activate its Municipal Em...</td>\n",
              "      <td>CityofCalgary Municipal Emergency Plan</td>\n",
              "      <td></td>\n",
              "      <td>activate yycstorm</td>\n",
              "      <td>CityofCalgary Municipal Emergency Plan activat...</td>\n",
              "      <td>10.0</td>\n",
              "    </tr>\n",
              "  </tbody>\n",
              "</table>\n",
              "<p>3263 rows × 9 columns</p>\n",
              "</div>\n",
              "      <button class=\"colab-df-convert\" onclick=\"convertToInteractive('df-73a8b96b-31d4-437d-bba2-741995a71c75')\"\n",
              "              title=\"Convert this dataframe to an interactive table.\"\n",
              "              style=\"display:none;\">\n",
              "        \n",
              "  <svg xmlns=\"http://www.w3.org/2000/svg\" height=\"24px\"viewBox=\"0 0 24 24\"\n",
              "       width=\"24px\">\n",
              "    <path d=\"M0 0h24v24H0V0z\" fill=\"none\"/>\n",
              "    <path d=\"M18.56 5.44l.94 2.06.94-2.06 2.06-.94-2.06-.94-.94-2.06-.94 2.06-2.06.94zm-11 1L8.5 8.5l.94-2.06 2.06-.94-2.06-.94L8.5 2.5l-.94 2.06-2.06.94zm10 10l.94 2.06.94-2.06 2.06-.94-2.06-.94-.94-2.06-.94 2.06-2.06.94z\"/><path d=\"M17.41 7.96l-1.37-1.37c-.4-.4-.92-.59-1.43-.59-.52 0-1.04.2-1.43.59L10.3 9.45l-7.72 7.72c-.78.78-.78 2.05 0 2.83L4 21.41c.39.39.9.59 1.41.59.51 0 1.02-.2 1.41-.59l7.78-7.78 2.81-2.81c.8-.78.8-2.07 0-2.86zM5.41 20L4 18.59l7.72-7.72 1.47 1.35L5.41 20z\"/>\n",
              "  </svg>\n",
              "      </button>\n",
              "      \n",
              "  <style>\n",
              "    .colab-df-container {\n",
              "      display:flex;\n",
              "      flex-wrap:wrap;\n",
              "      gap: 12px;\n",
              "    }\n",
              "\n",
              "    .colab-df-convert {\n",
              "      background-color: #E8F0FE;\n",
              "      border: none;\n",
              "      border-radius: 50%;\n",
              "      cursor: pointer;\n",
              "      display: none;\n",
              "      fill: #1967D2;\n",
              "      height: 32px;\n",
              "      padding: 0 0 0 0;\n",
              "      width: 32px;\n",
              "    }\n",
              "\n",
              "    .colab-df-convert:hover {\n",
              "      background-color: #E2EBFA;\n",
              "      box-shadow: 0px 1px 2px rgba(60, 64, 67, 0.3), 0px 1px 3px 1px rgba(60, 64, 67, 0.15);\n",
              "      fill: #174EA6;\n",
              "    }\n",
              "\n",
              "    [theme=dark] .colab-df-convert {\n",
              "      background-color: #3B4455;\n",
              "      fill: #D2E3FC;\n",
              "    }\n",
              "\n",
              "    [theme=dark] .colab-df-convert:hover {\n",
              "      background-color: #434B5C;\n",
              "      box-shadow: 0px 1px 3px 1px rgba(0, 0, 0, 0.15);\n",
              "      filter: drop-shadow(0px 1px 2px rgba(0, 0, 0, 0.3));\n",
              "      fill: #FFFFFF;\n",
              "    }\n",
              "  </style>\n",
              "\n",
              "      <script>\n",
              "        const buttonEl =\n",
              "          document.querySelector('#df-73a8b96b-31d4-437d-bba2-741995a71c75 button.colab-df-convert');\n",
              "        buttonEl.style.display =\n",
              "          google.colab.kernel.accessAllowed ? 'block' : 'none';\n",
              "\n",
              "        async function convertToInteractive(key) {\n",
              "          const element = document.querySelector('#df-73a8b96b-31d4-437d-bba2-741995a71c75');\n",
              "          const dataTable =\n",
              "            await google.colab.kernel.invokeFunction('convertToInteractive',\n",
              "                                                     [key], {});\n",
              "          if (!dataTable) return;\n",
              "\n",
              "          const docLinkHtml = 'Like what you see? Visit the ' +\n",
              "            '<a target=\"_blank\" href=https://colab.research.google.com/notebooks/data_table.ipynb>data table notebook</a>'\n",
              "            + ' to learn more about interactive tables.';\n",
              "          element.innerHTML = '';\n",
              "          dataTable['output_type'] = 'display_data';\n",
              "          await google.colab.output.renderOutput(dataTable, element);\n",
              "          const docLink = document.createElement('div');\n",
              "          docLink.innerHTML = docLinkHtml;\n",
              "          element.appendChild(docLink);\n",
              "        }\n",
              "      </script>\n",
              "    </div>\n",
              "  </div>\n",
              "  "
            ]
          },
          "metadata": {},
          "execution_count": 35
        }
      ]
    },
    {
      "cell_type": "code",
      "source": [
        "from google.colab import files\n",
        "test_data.to_csv('test_data_processed.csv') \n",
        "files.download('test_data_processed.csv')"
      ],
      "metadata": {
        "colab": {
          "base_uri": "https://localhost:8080/",
          "height": 17
        },
        "id": "RfsZeHzAVrCF",
        "outputId": "4bae444e-2e69-45e1-bc1f-ecc170f5f2a5"
      },
      "execution_count": null,
      "outputs": [
        {
          "output_type": "display_data",
          "data": {
            "text/plain": [
              "<IPython.core.display.Javascript object>"
            ],
            "application/javascript": [
              "\n",
              "    async function download(id, filename, size) {\n",
              "      if (!google.colab.kernel.accessAllowed) {\n",
              "        return;\n",
              "      }\n",
              "      const div = document.createElement('div');\n",
              "      const label = document.createElement('label');\n",
              "      label.textContent = `Downloading \"${filename}\": `;\n",
              "      div.appendChild(label);\n",
              "      const progress = document.createElement('progress');\n",
              "      progress.max = size;\n",
              "      div.appendChild(progress);\n",
              "      document.body.appendChild(div);\n",
              "\n",
              "      const buffers = [];\n",
              "      let downloaded = 0;\n",
              "\n",
              "      const channel = await google.colab.kernel.comms.open(id);\n",
              "      // Send a message to notify the kernel that we're ready.\n",
              "      channel.send({})\n",
              "\n",
              "      for await (const message of channel.messages) {\n",
              "        // Send a message to notify the kernel that we're ready.\n",
              "        channel.send({})\n",
              "        if (message.buffers) {\n",
              "          for (const buffer of message.buffers) {\n",
              "            buffers.push(buffer);\n",
              "            downloaded += buffer.byteLength;\n",
              "            progress.value = downloaded;\n",
              "          }\n",
              "        }\n",
              "      }\n",
              "      const blob = new Blob(buffers, {type: 'application/binary'});\n",
              "      const a = document.createElement('a');\n",
              "      a.href = window.URL.createObjectURL(blob);\n",
              "      a.download = filename;\n",
              "      div.appendChild(a);\n",
              "      a.click();\n",
              "      div.remove();\n",
              "    }\n",
              "  "
            ]
          },
          "metadata": {}
        },
        {
          "output_type": "display_data",
          "data": {
            "text/plain": [
              "<IPython.core.display.Javascript object>"
            ],
            "application/javascript": [
              "download(\"download_38741c91-5f2b-4fbb-ba95-fc3add6bfb76\", \"test_data_processed.csv\", 1286068)"
            ]
          },
          "metadata": {}
        }
      ]
    },
    {
      "cell_type": "markdown",
      "source": [
        "## EDA"
      ],
      "metadata": {
        "id": "4IqVe5xHKMqT"
      }
    },
    {
      "cell_type": "code",
      "source": [
        "# filter warnings on depreciation etc.\n",
        "import warnings\n",
        "warnings.filterwarnings(\"ignore\")"
      ],
      "metadata": {
        "id": "IuHM4YfUKOCm"
      },
      "execution_count": null,
      "outputs": []
    },
    {
      "cell_type": "code",
      "source": [
        "# import pandas, numpy\n",
        "import pandas as pd\n",
        "import numpy as np\n",
        "\n",
        "# adjust pandas display\n",
        "pd.options.display.max_columns = 30\n",
        "pd.options.display.max_rows = 100\n",
        "pd.options.display.float_format = '{:.2f}'.format\n",
        "pd.options.display.precision = 2\n",
        "pd.options.display.max_colwidth = -1"
      ],
      "metadata": {
        "id": "8UrL3MbXKQ2z"
      },
      "execution_count": null,
      "outputs": []
    },
    {
      "cell_type": "code",
      "source": [
        "# Import matplotlib and seaborn and adjust some defaults\n",
        "%matplotlib inline\n",
        "%config InlineBackend.figure_format = 'svg'\n",
        "\n",
        "from matplotlib import pyplot as plt\n",
        "plt.rcParams['figure.dpi'] = 100\n",
        "\n",
        "import seaborn as sns\n",
        "sns.set_style(\"whitegrid\")"
      ],
      "metadata": {
        "id": "lUCiAvxBKTsD"
      },
      "execution_count": null,
      "outputs": []
    },
    {
      "cell_type": "code",
      "source": [
        "# list column names and datatypes\n",
        "train_data.dtypes"
      ],
      "metadata": {
        "colab": {
          "base_uri": "https://localhost:8080/"
        },
        "id": "HixMkCV3KX7S",
        "outputId": "04226faf-296a-478f-b737-c14db869d789"
      },
      "execution_count": null,
      "outputs": [
        {
          "output_type": "execute_result",
          "data": {
            "text/plain": [
              "keyword                object \n",
              "text                   object \n",
              "target                 int64  \n",
              "word_count             int64  \n",
              "char_count             int64  \n",
              "unique_word_count      int64  \n",
              "selftext_clean         object \n",
              "selftext_lemma         object \n",
              "selftext_nouns         object \n",
              "selftext_adjectives    object \n",
              "selftext_verbs         object \n",
              "selftext_nav           object \n",
              "no_tokens              float64\n",
              "dtype: object"
            ]
          },
          "metadata": {},
          "execution_count": 27
        }
      ]
    },
    {
      "cell_type": "code",
      "source": [
        "# size info, including memory consumption\n",
        "train_data.info(memory_usage='deep')"
      ],
      "metadata": {
        "colab": {
          "base_uri": "https://localhost:8080/"
        },
        "id": "_Ky4Q0RfKhY7",
        "outputId": "e8808889-ef35-4438-dc0f-4d231d648884"
      },
      "execution_count": null,
      "outputs": [
        {
          "output_type": "stream",
          "name": "stdout",
          "text": [
            "<class 'pandas.core.frame.DataFrame'>\n",
            "RangeIndex: 7613 entries, 0 to 7612\n",
            "Data columns (total 13 columns):\n",
            " #   Column               Non-Null Count  Dtype  \n",
            "---  ------               --------------  -----  \n",
            " 0   keyword              7552 non-null   object \n",
            " 1   text                 7613 non-null   object \n",
            " 2   target               7613 non-null   int64  \n",
            " 3   word_count           7613 non-null   int64  \n",
            " 4   char_count           7613 non-null   int64  \n",
            " 5   unique_word_count    7613 non-null   int64  \n",
            " 6   selftext_clean       7613 non-null   object \n",
            " 7   selftext_lemma       7610 non-null   object \n",
            " 8   selftext_nouns       7610 non-null   object \n",
            " 9   selftext_adjectives  7610 non-null   object \n",
            " 10  selftext_verbs       7610 non-null   object \n",
            " 11  selftext_nav         7610 non-null   object \n",
            " 12  no_tokens            7610 non-null   float64\n",
            "dtypes: float64(1), int64(4), object(8)\n",
            "memory usage: 6.4 MB\n"
          ]
        }
      ]
    },
    {
      "cell_type": "code",
      "source": [
        "columns = [col for col in train_data.columns if not col.startswith('self')]\n",
        "columns"
      ],
      "metadata": {
        "colab": {
          "base_uri": "https://localhost:8080/"
        },
        "id": "epLcIqAhKoUL",
        "outputId": "0cea2f9d-ee99-44b7-f7e9-ba44d7c4cc89"
      },
      "execution_count": null,
      "outputs": [
        {
          "output_type": "execute_result",
          "data": {
            "text/plain": [
              "['keyword',\n",
              " 'text',\n",
              " 'target',\n",
              " 'word_count',\n",
              " 'char_count',\n",
              " 'unique_word_count',\n",
              " 'no_tokens']"
            ]
          },
          "metadata": {},
          "execution_count": 66
        }
      ]
    },
    {
      "cell_type": "code",
      "source": [
        "# describe categorical columns of type np.object \n",
        "train_data[['keyword', 'text']] \\\n",
        "  .describe(include=np.object) \\\n",
        "  .transpose()"
      ],
      "metadata": {
        "colab": {
          "base_uri": "https://localhost:8080/",
          "height": 112
        },
        "id": "szRRKawLKypL",
        "outputId": "ba7b20a7-8575-4be4-b679-58bd9eec171b"
      },
      "execution_count": null,
      "outputs": [
        {
          "output_type": "execute_result",
          "data": {
            "text/plain": [
              "        count unique  \\\n",
              "keyword  7552  221     \n",
              "text     7613  7503    \n",
              "\n",
              "                                                                                                                                              top  \\\n",
              "keyword  fatalities                                                                                                                                 \n",
              "text     11-Year-Old Boy Charged With Manslaughter of Toddler: Report: An 11-year-old boy has been charged with manslaughter over the fatal sh...   \n",
              "\n",
              "        freq  \n",
              "keyword  45   \n",
              "text     10   "
            ],
            "text/html": [
              "\n",
              "  <div id=\"df-1aec81d1-926f-4c5a-8794-eb172b495416\">\n",
              "    <div class=\"colab-df-container\">\n",
              "      <div>\n",
              "<style scoped>\n",
              "    .dataframe tbody tr th:only-of-type {\n",
              "        vertical-align: middle;\n",
              "    }\n",
              "\n",
              "    .dataframe tbody tr th {\n",
              "        vertical-align: top;\n",
              "    }\n",
              "\n",
              "    .dataframe thead th {\n",
              "        text-align: right;\n",
              "    }\n",
              "</style>\n",
              "<table border=\"1\" class=\"dataframe\">\n",
              "  <thead>\n",
              "    <tr style=\"text-align: right;\">\n",
              "      <th></th>\n",
              "      <th>count</th>\n",
              "      <th>unique</th>\n",
              "      <th>top</th>\n",
              "      <th>freq</th>\n",
              "    </tr>\n",
              "  </thead>\n",
              "  <tbody>\n",
              "    <tr>\n",
              "      <th>keyword</th>\n",
              "      <td>7552</td>\n",
              "      <td>221</td>\n",
              "      <td>fatalities</td>\n",
              "      <td>45</td>\n",
              "    </tr>\n",
              "    <tr>\n",
              "      <th>text</th>\n",
              "      <td>7613</td>\n",
              "      <td>7503</td>\n",
              "      <td>11-Year-Old Boy Charged With Manslaughter of Toddler: Report: An 11-year-old boy has been charged with manslaughter over the fatal sh...</td>\n",
              "      <td>10</td>\n",
              "    </tr>\n",
              "  </tbody>\n",
              "</table>\n",
              "</div>\n",
              "      <button class=\"colab-df-convert\" onclick=\"convertToInteractive('df-1aec81d1-926f-4c5a-8794-eb172b495416')\"\n",
              "              title=\"Convert this dataframe to an interactive table.\"\n",
              "              style=\"display:none;\">\n",
              "        \n",
              "  <svg xmlns=\"http://www.w3.org/2000/svg\" height=\"24px\"viewBox=\"0 0 24 24\"\n",
              "       width=\"24px\">\n",
              "    <path d=\"M0 0h24v24H0V0z\" fill=\"none\"/>\n",
              "    <path d=\"M18.56 5.44l.94 2.06.94-2.06 2.06-.94-2.06-.94-.94-2.06-.94 2.06-2.06.94zm-11 1L8.5 8.5l.94-2.06 2.06-.94-2.06-.94L8.5 2.5l-.94 2.06-2.06.94zm10 10l.94 2.06.94-2.06 2.06-.94-2.06-.94-.94-2.06-.94 2.06-2.06.94z\"/><path d=\"M17.41 7.96l-1.37-1.37c-.4-.4-.92-.59-1.43-.59-.52 0-1.04.2-1.43.59L10.3 9.45l-7.72 7.72c-.78.78-.78 2.05 0 2.83L4 21.41c.39.39.9.59 1.41.59.51 0 1.02-.2 1.41-.59l7.78-7.78 2.81-2.81c.8-.78.8-2.07 0-2.86zM5.41 20L4 18.59l7.72-7.72 1.47 1.35L5.41 20z\"/>\n",
              "  </svg>\n",
              "      </button>\n",
              "      \n",
              "  <style>\n",
              "    .colab-df-container {\n",
              "      display:flex;\n",
              "      flex-wrap:wrap;\n",
              "      gap: 12px;\n",
              "    }\n",
              "\n",
              "    .colab-df-convert {\n",
              "      background-color: #E8F0FE;\n",
              "      border: none;\n",
              "      border-radius: 50%;\n",
              "      cursor: pointer;\n",
              "      display: none;\n",
              "      fill: #1967D2;\n",
              "      height: 32px;\n",
              "      padding: 0 0 0 0;\n",
              "      width: 32px;\n",
              "    }\n",
              "\n",
              "    .colab-df-convert:hover {\n",
              "      background-color: #E2EBFA;\n",
              "      box-shadow: 0px 1px 2px rgba(60, 64, 67, 0.3), 0px 1px 3px 1px rgba(60, 64, 67, 0.15);\n",
              "      fill: #174EA6;\n",
              "    }\n",
              "\n",
              "    [theme=dark] .colab-df-convert {\n",
              "      background-color: #3B4455;\n",
              "      fill: #D2E3FC;\n",
              "    }\n",
              "\n",
              "    [theme=dark] .colab-df-convert:hover {\n",
              "      background-color: #434B5C;\n",
              "      box-shadow: 0px 1px 3px 1px rgba(0, 0, 0, 0.15);\n",
              "      filter: drop-shadow(0px 1px 2px rgba(0, 0, 0, 0.3));\n",
              "      fill: #FFFFFF;\n",
              "    }\n",
              "  </style>\n",
              "\n",
              "      <script>\n",
              "        const buttonEl =\n",
              "          document.querySelector('#df-1aec81d1-926f-4c5a-8794-eb172b495416 button.colab-df-convert');\n",
              "        buttonEl.style.display =\n",
              "          google.colab.kernel.accessAllowed ? 'block' : 'none';\n",
              "\n",
              "        async function convertToInteractive(key) {\n",
              "          const element = document.querySelector('#df-1aec81d1-926f-4c5a-8794-eb172b495416');\n",
              "          const dataTable =\n",
              "            await google.colab.kernel.invokeFunction('convertToInteractive',\n",
              "                                                     [key], {});\n",
              "          if (!dataTable) return;\n",
              "\n",
              "          const docLinkHtml = 'Like what you see? Visit the ' +\n",
              "            '<a target=\"_blank\" href=https://colab.research.google.com/notebooks/data_table.ipynb>data table notebook</a>'\n",
              "            + ' to learn more about interactive tables.';\n",
              "          element.innerHTML = '';\n",
              "          dataTable['output_type'] = 'display_data';\n",
              "          await google.colab.output.renderOutput(dataTable, element);\n",
              "          const docLink = document.createElement('div');\n",
              "          docLink.innerHTML = docLinkHtml;\n",
              "          element.appendChild(docLink);\n",
              "        }\n",
              "      </script>\n",
              "    </div>\n",
              "  </div>\n",
              "  "
            ]
          },
          "metadata": {},
          "execution_count": 67
        }
      ]
    },
    {
      "cell_type": "code",
      "source": [
        "train_data['text'].value_counts()[:10]"
      ],
      "metadata": {
        "colab": {
          "base_uri": "https://localhost:8080/"
        },
        "id": "VCjq08ckK9Lb",
        "outputId": "03d30d88-8118-4e41-94e9-d482987473b5"
      },
      "execution_count": null,
      "outputs": [
        {
          "output_type": "execute_result",
          "data": {
            "text/plain": [
              "11-Year-Old Boy Charged With Manslaughter of Toddler: Report: An 11-year-old boy has been charged with manslaughter over the fatal sh...        10\n",
              "He came to a land which was engulfed in tribal war and turned it into a land of peace i.e. Madinah. #ProphetMuhammad #islam                     6 \n",
              "The Prophet (peace be upon him) said 'Save yourself from Hellfire even if it is by giving half a date in charity.'                              6 \n",
              "#Bestnaijamade: 16yr old PKK suicide bomber who detonated bomb in ... http://t.co/KSAwlYuX02 bestnaijamade bestnaijamade bestnaijamade beÛ_    6 \n",
              "Madhya Pradesh Train Derailment: Village Youth Saved Many Lives                                                                                 5 \n",
              "that horrible sinking feeling when youÛªve been at home on your phone for a while and you realise its been on 3G this whole time               4 \n",
              "To fight bioterrorism sir.                                                                                                                      4 \n",
              "VIDEO: 'We're picking up bodies from water': Rescuers are searching for hundreds of migrants in the Mediterranean after a boat carryi...        4 \n",
              ".POTUS #StrategicPatience is a strategy for #Genocide; refugees; IDP Internally displaced people; horror; etc. https://t.co/rqWuoy1fm4          4 \n",
              "Who is bringing the tornadoes and floods. Who is bringing the climate change. God is after America He is plaguing her\\n \\n#FARRAKHAN #QUOTE     3 \n",
              "Name: text, dtype: int64"
            ]
          },
          "metadata": {},
          "execution_count": 32
        }
      ]
    },
    {
      "cell_type": "code",
      "source": [
        "# describe numerical columns\n",
        "train_data.describe().transpose()"
      ],
      "metadata": {
        "colab": {
          "base_uri": "https://localhost:8080/",
          "height": 206
        },
        "id": "SeMv7-W_LQZ7",
        "outputId": "f96cbc63-aa8c-45b2-e44d-4cbbedf21e32"
      },
      "execution_count": null,
      "outputs": [
        {
          "output_type": "execute_result",
          "data": {
            "text/plain": [
              "                    count   mean   std  min   25%    50%    75%    max\n",
              "target            7613.00 0.43   0.50  0.00 0.00  0.00   1.00   1.00  \n",
              "word_count        7613.00 14.90  5.73  1.00 11.00 15.00  19.00  31.00 \n",
              "char_count        7613.00 101.04 33.78 7.00 78.00 107.00 133.00 157.00\n",
              "unique_word_count 7613.00 14.34  5.28  1.00 11.00 14.00  18.00  29.00 \n",
              "no_tokens         7610.00 15.26  6.60  1.00 10.00 15.00  20.00  41.00 "
            ],
            "text/html": [
              "\n",
              "  <div id=\"df-e3070b9d-94c8-4829-8e14-d3cb2cc48314\">\n",
              "    <div class=\"colab-df-container\">\n",
              "      <div>\n",
              "<style scoped>\n",
              "    .dataframe tbody tr th:only-of-type {\n",
              "        vertical-align: middle;\n",
              "    }\n",
              "\n",
              "    .dataframe tbody tr th {\n",
              "        vertical-align: top;\n",
              "    }\n",
              "\n",
              "    .dataframe thead th {\n",
              "        text-align: right;\n",
              "    }\n",
              "</style>\n",
              "<table border=\"1\" class=\"dataframe\">\n",
              "  <thead>\n",
              "    <tr style=\"text-align: right;\">\n",
              "      <th></th>\n",
              "      <th>count</th>\n",
              "      <th>mean</th>\n",
              "      <th>std</th>\n",
              "      <th>min</th>\n",
              "      <th>25%</th>\n",
              "      <th>50%</th>\n",
              "      <th>75%</th>\n",
              "      <th>max</th>\n",
              "    </tr>\n",
              "  </thead>\n",
              "  <tbody>\n",
              "    <tr>\n",
              "      <th>target</th>\n",
              "      <td>7613.00</td>\n",
              "      <td>0.43</td>\n",
              "      <td>0.50</td>\n",
              "      <td>0.00</td>\n",
              "      <td>0.00</td>\n",
              "      <td>0.00</td>\n",
              "      <td>1.00</td>\n",
              "      <td>1.00</td>\n",
              "    </tr>\n",
              "    <tr>\n",
              "      <th>word_count</th>\n",
              "      <td>7613.00</td>\n",
              "      <td>14.90</td>\n",
              "      <td>5.73</td>\n",
              "      <td>1.00</td>\n",
              "      <td>11.00</td>\n",
              "      <td>15.00</td>\n",
              "      <td>19.00</td>\n",
              "      <td>31.00</td>\n",
              "    </tr>\n",
              "    <tr>\n",
              "      <th>char_count</th>\n",
              "      <td>7613.00</td>\n",
              "      <td>101.04</td>\n",
              "      <td>33.78</td>\n",
              "      <td>7.00</td>\n",
              "      <td>78.00</td>\n",
              "      <td>107.00</td>\n",
              "      <td>133.00</td>\n",
              "      <td>157.00</td>\n",
              "    </tr>\n",
              "    <tr>\n",
              "      <th>unique_word_count</th>\n",
              "      <td>7613.00</td>\n",
              "      <td>14.34</td>\n",
              "      <td>5.28</td>\n",
              "      <td>1.00</td>\n",
              "      <td>11.00</td>\n",
              "      <td>14.00</td>\n",
              "      <td>18.00</td>\n",
              "      <td>29.00</td>\n",
              "    </tr>\n",
              "    <tr>\n",
              "      <th>no_tokens</th>\n",
              "      <td>7610.00</td>\n",
              "      <td>15.26</td>\n",
              "      <td>6.60</td>\n",
              "      <td>1.00</td>\n",
              "      <td>10.00</td>\n",
              "      <td>15.00</td>\n",
              "      <td>20.00</td>\n",
              "      <td>41.00</td>\n",
              "    </tr>\n",
              "  </tbody>\n",
              "</table>\n",
              "</div>\n",
              "      <button class=\"colab-df-convert\" onclick=\"convertToInteractive('df-e3070b9d-94c8-4829-8e14-d3cb2cc48314')\"\n",
              "              title=\"Convert this dataframe to an interactive table.\"\n",
              "              style=\"display:none;\">\n",
              "        \n",
              "  <svg xmlns=\"http://www.w3.org/2000/svg\" height=\"24px\"viewBox=\"0 0 24 24\"\n",
              "       width=\"24px\">\n",
              "    <path d=\"M0 0h24v24H0V0z\" fill=\"none\"/>\n",
              "    <path d=\"M18.56 5.44l.94 2.06.94-2.06 2.06-.94-2.06-.94-.94-2.06-.94 2.06-2.06.94zm-11 1L8.5 8.5l.94-2.06 2.06-.94-2.06-.94L8.5 2.5l-.94 2.06-2.06.94zm10 10l.94 2.06.94-2.06 2.06-.94-2.06-.94-.94-2.06-.94 2.06-2.06.94z\"/><path d=\"M17.41 7.96l-1.37-1.37c-.4-.4-.92-.59-1.43-.59-.52 0-1.04.2-1.43.59L10.3 9.45l-7.72 7.72c-.78.78-.78 2.05 0 2.83L4 21.41c.39.39.9.59 1.41.59.51 0 1.02-.2 1.41-.59l7.78-7.78 2.81-2.81c.8-.78.8-2.07 0-2.86zM5.41 20L4 18.59l7.72-7.72 1.47 1.35L5.41 20z\"/>\n",
              "  </svg>\n",
              "      </button>\n",
              "      \n",
              "  <style>\n",
              "    .colab-df-container {\n",
              "      display:flex;\n",
              "      flex-wrap:wrap;\n",
              "      gap: 12px;\n",
              "    }\n",
              "\n",
              "    .colab-df-convert {\n",
              "      background-color: #E8F0FE;\n",
              "      border: none;\n",
              "      border-radius: 50%;\n",
              "      cursor: pointer;\n",
              "      display: none;\n",
              "      fill: #1967D2;\n",
              "      height: 32px;\n",
              "      padding: 0 0 0 0;\n",
              "      width: 32px;\n",
              "    }\n",
              "\n",
              "    .colab-df-convert:hover {\n",
              "      background-color: #E2EBFA;\n",
              "      box-shadow: 0px 1px 2px rgba(60, 64, 67, 0.3), 0px 1px 3px 1px rgba(60, 64, 67, 0.15);\n",
              "      fill: #174EA6;\n",
              "    }\n",
              "\n",
              "    [theme=dark] .colab-df-convert {\n",
              "      background-color: #3B4455;\n",
              "      fill: #D2E3FC;\n",
              "    }\n",
              "\n",
              "    [theme=dark] .colab-df-convert:hover {\n",
              "      background-color: #434B5C;\n",
              "      box-shadow: 0px 1px 3px 1px rgba(0, 0, 0, 0.15);\n",
              "      filter: drop-shadow(0px 1px 2px rgba(0, 0, 0, 0.3));\n",
              "      fill: #FFFFFF;\n",
              "    }\n",
              "  </style>\n",
              "\n",
              "      <script>\n",
              "        const buttonEl =\n",
              "          document.querySelector('#df-e3070b9d-94c8-4829-8e14-d3cb2cc48314 button.colab-df-convert');\n",
              "        buttonEl.style.display =\n",
              "          google.colab.kernel.accessAllowed ? 'block' : 'none';\n",
              "\n",
              "        async function convertToInteractive(key) {\n",
              "          const element = document.querySelector('#df-e3070b9d-94c8-4829-8e14-d3cb2cc48314');\n",
              "          const dataTable =\n",
              "            await google.colab.kernel.invokeFunction('convertToInteractive',\n",
              "                                                     [key], {});\n",
              "          if (!dataTable) return;\n",
              "\n",
              "          const docLinkHtml = 'Like what you see? Visit the ' +\n",
              "            '<a target=\"_blank\" href=https://colab.research.google.com/notebooks/data_table.ipynb>data table notebook</a>'\n",
              "            + ' to learn more about interactive tables.';\n",
              "          element.innerHTML = '';\n",
              "          dataTable['output_type'] = 'display_data';\n",
              "          await google.colab.output.renderOutput(dataTable, element);\n",
              "          const docLink = document.createElement('div');\n",
              "          docLink.innerHTML = docLinkHtml;\n",
              "          element.appendChild(docLink);\n",
              "        }\n",
              "      </script>\n",
              "    </div>\n",
              "  </div>\n",
              "  "
            ]
          },
          "metadata": {},
          "execution_count": 33
        }
      ]
    },
    {
      "cell_type": "code",
      "source": [
        "# number of unique values = count distinct\n",
        "train_data['keyword'].nunique()"
      ],
      "metadata": {
        "colab": {
          "base_uri": "https://localhost:8080/"
        },
        "id": "caZ4PPLELVvL",
        "outputId": "4d39a66e-8125-4d48-d659-d34af6ef777c"
      },
      "execution_count": null,
      "outputs": [
        {
          "output_type": "execute_result",
          "data": {
            "text/plain": [
              "221"
            ]
          },
          "metadata": {},
          "execution_count": 34
        }
      ]
    },
    {
      "cell_type": "code",
      "source": [
        "# number of unique values = count distinct\n",
        "train_data['text'].nunique()"
      ],
      "metadata": {
        "colab": {
          "base_uri": "https://localhost:8080/"
        },
        "id": "QtQSZ_7BLbob",
        "outputId": "6661099f-9561-41dc-d6b9-563ad9fa00a7"
      },
      "execution_count": null,
      "outputs": [
        {
          "output_type": "execute_result",
          "data": {
            "text/plain": [
              "7503"
            ]
          },
          "metadata": {},
          "execution_count": 36
        }
      ]
    },
    {
      "cell_type": "markdown",
      "source": [
        "## Exploring Text Categories"
      ],
      "metadata": {
        "id": "-Ove0Q9nM-EE"
      }
    },
    {
      "cell_type": "code",
      "source": [
        "# group by location, count distinct keyword and tweets\n",
        "cat_train = train_data.groupby('keyword') \\\n",
        "           .agg({'keyword': pd.Series.nunique,\n",
        "                 'text': pd.Series.count}) \\\n",
        "           .rename(columns={'keyword': 'num_keyword',\n",
        "                            'text': 'num_tweets'}) \\\n",
        "           .sort_values('num_keyword', ascending=False)\n",
        "            \n",
        "# show top 5 records\n",
        "cat_train.head(5)"
      ],
      "metadata": {
        "colab": {
          "base_uri": "https://localhost:8080/",
          "height": 238
        },
        "id": "BJq2gy73LhxT",
        "outputId": "79637004-314c-4d44-fac7-2a5afca544ff"
      },
      "execution_count": null,
      "outputs": [
        {
          "output_type": "execute_result",
          "data": {
            "text/plain": [
              "             num_keyword  num_tweets\n",
              "keyword                             \n",
              "ablaze       1            36        \n",
              "oil%20spill  1            38        \n",
              "massacre     1            36        \n",
              "mayhem       1            30        \n",
              "meltdown     1            33        "
            ],
            "text/html": [
              "\n",
              "  <div id=\"df-2945a3ba-1af5-4238-bddf-b1e237157950\">\n",
              "    <div class=\"colab-df-container\">\n",
              "      <div>\n",
              "<style scoped>\n",
              "    .dataframe tbody tr th:only-of-type {\n",
              "        vertical-align: middle;\n",
              "    }\n",
              "\n",
              "    .dataframe tbody tr th {\n",
              "        vertical-align: top;\n",
              "    }\n",
              "\n",
              "    .dataframe thead th {\n",
              "        text-align: right;\n",
              "    }\n",
              "</style>\n",
              "<table border=\"1\" class=\"dataframe\">\n",
              "  <thead>\n",
              "    <tr style=\"text-align: right;\">\n",
              "      <th></th>\n",
              "      <th>num_keyword</th>\n",
              "      <th>num_tweets</th>\n",
              "    </tr>\n",
              "    <tr>\n",
              "      <th>keyword</th>\n",
              "      <th></th>\n",
              "      <th></th>\n",
              "    </tr>\n",
              "  </thead>\n",
              "  <tbody>\n",
              "    <tr>\n",
              "      <th>ablaze</th>\n",
              "      <td>1</td>\n",
              "      <td>36</td>\n",
              "    </tr>\n",
              "    <tr>\n",
              "      <th>oil%20spill</th>\n",
              "      <td>1</td>\n",
              "      <td>38</td>\n",
              "    </tr>\n",
              "    <tr>\n",
              "      <th>massacre</th>\n",
              "      <td>1</td>\n",
              "      <td>36</td>\n",
              "    </tr>\n",
              "    <tr>\n",
              "      <th>mayhem</th>\n",
              "      <td>1</td>\n",
              "      <td>30</td>\n",
              "    </tr>\n",
              "    <tr>\n",
              "      <th>meltdown</th>\n",
              "      <td>1</td>\n",
              "      <td>33</td>\n",
              "    </tr>\n",
              "  </tbody>\n",
              "</table>\n",
              "</div>\n",
              "      <button class=\"colab-df-convert\" onclick=\"convertToInteractive('df-2945a3ba-1af5-4238-bddf-b1e237157950')\"\n",
              "              title=\"Convert this dataframe to an interactive table.\"\n",
              "              style=\"display:none;\">\n",
              "        \n",
              "  <svg xmlns=\"http://www.w3.org/2000/svg\" height=\"24px\"viewBox=\"0 0 24 24\"\n",
              "       width=\"24px\">\n",
              "    <path d=\"M0 0h24v24H0V0z\" fill=\"none\"/>\n",
              "    <path d=\"M18.56 5.44l.94 2.06.94-2.06 2.06-.94-2.06-.94-.94-2.06-.94 2.06-2.06.94zm-11 1L8.5 8.5l.94-2.06 2.06-.94-2.06-.94L8.5 2.5l-.94 2.06-2.06.94zm10 10l.94 2.06.94-2.06 2.06-.94-2.06-.94-.94-2.06-.94 2.06-2.06.94z\"/><path d=\"M17.41 7.96l-1.37-1.37c-.4-.4-.92-.59-1.43-.59-.52 0-1.04.2-1.43.59L10.3 9.45l-7.72 7.72c-.78.78-.78 2.05 0 2.83L4 21.41c.39.39.9.59 1.41.59.51 0 1.02-.2 1.41-.59l7.78-7.78 2.81-2.81c.8-.78.8-2.07 0-2.86zM5.41 20L4 18.59l7.72-7.72 1.47 1.35L5.41 20z\"/>\n",
              "  </svg>\n",
              "      </button>\n",
              "      \n",
              "  <style>\n",
              "    .colab-df-container {\n",
              "      display:flex;\n",
              "      flex-wrap:wrap;\n",
              "      gap: 12px;\n",
              "    }\n",
              "\n",
              "    .colab-df-convert {\n",
              "      background-color: #E8F0FE;\n",
              "      border: none;\n",
              "      border-radius: 50%;\n",
              "      cursor: pointer;\n",
              "      display: none;\n",
              "      fill: #1967D2;\n",
              "      height: 32px;\n",
              "      padding: 0 0 0 0;\n",
              "      width: 32px;\n",
              "    }\n",
              "\n",
              "    .colab-df-convert:hover {\n",
              "      background-color: #E2EBFA;\n",
              "      box-shadow: 0px 1px 2px rgba(60, 64, 67, 0.3), 0px 1px 3px 1px rgba(60, 64, 67, 0.15);\n",
              "      fill: #174EA6;\n",
              "    }\n",
              "\n",
              "    [theme=dark] .colab-df-convert {\n",
              "      background-color: #3B4455;\n",
              "      fill: #D2E3FC;\n",
              "    }\n",
              "\n",
              "    [theme=dark] .colab-df-convert:hover {\n",
              "      background-color: #434B5C;\n",
              "      box-shadow: 0px 1px 3px 1px rgba(0, 0, 0, 0.15);\n",
              "      filter: drop-shadow(0px 1px 2px rgba(0, 0, 0, 0.3));\n",
              "      fill: #FFFFFF;\n",
              "    }\n",
              "  </style>\n",
              "\n",
              "      <script>\n",
              "        const buttonEl =\n",
              "          document.querySelector('#df-2945a3ba-1af5-4238-bddf-b1e237157950 button.colab-df-convert');\n",
              "        buttonEl.style.display =\n",
              "          google.colab.kernel.accessAllowed ? 'block' : 'none';\n",
              "\n",
              "        async function convertToInteractive(key) {\n",
              "          const element = document.querySelector('#df-2945a3ba-1af5-4238-bddf-b1e237157950');\n",
              "          const dataTable =\n",
              "            await google.colab.kernel.invokeFunction('convertToInteractive',\n",
              "                                                     [key], {});\n",
              "          if (!dataTable) return;\n",
              "\n",
              "          const docLinkHtml = 'Like what you see? Visit the ' +\n",
              "            '<a target=\"_blank\" href=https://colab.research.google.com/notebooks/data_table.ipynb>data table notebook</a>'\n",
              "            + ' to learn more about interactive tables.';\n",
              "          element.innerHTML = '';\n",
              "          dataTable['output_type'] = 'display_data';\n",
              "          await google.colab.output.renderOutput(dataTable, element);\n",
              "          const docLink = document.createElement('div');\n",
              "          docLink.innerHTML = docLinkHtml;\n",
              "          element.appendChild(docLink);\n",
              "        }\n",
              "      </script>\n",
              "    </div>\n",
              "  </div>\n",
              "  "
            ]
          },
          "metadata": {},
          "execution_count": 68
        }
      ]
    },
    {
      "cell_type": "code",
      "source": [
        "cat_train.describe()"
      ],
      "metadata": {
        "colab": {
          "base_uri": "https://localhost:8080/",
          "height": 300
        },
        "id": "sqjkZCDhMAdT",
        "outputId": "5d38fae9-9d05-4230-fdff-342c45bcdb33"
      },
      "execution_count": null,
      "outputs": [
        {
          "output_type": "execute_result",
          "data": {
            "text/plain": [
              "       num_keyword  num_tweets\n",
              "count 221.00       221.00     \n",
              "mean  1.00         34.17      \n",
              "std   0.00         4.79       \n",
              "min   1.00         9.00       \n",
              "25%   1.00         33.00      \n",
              "50%   1.00         35.00      \n",
              "75%   1.00         37.00      \n",
              "max   1.00         45.00      "
            ],
            "text/html": [
              "\n",
              "  <div id=\"df-1c76632e-c17c-4c60-b797-1da150f48f41\">\n",
              "    <div class=\"colab-df-container\">\n",
              "      <div>\n",
              "<style scoped>\n",
              "    .dataframe tbody tr th:only-of-type {\n",
              "        vertical-align: middle;\n",
              "    }\n",
              "\n",
              "    .dataframe tbody tr th {\n",
              "        vertical-align: top;\n",
              "    }\n",
              "\n",
              "    .dataframe thead th {\n",
              "        text-align: right;\n",
              "    }\n",
              "</style>\n",
              "<table border=\"1\" class=\"dataframe\">\n",
              "  <thead>\n",
              "    <tr style=\"text-align: right;\">\n",
              "      <th></th>\n",
              "      <th>num_keyword</th>\n",
              "      <th>num_tweets</th>\n",
              "    </tr>\n",
              "  </thead>\n",
              "  <tbody>\n",
              "    <tr>\n",
              "      <th>count</th>\n",
              "      <td>221.00</td>\n",
              "      <td>221.00</td>\n",
              "    </tr>\n",
              "    <tr>\n",
              "      <th>mean</th>\n",
              "      <td>1.00</td>\n",
              "      <td>34.17</td>\n",
              "    </tr>\n",
              "    <tr>\n",
              "      <th>std</th>\n",
              "      <td>0.00</td>\n",
              "      <td>4.79</td>\n",
              "    </tr>\n",
              "    <tr>\n",
              "      <th>min</th>\n",
              "      <td>1.00</td>\n",
              "      <td>9.00</td>\n",
              "    </tr>\n",
              "    <tr>\n",
              "      <th>25%</th>\n",
              "      <td>1.00</td>\n",
              "      <td>33.00</td>\n",
              "    </tr>\n",
              "    <tr>\n",
              "      <th>50%</th>\n",
              "      <td>1.00</td>\n",
              "      <td>35.00</td>\n",
              "    </tr>\n",
              "    <tr>\n",
              "      <th>75%</th>\n",
              "      <td>1.00</td>\n",
              "      <td>37.00</td>\n",
              "    </tr>\n",
              "    <tr>\n",
              "      <th>max</th>\n",
              "      <td>1.00</td>\n",
              "      <td>45.00</td>\n",
              "    </tr>\n",
              "  </tbody>\n",
              "</table>\n",
              "</div>\n",
              "      <button class=\"colab-df-convert\" onclick=\"convertToInteractive('df-1c76632e-c17c-4c60-b797-1da150f48f41')\"\n",
              "              title=\"Convert this dataframe to an interactive table.\"\n",
              "              style=\"display:none;\">\n",
              "        \n",
              "  <svg xmlns=\"http://www.w3.org/2000/svg\" height=\"24px\"viewBox=\"0 0 24 24\"\n",
              "       width=\"24px\">\n",
              "    <path d=\"M0 0h24v24H0V0z\" fill=\"none\"/>\n",
              "    <path d=\"M18.56 5.44l.94 2.06.94-2.06 2.06-.94-2.06-.94-.94-2.06-.94 2.06-2.06.94zm-11 1L8.5 8.5l.94-2.06 2.06-.94-2.06-.94L8.5 2.5l-.94 2.06-2.06.94zm10 10l.94 2.06.94-2.06 2.06-.94-2.06-.94-.94-2.06-.94 2.06-2.06.94z\"/><path d=\"M17.41 7.96l-1.37-1.37c-.4-.4-.92-.59-1.43-.59-.52 0-1.04.2-1.43.59L10.3 9.45l-7.72 7.72c-.78.78-.78 2.05 0 2.83L4 21.41c.39.39.9.59 1.41.59.51 0 1.02-.2 1.41-.59l7.78-7.78 2.81-2.81c.8-.78.8-2.07 0-2.86zM5.41 20L4 18.59l7.72-7.72 1.47 1.35L5.41 20z\"/>\n",
              "  </svg>\n",
              "      </button>\n",
              "      \n",
              "  <style>\n",
              "    .colab-df-container {\n",
              "      display:flex;\n",
              "      flex-wrap:wrap;\n",
              "      gap: 12px;\n",
              "    }\n",
              "\n",
              "    .colab-df-convert {\n",
              "      background-color: #E8F0FE;\n",
              "      border: none;\n",
              "      border-radius: 50%;\n",
              "      cursor: pointer;\n",
              "      display: none;\n",
              "      fill: #1967D2;\n",
              "      height: 32px;\n",
              "      padding: 0 0 0 0;\n",
              "      width: 32px;\n",
              "    }\n",
              "\n",
              "    .colab-df-convert:hover {\n",
              "      background-color: #E2EBFA;\n",
              "      box-shadow: 0px 1px 2px rgba(60, 64, 67, 0.3), 0px 1px 3px 1px rgba(60, 64, 67, 0.15);\n",
              "      fill: #174EA6;\n",
              "    }\n",
              "\n",
              "    [theme=dark] .colab-df-convert {\n",
              "      background-color: #3B4455;\n",
              "      fill: #D2E3FC;\n",
              "    }\n",
              "\n",
              "    [theme=dark] .colab-df-convert:hover {\n",
              "      background-color: #434B5C;\n",
              "      box-shadow: 0px 1px 3px 1px rgba(0, 0, 0, 0.15);\n",
              "      filter: drop-shadow(0px 1px 2px rgba(0, 0, 0, 0.3));\n",
              "      fill: #FFFFFF;\n",
              "    }\n",
              "  </style>\n",
              "\n",
              "      <script>\n",
              "        const buttonEl =\n",
              "          document.querySelector('#df-1c76632e-c17c-4c60-b797-1da150f48f41 button.colab-df-convert');\n",
              "        buttonEl.style.display =\n",
              "          google.colab.kernel.accessAllowed ? 'block' : 'none';\n",
              "\n",
              "        async function convertToInteractive(key) {\n",
              "          const element = document.querySelector('#df-1c76632e-c17c-4c60-b797-1da150f48f41');\n",
              "          const dataTable =\n",
              "            await google.colab.kernel.invokeFunction('convertToInteractive',\n",
              "                                                     [key], {});\n",
              "          if (!dataTable) return;\n",
              "\n",
              "          const docLinkHtml = 'Like what you see? Visit the ' +\n",
              "            '<a target=\"_blank\" href=https://colab.research.google.com/notebooks/data_table.ipynb>data table notebook</a>'\n",
              "            + ' to learn more about interactive tables.';\n",
              "          element.innerHTML = '';\n",
              "          dataTable['output_type'] = 'display_data';\n",
              "          await google.colab.output.renderOutput(dataTable, element);\n",
              "          const docLink = document.createElement('div');\n",
              "          docLink.innerHTML = docLinkHtml;\n",
              "          element.appendChild(docLink);\n",
              "        }\n",
              "      </script>\n",
              "    </div>\n",
              "  </div>\n",
              "  "
            ]
          },
          "metadata": {},
          "execution_count": 41
        }
      ]
    },
    {
      "cell_type": "markdown",
      "source": [
        "### Visualizing Frequency Distributions"
      ],
      "metadata": {
        "id": "mWnO5hUEM6e8"
      }
    },
    {
      "cell_type": "code",
      "source": [
        "# horizontal boxplot of a dataframe column\n",
        "cat_train[['num_tweets']].plot(kind='box', vert=False, figsize=(6, 2));"
      ],
      "metadata": {
        "colab": {
          "base_uri": "https://localhost:8080/",
          "height": 212
        },
        "id": "oyVHipKHMEf0",
        "outputId": "4aeb290e-b790-4b76-d3ad-f9f96abdb91f"
      },
      "execution_count": null,
      "outputs": [
        {
          "output_type": "display_data",
          "data": {
            "text/plain": [
              "<Figure size 600x200 with 1 Axes>"
            ],
            "image/svg+xml": "<?xml version=\"1.0\" encoding=\"utf-8\" standalone=\"no\"?>\n<!DOCTYPE svg PUBLIC \"-//W3C//DTD SVG 1.1//EN\"\n  \"http://www.w3.org/Graphics/SVG/1.1/DTD/svg11.dtd\">\n<!-- Created with matplotlib (https://matplotlib.org/) -->\n<svg height=\"143.265938pt\" version=\"1.1\" viewBox=\"0 0 425.745 143.265938\" width=\"425.745pt\" xmlns=\"http://www.w3.org/2000/svg\" xmlns:xlink=\"http://www.w3.org/1999/xlink\">\n <defs>\n  <style type=\"text/css\">\n*{stroke-linecap:butt;stroke-linejoin:round;}\n  </style>\n </defs>\n <g id=\"figure_1\">\n  <g id=\"patch_1\">\n   <path d=\"M 0 143.265938 \nL 425.745 143.265938 \nL 425.745 0 \nL 0 0 \nz\n\" style=\"fill:#ffffff;\"/>\n  </g>\n  <g id=\"axes_1\">\n   <g id=\"patch_2\">\n    <path d=\"M 83.745 115.92 \nL 418.545 115.92 \nL 418.545 7.2 \nL 83.745 7.2 \nz\n\" style=\"fill:#ffffff;\"/>\n   </g>\n   <g id=\"matplotlib.axis_1\">\n    <g id=\"xtick_1\">\n     <g id=\"line2d_1\">\n      <path clip-path=\"url(#p06923b0fad)\" d=\"M 107.417727 115.92 \nL 107.417727 7.2 \n\" style=\"fill:none;stroke:#cccccc;stroke-linecap:round;\"/>\n     </g>\n     <g id=\"text_1\">\n      <!-- 10 -->\n      <defs>\n       <path d=\"M 12.40625 8.296875 \nL 28.515625 8.296875 \nL 28.515625 63.921875 \nL 10.984375 60.40625 \nL 10.984375 69.390625 \nL 28.421875 72.90625 \nL 38.28125 72.90625 \nL 38.28125 8.296875 \nL 54.390625 8.296875 \nL 54.390625 0 \nL 12.40625 0 \nz\n\" id=\"DejaVuSans-49\"/>\n       <path d=\"M 31.78125 66.40625 \nQ 24.171875 66.40625 20.328125 58.90625 \nQ 16.5 51.421875 16.5 36.375 \nQ 16.5 21.390625 20.328125 13.890625 \nQ 24.171875 6.390625 31.78125 6.390625 \nQ 39.453125 6.390625 43.28125 13.890625 \nQ 47.125 21.390625 47.125 36.375 \nQ 47.125 51.421875 43.28125 58.90625 \nQ 39.453125 66.40625 31.78125 66.40625 \nz\nM 31.78125 74.21875 \nQ 44.046875 74.21875 50.515625 64.515625 \nQ 56.984375 54.828125 56.984375 36.375 \nQ 56.984375 17.96875 50.515625 8.265625 \nQ 44.046875 -1.421875 31.78125 -1.421875 \nQ 19.53125 -1.421875 13.0625 8.265625 \nQ 6.59375 17.96875 6.59375 36.375 \nQ 6.59375 54.828125 13.0625 64.515625 \nQ 19.53125 74.21875 31.78125 74.21875 \nz\n\" id=\"DejaVuSans-48\"/>\n      </defs>\n      <g style=\"fill:#262626;\" transform=\"translate(100.418977 133.778281)scale(0.11 -0.11)\">\n       <use xlink:href=\"#DejaVuSans-49\"/>\n       <use x=\"63.623047\" xlink:href=\"#DejaVuSans-48\"/>\n      </g>\n     </g>\n    </g>\n    <g id=\"xtick_2\">\n     <g id=\"line2d_2\">\n      <path clip-path=\"url(#p06923b0fad)\" d=\"M 149.690455 115.92 \nL 149.690455 7.2 \n\" style=\"fill:none;stroke:#cccccc;stroke-linecap:round;\"/>\n     </g>\n     <g id=\"text_2\">\n      <!-- 15 -->\n      <defs>\n       <path d=\"M 10.796875 72.90625 \nL 49.515625 72.90625 \nL 49.515625 64.59375 \nL 19.828125 64.59375 \nL 19.828125 46.734375 \nQ 21.96875 47.46875 24.109375 47.828125 \nQ 26.265625 48.1875 28.421875 48.1875 \nQ 40.625 48.1875 47.75 41.5 \nQ 54.890625 34.8125 54.890625 23.390625 \nQ 54.890625 11.625 47.5625 5.09375 \nQ 40.234375 -1.421875 26.90625 -1.421875 \nQ 22.3125 -1.421875 17.546875 -0.640625 \nQ 12.796875 0.140625 7.71875 1.703125 \nL 7.71875 11.625 \nQ 12.109375 9.234375 16.796875 8.0625 \nQ 21.484375 6.890625 26.703125 6.890625 \nQ 35.15625 6.890625 40.078125 11.328125 \nQ 45.015625 15.765625 45.015625 23.390625 \nQ 45.015625 31 40.078125 35.4375 \nQ 35.15625 39.890625 26.703125 39.890625 \nQ 22.75 39.890625 18.8125 39.015625 \nQ 14.890625 38.140625 10.796875 36.28125 \nz\n\" id=\"DejaVuSans-53\"/>\n      </defs>\n      <g style=\"fill:#262626;\" transform=\"translate(142.691705 133.778281)scale(0.11 -0.11)\">\n       <use xlink:href=\"#DejaVuSans-49\"/>\n       <use x=\"63.623047\" xlink:href=\"#DejaVuSans-53\"/>\n      </g>\n     </g>\n    </g>\n    <g id=\"xtick_3\">\n     <g id=\"line2d_3\">\n      <path clip-path=\"url(#p06923b0fad)\" d=\"M 191.963182 115.92 \nL 191.963182 7.2 \n\" style=\"fill:none;stroke:#cccccc;stroke-linecap:round;\"/>\n     </g>\n     <g id=\"text_3\">\n      <!-- 20 -->\n      <defs>\n       <path d=\"M 19.1875 8.296875 \nL 53.609375 8.296875 \nL 53.609375 0 \nL 7.328125 0 \nL 7.328125 8.296875 \nQ 12.9375 14.109375 22.625 23.890625 \nQ 32.328125 33.6875 34.8125 36.53125 \nQ 39.546875 41.84375 41.421875 45.53125 \nQ 43.3125 49.21875 43.3125 52.78125 \nQ 43.3125 58.59375 39.234375 62.25 \nQ 35.15625 65.921875 28.609375 65.921875 \nQ 23.96875 65.921875 18.8125 64.3125 \nQ 13.671875 62.703125 7.8125 59.421875 \nL 7.8125 69.390625 \nQ 13.765625 71.78125 18.9375 73 \nQ 24.125 74.21875 28.421875 74.21875 \nQ 39.75 74.21875 46.484375 68.546875 \nQ 53.21875 62.890625 53.21875 53.421875 \nQ 53.21875 48.921875 51.53125 44.890625 \nQ 49.859375 40.875 45.40625 35.40625 \nQ 44.1875 33.984375 37.640625 27.21875 \nQ 31.109375 20.453125 19.1875 8.296875 \nz\n\" id=\"DejaVuSans-50\"/>\n      </defs>\n      <g style=\"fill:#262626;\" transform=\"translate(184.964432 133.778281)scale(0.11 -0.11)\">\n       <use xlink:href=\"#DejaVuSans-50\"/>\n       <use x=\"63.623047\" xlink:href=\"#DejaVuSans-48\"/>\n      </g>\n     </g>\n    </g>\n    <g id=\"xtick_4\">\n     <g id=\"line2d_4\">\n      <path clip-path=\"url(#p06923b0fad)\" d=\"M 234.235909 115.92 \nL 234.235909 7.2 \n\" style=\"fill:none;stroke:#cccccc;stroke-linecap:round;\"/>\n     </g>\n     <g id=\"text_4\">\n      <!-- 25 -->\n      <g style=\"fill:#262626;\" transform=\"translate(227.237159 133.778281)scale(0.11 -0.11)\">\n       <use xlink:href=\"#DejaVuSans-50\"/>\n       <use x=\"63.623047\" xlink:href=\"#DejaVuSans-53\"/>\n      </g>\n     </g>\n    </g>\n    <g id=\"xtick_5\">\n     <g id=\"line2d_5\">\n      <path clip-path=\"url(#p06923b0fad)\" d=\"M 276.508636 115.92 \nL 276.508636 7.2 \n\" style=\"fill:none;stroke:#cccccc;stroke-linecap:round;\"/>\n     </g>\n     <g id=\"text_5\">\n      <!-- 30 -->\n      <defs>\n       <path d=\"M 40.578125 39.3125 \nQ 47.65625 37.796875 51.625 33 \nQ 55.609375 28.21875 55.609375 21.1875 \nQ 55.609375 10.40625 48.1875 4.484375 \nQ 40.765625 -1.421875 27.09375 -1.421875 \nQ 22.515625 -1.421875 17.65625 -0.515625 \nQ 12.796875 0.390625 7.625 2.203125 \nL 7.625 11.71875 \nQ 11.71875 9.328125 16.59375 8.109375 \nQ 21.484375 6.890625 26.8125 6.890625 \nQ 36.078125 6.890625 40.9375 10.546875 \nQ 45.796875 14.203125 45.796875 21.1875 \nQ 45.796875 27.640625 41.28125 31.265625 \nQ 36.765625 34.90625 28.71875 34.90625 \nL 20.21875 34.90625 \nL 20.21875 43.015625 \nL 29.109375 43.015625 \nQ 36.375 43.015625 40.234375 45.921875 \nQ 44.09375 48.828125 44.09375 54.296875 \nQ 44.09375 59.90625 40.109375 62.90625 \nQ 36.140625 65.921875 28.71875 65.921875 \nQ 24.65625 65.921875 20.015625 65.03125 \nQ 15.375 64.15625 9.8125 62.3125 \nL 9.8125 71.09375 \nQ 15.4375 72.65625 20.34375 73.4375 \nQ 25.25 74.21875 29.59375 74.21875 \nQ 40.828125 74.21875 47.359375 69.109375 \nQ 53.90625 64.015625 53.90625 55.328125 \nQ 53.90625 49.265625 50.4375 45.09375 \nQ 46.96875 40.921875 40.578125 39.3125 \nz\n\" id=\"DejaVuSans-51\"/>\n      </defs>\n      <g style=\"fill:#262626;\" transform=\"translate(269.509886 133.778281)scale(0.11 -0.11)\">\n       <use xlink:href=\"#DejaVuSans-51\"/>\n       <use x=\"63.623047\" xlink:href=\"#DejaVuSans-48\"/>\n      </g>\n     </g>\n    </g>\n    <g id=\"xtick_6\">\n     <g id=\"line2d_6\">\n      <path clip-path=\"url(#p06923b0fad)\" d=\"M 318.781364 115.92 \nL 318.781364 7.2 \n\" style=\"fill:none;stroke:#cccccc;stroke-linecap:round;\"/>\n     </g>\n     <g id=\"text_6\">\n      <!-- 35 -->\n      <g style=\"fill:#262626;\" transform=\"translate(311.782614 133.778281)scale(0.11 -0.11)\">\n       <use xlink:href=\"#DejaVuSans-51\"/>\n       <use x=\"63.623047\" xlink:href=\"#DejaVuSans-53\"/>\n      </g>\n     </g>\n    </g>\n    <g id=\"xtick_7\">\n     <g id=\"line2d_7\">\n      <path clip-path=\"url(#p06923b0fad)\" d=\"M 361.054091 115.92 \nL 361.054091 7.2 \n\" style=\"fill:none;stroke:#cccccc;stroke-linecap:round;\"/>\n     </g>\n     <g id=\"text_7\">\n      <!-- 40 -->\n      <defs>\n       <path d=\"M 37.796875 64.3125 \nL 12.890625 25.390625 \nL 37.796875 25.390625 \nz\nM 35.203125 72.90625 \nL 47.609375 72.90625 \nL 47.609375 25.390625 \nL 58.015625 25.390625 \nL 58.015625 17.1875 \nL 47.609375 17.1875 \nL 47.609375 0 \nL 37.796875 0 \nL 37.796875 17.1875 \nL 4.890625 17.1875 \nL 4.890625 26.703125 \nz\n\" id=\"DejaVuSans-52\"/>\n      </defs>\n      <g style=\"fill:#262626;\" transform=\"translate(354.055341 133.778281)scale(0.11 -0.11)\">\n       <use xlink:href=\"#DejaVuSans-52\"/>\n       <use x=\"63.623047\" xlink:href=\"#DejaVuSans-48\"/>\n      </g>\n     </g>\n    </g>\n    <g id=\"xtick_8\">\n     <g id=\"line2d_8\">\n      <path clip-path=\"url(#p06923b0fad)\" d=\"M 403.326818 115.92 \nL 403.326818 7.2 \n\" style=\"fill:none;stroke:#cccccc;stroke-linecap:round;\"/>\n     </g>\n     <g id=\"text_8\">\n      <!-- 45 -->\n      <g style=\"fill:#262626;\" transform=\"translate(396.328068 133.778281)scale(0.11 -0.11)\">\n       <use xlink:href=\"#DejaVuSans-52\"/>\n       <use x=\"63.623047\" xlink:href=\"#DejaVuSans-53\"/>\n      </g>\n     </g>\n    </g>\n   </g>\n   <g id=\"matplotlib.axis_2\">\n    <g id=\"ytick_1\">\n     <g id=\"line2d_9\">\n      <path clip-path=\"url(#p06923b0fad)\" d=\"M 83.745 61.56 \nL 418.545 61.56 \n\" style=\"fill:none;stroke:#cccccc;stroke-linecap:round;\"/>\n     </g>\n     <g id=\"text_9\">\n      <!-- num_tweets -->\n      <defs>\n       <path d=\"M 54.890625 33.015625 \nL 54.890625 0 \nL 45.90625 0 \nL 45.90625 32.71875 \nQ 45.90625 40.484375 42.875 44.328125 \nQ 39.84375 48.1875 33.796875 48.1875 \nQ 26.515625 48.1875 22.3125 43.546875 \nQ 18.109375 38.921875 18.109375 30.90625 \nL 18.109375 0 \nL 9.078125 0 \nL 9.078125 54.6875 \nL 18.109375 54.6875 \nL 18.109375 46.1875 \nQ 21.34375 51.125 25.703125 53.5625 \nQ 30.078125 56 35.796875 56 \nQ 45.21875 56 50.046875 50.171875 \nQ 54.890625 44.34375 54.890625 33.015625 \nz\n\" id=\"DejaVuSans-110\"/>\n       <path d=\"M 8.5 21.578125 \nL 8.5 54.6875 \nL 17.484375 54.6875 \nL 17.484375 21.921875 \nQ 17.484375 14.15625 20.5 10.265625 \nQ 23.53125 6.390625 29.59375 6.390625 \nQ 36.859375 6.390625 41.078125 11.03125 \nQ 45.3125 15.671875 45.3125 23.6875 \nL 45.3125 54.6875 \nL 54.296875 54.6875 \nL 54.296875 0 \nL 45.3125 0 \nL 45.3125 8.40625 \nQ 42.046875 3.421875 37.71875 1 \nQ 33.40625 -1.421875 27.6875 -1.421875 \nQ 18.265625 -1.421875 13.375 4.4375 \nQ 8.5 10.296875 8.5 21.578125 \nz\nM 31.109375 56 \nz\n\" id=\"DejaVuSans-117\"/>\n       <path d=\"M 52 44.1875 \nQ 55.375 50.25 60.0625 53.125 \nQ 64.75 56 71.09375 56 \nQ 79.640625 56 84.28125 50.015625 \nQ 88.921875 44.046875 88.921875 33.015625 \nL 88.921875 0 \nL 79.890625 0 \nL 79.890625 32.71875 \nQ 79.890625 40.578125 77.09375 44.375 \nQ 74.3125 48.1875 68.609375 48.1875 \nQ 61.625 48.1875 57.5625 43.546875 \nQ 53.515625 38.921875 53.515625 30.90625 \nL 53.515625 0 \nL 44.484375 0 \nL 44.484375 32.71875 \nQ 44.484375 40.625 41.703125 44.40625 \nQ 38.921875 48.1875 33.109375 48.1875 \nQ 26.21875 48.1875 22.15625 43.53125 \nQ 18.109375 38.875 18.109375 30.90625 \nL 18.109375 0 \nL 9.078125 0 \nL 9.078125 54.6875 \nL 18.109375 54.6875 \nL 18.109375 46.1875 \nQ 21.1875 51.21875 25.484375 53.609375 \nQ 29.78125 56 35.6875 56 \nQ 41.65625 56 45.828125 52.96875 \nQ 50 49.953125 52 44.1875 \nz\n\" id=\"DejaVuSans-109\"/>\n       <path d=\"M 50.984375 -16.609375 \nL 50.984375 -23.578125 \nL -0.984375 -23.578125 \nL -0.984375 -16.609375 \nz\n\" id=\"DejaVuSans-95\"/>\n       <path d=\"M 18.3125 70.21875 \nL 18.3125 54.6875 \nL 36.8125 54.6875 \nL 36.8125 47.703125 \nL 18.3125 47.703125 \nL 18.3125 18.015625 \nQ 18.3125 11.328125 20.140625 9.421875 \nQ 21.96875 7.515625 27.59375 7.515625 \nL 36.8125 7.515625 \nL 36.8125 0 \nL 27.59375 0 \nQ 17.1875 0 13.234375 3.875 \nQ 9.28125 7.765625 9.28125 18.015625 \nL 9.28125 47.703125 \nL 2.6875 47.703125 \nL 2.6875 54.6875 \nL 9.28125 54.6875 \nL 9.28125 70.21875 \nz\n\" id=\"DejaVuSans-116\"/>\n       <path d=\"M 4.203125 54.6875 \nL 13.1875 54.6875 \nL 24.421875 12.015625 \nL 35.59375 54.6875 \nL 46.1875 54.6875 \nL 57.421875 12.015625 \nL 68.609375 54.6875 \nL 77.59375 54.6875 \nL 63.28125 0 \nL 52.6875 0 \nL 40.921875 44.828125 \nL 29.109375 0 \nL 18.5 0 \nz\n\" id=\"DejaVuSans-119\"/>\n       <path d=\"M 56.203125 29.59375 \nL 56.203125 25.203125 \nL 14.890625 25.203125 \nQ 15.484375 15.921875 20.484375 11.0625 \nQ 25.484375 6.203125 34.421875 6.203125 \nQ 39.59375 6.203125 44.453125 7.46875 \nQ 49.3125 8.734375 54.109375 11.28125 \nL 54.109375 2.78125 \nQ 49.265625 0.734375 44.1875 -0.34375 \nQ 39.109375 -1.421875 33.890625 -1.421875 \nQ 20.796875 -1.421875 13.15625 6.1875 \nQ 5.515625 13.8125 5.515625 26.8125 \nQ 5.515625 40.234375 12.765625 48.109375 \nQ 20.015625 56 32.328125 56 \nQ 43.359375 56 49.78125 48.890625 \nQ 56.203125 41.796875 56.203125 29.59375 \nz\nM 47.21875 32.234375 \nQ 47.125 39.59375 43.09375 43.984375 \nQ 39.0625 48.390625 32.421875 48.390625 \nQ 24.90625 48.390625 20.390625 44.140625 \nQ 15.875 39.890625 15.1875 32.171875 \nz\n\" id=\"DejaVuSans-101\"/>\n       <path d=\"M 44.28125 53.078125 \nL 44.28125 44.578125 \nQ 40.484375 46.53125 36.375 47.5 \nQ 32.28125 48.484375 27.875 48.484375 \nQ 21.1875 48.484375 17.84375 46.4375 \nQ 14.5 44.390625 14.5 40.28125 \nQ 14.5 37.15625 16.890625 35.375 \nQ 19.28125 33.59375 26.515625 31.984375 \nL 29.59375 31.296875 \nQ 39.15625 29.25 43.1875 25.515625 \nQ 47.21875 21.78125 47.21875 15.09375 \nQ 47.21875 7.46875 41.1875 3.015625 \nQ 35.15625 -1.421875 24.609375 -1.421875 \nQ 20.21875 -1.421875 15.453125 -0.5625 \nQ 10.6875 0.296875 5.421875 2 \nL 5.421875 11.28125 \nQ 10.40625 8.6875 15.234375 7.390625 \nQ 20.0625 6.109375 24.8125 6.109375 \nQ 31.15625 6.109375 34.5625 8.28125 \nQ 37.984375 10.453125 37.984375 14.40625 \nQ 37.984375 18.0625 35.515625 20.015625 \nQ 33.0625 21.96875 24.703125 23.78125 \nL 21.578125 24.515625 \nQ 13.234375 26.265625 9.515625 29.90625 \nQ 5.8125 33.546875 5.8125 39.890625 \nQ 5.8125 47.609375 11.28125 51.796875 \nQ 16.75 56 26.8125 56 \nQ 31.78125 56 36.171875 55.265625 \nQ 40.578125 54.546875 44.28125 53.078125 \nz\n\" id=\"DejaVuSans-115\"/>\n      </defs>\n      <g style=\"fill:#262626;\" transform=\"translate(7.2 65.586172)scale(0.11 -0.11)\">\n       <use xlink:href=\"#DejaVuSans-110\"/>\n       <use x=\"63.378906\" xlink:href=\"#DejaVuSans-117\"/>\n       <use x=\"126.757812\" xlink:href=\"#DejaVuSans-109\"/>\n       <use x=\"224.169922\" xlink:href=\"#DejaVuSans-95\"/>\n       <use x=\"274.169922\" xlink:href=\"#DejaVuSans-116\"/>\n       <use x=\"313.378906\" xlink:href=\"#DejaVuSans-119\"/>\n       <use x=\"395.166016\" xlink:href=\"#DejaVuSans-101\"/>\n       <use x=\"456.689453\" xlink:href=\"#DejaVuSans-101\"/>\n       <use x=\"518.212891\" xlink:href=\"#DejaVuSans-116\"/>\n       <use x=\"557.421875\" xlink:href=\"#DejaVuSans-115\"/>\n      </g>\n     </g>\n    </g>\n   </g>\n   <g id=\"line2d_10\">\n    <path clip-path=\"url(#p06923b0fad)\" d=\"M 301.872273 69.714 \nL 301.872273 53.406 \nL 335.690455 53.406 \nL 335.690455 69.714 \nL 301.872273 69.714 \n\" style=\"fill:none;stroke:#4c72b0;stroke-linecap:round;\"/>\n   </g>\n   <g id=\"line2d_11\">\n    <path clip-path=\"url(#p06923b0fad)\" d=\"M 301.872273 61.56 \nL 251.145 61.56 \n\" style=\"fill:none;stroke:#4c72b0;stroke-linecap:round;\"/>\n   </g>\n   <g id=\"line2d_12\">\n    <path clip-path=\"url(#p06923b0fad)\" d=\"M 335.690455 61.56 \nL 377.963182 61.56 \n\" style=\"fill:none;stroke:#4c72b0;stroke-linecap:round;\"/>\n   </g>\n   <g id=\"line2d_13\">\n    <path clip-path=\"url(#p06923b0fad)\" d=\"M 251.145 65.637 \nL 251.145 57.483 \n\" style=\"fill:none;stroke:#4c72b0;stroke-linecap:round;\"/>\n   </g>\n   <g id=\"line2d_14\">\n    <path clip-path=\"url(#p06923b0fad)\" d=\"M 377.963182 65.637 \nL 377.963182 57.483 \n\" style=\"fill:none;stroke:#4c72b0;stroke-linecap:round;\"/>\n   </g>\n   <g id=\"line2d_15\">\n    <defs>\n     <path d=\"M 0 3 \nC 0.795609 3 1.55874 2.683901 2.12132 2.12132 \nC 2.683901 1.55874 3 0.795609 3 0 \nC 3 -0.795609 2.683901 -1.55874 2.12132 -2.12132 \nC 1.55874 -2.683901 0.795609 -3 0 -3 \nC -0.795609 -3 -1.55874 -2.683901 -2.12132 -2.12132 \nC -2.683901 -1.55874 -3 -0.795609 -3 0 \nC -3 0.795609 -2.683901 1.55874 -2.12132 2.12132 \nC -1.55874 2.683901 -0.795609 3 0 3 \nz\n\" id=\"md089285fcd\" style=\"stroke:#000000;\"/>\n    </defs>\n    <g clip-path=\"url(#p06923b0fad)\">\n     <use style=\"fill-opacity:0;stroke:#000000;\" x=\"98.963182\" xlink:href=\"#md089285fcd\" y=\"61.56\"/>\n     <use style=\"fill-opacity:0;stroke:#000000;\" x=\"208.872273\" xlink:href=\"#md089285fcd\" y=\"61.56\"/>\n     <use style=\"fill-opacity:0;stroke:#000000;\" x=\"183.508636\" xlink:href=\"#md089285fcd\" y=\"61.56\"/>\n     <use style=\"fill-opacity:0;stroke:#000000;\" x=\"107.417727\" xlink:href=\"#md089285fcd\" y=\"61.56\"/>\n     <use style=\"fill-opacity:0;stroke:#000000;\" x=\"225.781364\" xlink:href=\"#md089285fcd\" y=\"61.56\"/>\n     <use style=\"fill-opacity:0;stroke:#000000;\" x=\"115.872273\" xlink:href=\"#md089285fcd\" y=\"61.56\"/>\n     <use style=\"fill-opacity:0;stroke:#000000;\" x=\"234.235909\" xlink:href=\"#md089285fcd\" y=\"61.56\"/>\n     <use style=\"fill-opacity:0;stroke:#000000;\" x=\"242.690455\" xlink:href=\"#md089285fcd\" y=\"61.56\"/>\n     <use style=\"fill-opacity:0;stroke:#000000;\" x=\"124.326818\" xlink:href=\"#md089285fcd\" y=\"61.56\"/>\n     <use style=\"fill-opacity:0;stroke:#000000;\" x=\"403.326818\" xlink:href=\"#md089285fcd\" y=\"61.56\"/>\n    </g>\n   </g>\n   <g id=\"line2d_16\">\n    <path clip-path=\"url(#p06923b0fad)\" d=\"M 318.781364 69.714 \nL 318.781364 53.406 \n\" style=\"fill:none;stroke:#55a868;stroke-linecap:round;\"/>\n   </g>\n   <g id=\"patch_3\">\n    <path d=\"M 83.745 115.92 \nL 83.745 7.2 \n\" style=\"fill:none;stroke:#cccccc;stroke-linecap:square;stroke-linejoin:miter;stroke-width:1.25;\"/>\n   </g>\n   <g id=\"patch_4\">\n    <path d=\"M 418.545 115.92 \nL 418.545 7.2 \n\" style=\"fill:none;stroke:#cccccc;stroke-linecap:square;stroke-linejoin:miter;stroke-width:1.25;\"/>\n   </g>\n   <g id=\"patch_5\">\n    <path d=\"M 83.745 115.92 \nL 418.545 115.92 \n\" style=\"fill:none;stroke:#cccccc;stroke-linecap:square;stroke-linejoin:miter;stroke-width:1.25;\"/>\n   </g>\n   <g id=\"patch_6\">\n    <path d=\"M 83.745 7.2 \nL 418.545 7.2 \n\" style=\"fill:none;stroke:#cccccc;stroke-linecap:square;stroke-linejoin:miter;stroke-width:1.25;\"/>\n   </g>\n  </g>\n </g>\n <defs>\n  <clipPath id=\"p06923b0fad\">\n   <rect height=\"108.72\" width=\"334.8\" x=\"83.745\" y=\"7.2\"/>\n  </clipPath>\n </defs>\n</svg>\n"
          },
          "metadata": {}
        }
      ]
    },
    {
      "cell_type": "code",
      "source": [
        "# bar chart of a dataframe column\n",
        "cat_train[['num_keyword']].plot(kind='bar', figsize=(7,4));"
      ],
      "metadata": {
        "id": "yfuhnBZvMMKb",
        "colab": {
          "base_uri": "https://localhost:8080/",
          "height": 545
        },
        "outputId": "5b9eedbf-fd1b-4272-c1fa-78911f5c9871"
      },
      "execution_count": null,
      "outputs": [
        {
          "output_type": "display_data",
          "data": {
            "text/plain": [
              "<Figure size 700x400 with 1 Axes>"
            ],
            "image/svg+xml": "<?xml version=\"1.0\" encoding=\"utf-8\" standalone=\"no\"?>\n<!DOCTYPE svg PUBLIC \"-//W3C//DTD SVG 1.1//EN\"\n  \"http://www.w3.org/Graphics/SVG/1.1/DTD/svg11.dtd\">\n<!-- Created with matplotlib (https://matplotlib.org/) -->\n<svg height=\"392.669687pt\" version=\"1.1\" viewBox=\"0 0 436.432696 392.669687\" width=\"436.432696pt\" xmlns=\"http://www.w3.org/2000/svg\" xmlns:xlink=\"http://www.w3.org/1999/xlink\">\n <defs>\n  <style type=\"text/css\">\n*{stroke-linecap:butt;stroke-linejoin:round;}\n  </style>\n </defs>\n <g id=\"figure_1\">\n  <g id=\"patch_1\">\n   <path d=\"M 0 392.669687 \nL 436.432696 392.669687 \nL 436.432696 0 \nL 0 0 \nz\n\" style=\"fill:#ffffff;\"/>\n  </g>\n  <g id=\"axes_1\">\n   <g id=\"patch_2\">\n    <path d=\"M 34.193437 224.64 \nL 424.793438 224.64 \nL 424.793438 7.2 \nL 34.193437 7.2 \nz\n\" style=\"fill:#ffffff;\"/>\n   </g>\n   <g id=\"matplotlib.axis_1\">\n    <g id=\"xtick_1\">\n     <g id=\"line2d_1\">\n      <path clip-path=\"url(#p6456fcfb4f)\" d=\"M 35.077148 224.64 \nL 35.077148 7.2 \n\" style=\"fill:none;stroke:#cccccc;stroke-linecap:round;\"/>\n     </g>\n     <g id=\"text_1\">\n      <!-- ablaze -->\n      <defs>\n       <path d=\"M 34.28125 27.484375 \nQ 23.390625 27.484375 19.1875 25 \nQ 14.984375 22.515625 14.984375 16.5 \nQ 14.984375 11.71875 18.140625 8.90625 \nQ 21.296875 6.109375 26.703125 6.109375 \nQ 34.1875 6.109375 38.703125 11.40625 \nQ 43.21875 16.703125 43.21875 25.484375 \nL 43.21875 27.484375 \nz\nM 52.203125 31.203125 \nL 52.203125 0 \nL 43.21875 0 \nL 43.21875 8.296875 \nQ 40.140625 3.328125 35.546875 0.953125 \nQ 30.953125 -1.421875 24.3125 -1.421875 \nQ 15.921875 -1.421875 10.953125 3.296875 \nQ 6 8.015625 6 15.921875 \nQ 6 25.140625 12.171875 29.828125 \nQ 18.359375 34.515625 30.609375 34.515625 \nL 43.21875 34.515625 \nL 43.21875 35.40625 \nQ 43.21875 41.609375 39.140625 45 \nQ 35.0625 48.390625 27.6875 48.390625 \nQ 23 48.390625 18.546875 47.265625 \nQ 14.109375 46.140625 10.015625 43.890625 \nL 10.015625 52.203125 \nQ 14.9375 54.109375 19.578125 55.046875 \nQ 24.21875 56 28.609375 56 \nQ 40.484375 56 46.34375 49.84375 \nQ 52.203125 43.703125 52.203125 31.203125 \nz\n\" id=\"DejaVuSans-97\"/>\n       <path d=\"M 48.6875 27.296875 \nQ 48.6875 37.203125 44.609375 42.84375 \nQ 40.53125 48.484375 33.40625 48.484375 \nQ 26.265625 48.484375 22.1875 42.84375 \nQ 18.109375 37.203125 18.109375 27.296875 \nQ 18.109375 17.390625 22.1875 11.75 \nQ 26.265625 6.109375 33.40625 6.109375 \nQ 40.53125 6.109375 44.609375 11.75 \nQ 48.6875 17.390625 48.6875 27.296875 \nz\nM 18.109375 46.390625 \nQ 20.953125 51.265625 25.265625 53.625 \nQ 29.59375 56 35.59375 56 \nQ 45.5625 56 51.78125 48.09375 \nQ 58.015625 40.1875 58.015625 27.296875 \nQ 58.015625 14.40625 51.78125 6.484375 \nQ 45.5625 -1.421875 35.59375 -1.421875 \nQ 29.59375 -1.421875 25.265625 0.953125 \nQ 20.953125 3.328125 18.109375 8.203125 \nL 18.109375 0 \nL 9.078125 0 \nL 9.078125 75.984375 \nL 18.109375 75.984375 \nz\n\" id=\"DejaVuSans-98\"/>\n       <path d=\"M 9.421875 75.984375 \nL 18.40625 75.984375 \nL 18.40625 0 \nL 9.421875 0 \nz\n\" id=\"DejaVuSans-108\"/>\n       <path d=\"M 5.515625 54.6875 \nL 48.1875 54.6875 \nL 48.1875 46.484375 \nL 14.40625 7.171875 \nL 48.1875 7.171875 \nL 48.1875 0 \nL 4.296875 0 \nL 4.296875 8.203125 \nL 38.09375 47.515625 \nL 5.515625 47.515625 \nz\n\" id=\"DejaVuSans-122\"/>\n       <path d=\"M 56.203125 29.59375 \nL 56.203125 25.203125 \nL 14.890625 25.203125 \nQ 15.484375 15.921875 20.484375 11.0625 \nQ 25.484375 6.203125 34.421875 6.203125 \nQ 39.59375 6.203125 44.453125 7.46875 \nQ 49.3125 8.734375 54.109375 11.28125 \nL 54.109375 2.78125 \nQ 49.265625 0.734375 44.1875 -0.34375 \nQ 39.109375 -1.421875 33.890625 -1.421875 \nQ 20.796875 -1.421875 13.15625 6.1875 \nQ 5.515625 13.8125 5.515625 26.8125 \nQ 5.515625 40.234375 12.765625 48.109375 \nQ 20.015625 56 32.328125 56 \nQ 43.359375 56 49.78125 48.890625 \nQ 56.203125 41.796875 56.203125 29.59375 \nz\nM 47.21875 32.234375 \nQ 47.125 39.59375 43.09375 43.984375 \nQ 39.0625 48.390625 32.421875 48.390625 \nQ 24.90625 48.390625 20.390625 44.140625 \nQ 15.875 39.890625 15.1875 32.171875 \nz\n\" id=\"DejaVuSans-101\"/>\n      </defs>\n      <g style=\"fill:#262626;\" transform=\"translate(38.11246 270.202812)rotate(-90)scale(0.11 -0.11)\">\n       <use xlink:href=\"#DejaVuSans-97\"/>\n       <use x=\"61.279297\" xlink:href=\"#DejaVuSans-98\"/>\n       <use x=\"124.755859\" xlink:href=\"#DejaVuSans-108\"/>\n       <use x=\"152.539062\" xlink:href=\"#DejaVuSans-97\"/>\n       <use x=\"213.818359\" xlink:href=\"#DejaVuSans-122\"/>\n       <use x=\"266.308594\" xlink:href=\"#DejaVuSans-101\"/>\n      </g>\n     </g>\n    </g>\n    <g id=\"xtick_2\">\n     <g id=\"line2d_2\">\n      <path clip-path=\"url(#p6456fcfb4f)\" d=\"M 36.844569 224.64 \nL 36.844569 7.2 \n\" style=\"fill:none;stroke:#cccccc;stroke-linecap:round;\"/>\n     </g>\n     <g id=\"text_2\">\n      <!-- oil%20spill -->\n      <defs>\n       <path d=\"M 30.609375 48.390625 \nQ 23.390625 48.390625 19.1875 42.75 \nQ 14.984375 37.109375 14.984375 27.296875 \nQ 14.984375 17.484375 19.15625 11.84375 \nQ 23.34375 6.203125 30.609375 6.203125 \nQ 37.796875 6.203125 41.984375 11.859375 \nQ 46.1875 17.53125 46.1875 27.296875 \nQ 46.1875 37.015625 41.984375 42.703125 \nQ 37.796875 48.390625 30.609375 48.390625 \nz\nM 30.609375 56 \nQ 42.328125 56 49.015625 48.375 \nQ 55.71875 40.765625 55.71875 27.296875 \nQ 55.71875 13.875 49.015625 6.21875 \nQ 42.328125 -1.421875 30.609375 -1.421875 \nQ 18.84375 -1.421875 12.171875 6.21875 \nQ 5.515625 13.875 5.515625 27.296875 \nQ 5.515625 40.765625 12.171875 48.375 \nQ 18.84375 56 30.609375 56 \nz\n\" id=\"DejaVuSans-111\"/>\n       <path d=\"M 9.421875 54.6875 \nL 18.40625 54.6875 \nL 18.40625 0 \nL 9.421875 0 \nz\nM 9.421875 75.984375 \nL 18.40625 75.984375 \nL 18.40625 64.59375 \nL 9.421875 64.59375 \nz\n\" id=\"DejaVuSans-105\"/>\n       <path d=\"M 72.703125 32.078125 \nQ 68.453125 32.078125 66.03125 28.46875 \nQ 63.625 24.859375 63.625 18.40625 \nQ 63.625 12.0625 66.03125 8.421875 \nQ 68.453125 4.78125 72.703125 4.78125 \nQ 76.859375 4.78125 79.265625 8.421875 \nQ 81.6875 12.0625 81.6875 18.40625 \nQ 81.6875 24.8125 79.265625 28.4375 \nQ 76.859375 32.078125 72.703125 32.078125 \nz\nM 72.703125 38.28125 \nQ 80.421875 38.28125 84.953125 32.90625 \nQ 89.5 27.546875 89.5 18.40625 \nQ 89.5 9.28125 84.9375 3.921875 \nQ 80.375 -1.421875 72.703125 -1.421875 \nQ 64.890625 -1.421875 60.34375 3.921875 \nQ 55.8125 9.28125 55.8125 18.40625 \nQ 55.8125 27.59375 60.375 32.9375 \nQ 64.9375 38.28125 72.703125 38.28125 \nz\nM 22.3125 68.015625 \nQ 18.109375 68.015625 15.6875 64.375 \nQ 13.28125 60.75 13.28125 54.390625 \nQ 13.28125 47.953125 15.671875 44.328125 \nQ 18.0625 40.71875 22.3125 40.71875 \nQ 26.5625 40.71875 28.96875 44.328125 \nQ 31.390625 47.953125 31.390625 54.390625 \nQ 31.390625 60.6875 28.953125 64.34375 \nQ 26.515625 68.015625 22.3125 68.015625 \nz\nM 66.40625 74.21875 \nL 74.21875 74.21875 \nL 28.609375 -1.421875 \nL 20.796875 -1.421875 \nz\nM 22.3125 74.21875 \nQ 30.03125 74.21875 34.609375 68.875 \nQ 39.203125 63.53125 39.203125 54.390625 \nQ 39.203125 45.171875 34.640625 39.84375 \nQ 30.078125 34.515625 22.3125 34.515625 \nQ 14.546875 34.515625 10.03125 39.859375 \nQ 5.515625 45.21875 5.515625 54.390625 \nQ 5.515625 63.484375 10.046875 68.84375 \nQ 14.59375 74.21875 22.3125 74.21875 \nz\n\" id=\"DejaVuSans-37\"/>\n       <path d=\"M 19.1875 8.296875 \nL 53.609375 8.296875 \nL 53.609375 0 \nL 7.328125 0 \nL 7.328125 8.296875 \nQ 12.9375 14.109375 22.625 23.890625 \nQ 32.328125 33.6875 34.8125 36.53125 \nQ 39.546875 41.84375 41.421875 45.53125 \nQ 43.3125 49.21875 43.3125 52.78125 \nQ 43.3125 58.59375 39.234375 62.25 \nQ 35.15625 65.921875 28.609375 65.921875 \nQ 23.96875 65.921875 18.8125 64.3125 \nQ 13.671875 62.703125 7.8125 59.421875 \nL 7.8125 69.390625 \nQ 13.765625 71.78125 18.9375 73 \nQ 24.125 74.21875 28.421875 74.21875 \nQ 39.75 74.21875 46.484375 68.546875 \nQ 53.21875 62.890625 53.21875 53.421875 \nQ 53.21875 48.921875 51.53125 44.890625 \nQ 49.859375 40.875 45.40625 35.40625 \nQ 44.1875 33.984375 37.640625 27.21875 \nQ 31.109375 20.453125 19.1875 8.296875 \nz\n\" id=\"DejaVuSans-50\"/>\n       <path d=\"M 31.78125 66.40625 \nQ 24.171875 66.40625 20.328125 58.90625 \nQ 16.5 51.421875 16.5 36.375 \nQ 16.5 21.390625 20.328125 13.890625 \nQ 24.171875 6.390625 31.78125 6.390625 \nQ 39.453125 6.390625 43.28125 13.890625 \nQ 47.125 21.390625 47.125 36.375 \nQ 47.125 51.421875 43.28125 58.90625 \nQ 39.453125 66.40625 31.78125 66.40625 \nz\nM 31.78125 74.21875 \nQ 44.046875 74.21875 50.515625 64.515625 \nQ 56.984375 54.828125 56.984375 36.375 \nQ 56.984375 17.96875 50.515625 8.265625 \nQ 44.046875 -1.421875 31.78125 -1.421875 \nQ 19.53125 -1.421875 13.0625 8.265625 \nQ 6.59375 17.96875 6.59375 36.375 \nQ 6.59375 54.828125 13.0625 64.515625 \nQ 19.53125 74.21875 31.78125 74.21875 \nz\n\" id=\"DejaVuSans-48\"/>\n       <path d=\"M 44.28125 53.078125 \nL 44.28125 44.578125 \nQ 40.484375 46.53125 36.375 47.5 \nQ 32.28125 48.484375 27.875 48.484375 \nQ 21.1875 48.484375 17.84375 46.4375 \nQ 14.5 44.390625 14.5 40.28125 \nQ 14.5 37.15625 16.890625 35.375 \nQ 19.28125 33.59375 26.515625 31.984375 \nL 29.59375 31.296875 \nQ 39.15625 29.25 43.1875 25.515625 \nQ 47.21875 21.78125 47.21875 15.09375 \nQ 47.21875 7.46875 41.1875 3.015625 \nQ 35.15625 -1.421875 24.609375 -1.421875 \nQ 20.21875 -1.421875 15.453125 -0.5625 \nQ 10.6875 0.296875 5.421875 2 \nL 5.421875 11.28125 \nQ 10.40625 8.6875 15.234375 7.390625 \nQ 20.0625 6.109375 24.8125 6.109375 \nQ 31.15625 6.109375 34.5625 8.28125 \nQ 37.984375 10.453125 37.984375 14.40625 \nQ 37.984375 18.0625 35.515625 20.015625 \nQ 33.0625 21.96875 24.703125 23.78125 \nL 21.578125 24.515625 \nQ 13.234375 26.265625 9.515625 29.90625 \nQ 5.8125 33.546875 5.8125 39.890625 \nQ 5.8125 47.609375 11.28125 51.796875 \nQ 16.75 56 26.8125 56 \nQ 31.78125 56 36.171875 55.265625 \nQ 40.578125 54.546875 44.28125 53.078125 \nz\n\" id=\"DejaVuSans-115\"/>\n       <path d=\"M 18.109375 8.203125 \nL 18.109375 -20.796875 \nL 9.078125 -20.796875 \nL 9.078125 54.6875 \nL 18.109375 54.6875 \nL 18.109375 46.390625 \nQ 20.953125 51.265625 25.265625 53.625 \nQ 29.59375 56 35.59375 56 \nQ 45.5625 56 51.78125 48.09375 \nQ 58.015625 40.1875 58.015625 27.296875 \nQ 58.015625 14.40625 51.78125 6.484375 \nQ 45.5625 -1.421875 35.59375 -1.421875 \nQ 29.59375 -1.421875 25.265625 0.953125 \nQ 20.953125 3.328125 18.109375 8.203125 \nz\nM 48.6875 27.296875 \nQ 48.6875 37.203125 44.609375 42.84375 \nQ 40.53125 48.484375 33.40625 48.484375 \nQ 26.265625 48.484375 22.1875 42.84375 \nQ 18.109375 37.203125 18.109375 27.296875 \nQ 18.109375 17.390625 22.1875 11.75 \nQ 26.265625 6.109375 33.40625 6.109375 \nQ 40.53125 6.109375 44.609375 11.75 \nQ 48.6875 17.390625 48.6875 27.296875 \nz\n\" id=\"DejaVuSans-112\"/>\n      </defs>\n      <g style=\"fill:#262626;\" transform=\"translate(39.879881 293.313125)rotate(-90)scale(0.11 -0.11)\">\n       <use xlink:href=\"#DejaVuSans-111\"/>\n       <use x=\"61.181641\" xlink:href=\"#DejaVuSans-105\"/>\n       <use x=\"88.964844\" xlink:href=\"#DejaVuSans-108\"/>\n       <use x=\"116.748047\" xlink:href=\"#DejaVuSans-37\"/>\n       <use x=\"211.767578\" xlink:href=\"#DejaVuSans-50\"/>\n       <use x=\"275.390625\" xlink:href=\"#DejaVuSans-48\"/>\n       <use x=\"339.013672\" xlink:href=\"#DejaVuSans-115\"/>\n       <use x=\"391.113281\" xlink:href=\"#DejaVuSans-112\"/>\n       <use x=\"454.589844\" xlink:href=\"#DejaVuSans-105\"/>\n       <use x=\"482.373047\" xlink:href=\"#DejaVuSans-108\"/>\n       <use x=\"510.15625\" xlink:href=\"#DejaVuSans-108\"/>\n      </g>\n     </g>\n    </g>\n    <g id=\"xtick_3\">\n     <g id=\"line2d_3\">\n      <path clip-path=\"url(#p6456fcfb4f)\" d=\"M 38.61199 224.64 \nL 38.61199 7.2 \n\" style=\"fill:none;stroke:#cccccc;stroke-linecap:round;\"/>\n     </g>\n     <g id=\"text_3\">\n      <!-- massacre -->\n      <defs>\n       <path d=\"M 52 44.1875 \nQ 55.375 50.25 60.0625 53.125 \nQ 64.75 56 71.09375 56 \nQ 79.640625 56 84.28125 50.015625 \nQ 88.921875 44.046875 88.921875 33.015625 \nL 88.921875 0 \nL 79.890625 0 \nL 79.890625 32.71875 \nQ 79.890625 40.578125 77.09375 44.375 \nQ 74.3125 48.1875 68.609375 48.1875 \nQ 61.625 48.1875 57.5625 43.546875 \nQ 53.515625 38.921875 53.515625 30.90625 \nL 53.515625 0 \nL 44.484375 0 \nL 44.484375 32.71875 \nQ 44.484375 40.625 41.703125 44.40625 \nQ 38.921875 48.1875 33.109375 48.1875 \nQ 26.21875 48.1875 22.15625 43.53125 \nQ 18.109375 38.875 18.109375 30.90625 \nL 18.109375 0 \nL 9.078125 0 \nL 9.078125 54.6875 \nL 18.109375 54.6875 \nL 18.109375 46.1875 \nQ 21.1875 51.21875 25.484375 53.609375 \nQ 29.78125 56 35.6875 56 \nQ 41.65625 56 45.828125 52.96875 \nQ 50 49.953125 52 44.1875 \nz\n\" id=\"DejaVuSans-109\"/>\n       <path d=\"M 48.78125 52.59375 \nL 48.78125 44.1875 \nQ 44.96875 46.296875 41.140625 47.34375 \nQ 37.3125 48.390625 33.40625 48.390625 \nQ 24.65625 48.390625 19.8125 42.84375 \nQ 14.984375 37.3125 14.984375 27.296875 \nQ 14.984375 17.28125 19.8125 11.734375 \nQ 24.65625 6.203125 33.40625 6.203125 \nQ 37.3125 6.203125 41.140625 7.25 \nQ 44.96875 8.296875 48.78125 10.40625 \nL 48.78125 2.09375 \nQ 45.015625 0.34375 40.984375 -0.53125 \nQ 36.96875 -1.421875 32.421875 -1.421875 \nQ 20.0625 -1.421875 12.78125 6.34375 \nQ 5.515625 14.109375 5.515625 27.296875 \nQ 5.515625 40.671875 12.859375 48.328125 \nQ 20.21875 56 33.015625 56 \nQ 37.15625 56 41.109375 55.140625 \nQ 45.0625 54.296875 48.78125 52.59375 \nz\n\" id=\"DejaVuSans-99\"/>\n       <path d=\"M 41.109375 46.296875 \nQ 39.59375 47.171875 37.8125 47.578125 \nQ 36.03125 48 33.890625 48 \nQ 26.265625 48 22.1875 43.046875 \nQ 18.109375 38.09375 18.109375 28.8125 \nL 18.109375 0 \nL 9.078125 0 \nL 9.078125 54.6875 \nL 18.109375 54.6875 \nL 18.109375 46.1875 \nQ 20.953125 51.171875 25.484375 53.578125 \nQ 30.03125 56 36.53125 56 \nQ 37.453125 56 38.578125 55.875 \nQ 39.703125 55.765625 41.0625 55.515625 \nz\n\" id=\"DejaVuSans-114\"/>\n      </defs>\n      <g style=\"fill:#262626;\" transform=\"translate(41.647302 286.888437)rotate(-90)scale(0.11 -0.11)\">\n       <use xlink:href=\"#DejaVuSans-109\"/>\n       <use x=\"97.412109\" xlink:href=\"#DejaVuSans-97\"/>\n       <use x=\"158.691406\" xlink:href=\"#DejaVuSans-115\"/>\n       <use x=\"210.791016\" xlink:href=\"#DejaVuSans-115\"/>\n       <use x=\"262.890625\" xlink:href=\"#DejaVuSans-97\"/>\n       <use x=\"324.169922\" xlink:href=\"#DejaVuSans-99\"/>\n       <use x=\"379.150391\" xlink:href=\"#DejaVuSans-114\"/>\n       <use x=\"418.013672\" xlink:href=\"#DejaVuSans-101\"/>\n      </g>\n     </g>\n    </g>\n    <g id=\"xtick_4\">\n     <g id=\"line2d_4\">\n      <path clip-path=\"url(#p6456fcfb4f)\" d=\"M 40.37941 224.64 \nL 40.37941 7.2 \n\" style=\"fill:none;stroke:#cccccc;stroke-linecap:round;\"/>\n     </g>\n     <g id=\"text_4\">\n      <!-- mayhem -->\n      <defs>\n       <path d=\"M 32.171875 -5.078125 \nQ 28.375 -14.84375 24.75 -17.8125 \nQ 21.140625 -20.796875 15.09375 -20.796875 \nL 7.90625 -20.796875 \nL 7.90625 -13.28125 \nL 13.1875 -13.28125 \nQ 16.890625 -13.28125 18.9375 -11.515625 \nQ 21 -9.765625 23.484375 -3.21875 \nL 25.09375 0.875 \nL 2.984375 54.6875 \nL 12.5 54.6875 \nL 29.59375 11.921875 \nL 46.6875 54.6875 \nL 56.203125 54.6875 \nz\n\" id=\"DejaVuSans-121\"/>\n       <path d=\"M 54.890625 33.015625 \nL 54.890625 0 \nL 45.90625 0 \nL 45.90625 32.71875 \nQ 45.90625 40.484375 42.875 44.328125 \nQ 39.84375 48.1875 33.796875 48.1875 \nQ 26.515625 48.1875 22.3125 43.546875 \nQ 18.109375 38.921875 18.109375 30.90625 \nL 18.109375 0 \nL 9.078125 0 \nL 9.078125 75.984375 \nL 18.109375 75.984375 \nL 18.109375 46.1875 \nQ 21.34375 51.125 25.703125 53.5625 \nQ 30.078125 56 35.796875 56 \nQ 45.21875 56 50.046875 50.171875 \nQ 54.890625 44.34375 54.890625 33.015625 \nz\n\" id=\"DejaVuSans-104\"/>\n      </defs>\n      <g style=\"fill:#262626;\" transform=\"translate(43.414723 282.560625)rotate(-90)scale(0.11 -0.11)\">\n       <use xlink:href=\"#DejaVuSans-109\"/>\n       <use x=\"97.412109\" xlink:href=\"#DejaVuSans-97\"/>\n       <use x=\"158.691406\" xlink:href=\"#DejaVuSans-121\"/>\n       <use x=\"217.871094\" xlink:href=\"#DejaVuSans-104\"/>\n       <use x=\"281.25\" xlink:href=\"#DejaVuSans-101\"/>\n       <use x=\"342.773438\" xlink:href=\"#DejaVuSans-109\"/>\n      </g>\n     </g>\n    </g>\n    <g id=\"xtick_5\">\n     <g id=\"line2d_5\">\n      <path clip-path=\"url(#p6456fcfb4f)\" d=\"M 42.146831 224.64 \nL 42.146831 7.2 \n\" style=\"fill:none;stroke:#cccccc;stroke-linecap:round;\"/>\n     </g>\n     <g id=\"text_5\">\n      <!-- meltdown -->\n      <defs>\n       <path d=\"M 18.3125 70.21875 \nL 18.3125 54.6875 \nL 36.8125 54.6875 \nL 36.8125 47.703125 \nL 18.3125 47.703125 \nL 18.3125 18.015625 \nQ 18.3125 11.328125 20.140625 9.421875 \nQ 21.96875 7.515625 27.59375 7.515625 \nL 36.8125 7.515625 \nL 36.8125 0 \nL 27.59375 0 \nQ 17.1875 0 13.234375 3.875 \nQ 9.28125 7.765625 9.28125 18.015625 \nL 9.28125 47.703125 \nL 2.6875 47.703125 \nL 2.6875 54.6875 \nL 9.28125 54.6875 \nL 9.28125 70.21875 \nz\n\" id=\"DejaVuSans-116\"/>\n       <path d=\"M 45.40625 46.390625 \nL 45.40625 75.984375 \nL 54.390625 75.984375 \nL 54.390625 0 \nL 45.40625 0 \nL 45.40625 8.203125 \nQ 42.578125 3.328125 38.25 0.953125 \nQ 33.9375 -1.421875 27.875 -1.421875 \nQ 17.96875 -1.421875 11.734375 6.484375 \nQ 5.515625 14.40625 5.515625 27.296875 \nQ 5.515625 40.1875 11.734375 48.09375 \nQ 17.96875 56 27.875 56 \nQ 33.9375 56 38.25 53.625 \nQ 42.578125 51.265625 45.40625 46.390625 \nz\nM 14.796875 27.296875 \nQ 14.796875 17.390625 18.875 11.75 \nQ 22.953125 6.109375 30.078125 6.109375 \nQ 37.203125 6.109375 41.296875 11.75 \nQ 45.40625 17.390625 45.40625 27.296875 \nQ 45.40625 37.203125 41.296875 42.84375 \nQ 37.203125 48.484375 30.078125 48.484375 \nQ 22.953125 48.484375 18.875 42.84375 \nQ 14.796875 37.203125 14.796875 27.296875 \nz\n\" id=\"DejaVuSans-100\"/>\n       <path d=\"M 4.203125 54.6875 \nL 13.1875 54.6875 \nL 24.421875 12.015625 \nL 35.59375 54.6875 \nL 46.1875 54.6875 \nL 57.421875 12.015625 \nL 68.609375 54.6875 \nL 77.59375 54.6875 \nL 63.28125 0 \nL 52.6875 0 \nL 40.921875 44.828125 \nL 29.109375 0 \nL 18.5 0 \nz\n\" id=\"DejaVuSans-119\"/>\n       <path d=\"M 54.890625 33.015625 \nL 54.890625 0 \nL 45.90625 0 \nL 45.90625 32.71875 \nQ 45.90625 40.484375 42.875 44.328125 \nQ 39.84375 48.1875 33.796875 48.1875 \nQ 26.515625 48.1875 22.3125 43.546875 \nQ 18.109375 38.921875 18.109375 30.90625 \nL 18.109375 0 \nL 9.078125 0 \nL 9.078125 54.6875 \nL 18.109375 54.6875 \nL 18.109375 46.1875 \nQ 21.34375 51.125 25.703125 53.5625 \nQ 30.078125 56 35.796875 56 \nQ 45.21875 56 50.046875 50.171875 \nQ 54.890625 44.34375 54.890625 33.015625 \nz\n\" id=\"DejaVuSans-110\"/>\n      </defs>\n      <g style=\"fill:#262626;\" transform=\"translate(45.182144 288.6725)rotate(-90)scale(0.11 -0.11)\">\n       <use xlink:href=\"#DejaVuSans-109\"/>\n       <use x=\"97.412109\" xlink:href=\"#DejaVuSans-101\"/>\n       <use x=\"158.935547\" xlink:href=\"#DejaVuSans-108\"/>\n       <use x=\"186.71875\" xlink:href=\"#DejaVuSans-116\"/>\n       <use x=\"225.927734\" xlink:href=\"#DejaVuSans-100\"/>\n       <use x=\"289.404297\" xlink:href=\"#DejaVuSans-111\"/>\n       <use x=\"350.585938\" xlink:href=\"#DejaVuSans-119\"/>\n       <use x=\"432.373047\" xlink:href=\"#DejaVuSans-110\"/>\n      </g>\n     </g>\n    </g>\n    <g id=\"xtick_6\">\n     <g id=\"line2d_6\">\n      <path clip-path=\"url(#p6456fcfb4f)\" d=\"M 43.914252 224.64 \nL 43.914252 7.2 \n\" style=\"fill:none;stroke:#cccccc;stroke-linecap:round;\"/>\n     </g>\n     <g id=\"text_6\">\n      <!-- military -->\n      <g style=\"fill:#262626;\" transform=\"translate(46.949564 276.108437)rotate(-90)scale(0.11 -0.11)\">\n       <use xlink:href=\"#DejaVuSans-109\"/>\n       <use x=\"97.412109\" xlink:href=\"#DejaVuSans-105\"/>\n       <use x=\"125.195312\" xlink:href=\"#DejaVuSans-108\"/>\n       <use x=\"152.978516\" xlink:href=\"#DejaVuSans-105\"/>\n       <use x=\"180.761719\" xlink:href=\"#DejaVuSans-116\"/>\n       <use x=\"219.970703\" xlink:href=\"#DejaVuSans-97\"/>\n       <use x=\"281.25\" xlink:href=\"#DejaVuSans-114\"/>\n       <use x=\"322.363281\" xlink:href=\"#DejaVuSans-121\"/>\n      </g>\n     </g>\n    </g>\n    <g id=\"xtick_7\">\n     <g id=\"line2d_7\">\n      <path clip-path=\"url(#p6456fcfb4f)\" d=\"M 45.681673 224.64 \nL 45.681673 7.2 \n\" style=\"fill:none;stroke:#cccccc;stroke-linecap:round;\"/>\n     </g>\n     <g id=\"text_7\">\n      <!-- mudslide -->\n      <defs>\n       <path d=\"M 8.5 21.578125 \nL 8.5 54.6875 \nL 17.484375 54.6875 \nL 17.484375 21.921875 \nQ 17.484375 14.15625 20.5 10.265625 \nQ 23.53125 6.390625 29.59375 6.390625 \nQ 36.859375 6.390625 41.078125 11.03125 \nQ 45.3125 15.671875 45.3125 23.6875 \nL 45.3125 54.6875 \nL 54.296875 54.6875 \nL 54.296875 0 \nL 45.3125 0 \nL 45.3125 8.40625 \nQ 42.046875 3.421875 37.71875 1 \nQ 33.40625 -1.421875 27.6875 -1.421875 \nQ 18.265625 -1.421875 13.375 4.4375 \nQ 8.5 10.296875 8.5 21.578125 \nz\nM 31.109375 56 \nz\n\" id=\"DejaVuSans-117\"/>\n      </defs>\n      <g style=\"fill:#262626;\" transform=\"translate(48.716985 284.403125)rotate(-90)scale(0.11 -0.11)\">\n       <use xlink:href=\"#DejaVuSans-109\"/>\n       <use x=\"97.412109\" xlink:href=\"#DejaVuSans-117\"/>\n       <use x=\"160.791016\" xlink:href=\"#DejaVuSans-100\"/>\n       <use x=\"224.267578\" xlink:href=\"#DejaVuSans-115\"/>\n       <use x=\"276.367188\" xlink:href=\"#DejaVuSans-108\"/>\n       <use x=\"304.150391\" xlink:href=\"#DejaVuSans-105\"/>\n       <use x=\"331.933594\" xlink:href=\"#DejaVuSans-100\"/>\n       <use x=\"395.410156\" xlink:href=\"#DejaVuSans-101\"/>\n      </g>\n     </g>\n    </g>\n    <g id=\"xtick_8\">\n     <g id=\"line2d_8\">\n      <path clip-path=\"url(#p6456fcfb4f)\" d=\"M 47.449094 224.64 \nL 47.449094 7.2 \n\" style=\"fill:none;stroke:#cccccc;stroke-linecap:round;\"/>\n     </g>\n     <g id=\"text_8\">\n      <!-- natural%20disaster -->\n      <g style=\"fill:#262626;\" transform=\"translate(50.484406 341.7475)rotate(-90)scale(0.11 -0.11)\">\n       <use xlink:href=\"#DejaVuSans-110\"/>\n       <use x=\"63.378906\" xlink:href=\"#DejaVuSans-97\"/>\n       <use x=\"124.658203\" xlink:href=\"#DejaVuSans-116\"/>\n       <use x=\"163.867188\" xlink:href=\"#DejaVuSans-117\"/>\n       <use x=\"227.246094\" xlink:href=\"#DejaVuSans-114\"/>\n       <use x=\"268.359375\" xlink:href=\"#DejaVuSans-97\"/>\n       <use x=\"329.638672\" xlink:href=\"#DejaVuSans-108\"/>\n       <use x=\"357.421875\" xlink:href=\"#DejaVuSans-37\"/>\n       <use x=\"452.441406\" xlink:href=\"#DejaVuSans-50\"/>\n       <use x=\"516.064453\" xlink:href=\"#DejaVuSans-48\"/>\n       <use x=\"579.6875\" xlink:href=\"#DejaVuSans-100\"/>\n       <use x=\"643.164062\" xlink:href=\"#DejaVuSans-105\"/>\n       <use x=\"670.947266\" xlink:href=\"#DejaVuSans-115\"/>\n       <use x=\"723.046875\" xlink:href=\"#DejaVuSans-97\"/>\n       <use x=\"784.326172\" xlink:href=\"#DejaVuSans-115\"/>\n       <use x=\"836.425781\" xlink:href=\"#DejaVuSans-116\"/>\n       <use x=\"875.634766\" xlink:href=\"#DejaVuSans-101\"/>\n       <use x=\"937.158203\" xlink:href=\"#DejaVuSans-114\"/>\n      </g>\n     </g>\n    </g>\n    <g id=\"xtick_9\">\n     <g id=\"line2d_9\">\n      <path clip-path=\"url(#p6456fcfb4f)\" d=\"M 49.216514 224.64 \nL 49.216514 7.2 \n\" style=\"fill:none;stroke:#cccccc;stroke-linecap:round;\"/>\n     </g>\n     <g id=\"text_9\">\n      <!-- nuclear%20disaster -->\n      <g style=\"fill:#262626;\" transform=\"translate(52.251827 343.510937)rotate(-90)scale(0.11 -0.11)\">\n       <use xlink:href=\"#DejaVuSans-110\"/>\n       <use x=\"63.378906\" xlink:href=\"#DejaVuSans-117\"/>\n       <use x=\"126.757812\" xlink:href=\"#DejaVuSans-99\"/>\n       <use x=\"181.738281\" xlink:href=\"#DejaVuSans-108\"/>\n       <use x=\"209.521484\" xlink:href=\"#DejaVuSans-101\"/>\n       <use x=\"271.044922\" xlink:href=\"#DejaVuSans-97\"/>\n       <use x=\"332.324219\" xlink:href=\"#DejaVuSans-114\"/>\n       <use x=\"373.4375\" xlink:href=\"#DejaVuSans-37\"/>\n       <use x=\"468.457031\" xlink:href=\"#DejaVuSans-50\"/>\n       <use x=\"532.080078\" xlink:href=\"#DejaVuSans-48\"/>\n       <use x=\"595.703125\" xlink:href=\"#DejaVuSans-100\"/>\n       <use x=\"659.179688\" xlink:href=\"#DejaVuSans-105\"/>\n       <use x=\"686.962891\" xlink:href=\"#DejaVuSans-115\"/>\n       <use x=\"739.0625\" xlink:href=\"#DejaVuSans-97\"/>\n       <use x=\"800.341797\" xlink:href=\"#DejaVuSans-115\"/>\n       <use x=\"852.441406\" xlink:href=\"#DejaVuSans-116\"/>\n       <use x=\"891.650391\" xlink:href=\"#DejaVuSans-101\"/>\n       <use x=\"953.173828\" xlink:href=\"#DejaVuSans-114\"/>\n      </g>\n     </g>\n    </g>\n    <g id=\"xtick_10\">\n     <g id=\"line2d_10\">\n      <path clip-path=\"url(#p6456fcfb4f)\" d=\"M 50.983935 224.64 \nL 50.983935 7.2 \n\" style=\"fill:none;stroke:#cccccc;stroke-linecap:round;\"/>\n     </g>\n     <g id=\"text_10\">\n      <!-- nuclear%20reactor -->\n      <g style=\"fill:#262626;\" transform=\"translate(54.019248 339.064531)rotate(-90)scale(0.11 -0.11)\">\n       <use xlink:href=\"#DejaVuSans-110\"/>\n       <use x=\"63.378906\" xlink:href=\"#DejaVuSans-117\"/>\n       <use x=\"126.757812\" xlink:href=\"#DejaVuSans-99\"/>\n       <use x=\"181.738281\" xlink:href=\"#DejaVuSans-108\"/>\n       <use x=\"209.521484\" xlink:href=\"#DejaVuSans-101\"/>\n       <use x=\"271.044922\" xlink:href=\"#DejaVuSans-97\"/>\n       <use x=\"332.324219\" xlink:href=\"#DejaVuSans-114\"/>\n       <use x=\"373.4375\" xlink:href=\"#DejaVuSans-37\"/>\n       <use x=\"468.457031\" xlink:href=\"#DejaVuSans-50\"/>\n       <use x=\"532.080078\" xlink:href=\"#DejaVuSans-48\"/>\n       <use x=\"595.703125\" xlink:href=\"#DejaVuSans-114\"/>\n       <use x=\"634.566406\" xlink:href=\"#DejaVuSans-101\"/>\n       <use x=\"696.089844\" xlink:href=\"#DejaVuSans-97\"/>\n       <use x=\"757.369141\" xlink:href=\"#DejaVuSans-99\"/>\n       <use x=\"812.349609\" xlink:href=\"#DejaVuSans-116\"/>\n       <use x=\"851.558594\" xlink:href=\"#DejaVuSans-111\"/>\n       <use x=\"912.740234\" xlink:href=\"#DejaVuSans-114\"/>\n      </g>\n     </g>\n    </g>\n    <g id=\"xtick_11\">\n     <g id=\"line2d_11\">\n      <path clip-path=\"url(#p6456fcfb4f)\" d=\"M 52.751356 224.64 \nL 52.751356 7.2 \n\" style=\"fill:none;stroke:#cccccc;stroke-linecap:round;\"/>\n     </g>\n     <g id=\"text_11\">\n      <!-- obliterate -->\n      <g style=\"fill:#262626;\" transform=\"translate(55.786669 287.390312)rotate(-90)scale(0.11 -0.11)\">\n       <use xlink:href=\"#DejaVuSans-111\"/>\n       <use x=\"61.181641\" xlink:href=\"#DejaVuSans-98\"/>\n       <use x=\"124.658203\" xlink:href=\"#DejaVuSans-108\"/>\n       <use x=\"152.441406\" xlink:href=\"#DejaVuSans-105\"/>\n       <use x=\"180.224609\" xlink:href=\"#DejaVuSans-116\"/>\n       <use x=\"219.433594\" xlink:href=\"#DejaVuSans-101\"/>\n       <use x=\"280.957031\" xlink:href=\"#DejaVuSans-114\"/>\n       <use x=\"322.070312\" xlink:href=\"#DejaVuSans-97\"/>\n       <use x=\"383.349609\" xlink:href=\"#DejaVuSans-116\"/>\n       <use x=\"422.558594\" xlink:href=\"#DejaVuSans-101\"/>\n      </g>\n     </g>\n    </g>\n    <g id=\"xtick_12\">\n     <g id=\"line2d_12\">\n      <path clip-path=\"url(#p6456fcfb4f)\" d=\"M 54.518777 224.64 \nL 54.518777 7.2 \n\" style=\"fill:none;stroke:#cccccc;stroke-linecap:round;\"/>\n     </g>\n     <g id=\"text_12\">\n      <!-- obliterated -->\n      <g style=\"fill:#262626;\" transform=\"translate(57.554089 294.373594)rotate(-90)scale(0.11 -0.11)\">\n       <use xlink:href=\"#DejaVuSans-111\"/>\n       <use x=\"61.181641\" xlink:href=\"#DejaVuSans-98\"/>\n       <use x=\"124.658203\" xlink:href=\"#DejaVuSans-108\"/>\n       <use x=\"152.441406\" xlink:href=\"#DejaVuSans-105\"/>\n       <use x=\"180.224609\" xlink:href=\"#DejaVuSans-116\"/>\n       <use x=\"219.433594\" xlink:href=\"#DejaVuSans-101\"/>\n       <use x=\"280.957031\" xlink:href=\"#DejaVuSans-114\"/>\n       <use x=\"322.070312\" xlink:href=\"#DejaVuSans-97\"/>\n       <use x=\"383.349609\" xlink:href=\"#DejaVuSans-116\"/>\n       <use x=\"422.558594\" xlink:href=\"#DejaVuSans-101\"/>\n       <use x=\"484.082031\" xlink:href=\"#DejaVuSans-100\"/>\n      </g>\n     </g>\n    </g>\n    <g id=\"xtick_13\">\n     <g id=\"line2d_13\">\n      <path clip-path=\"url(#p6456fcfb4f)\" d=\"M 56.286198 224.64 \nL 56.286198 7.2 \n\" style=\"fill:none;stroke:#cccccc;stroke-linecap:round;\"/>\n     </g>\n     <g id=\"text_13\">\n      <!-- obliteration -->\n      <g style=\"fill:#262626;\" transform=\"translate(59.32151 297.379687)rotate(-90)scale(0.11 -0.11)\">\n       <use xlink:href=\"#DejaVuSans-111\"/>\n       <use x=\"61.181641\" xlink:href=\"#DejaVuSans-98\"/>\n       <use x=\"124.658203\" xlink:href=\"#DejaVuSans-108\"/>\n       <use x=\"152.441406\" xlink:href=\"#DejaVuSans-105\"/>\n       <use x=\"180.224609\" xlink:href=\"#DejaVuSans-116\"/>\n       <use x=\"219.433594\" xlink:href=\"#DejaVuSans-101\"/>\n       <use x=\"280.957031\" xlink:href=\"#DejaVuSans-114\"/>\n       <use x=\"322.070312\" xlink:href=\"#DejaVuSans-97\"/>\n       <use x=\"383.349609\" xlink:href=\"#DejaVuSans-116\"/>\n       <use x=\"422.558594\" xlink:href=\"#DejaVuSans-105\"/>\n       <use x=\"450.341797\" xlink:href=\"#DejaVuSans-111\"/>\n       <use x=\"511.523438\" xlink:href=\"#DejaVuSans-110\"/>\n      </g>\n     </g>\n    </g>\n    <g id=\"xtick_14\">\n     <g id=\"line2d_14\">\n      <path clip-path=\"url(#p6456fcfb4f)\" d=\"M 58.053618 224.64 \nL 58.053618 7.2 \n\" style=\"fill:none;stroke:#cccccc;stroke-linecap:round;\"/>\n     </g>\n     <g id=\"text_14\">\n      <!-- outbreak -->\n      <defs>\n       <path d=\"M 9.078125 75.984375 \nL 18.109375 75.984375 \nL 18.109375 31.109375 \nL 44.921875 54.6875 \nL 56.390625 54.6875 \nL 27.390625 29.109375 \nL 57.625 0 \nL 45.90625 0 \nL 18.109375 26.703125 \nL 18.109375 0 \nL 9.078125 0 \nz\n\" id=\"DejaVuSans-107\"/>\n      </defs>\n      <g style=\"fill:#262626;\" transform=\"translate(61.088931 283.291094)rotate(-90)scale(0.11 -0.11)\">\n       <use xlink:href=\"#DejaVuSans-111\"/>\n       <use x=\"61.181641\" xlink:href=\"#DejaVuSans-117\"/>\n       <use x=\"124.560547\" xlink:href=\"#DejaVuSans-116\"/>\n       <use x=\"163.769531\" xlink:href=\"#DejaVuSans-98\"/>\n       <use x=\"227.246094\" xlink:href=\"#DejaVuSans-114\"/>\n       <use x=\"266.109375\" xlink:href=\"#DejaVuSans-101\"/>\n       <use x=\"327.632812\" xlink:href=\"#DejaVuSans-97\"/>\n       <use x=\"388.912109\" xlink:href=\"#DejaVuSans-107\"/>\n      </g>\n     </g>\n    </g>\n    <g id=\"xtick_15\">\n     <g id=\"line2d_15\">\n      <path clip-path=\"url(#p6456fcfb4f)\" d=\"M 59.821039 224.64 \nL 59.821039 7.2 \n\" style=\"fill:none;stroke:#cccccc;stroke-linecap:round;\"/>\n     </g>\n     <g id=\"text_15\">\n      <!-- mass%20murder -->\n      <g style=\"fill:#262626;\" transform=\"translate(62.856352 327.794687)rotate(-90)scale(0.11 -0.11)\">\n       <use xlink:href=\"#DejaVuSans-109\"/>\n       <use x=\"97.412109\" xlink:href=\"#DejaVuSans-97\"/>\n       <use x=\"158.691406\" xlink:href=\"#DejaVuSans-115\"/>\n       <use x=\"210.791016\" xlink:href=\"#DejaVuSans-115\"/>\n       <use x=\"262.890625\" xlink:href=\"#DejaVuSans-37\"/>\n       <use x=\"357.910156\" xlink:href=\"#DejaVuSans-50\"/>\n       <use x=\"421.533203\" xlink:href=\"#DejaVuSans-48\"/>\n       <use x=\"485.15625\" xlink:href=\"#DejaVuSans-109\"/>\n       <use x=\"582.568359\" xlink:href=\"#DejaVuSans-117\"/>\n       <use x=\"645.947266\" xlink:href=\"#DejaVuSans-114\"/>\n       <use x=\"685.310547\" xlink:href=\"#DejaVuSans-100\"/>\n       <use x=\"748.787109\" xlink:href=\"#DejaVuSans-101\"/>\n       <use x=\"810.310547\" xlink:href=\"#DejaVuSans-114\"/>\n      </g>\n     </g>\n    </g>\n    <g id=\"xtick_16\">\n     <g id=\"line2d_16\">\n      <path clip-path=\"url(#p6456fcfb4f)\" d=\"M 61.58846 224.64 \nL 61.58846 7.2 \n\" style=\"fill:none;stroke:#cccccc;stroke-linecap:round;\"/>\n     </g>\n     <g id=\"text_16\">\n      <!-- pandemonium -->\n      <g style=\"fill:#262626;\" transform=\"translate(64.623773 313.745625)rotate(-90)scale(0.11 -0.11)\">\n       <use xlink:href=\"#DejaVuSans-112\"/>\n       <use x=\"63.476562\" xlink:href=\"#DejaVuSans-97\"/>\n       <use x=\"124.755859\" xlink:href=\"#DejaVuSans-110\"/>\n       <use x=\"188.134766\" xlink:href=\"#DejaVuSans-100\"/>\n       <use x=\"251.611328\" xlink:href=\"#DejaVuSans-101\"/>\n       <use x=\"313.134766\" xlink:href=\"#DejaVuSans-109\"/>\n       <use x=\"410.546875\" xlink:href=\"#DejaVuSans-111\"/>\n       <use x=\"471.728516\" xlink:href=\"#DejaVuSans-110\"/>\n       <use x=\"535.107422\" xlink:href=\"#DejaVuSans-105\"/>\n       <use x=\"562.890625\" xlink:href=\"#DejaVuSans-117\"/>\n       <use x=\"626.269531\" xlink:href=\"#DejaVuSans-109\"/>\n      </g>\n     </g>\n    </g>\n    <g id=\"xtick_17\">\n     <g id=\"line2d_17\">\n      <path clip-path=\"url(#p6456fcfb4f)\" d=\"M 63.355881 224.64 \nL 63.355881 7.2 \n\" style=\"fill:none;stroke:#cccccc;stroke-linecap:round;\"/>\n     </g>\n     <g id=\"text_17\">\n      <!-- panic -->\n      <g style=\"fill:#262626;\" transform=\"translate(66.391193 263.939687)rotate(-90)scale(0.11 -0.11)\">\n       <use xlink:href=\"#DejaVuSans-112\"/>\n       <use x=\"63.476562\" xlink:href=\"#DejaVuSans-97\"/>\n       <use x=\"124.755859\" xlink:href=\"#DejaVuSans-110\"/>\n       <use x=\"188.134766\" xlink:href=\"#DejaVuSans-105\"/>\n       <use x=\"215.917969\" xlink:href=\"#DejaVuSans-99\"/>\n      </g>\n     </g>\n    </g>\n    <g id=\"xtick_18\">\n     <g id=\"line2d_18\">\n      <path clip-path=\"url(#p6456fcfb4f)\" d=\"M 65.123302 224.64 \nL 65.123302 7.2 \n\" style=\"fill:none;stroke:#cccccc;stroke-linecap:round;\"/>\n     </g>\n     <g id=\"text_18\">\n      <!-- panicking -->\n      <defs>\n       <path d=\"M 45.40625 27.984375 \nQ 45.40625 37.75 41.375 43.109375 \nQ 37.359375 48.484375 30.078125 48.484375 \nQ 22.859375 48.484375 18.828125 43.109375 \nQ 14.796875 37.75 14.796875 27.984375 \nQ 14.796875 18.265625 18.828125 12.890625 \nQ 22.859375 7.515625 30.078125 7.515625 \nQ 37.359375 7.515625 41.375 12.890625 \nQ 45.40625 18.265625 45.40625 27.984375 \nz\nM 54.390625 6.78125 \nQ 54.390625 -7.171875 48.1875 -13.984375 \nQ 42 -20.796875 29.203125 -20.796875 \nQ 24.46875 -20.796875 20.265625 -20.09375 \nQ 16.0625 -19.390625 12.109375 -17.921875 \nL 12.109375 -9.1875 \nQ 16.0625 -11.328125 19.921875 -12.34375 \nQ 23.78125 -13.375 27.78125 -13.375 \nQ 36.625 -13.375 41.015625 -8.765625 \nQ 45.40625 -4.15625 45.40625 5.171875 \nL 45.40625 9.625 \nQ 42.625 4.78125 38.28125 2.390625 \nQ 33.9375 0 27.875 0 \nQ 17.828125 0 11.671875 7.65625 \nQ 5.515625 15.328125 5.515625 27.984375 \nQ 5.515625 40.671875 11.671875 48.328125 \nQ 17.828125 56 27.875 56 \nQ 33.9375 56 38.28125 53.609375 \nQ 42.625 51.21875 45.40625 46.390625 \nL 45.40625 54.6875 \nL 54.390625 54.6875 \nz\n\" id=\"DejaVuSans-103\"/>\n      </defs>\n      <g style=\"fill:#262626;\" transform=\"translate(68.158614 287.319844)rotate(-90)scale(0.11 -0.11)\">\n       <use xlink:href=\"#DejaVuSans-112\"/>\n       <use x=\"63.476562\" xlink:href=\"#DejaVuSans-97\"/>\n       <use x=\"124.755859\" xlink:href=\"#DejaVuSans-110\"/>\n       <use x=\"188.134766\" xlink:href=\"#DejaVuSans-105\"/>\n       <use x=\"215.917969\" xlink:href=\"#DejaVuSans-99\"/>\n       <use x=\"270.898438\" xlink:href=\"#DejaVuSans-107\"/>\n       <use x=\"328.808594\" xlink:href=\"#DejaVuSans-105\"/>\n       <use x=\"356.591797\" xlink:href=\"#DejaVuSans-110\"/>\n       <use x=\"419.970703\" xlink:href=\"#DejaVuSans-103\"/>\n      </g>\n     </g>\n    </g>\n    <g id=\"xtick_19\">\n     <g id=\"line2d_19\">\n      <path clip-path=\"url(#p6456fcfb4f)\" d=\"M 66.890723 224.64 \nL 66.890723 7.2 \n\" style=\"fill:none;stroke:#cccccc;stroke-linecap:round;\"/>\n     </g>\n     <g id=\"text_19\">\n      <!-- police -->\n      <g style=\"fill:#262626;\" transform=\"translate(69.926035 266.7825)rotate(-90)scale(0.11 -0.11)\">\n       <use xlink:href=\"#DejaVuSans-112\"/>\n       <use x=\"63.476562\" xlink:href=\"#DejaVuSans-111\"/>\n       <use x=\"124.658203\" xlink:href=\"#DejaVuSans-108\"/>\n       <use x=\"152.441406\" xlink:href=\"#DejaVuSans-105\"/>\n       <use x=\"180.224609\" xlink:href=\"#DejaVuSans-99\"/>\n       <use x=\"235.205078\" xlink:href=\"#DejaVuSans-101\"/>\n      </g>\n     </g>\n    </g>\n    <g id=\"xtick_20\">\n     <g id=\"line2d_20\">\n      <path clip-path=\"url(#p6456fcfb4f)\" d=\"M 68.658143 224.64 \nL 68.658143 7.2 \n\" style=\"fill:none;stroke:#cccccc;stroke-linecap:round;\"/>\n     </g>\n     <g id=\"text_20\">\n      <!-- quarantine -->\n      <defs>\n       <path d=\"M 14.796875 27.296875 \nQ 14.796875 17.390625 18.875 11.75 \nQ 22.953125 6.109375 30.078125 6.109375 \nQ 37.203125 6.109375 41.296875 11.75 \nQ 45.40625 17.390625 45.40625 27.296875 \nQ 45.40625 37.203125 41.296875 42.84375 \nQ 37.203125 48.484375 30.078125 48.484375 \nQ 22.953125 48.484375 18.875 42.84375 \nQ 14.796875 37.203125 14.796875 27.296875 \nz\nM 45.40625 8.203125 \nQ 42.578125 3.328125 38.25 0.953125 \nQ 33.9375 -1.421875 27.875 -1.421875 \nQ 17.96875 -1.421875 11.734375 6.484375 \nQ 5.515625 14.40625 5.515625 27.296875 \nQ 5.515625 40.1875 11.734375 48.09375 \nQ 17.96875 56 27.875 56 \nQ 33.9375 56 38.25 53.625 \nQ 42.578125 51.265625 45.40625 46.390625 \nL 45.40625 54.6875 \nL 54.390625 54.6875 \nL 54.390625 -20.796875 \nL 45.40625 -20.796875 \nz\n\" id=\"DejaVuSans-113\"/>\n      </defs>\n      <g style=\"fill:#262626;\" transform=\"translate(71.693456 294.177656)rotate(-90)scale(0.11 -0.11)\">\n       <use xlink:href=\"#DejaVuSans-113\"/>\n       <use x=\"63.476562\" xlink:href=\"#DejaVuSans-117\"/>\n       <use x=\"126.855469\" xlink:href=\"#DejaVuSans-97\"/>\n       <use x=\"188.134766\" xlink:href=\"#DejaVuSans-114\"/>\n       <use x=\"229.248047\" xlink:href=\"#DejaVuSans-97\"/>\n       <use x=\"290.527344\" xlink:href=\"#DejaVuSans-110\"/>\n       <use x=\"353.90625\" xlink:href=\"#DejaVuSans-116\"/>\n       <use x=\"393.115234\" xlink:href=\"#DejaVuSans-105\"/>\n       <use x=\"420.898438\" xlink:href=\"#DejaVuSans-110\"/>\n       <use x=\"484.277344\" xlink:href=\"#DejaVuSans-101\"/>\n      </g>\n     </g>\n    </g>\n    <g id=\"xtick_21\">\n     <g id=\"line2d_21\">\n      <path clip-path=\"url(#p6456fcfb4f)\" d=\"M 70.425564 224.64 \nL 70.425564 7.2 \n\" style=\"fill:none;stroke:#cccccc;stroke-linecap:round;\"/>\n     </g>\n     <g id=\"text_21\">\n      <!-- quarantined -->\n      <g style=\"fill:#262626;\" transform=\"translate(73.460877 301.160937)rotate(-90)scale(0.11 -0.11)\">\n       <use xlink:href=\"#DejaVuSans-113\"/>\n       <use x=\"63.476562\" xlink:href=\"#DejaVuSans-117\"/>\n       <use x=\"126.855469\" xlink:href=\"#DejaVuSans-97\"/>\n       <use x=\"188.134766\" xlink:href=\"#DejaVuSans-114\"/>\n       <use x=\"229.248047\" xlink:href=\"#DejaVuSans-97\"/>\n       <use x=\"290.527344\" xlink:href=\"#DejaVuSans-110\"/>\n       <use x=\"353.90625\" xlink:href=\"#DejaVuSans-116\"/>\n       <use x=\"393.115234\" xlink:href=\"#DejaVuSans-105\"/>\n       <use x=\"420.898438\" xlink:href=\"#DejaVuSans-110\"/>\n       <use x=\"484.277344\" xlink:href=\"#DejaVuSans-101\"/>\n       <use x=\"545.800781\" xlink:href=\"#DejaVuSans-100\"/>\n      </g>\n     </g>\n    </g>\n    <g id=\"xtick_22\">\n     <g id=\"line2d_22\">\n      <path clip-path=\"url(#p6456fcfb4f)\" d=\"M 72.192985 224.64 \nL 72.192985 7.2 \n\" style=\"fill:none;stroke:#cccccc;stroke-linecap:round;\"/>\n     </g>\n     <g id=\"text_22\">\n      <!-- radiation%20emergency -->\n      <g style=\"fill:#262626;\" transform=\"translate(75.228298 369.565469)rotate(-90)scale(0.11 -0.11)\">\n       <use xlink:href=\"#DejaVuSans-114\"/>\n       <use x=\"41.113281\" xlink:href=\"#DejaVuSans-97\"/>\n       <use x=\"102.392578\" xlink:href=\"#DejaVuSans-100\"/>\n       <use x=\"165.869141\" xlink:href=\"#DejaVuSans-105\"/>\n       <use x=\"193.652344\" xlink:href=\"#DejaVuSans-97\"/>\n       <use x=\"254.931641\" xlink:href=\"#DejaVuSans-116\"/>\n       <use x=\"294.140625\" xlink:href=\"#DejaVuSans-105\"/>\n       <use x=\"321.923828\" xlink:href=\"#DejaVuSans-111\"/>\n       <use x=\"383.105469\" xlink:href=\"#DejaVuSans-110\"/>\n       <use x=\"446.484375\" xlink:href=\"#DejaVuSans-37\"/>\n       <use x=\"541.503906\" xlink:href=\"#DejaVuSans-50\"/>\n       <use x=\"605.126953\" xlink:href=\"#DejaVuSans-48\"/>\n       <use x=\"668.75\" xlink:href=\"#DejaVuSans-101\"/>\n       <use x=\"730.273438\" xlink:href=\"#DejaVuSans-109\"/>\n       <use x=\"827.685547\" xlink:href=\"#DejaVuSans-101\"/>\n       <use x=\"889.208984\" xlink:href=\"#DejaVuSans-114\"/>\n       <use x=\"928.572266\" xlink:href=\"#DejaVuSans-103\"/>\n       <use x=\"992.048828\" xlink:href=\"#DejaVuSans-101\"/>\n       <use x=\"1053.572266\" xlink:href=\"#DejaVuSans-110\"/>\n       <use x=\"1116.951172\" xlink:href=\"#DejaVuSans-99\"/>\n       <use x=\"1171.931641\" xlink:href=\"#DejaVuSans-121\"/>\n      </g>\n     </g>\n    </g>\n    <g id=\"xtick_23\">\n     <g id=\"line2d_23\">\n      <path clip-path=\"url(#p6456fcfb4f)\" d=\"M 73.960406 224.64 \nL 73.960406 7.2 \n\" style=\"fill:none;stroke:#cccccc;stroke-linecap:round;\"/>\n     </g>\n     <g id=\"text_23\">\n      <!-- rainstorm -->\n      <g style=\"fill:#262626;\" transform=\"translate(76.995718 287.247656)rotate(-90)scale(0.11 -0.11)\">\n       <use xlink:href=\"#DejaVuSans-114\"/>\n       <use x=\"41.113281\" xlink:href=\"#DejaVuSans-97\"/>\n       <use x=\"102.392578\" xlink:href=\"#DejaVuSans-105\"/>\n       <use x=\"130.175781\" xlink:href=\"#DejaVuSans-110\"/>\n       <use x=\"193.554688\" xlink:href=\"#DejaVuSans-115\"/>\n       <use x=\"245.654297\" xlink:href=\"#DejaVuSans-116\"/>\n       <use x=\"284.863281\" xlink:href=\"#DejaVuSans-111\"/>\n       <use x=\"346.044922\" xlink:href=\"#DejaVuSans-114\"/>\n       <use x=\"385.408203\" xlink:href=\"#DejaVuSans-109\"/>\n      </g>\n     </g>\n    </g>\n    <g id=\"xtick_24\">\n     <g id=\"line2d_24\">\n      <path clip-path=\"url(#p6456fcfb4f)\" d=\"M 75.727827 224.64 \nL 75.727827 7.2 \n\" style=\"fill:none;stroke:#cccccc;stroke-linecap:round;\"/>\n     </g>\n     <g id=\"text_24\">\n      <!-- razed -->\n      <g style=\"fill:#262626;\" transform=\"translate(78.763139 264.927969)rotate(-90)scale(0.11 -0.11)\">\n       <use xlink:href=\"#DejaVuSans-114\"/>\n       <use x=\"41.113281\" xlink:href=\"#DejaVuSans-97\"/>\n       <use x=\"102.392578\" xlink:href=\"#DejaVuSans-122\"/>\n       <use x=\"154.882812\" xlink:href=\"#DejaVuSans-101\"/>\n       <use x=\"216.40625\" xlink:href=\"#DejaVuSans-100\"/>\n      </g>\n     </g>\n    </g>\n    <g id=\"xtick_25\">\n     <g id=\"line2d_25\">\n      <path clip-path=\"url(#p6456fcfb4f)\" d=\"M 77.495247 224.64 \nL 77.495247 7.2 \n\" style=\"fill:none;stroke:#cccccc;stroke-linecap:round;\"/>\n     </g>\n     <g id=\"text_25\">\n      <!-- refugees -->\n      <defs>\n       <path d=\"M 37.109375 75.984375 \nL 37.109375 68.5 \nL 28.515625 68.5 \nQ 23.6875 68.5 21.796875 66.546875 \nQ 19.921875 64.59375 19.921875 59.515625 \nL 19.921875 54.6875 \nL 34.71875 54.6875 \nL 34.71875 47.703125 \nL 19.921875 47.703125 \nL 19.921875 0 \nL 10.890625 0 \nL 10.890625 47.703125 \nL 2.296875 47.703125 \nL 2.296875 54.6875 \nL 10.890625 54.6875 \nL 10.890625 58.5 \nQ 10.890625 67.625 15.140625 71.796875 \nQ 19.390625 75.984375 28.609375 75.984375 \nz\n\" id=\"DejaVuSans-102\"/>\n      </defs>\n      <g style=\"fill:#262626;\" transform=\"translate(80.53056 282.277031)rotate(-90)scale(0.11 -0.11)\">\n       <use xlink:href=\"#DejaVuSans-114\"/>\n       <use x=\"38.863281\" xlink:href=\"#DejaVuSans-101\"/>\n       <use x=\"100.386719\" xlink:href=\"#DejaVuSans-102\"/>\n       <use x=\"135.591797\" xlink:href=\"#DejaVuSans-117\"/>\n       <use x=\"198.970703\" xlink:href=\"#DejaVuSans-103\"/>\n       <use x=\"262.447266\" xlink:href=\"#DejaVuSans-101\"/>\n       <use x=\"323.970703\" xlink:href=\"#DejaVuSans-101\"/>\n       <use x=\"385.494141\" xlink:href=\"#DejaVuSans-115\"/>\n      </g>\n     </g>\n    </g>\n    <g id=\"xtick_26\">\n     <g id=\"line2d_26\">\n      <path clip-path=\"url(#p6456fcfb4f)\" d=\"M 79.262668 224.64 \nL 79.262668 7.2 \n\" style=\"fill:none;stroke:#cccccc;stroke-linecap:round;\"/>\n     </g>\n     <g id=\"text_26\">\n      <!-- rescue -->\n      <g style=\"fill:#262626;\" transform=\"translate(82.297981 270.70125)rotate(-90)scale(0.11 -0.11)\">\n       <use xlink:href=\"#DejaVuSans-114\"/>\n       <use x=\"38.863281\" xlink:href=\"#DejaVuSans-101\"/>\n       <use x=\"100.386719\" xlink:href=\"#DejaVuSans-115\"/>\n       <use x=\"152.486328\" xlink:href=\"#DejaVuSans-99\"/>\n       <use x=\"207.466797\" xlink:href=\"#DejaVuSans-117\"/>\n       <use x=\"270.845703\" xlink:href=\"#DejaVuSans-101\"/>\n      </g>\n     </g>\n    </g>\n    <g id=\"xtick_27\">\n     <g id=\"line2d_27\">\n      <path clip-path=\"url(#p6456fcfb4f)\" d=\"M 81.030089 224.64 \nL 81.030089 7.2 \n\" style=\"fill:none;stroke:#cccccc;stroke-linecap:round;\"/>\n     </g>\n     <g id=\"text_27\">\n      <!-- mass%20murderer -->\n      <g style=\"fill:#262626;\" transform=\"translate(84.065402 338.837656)rotate(-90)scale(0.11 -0.11)\">\n       <use xlink:href=\"#DejaVuSans-109\"/>\n       <use x=\"97.412109\" xlink:href=\"#DejaVuSans-97\"/>\n       <use x=\"158.691406\" xlink:href=\"#DejaVuSans-115\"/>\n       <use x=\"210.791016\" xlink:href=\"#DejaVuSans-115\"/>\n       <use x=\"262.890625\" xlink:href=\"#DejaVuSans-37\"/>\n       <use x=\"357.910156\" xlink:href=\"#DejaVuSans-50\"/>\n       <use x=\"421.533203\" xlink:href=\"#DejaVuSans-48\"/>\n       <use x=\"485.15625\" xlink:href=\"#DejaVuSans-109\"/>\n       <use x=\"582.568359\" xlink:href=\"#DejaVuSans-117\"/>\n       <use x=\"645.947266\" xlink:href=\"#DejaVuSans-114\"/>\n       <use x=\"685.310547\" xlink:href=\"#DejaVuSans-100\"/>\n       <use x=\"748.787109\" xlink:href=\"#DejaVuSans-101\"/>\n       <use x=\"810.310547\" xlink:href=\"#DejaVuSans-114\"/>\n       <use x=\"849.173828\" xlink:href=\"#DejaVuSans-101\"/>\n       <use x=\"910.697266\" xlink:href=\"#DejaVuSans-114\"/>\n      </g>\n     </g>\n    </g>\n    <g id=\"xtick_28\">\n     <g id=\"line2d_28\">\n      <path clip-path=\"url(#p6456fcfb4f)\" d=\"M 82.79751 224.64 \nL 82.79751 7.2 \n\" style=\"fill:none;stroke:#cccccc;stroke-linecap:round;\"/>\n     </g>\n     <g id=\"text_28\">\n      <!-- loud%20bang -->\n      <g style=\"fill:#262626;\" transform=\"translate(85.832822 310.009062)rotate(-90)scale(0.11 -0.11)\">\n       <use xlink:href=\"#DejaVuSans-108\"/>\n       <use x=\"27.783203\" xlink:href=\"#DejaVuSans-111\"/>\n       <use x=\"88.964844\" xlink:href=\"#DejaVuSans-117\"/>\n       <use x=\"152.34375\" xlink:href=\"#DejaVuSans-100\"/>\n       <use x=\"215.820312\" xlink:href=\"#DejaVuSans-37\"/>\n       <use x=\"310.839844\" xlink:href=\"#DejaVuSans-50\"/>\n       <use x=\"374.462891\" xlink:href=\"#DejaVuSans-48\"/>\n       <use x=\"438.085938\" xlink:href=\"#DejaVuSans-98\"/>\n       <use x=\"501.5625\" xlink:href=\"#DejaVuSans-97\"/>\n       <use x=\"562.841797\" xlink:href=\"#DejaVuSans-110\"/>\n       <use x=\"626.220703\" xlink:href=\"#DejaVuSans-103\"/>\n      </g>\n     </g>\n    </g>\n    <g id=\"xtick_29\">\n     <g id=\"line2d_29\">\n      <path clip-path=\"url(#p6456fcfb4f)\" d=\"M 84.564931 224.64 \nL 84.564931 7.2 \n\" style=\"fill:none;stroke:#cccccc;stroke-linecap:round;\"/>\n     </g>\n     <g id=\"text_29\">\n      <!-- flattened -->\n      <g style=\"fill:#262626;\" transform=\"translate(87.600243 283.925312)rotate(-90)scale(0.11 -0.11)\">\n       <use xlink:href=\"#DejaVuSans-102\"/>\n       <use x=\"35.205078\" xlink:href=\"#DejaVuSans-108\"/>\n       <use x=\"62.988281\" xlink:href=\"#DejaVuSans-97\"/>\n       <use x=\"124.267578\" xlink:href=\"#DejaVuSans-116\"/>\n       <use x=\"163.476562\" xlink:href=\"#DejaVuSans-116\"/>\n       <use x=\"202.685547\" xlink:href=\"#DejaVuSans-101\"/>\n       <use x=\"264.208984\" xlink:href=\"#DejaVuSans-110\"/>\n       <use x=\"327.587891\" xlink:href=\"#DejaVuSans-101\"/>\n       <use x=\"389.111328\" xlink:href=\"#DejaVuSans-100\"/>\n      </g>\n     </g>\n    </g>\n    <g id=\"xtick_30\">\n     <g id=\"line2d_30\">\n      <path clip-path=\"url(#p6456fcfb4f)\" d=\"M 86.332352 224.64 \nL 86.332352 7.2 \n\" style=\"fill:none;stroke:#cccccc;stroke-linecap:round;\"/>\n     </g>\n     <g id=\"text_30\">\n      <!-- hijack -->\n      <defs>\n       <path d=\"M 9.421875 54.6875 \nL 18.40625 54.6875 \nL 18.40625 -0.984375 \nQ 18.40625 -11.421875 14.421875 -16.109375 \nQ 10.453125 -20.796875 1.609375 -20.796875 \nL -1.8125 -20.796875 \nL -1.8125 -13.1875 \nL 0.59375 -13.1875 \nQ 5.71875 -13.1875 7.5625 -10.8125 \nQ 9.421875 -8.453125 9.421875 -0.984375 \nz\nM 9.421875 75.984375 \nL 18.40625 75.984375 \nL 18.40625 64.59375 \nL 9.421875 64.59375 \nz\n\" id=\"DejaVuSans-106\"/>\n      </defs>\n      <g style=\"fill:#262626;\" transform=\"translate(89.367664 266.382031)rotate(-90)scale(0.11 -0.11)\">\n       <use xlink:href=\"#DejaVuSans-104\"/>\n       <use x=\"63.378906\" xlink:href=\"#DejaVuSans-105\"/>\n       <use x=\"91.162109\" xlink:href=\"#DejaVuSans-106\"/>\n       <use x=\"118.945312\" xlink:href=\"#DejaVuSans-97\"/>\n       <use x=\"180.224609\" xlink:href=\"#DejaVuSans-99\"/>\n       <use x=\"235.205078\" xlink:href=\"#DejaVuSans-107\"/>\n      </g>\n     </g>\n    </g>\n    <g id=\"xtick_31\">\n     <g id=\"line2d_31\">\n      <path clip-path=\"url(#p6456fcfb4f)\" d=\"M 88.099772 224.64 \nL 88.099772 7.2 \n\" style=\"fill:none;stroke:#cccccc;stroke-linecap:round;\"/>\n     </g>\n     <g id=\"text_31\">\n      <!-- flooding -->\n      <g style=\"fill:#262626;\" transform=\"translate(91.135085 278.523281)rotate(-90)scale(0.11 -0.11)\">\n       <use xlink:href=\"#DejaVuSans-102\"/>\n       <use x=\"35.205078\" xlink:href=\"#DejaVuSans-108\"/>\n       <use x=\"62.988281\" xlink:href=\"#DejaVuSans-111\"/>\n       <use x=\"124.169922\" xlink:href=\"#DejaVuSans-111\"/>\n       <use x=\"185.351562\" xlink:href=\"#DejaVuSans-100\"/>\n       <use x=\"248.828125\" xlink:href=\"#DejaVuSans-105\"/>\n       <use x=\"276.611328\" xlink:href=\"#DejaVuSans-110\"/>\n       <use x=\"339.990234\" xlink:href=\"#DejaVuSans-103\"/>\n      </g>\n     </g>\n    </g>\n    <g id=\"xtick_32\">\n     <g id=\"line2d_32\">\n      <path clip-path=\"url(#p6456fcfb4f)\" d=\"M 89.867193 224.64 \nL 89.867193 7.2 \n\" style=\"fill:none;stroke:#cccccc;stroke-linecap:round;\"/>\n     </g>\n     <g id=\"text_32\">\n      <!-- floods -->\n      <g style=\"fill:#262626;\" transform=\"translate(92.902506 267.243125)rotate(-90)scale(0.11 -0.11)\">\n       <use xlink:href=\"#DejaVuSans-102\"/>\n       <use x=\"35.205078\" xlink:href=\"#DejaVuSans-108\"/>\n       <use x=\"62.988281\" xlink:href=\"#DejaVuSans-111\"/>\n       <use x=\"124.169922\" xlink:href=\"#DejaVuSans-111\"/>\n       <use x=\"185.351562\" xlink:href=\"#DejaVuSans-100\"/>\n       <use x=\"248.828125\" xlink:href=\"#DejaVuSans-115\"/>\n      </g>\n     </g>\n    </g>\n    <g id=\"xtick_33\">\n     <g id=\"line2d_33\">\n      <path clip-path=\"url(#p6456fcfb4f)\" d=\"M 91.634614 224.64 \nL 91.634614 7.2 \n\" style=\"fill:none;stroke:#cccccc;stroke-linecap:round;\"/>\n     </g>\n     <g id=\"text_33\">\n      <!-- forest%20fire -->\n      <g style=\"fill:#262626;\" transform=\"translate(94.669926 308.249062)rotate(-90)scale(0.11 -0.11)\">\n       <use xlink:href=\"#DejaVuSans-102\"/>\n       <use x=\"35.205078\" xlink:href=\"#DejaVuSans-111\"/>\n       <use x=\"96.386719\" xlink:href=\"#DejaVuSans-114\"/>\n       <use x=\"135.25\" xlink:href=\"#DejaVuSans-101\"/>\n       <use x=\"196.773438\" xlink:href=\"#DejaVuSans-115\"/>\n       <use x=\"248.873047\" xlink:href=\"#DejaVuSans-116\"/>\n       <use x=\"288.082031\" xlink:href=\"#DejaVuSans-37\"/>\n       <use x=\"383.101562\" xlink:href=\"#DejaVuSans-50\"/>\n       <use x=\"446.724609\" xlink:href=\"#DejaVuSans-48\"/>\n       <use x=\"510.347656\" xlink:href=\"#DejaVuSans-102\"/>\n       <use x=\"545.552734\" xlink:href=\"#DejaVuSans-105\"/>\n       <use x=\"573.335938\" xlink:href=\"#DejaVuSans-114\"/>\n       <use x=\"612.199219\" xlink:href=\"#DejaVuSans-101\"/>\n      </g>\n     </g>\n    </g>\n    <g id=\"xtick_34\">\n     <g id=\"line2d_34\">\n      <path clip-path=\"url(#p6456fcfb4f)\" d=\"M 93.402035 224.64 \nL 93.402035 7.2 \n\" style=\"fill:none;stroke:#cccccc;stroke-linecap:round;\"/>\n     </g>\n     <g id=\"text_34\">\n      <!-- forest%20fires -->\n      <g style=\"fill:#262626;\" transform=\"translate(96.437347 313.979375)rotate(-90)scale(0.11 -0.11)\">\n       <use xlink:href=\"#DejaVuSans-102\"/>\n       <use x=\"35.205078\" xlink:href=\"#DejaVuSans-111\"/>\n       <use x=\"96.386719\" xlink:href=\"#DejaVuSans-114\"/>\n       <use x=\"135.25\" xlink:href=\"#DejaVuSans-101\"/>\n       <use x=\"196.773438\" xlink:href=\"#DejaVuSans-115\"/>\n       <use x=\"248.873047\" xlink:href=\"#DejaVuSans-116\"/>\n       <use x=\"288.082031\" xlink:href=\"#DejaVuSans-37\"/>\n       <use x=\"383.101562\" xlink:href=\"#DejaVuSans-50\"/>\n       <use x=\"446.724609\" xlink:href=\"#DejaVuSans-48\"/>\n       <use x=\"510.347656\" xlink:href=\"#DejaVuSans-102\"/>\n       <use x=\"545.552734\" xlink:href=\"#DejaVuSans-105\"/>\n       <use x=\"573.335938\" xlink:href=\"#DejaVuSans-114\"/>\n       <use x=\"612.199219\" xlink:href=\"#DejaVuSans-101\"/>\n       <use x=\"673.722656\" xlink:href=\"#DejaVuSans-115\"/>\n      </g>\n     </g>\n    </g>\n    <g id=\"xtick_35\">\n     <g id=\"line2d_35\">\n      <path clip-path=\"url(#p6456fcfb4f)\" d=\"M 95.169456 224.64 \nL 95.169456 7.2 \n\" style=\"fill:none;stroke:#cccccc;stroke-linecap:round;\"/>\n     </g>\n     <g id=\"text_35\">\n      <!-- hail -->\n      <g style=\"fill:#262626;\" transform=\"translate(98.204768 253.964062)rotate(-90)scale(0.11 -0.11)\">\n       <use xlink:href=\"#DejaVuSans-104\"/>\n       <use x=\"63.378906\" xlink:href=\"#DejaVuSans-97\"/>\n       <use x=\"124.658203\" xlink:href=\"#DejaVuSans-105\"/>\n       <use x=\"152.441406\" xlink:href=\"#DejaVuSans-108\"/>\n      </g>\n     </g>\n    </g>\n    <g id=\"xtick_36\">\n     <g id=\"line2d_36\">\n      <path clip-path=\"url(#p6456fcfb4f)\" d=\"M 96.936876 224.64 \nL 96.936876 7.2 \n\" style=\"fill:none;stroke:#cccccc;stroke-linecap:round;\"/>\n     </g>\n     <g id=\"text_36\">\n      <!-- hailstorm -->\n      <g style=\"fill:#262626;\" transform=\"translate(99.972189 285.781562)rotate(-90)scale(0.11 -0.11)\">\n       <use xlink:href=\"#DejaVuSans-104\"/>\n       <use x=\"63.378906\" xlink:href=\"#DejaVuSans-97\"/>\n       <use x=\"124.658203\" xlink:href=\"#DejaVuSans-105\"/>\n       <use x=\"152.441406\" xlink:href=\"#DejaVuSans-108\"/>\n       <use x=\"180.224609\" xlink:href=\"#DejaVuSans-115\"/>\n       <use x=\"232.324219\" xlink:href=\"#DejaVuSans-116\"/>\n       <use x=\"271.533203\" xlink:href=\"#DejaVuSans-111\"/>\n       <use x=\"332.714844\" xlink:href=\"#DejaVuSans-114\"/>\n       <use x=\"372.078125\" xlink:href=\"#DejaVuSans-109\"/>\n      </g>\n     </g>\n    </g>\n    <g id=\"xtick_37\">\n     <g id=\"line2d_37\">\n      <path clip-path=\"url(#p6456fcfb4f)\" d=\"M 98.704297 224.64 \nL 98.704297 7.2 \n\" style=\"fill:none;stroke:#cccccc;stroke-linecap:round;\"/>\n     </g>\n     <g id=\"text_37\">\n      <!-- harm -->\n      <g style=\"fill:#262626;\" transform=\"translate(101.73961 262.896406)rotate(-90)scale(0.11 -0.11)\">\n       <use xlink:href=\"#DejaVuSans-104\"/>\n       <use x=\"63.378906\" xlink:href=\"#DejaVuSans-97\"/>\n       <use x=\"124.658203\" xlink:href=\"#DejaVuSans-114\"/>\n       <use x=\"164.021484\" xlink:href=\"#DejaVuSans-109\"/>\n      </g>\n     </g>\n    </g>\n    <g id=\"xtick_38\">\n     <g id=\"line2d_38\">\n      <path clip-path=\"url(#p6456fcfb4f)\" d=\"M 100.471718 224.64 \nL 100.471718 7.2 \n\" style=\"fill:none;stroke:#cccccc;stroke-linecap:round;\"/>\n     </g>\n     <g id=\"text_38\">\n      <!-- hazard -->\n      <g style=\"fill:#262626;\" transform=\"translate(103.507031 271.679219)rotate(-90)scale(0.11 -0.11)\">\n       <use xlink:href=\"#DejaVuSans-104\"/>\n       <use x=\"63.378906\" xlink:href=\"#DejaVuSans-97\"/>\n       <use x=\"124.658203\" xlink:href=\"#DejaVuSans-122\"/>\n       <use x=\"177.148438\" xlink:href=\"#DejaVuSans-97\"/>\n       <use x=\"238.427734\" xlink:href=\"#DejaVuSans-114\"/>\n       <use x=\"277.791016\" xlink:href=\"#DejaVuSans-100\"/>\n      </g>\n     </g>\n    </g>\n    <g id=\"xtick_39\">\n     <g id=\"line2d_39\">\n      <path clip-path=\"url(#p6456fcfb4f)\" d=\"M 102.239139 224.64 \nL 102.239139 7.2 \n\" style=\"fill:none;stroke:#cccccc;stroke-linecap:round;\"/>\n     </g>\n     <g id=\"text_39\">\n      <!-- hazardous -->\n      <g style=\"fill:#262626;\" transform=\"translate(105.274451 291.111406)rotate(-90)scale(0.11 -0.11)\">\n       <use xlink:href=\"#DejaVuSans-104\"/>\n       <use x=\"63.378906\" xlink:href=\"#DejaVuSans-97\"/>\n       <use x=\"124.658203\" xlink:href=\"#DejaVuSans-122\"/>\n       <use x=\"177.148438\" xlink:href=\"#DejaVuSans-97\"/>\n       <use x=\"238.427734\" xlink:href=\"#DejaVuSans-114\"/>\n       <use x=\"277.791016\" xlink:href=\"#DejaVuSans-100\"/>\n       <use x=\"341.267578\" xlink:href=\"#DejaVuSans-111\"/>\n       <use x=\"402.449219\" xlink:href=\"#DejaVuSans-117\"/>\n       <use x=\"465.828125\" xlink:href=\"#DejaVuSans-115\"/>\n      </g>\n     </g>\n    </g>\n    <g id=\"xtick_40\">\n     <g id=\"line2d_40\">\n      <path clip-path=\"url(#p6456fcfb4f)\" d=\"M 104.00656 224.64 \nL 104.00656 7.2 \n\" style=\"fill:none;stroke:#cccccc;stroke-linecap:round;\"/>\n     </g>\n     <g id=\"text_40\">\n      <!-- heat%20wave -->\n      <defs>\n       <path d=\"M 2.984375 54.6875 \nL 12.5 54.6875 \nL 29.59375 8.796875 \nL 46.6875 54.6875 \nL 56.203125 54.6875 \nL 35.6875 0 \nL 23.484375 0 \nz\n\" id=\"DejaVuSans-118\"/>\n      </defs>\n      <g style=\"fill:#262626;\" transform=\"translate(107.041872 312.398125)rotate(-90)scale(0.11 -0.11)\">\n       <use xlink:href=\"#DejaVuSans-104\"/>\n       <use x=\"63.378906\" xlink:href=\"#DejaVuSans-101\"/>\n       <use x=\"124.902344\" xlink:href=\"#DejaVuSans-97\"/>\n       <use x=\"186.181641\" xlink:href=\"#DejaVuSans-116\"/>\n       <use x=\"225.390625\" xlink:href=\"#DejaVuSans-37\"/>\n       <use x=\"320.410156\" xlink:href=\"#DejaVuSans-50\"/>\n       <use x=\"384.033203\" xlink:href=\"#DejaVuSans-48\"/>\n       <use x=\"447.65625\" xlink:href=\"#DejaVuSans-119\"/>\n       <use x=\"529.443359\" xlink:href=\"#DejaVuSans-97\"/>\n       <use x=\"590.722656\" xlink:href=\"#DejaVuSans-118\"/>\n       <use x=\"649.902344\" xlink:href=\"#DejaVuSans-101\"/>\n      </g>\n     </g>\n    </g>\n    <g id=\"xtick_41\">\n     <g id=\"line2d_41\">\n      <path clip-path=\"url(#p6456fcfb4f)\" d=\"M 105.77398 224.64 \nL 105.77398 7.2 \n\" style=\"fill:none;stroke:#cccccc;stroke-linecap:round;\"/>\n     </g>\n     <g id=\"text_41\">\n      <!-- hellfire -->\n      <g style=\"fill:#262626;\" transform=\"translate(108.809293 271.962812)rotate(-90)scale(0.11 -0.11)\">\n       <use xlink:href=\"#DejaVuSans-104\"/>\n       <use x=\"63.378906\" xlink:href=\"#DejaVuSans-101\"/>\n       <use x=\"124.902344\" xlink:href=\"#DejaVuSans-108\"/>\n       <use x=\"152.685547\" xlink:href=\"#DejaVuSans-108\"/>\n       <use x=\"180.46875\" xlink:href=\"#DejaVuSans-102\"/>\n       <use x=\"215.673828\" xlink:href=\"#DejaVuSans-105\"/>\n       <use x=\"243.457031\" xlink:href=\"#DejaVuSans-114\"/>\n       <use x=\"282.320312\" xlink:href=\"#DejaVuSans-101\"/>\n      </g>\n     </g>\n    </g>\n    <g id=\"xtick_42\">\n     <g id=\"line2d_42\">\n      <path clip-path=\"url(#p6456fcfb4f)\" d=\"M 107.541401 224.64 \nL 107.541401 7.2 \n\" style=\"fill:none;stroke:#cccccc;stroke-linecap:round;\"/>\n     </g>\n     <g id=\"text_42\">\n      <!-- hijacker -->\n      <g style=\"fill:#262626;\" transform=\"translate(110.576714 277.27375)rotate(-90)scale(0.11 -0.11)\">\n       <use xlink:href=\"#DejaVuSans-104\"/>\n       <use x=\"63.378906\" xlink:href=\"#DejaVuSans-105\"/>\n       <use x=\"91.162109\" xlink:href=\"#DejaVuSans-106\"/>\n       <use x=\"118.945312\" xlink:href=\"#DejaVuSans-97\"/>\n       <use x=\"180.224609\" xlink:href=\"#DejaVuSans-99\"/>\n       <use x=\"235.205078\" xlink:href=\"#DejaVuSans-107\"/>\n       <use x=\"289.490234\" xlink:href=\"#DejaVuSans-101\"/>\n       <use x=\"351.013672\" xlink:href=\"#DejaVuSans-114\"/>\n      </g>\n     </g>\n    </g>\n    <g id=\"xtick_43\">\n     <g id=\"line2d_43\">\n      <path clip-path=\"url(#p6456fcfb4f)\" d=\"M 109.308822 224.64 \nL 109.308822 7.2 \n\" style=\"fill:none;stroke:#cccccc;stroke-linecap:round;\"/>\n     </g>\n     <g id=\"text_43\">\n      <!-- lightning -->\n      <g style=\"fill:#262626;\" transform=\"translate(112.344135 282.500469)rotate(-90)scale(0.11 -0.11)\">\n       <use xlink:href=\"#DejaVuSans-108\"/>\n       <use x=\"27.783203\" xlink:href=\"#DejaVuSans-105\"/>\n       <use x=\"55.566406\" xlink:href=\"#DejaVuSans-103\"/>\n       <use x=\"119.042969\" xlink:href=\"#DejaVuSans-104\"/>\n       <use x=\"182.421875\" xlink:href=\"#DejaVuSans-116\"/>\n       <use x=\"221.630859\" xlink:href=\"#DejaVuSans-110\"/>\n       <use x=\"285.009766\" xlink:href=\"#DejaVuSans-105\"/>\n       <use x=\"312.792969\" xlink:href=\"#DejaVuSans-110\"/>\n       <use x=\"376.171875\" xlink:href=\"#DejaVuSans-103\"/>\n      </g>\n     </g>\n    </g>\n    <g id=\"xtick_44\">\n     <g id=\"line2d_44\">\n      <path clip-path=\"url(#p6456fcfb4f)\" d=\"M 111.076243 224.64 \nL 111.076243 7.2 \n\" style=\"fill:none;stroke:#cccccc;stroke-linecap:round;\"/>\n     </g>\n     <g id=\"text_44\">\n      <!-- hijacking -->\n      <g style=\"fill:#262626;\" transform=\"translate(114.111555 283.3925)rotate(-90)scale(0.11 -0.11)\">\n       <use xlink:href=\"#DejaVuSans-104\"/>\n       <use x=\"63.378906\" xlink:href=\"#DejaVuSans-105\"/>\n       <use x=\"91.162109\" xlink:href=\"#DejaVuSans-106\"/>\n       <use x=\"118.945312\" xlink:href=\"#DejaVuSans-97\"/>\n       <use x=\"180.224609\" xlink:href=\"#DejaVuSans-99\"/>\n       <use x=\"235.205078\" xlink:href=\"#DejaVuSans-107\"/>\n       <use x=\"293.115234\" xlink:href=\"#DejaVuSans-105\"/>\n       <use x=\"320.898438\" xlink:href=\"#DejaVuSans-110\"/>\n       <use x=\"384.277344\" xlink:href=\"#DejaVuSans-103\"/>\n      </g>\n     </g>\n    </g>\n    <g id=\"xtick_45\">\n     <g id=\"line2d_45\">\n      <path clip-path=\"url(#p6456fcfb4f)\" d=\"M 112.843664 224.64 \nL 112.843664 7.2 \n\" style=\"fill:none;stroke:#cccccc;stroke-linecap:round;\"/>\n     </g>\n     <g id=\"text_45\">\n      <!-- hostage -->\n      <g style=\"fill:#262626;\" transform=\"translate(115.878976 278.377187)rotate(-90)scale(0.11 -0.11)\">\n       <use xlink:href=\"#DejaVuSans-104\"/>\n       <use x=\"63.378906\" xlink:href=\"#DejaVuSans-111\"/>\n       <use x=\"124.560547\" xlink:href=\"#DejaVuSans-115\"/>\n       <use x=\"176.660156\" xlink:href=\"#DejaVuSans-116\"/>\n       <use x=\"215.869141\" xlink:href=\"#DejaVuSans-97\"/>\n       <use x=\"277.148438\" xlink:href=\"#DejaVuSans-103\"/>\n       <use x=\"340.625\" xlink:href=\"#DejaVuSans-101\"/>\n      </g>\n     </g>\n    </g>\n    <g id=\"xtick_46\">\n     <g id=\"line2d_46\">\n      <path clip-path=\"url(#p6456fcfb4f)\" d=\"M 114.611085 224.64 \nL 114.611085 7.2 \n\" style=\"fill:none;stroke:#cccccc;stroke-linecap:round;\"/>\n     </g>\n     <g id=\"text_46\">\n      <!-- hostages -->\n      <g style=\"fill:#262626;\" transform=\"translate(117.646397 284.1075)rotate(-90)scale(0.11 -0.11)\">\n       <use xlink:href=\"#DejaVuSans-104\"/>\n       <use x=\"63.378906\" xlink:href=\"#DejaVuSans-111\"/>\n       <use x=\"124.560547\" xlink:href=\"#DejaVuSans-115\"/>\n       <use x=\"176.660156\" xlink:href=\"#DejaVuSans-116\"/>\n       <use x=\"215.869141\" xlink:href=\"#DejaVuSans-97\"/>\n       <use x=\"277.148438\" xlink:href=\"#DejaVuSans-103\"/>\n       <use x=\"340.625\" xlink:href=\"#DejaVuSans-101\"/>\n       <use x=\"402.148438\" xlink:href=\"#DejaVuSans-115\"/>\n      </g>\n     </g>\n    </g>\n    <g id=\"xtick_47\">\n     <g id=\"line2d_47\">\n      <path clip-path=\"url(#p6456fcfb4f)\" d=\"M 116.378505 224.64 \nL 116.378505 7.2 \n\" style=\"fill:none;stroke:#cccccc;stroke-linecap:round;\"/>\n     </g>\n     <g id=\"text_47\">\n      <!-- hurricane -->\n      <g style=\"fill:#262626;\" transform=\"translate(119.413818 286.518906)rotate(-90)scale(0.11 -0.11)\">\n       <use xlink:href=\"#DejaVuSans-104\"/>\n       <use x=\"63.378906\" xlink:href=\"#DejaVuSans-117\"/>\n       <use x=\"126.757812\" xlink:href=\"#DejaVuSans-114\"/>\n       <use x=\"166.121094\" xlink:href=\"#DejaVuSans-114\"/>\n       <use x=\"207.234375\" xlink:href=\"#DejaVuSans-105\"/>\n       <use x=\"235.017578\" xlink:href=\"#DejaVuSans-99\"/>\n       <use x=\"289.998047\" xlink:href=\"#DejaVuSans-97\"/>\n       <use x=\"351.277344\" xlink:href=\"#DejaVuSans-110\"/>\n       <use x=\"414.65625\" xlink:href=\"#DejaVuSans-101\"/>\n      </g>\n     </g>\n    </g>\n    <g id=\"xtick_48\">\n     <g id=\"line2d_48\">\n      <path clip-path=\"url(#p6456fcfb4f)\" d=\"M 118.145926 224.64 \nL 118.145926 7.2 \n\" style=\"fill:none;stroke:#cccccc;stroke-linecap:round;\"/>\n     </g>\n     <g id=\"text_48\">\n      <!-- injured -->\n      <g style=\"fill:#262626;\" transform=\"translate(121.181239 272.220625)rotate(-90)scale(0.11 -0.11)\">\n       <use xlink:href=\"#DejaVuSans-105\"/>\n       <use x=\"27.783203\" xlink:href=\"#DejaVuSans-110\"/>\n       <use x=\"91.162109\" xlink:href=\"#DejaVuSans-106\"/>\n       <use x=\"118.945312\" xlink:href=\"#DejaVuSans-117\"/>\n       <use x=\"182.324219\" xlink:href=\"#DejaVuSans-114\"/>\n       <use x=\"221.1875\" xlink:href=\"#DejaVuSans-101\"/>\n       <use x=\"282.710938\" xlink:href=\"#DejaVuSans-100\"/>\n      </g>\n     </g>\n    </g>\n    <g id=\"xtick_49\">\n     <g id=\"line2d_49\">\n      <path clip-path=\"url(#p6456fcfb4f)\" d=\"M 119.913347 224.64 \nL 119.913347 7.2 \n\" style=\"fill:none;stroke:#cccccc;stroke-linecap:round;\"/>\n     </g>\n     <g id=\"text_49\">\n      <!-- injuries -->\n      <g style=\"fill:#262626;\" transform=\"translate(122.94866 274.271094)rotate(-90)scale(0.11 -0.11)\">\n       <use xlink:href=\"#DejaVuSans-105\"/>\n       <use x=\"27.783203\" xlink:href=\"#DejaVuSans-110\"/>\n       <use x=\"91.162109\" xlink:href=\"#DejaVuSans-106\"/>\n       <use x=\"118.945312\" xlink:href=\"#DejaVuSans-117\"/>\n       <use x=\"182.324219\" xlink:href=\"#DejaVuSans-114\"/>\n       <use x=\"223.4375\" xlink:href=\"#DejaVuSans-105\"/>\n       <use x=\"251.220703\" xlink:href=\"#DejaVuSans-101\"/>\n       <use x=\"312.744141\" xlink:href=\"#DejaVuSans-115\"/>\n      </g>\n     </g>\n    </g>\n    <g id=\"xtick_50\">\n     <g id=\"line2d_50\">\n      <path clip-path=\"url(#p6456fcfb4f)\" d=\"M 121.680768 224.64 \nL 121.680768 7.2 \n\" style=\"fill:none;stroke:#cccccc;stroke-linecap:round;\"/>\n     </g>\n     <g id=\"text_50\">\n      <!-- injury -->\n      <g style=\"fill:#262626;\" transform=\"translate(124.71608 265.227031)rotate(-90)scale(0.11 -0.11)\">\n       <use xlink:href=\"#DejaVuSans-105\"/>\n       <use x=\"27.783203\" xlink:href=\"#DejaVuSans-110\"/>\n       <use x=\"91.162109\" xlink:href=\"#DejaVuSans-106\"/>\n       <use x=\"118.945312\" xlink:href=\"#DejaVuSans-117\"/>\n       <use x=\"182.324219\" xlink:href=\"#DejaVuSans-114\"/>\n       <use x=\"223.4375\" xlink:href=\"#DejaVuSans-121\"/>\n      </g>\n     </g>\n    </g>\n    <g id=\"xtick_51\">\n     <g id=\"line2d_51\">\n      <path clip-path=\"url(#p6456fcfb4f)\" d=\"M 123.448189 224.64 \nL 123.448189 7.2 \n\" style=\"fill:none;stroke:#cccccc;stroke-linecap:round;\"/>\n     </g>\n     <g id=\"text_51\">\n      <!-- inundated -->\n      <g style=\"fill:#262626;\" transform=\"translate(126.483501 289.897969)rotate(-90)scale(0.11 -0.11)\">\n       <use xlink:href=\"#DejaVuSans-105\"/>\n       <use x=\"27.783203\" xlink:href=\"#DejaVuSans-110\"/>\n       <use x=\"91.162109\" xlink:href=\"#DejaVuSans-117\"/>\n       <use x=\"154.541016\" xlink:href=\"#DejaVuSans-110\"/>\n       <use x=\"217.919922\" xlink:href=\"#DejaVuSans-100\"/>\n       <use x=\"281.396484\" xlink:href=\"#DejaVuSans-97\"/>\n       <use x=\"342.675781\" xlink:href=\"#DejaVuSans-116\"/>\n       <use x=\"381.884766\" xlink:href=\"#DejaVuSans-101\"/>\n       <use x=\"443.408203\" xlink:href=\"#DejaVuSans-100\"/>\n      </g>\n     </g>\n    </g>\n    <g id=\"xtick_52\">\n     <g id=\"line2d_52\">\n      <path clip-path=\"url(#p6456fcfb4f)\" d=\"M 125.215609 224.64 \nL 125.215609 7.2 \n\" style=\"fill:none;stroke:#cccccc;stroke-linecap:round;\"/>\n     </g>\n     <g id=\"text_52\">\n      <!-- inundation -->\n      <g style=\"fill:#262626;\" transform=\"translate(128.250922 292.904062)rotate(-90)scale(0.11 -0.11)\">\n       <use xlink:href=\"#DejaVuSans-105\"/>\n       <use x=\"27.783203\" xlink:href=\"#DejaVuSans-110\"/>\n       <use x=\"91.162109\" xlink:href=\"#DejaVuSans-117\"/>\n       <use x=\"154.541016\" xlink:href=\"#DejaVuSans-110\"/>\n       <use x=\"217.919922\" xlink:href=\"#DejaVuSans-100\"/>\n       <use x=\"281.396484\" xlink:href=\"#DejaVuSans-97\"/>\n       <use x=\"342.675781\" xlink:href=\"#DejaVuSans-116\"/>\n       <use x=\"381.884766\" xlink:href=\"#DejaVuSans-105\"/>\n       <use x=\"409.667969\" xlink:href=\"#DejaVuSans-111\"/>\n       <use x=\"470.849609\" xlink:href=\"#DejaVuSans-110\"/>\n      </g>\n     </g>\n    </g>\n    <g id=\"xtick_53\">\n     <g id=\"line2d_53\">\n      <path clip-path=\"url(#p6456fcfb4f)\" d=\"M 126.98303 224.64 \nL 126.98303 7.2 \n\" style=\"fill:none;stroke:#cccccc;stroke-linecap:round;\"/>\n     </g>\n     <g id=\"text_53\">\n      <!-- landslide -->\n      <g style=\"fill:#262626;\" transform=\"translate(130.018343 283.485312)rotate(-90)scale(0.11 -0.11)\">\n       <use xlink:href=\"#DejaVuSans-108\"/>\n       <use x=\"27.783203\" xlink:href=\"#DejaVuSans-97\"/>\n       <use x=\"89.0625\" xlink:href=\"#DejaVuSans-110\"/>\n       <use x=\"152.441406\" xlink:href=\"#DejaVuSans-100\"/>\n       <use x=\"215.917969\" xlink:href=\"#DejaVuSans-115\"/>\n       <use x=\"268.017578\" xlink:href=\"#DejaVuSans-108\"/>\n       <use x=\"295.800781\" xlink:href=\"#DejaVuSans-105\"/>\n       <use x=\"323.583984\" xlink:href=\"#DejaVuSans-100\"/>\n       <use x=\"387.060547\" xlink:href=\"#DejaVuSans-101\"/>\n      </g>\n     </g>\n    </g>\n    <g id=\"xtick_54\">\n     <g id=\"line2d_54\">\n      <path clip-path=\"url(#p6456fcfb4f)\" d=\"M 128.750451 224.64 \nL 128.750451 7.2 \n\" style=\"fill:none;stroke:#cccccc;stroke-linecap:round;\"/>\n     </g>\n     <g id=\"text_54\">\n      <!-- lava -->\n      <g style=\"fill:#262626;\" transform=\"translate(131.785764 257.188437)rotate(-90)scale(0.11 -0.11)\">\n       <use xlink:href=\"#DejaVuSans-108\"/>\n       <use x=\"27.783203\" xlink:href=\"#DejaVuSans-97\"/>\n       <use x=\"89.0625\" xlink:href=\"#DejaVuSans-118\"/>\n       <use x=\"148.242188\" xlink:href=\"#DejaVuSans-97\"/>\n      </g>\n     </g>\n    </g>\n    <g id=\"xtick_55\">\n     <g id=\"line2d_55\">\n      <path clip-path=\"url(#p6456fcfb4f)\" d=\"M 130.517872 224.64 \nL 130.517872 7.2 \n\" style=\"fill:none;stroke:#cccccc;stroke-linecap:round;\"/>\n     </g>\n     <g id=\"text_55\">\n      <!-- rescued -->\n      <g style=\"fill:#262626;\" transform=\"translate(133.553184 277.684531)rotate(-90)scale(0.11 -0.11)\">\n       <use xlink:href=\"#DejaVuSans-114\"/>\n       <use x=\"38.863281\" xlink:href=\"#DejaVuSans-101\"/>\n       <use x=\"100.386719\" xlink:href=\"#DejaVuSans-115\"/>\n       <use x=\"152.486328\" xlink:href=\"#DejaVuSans-99\"/>\n       <use x=\"207.466797\" xlink:href=\"#DejaVuSans-117\"/>\n       <use x=\"270.845703\" xlink:href=\"#DejaVuSans-101\"/>\n       <use x=\"332.369141\" xlink:href=\"#DejaVuSans-100\"/>\n      </g>\n     </g>\n    </g>\n    <g id=\"xtick_56\">\n     <g id=\"line2d_56\">\n      <path clip-path=\"url(#p6456fcfb4f)\" d=\"M 132.285293 224.64 \nL 132.285293 7.2 \n\" style=\"fill:none;stroke:#cccccc;stroke-linecap:round;\"/>\n     </g>\n     <g id=\"text_56\">\n      <!-- rescuers -->\n      <g style=\"fill:#262626;\" transform=\"translate(135.320605 280.953594)rotate(-90)scale(0.11 -0.11)\">\n       <use xlink:href=\"#DejaVuSans-114\"/>\n       <use x=\"38.863281\" xlink:href=\"#DejaVuSans-101\"/>\n       <use x=\"100.386719\" xlink:href=\"#DejaVuSans-115\"/>\n       <use x=\"152.486328\" xlink:href=\"#DejaVuSans-99\"/>\n       <use x=\"207.466797\" xlink:href=\"#DejaVuSans-117\"/>\n       <use x=\"270.845703\" xlink:href=\"#DejaVuSans-101\"/>\n       <use x=\"332.369141\" xlink:href=\"#DejaVuSans-114\"/>\n       <use x=\"373.482422\" xlink:href=\"#DejaVuSans-115\"/>\n      </g>\n     </g>\n    </g>\n    <g id=\"xtick_57\">\n     <g id=\"line2d_57\">\n      <path clip-path=\"url(#p6456fcfb4f)\" d=\"M 134.052714 224.64 \nL 134.052714 7.2 \n\" style=\"fill:none;stroke:#cccccc;stroke-linecap:round;\"/>\n     </g>\n     <g id=\"text_57\">\n      <!-- riot -->\n      <g style=\"fill:#262626;\" transform=\"translate(137.088026 252.760937)rotate(-90)scale(0.11 -0.11)\">\n       <use xlink:href=\"#DejaVuSans-114\"/>\n       <use x=\"41.113281\" xlink:href=\"#DejaVuSans-105\"/>\n       <use x=\"68.896484\" xlink:href=\"#DejaVuSans-111\"/>\n       <use x=\"130.078125\" xlink:href=\"#DejaVuSans-116\"/>\n      </g>\n     </g>\n    </g>\n    <g id=\"xtick_58\">\n     <g id=\"line2d_58\">\n      <path clip-path=\"url(#p6456fcfb4f)\" d=\"M 135.820134 224.64 \nL 135.820134 7.2 \n\" style=\"fill:none;stroke:#cccccc;stroke-linecap:round;\"/>\n     </g>\n     <g id=\"text_58\">\n      <!-- violent%20storm -->\n      <g style=\"fill:#262626;\" transform=\"translate(138.855447 327.811875)rotate(-90)scale(0.11 -0.11)\">\n       <use xlink:href=\"#DejaVuSans-118\"/>\n       <use x=\"59.179688\" xlink:href=\"#DejaVuSans-105\"/>\n       <use x=\"86.962891\" xlink:href=\"#DejaVuSans-111\"/>\n       <use x=\"148.144531\" xlink:href=\"#DejaVuSans-108\"/>\n       <use x=\"175.927734\" xlink:href=\"#DejaVuSans-101\"/>\n       <use x=\"237.451172\" xlink:href=\"#DejaVuSans-110\"/>\n       <use x=\"300.830078\" xlink:href=\"#DejaVuSans-116\"/>\n       <use x=\"340.039062\" xlink:href=\"#DejaVuSans-37\"/>\n       <use x=\"435.058594\" xlink:href=\"#DejaVuSans-50\"/>\n       <use x=\"498.681641\" xlink:href=\"#DejaVuSans-48\"/>\n       <use x=\"562.304688\" xlink:href=\"#DejaVuSans-115\"/>\n       <use x=\"614.404297\" xlink:href=\"#DejaVuSans-116\"/>\n       <use x=\"653.613281\" xlink:href=\"#DejaVuSans-111\"/>\n       <use x=\"714.794922\" xlink:href=\"#DejaVuSans-114\"/>\n       <use x=\"754.158203\" xlink:href=\"#DejaVuSans-109\"/>\n      </g>\n     </g>\n    </g>\n    <g id=\"xtick_59\">\n     <g id=\"line2d_59\">\n      <path clip-path=\"url(#p6456fcfb4f)\" d=\"M 137.587555 224.64 \nL 137.587555 7.2 \n\" style=\"fill:none;stroke:#cccccc;stroke-linecap:round;\"/>\n     </g>\n     <g id=\"text_59\">\n      <!-- thunderstorm -->\n      <g style=\"fill:#262626;\" transform=\"translate(140.622868 309.457344)rotate(-90)scale(0.11 -0.11)\">\n       <use xlink:href=\"#DejaVuSans-116\"/>\n       <use x=\"39.208984\" xlink:href=\"#DejaVuSans-104\"/>\n       <use x=\"102.587891\" xlink:href=\"#DejaVuSans-117\"/>\n       <use x=\"165.966797\" xlink:href=\"#DejaVuSans-110\"/>\n       <use x=\"229.345703\" xlink:href=\"#DejaVuSans-100\"/>\n       <use x=\"292.822266\" xlink:href=\"#DejaVuSans-101\"/>\n       <use x=\"354.345703\" xlink:href=\"#DejaVuSans-114\"/>\n       <use x=\"395.458984\" xlink:href=\"#DejaVuSans-115\"/>\n       <use x=\"447.558594\" xlink:href=\"#DejaVuSans-116\"/>\n       <use x=\"486.767578\" xlink:href=\"#DejaVuSans-111\"/>\n       <use x=\"547.949219\" xlink:href=\"#DejaVuSans-114\"/>\n       <use x=\"587.3125\" xlink:href=\"#DejaVuSans-109\"/>\n      </g>\n     </g>\n    </g>\n    <g id=\"xtick_60\">\n     <g id=\"line2d_60\">\n      <path clip-path=\"url(#p6456fcfb4f)\" d=\"M 139.354976 224.64 \nL 139.354976 7.2 \n\" style=\"fill:none;stroke:#cccccc;stroke-linecap:round;\"/>\n     </g>\n     <g id=\"text_60\">\n      <!-- tornado -->\n      <g style=\"fill:#262626;\" transform=\"translate(142.390288 276.938594)rotate(-90)scale(0.11 -0.11)\">\n       <use xlink:href=\"#DejaVuSans-116\"/>\n       <use x=\"39.208984\" xlink:href=\"#DejaVuSans-111\"/>\n       <use x=\"100.390625\" xlink:href=\"#DejaVuSans-114\"/>\n       <use x=\"139.753906\" xlink:href=\"#DejaVuSans-110\"/>\n       <use x=\"203.132812\" xlink:href=\"#DejaVuSans-97\"/>\n       <use x=\"264.412109\" xlink:href=\"#DejaVuSans-100\"/>\n       <use x=\"327.888672\" xlink:href=\"#DejaVuSans-111\"/>\n      </g>\n     </g>\n    </g>\n    <g id=\"xtick_61\">\n     <g id=\"line2d_61\">\n      <path clip-path=\"url(#p6456fcfb4f)\" d=\"M 141.122397 224.64 \nL 141.122397 7.2 \n\" style=\"fill:none;stroke:#cccccc;stroke-linecap:round;\"/>\n     </g>\n     <g id=\"text_61\">\n      <!-- tragedy -->\n      <g style=\"fill:#262626;\" transform=\"translate(144.157709 276.960937)rotate(-90)scale(0.11 -0.11)\">\n       <use xlink:href=\"#DejaVuSans-116\"/>\n       <use x=\"39.208984\" xlink:href=\"#DejaVuSans-114\"/>\n       <use x=\"80.322266\" xlink:href=\"#DejaVuSans-97\"/>\n       <use x=\"141.601562\" xlink:href=\"#DejaVuSans-103\"/>\n       <use x=\"205.078125\" xlink:href=\"#DejaVuSans-101\"/>\n       <use x=\"266.601562\" xlink:href=\"#DejaVuSans-100\"/>\n       <use x=\"330.078125\" xlink:href=\"#DejaVuSans-121\"/>\n      </g>\n     </g>\n    </g>\n    <g id=\"xtick_62\">\n     <g id=\"line2d_62\">\n      <path clip-path=\"url(#p6456fcfb4f)\" d=\"M 142.889818 224.64 \nL 142.889818 7.2 \n\" style=\"fill:none;stroke:#cccccc;stroke-linecap:round;\"/>\n     </g>\n     <g id=\"text_62\">\n      <!-- trapped -->\n      <g style=\"fill:#262626;\" transform=\"translate(145.92513 277.433594)rotate(-90)scale(0.11 -0.11)\">\n       <use xlink:href=\"#DejaVuSans-116\"/>\n       <use x=\"39.208984\" xlink:href=\"#DejaVuSans-114\"/>\n       <use x=\"80.322266\" xlink:href=\"#DejaVuSans-97\"/>\n       <use x=\"141.601562\" xlink:href=\"#DejaVuSans-112\"/>\n       <use x=\"205.078125\" xlink:href=\"#DejaVuSans-112\"/>\n       <use x=\"268.554688\" xlink:href=\"#DejaVuSans-101\"/>\n       <use x=\"330.078125\" xlink:href=\"#DejaVuSans-100\"/>\n      </g>\n     </g>\n    </g>\n    <g id=\"xtick_63\">\n     <g id=\"line2d_63\">\n      <path clip-path=\"url(#p6456fcfb4f)\" d=\"M 144.657238 224.64 \nL 144.657238 7.2 \n\" style=\"fill:none;stroke:#cccccc;stroke-linecap:round;\"/>\n     </g>\n     <g id=\"text_63\">\n      <!-- trauma -->\n      <g style=\"fill:#262626;\" transform=\"translate(147.692551 274.142187)rotate(-90)scale(0.11 -0.11)\">\n       <use xlink:href=\"#DejaVuSans-116\"/>\n       <use x=\"39.208984\" xlink:href=\"#DejaVuSans-114\"/>\n       <use x=\"80.322266\" xlink:href=\"#DejaVuSans-97\"/>\n       <use x=\"141.601562\" xlink:href=\"#DejaVuSans-117\"/>\n       <use x=\"204.980469\" xlink:href=\"#DejaVuSans-109\"/>\n       <use x=\"302.392578\" xlink:href=\"#DejaVuSans-97\"/>\n      </g>\n     </g>\n    </g>\n    <g id=\"xtick_64\">\n     <g id=\"line2d_64\">\n      <path clip-path=\"url(#p6456fcfb4f)\" d=\"M 146.424659 224.64 \nL 146.424659 7.2 \n\" style=\"fill:none;stroke:#cccccc;stroke-linecap:round;\"/>\n     </g>\n     <g id=\"text_64\">\n      <!-- traumatised -->\n      <g style=\"fill:#262626;\" transform=\"translate(149.459972 300.9925)rotate(-90)scale(0.11 -0.11)\">\n       <use xlink:href=\"#DejaVuSans-116\"/>\n       <use x=\"39.208984\" xlink:href=\"#DejaVuSans-114\"/>\n       <use x=\"80.322266\" xlink:href=\"#DejaVuSans-97\"/>\n       <use x=\"141.601562\" xlink:href=\"#DejaVuSans-117\"/>\n       <use x=\"204.980469\" xlink:href=\"#DejaVuSans-109\"/>\n       <use x=\"302.392578\" xlink:href=\"#DejaVuSans-97\"/>\n       <use x=\"363.671875\" xlink:href=\"#DejaVuSans-116\"/>\n       <use x=\"402.880859\" xlink:href=\"#DejaVuSans-105\"/>\n       <use x=\"430.664062\" xlink:href=\"#DejaVuSans-115\"/>\n       <use x=\"482.763672\" xlink:href=\"#DejaVuSans-101\"/>\n       <use x=\"544.287109\" xlink:href=\"#DejaVuSans-100\"/>\n      </g>\n     </g>\n    </g>\n    <g id=\"xtick_65\">\n     <g id=\"line2d_65\">\n      <path clip-path=\"url(#p6456fcfb4f)\" d=\"M 148.19208 224.64 \nL 148.19208 7.2 \n\" style=\"fill:none;stroke:#cccccc;stroke-linecap:round;\"/>\n     </g>\n     <g id=\"text_65\">\n      <!-- trouble -->\n      <g style=\"fill:#262626;\" transform=\"translate(151.227393 273.236406)rotate(-90)scale(0.11 -0.11)\">\n       <use xlink:href=\"#DejaVuSans-116\"/>\n       <use x=\"39.208984\" xlink:href=\"#DejaVuSans-114\"/>\n       <use x=\"78.072266\" xlink:href=\"#DejaVuSans-111\"/>\n       <use x=\"139.253906\" xlink:href=\"#DejaVuSans-117\"/>\n       <use x=\"202.632812\" xlink:href=\"#DejaVuSans-98\"/>\n       <use x=\"266.109375\" xlink:href=\"#DejaVuSans-108\"/>\n       <use x=\"293.892578\" xlink:href=\"#DejaVuSans-101\"/>\n      </g>\n     </g>\n    </g>\n    <g id=\"xtick_66\">\n     <g id=\"line2d_66\">\n      <path clip-path=\"url(#p6456fcfb4f)\" d=\"M 149.959501 224.64 \nL 149.959501 7.2 \n\" style=\"fill:none;stroke:#cccccc;stroke-linecap:round;\"/>\n     </g>\n     <g id=\"text_66\">\n      <!-- tsunami -->\n      <g style=\"fill:#262626;\" transform=\"translate(152.994813 278.636719)rotate(-90)scale(0.11 -0.11)\">\n       <use xlink:href=\"#DejaVuSans-116\"/>\n       <use x=\"39.208984\" xlink:href=\"#DejaVuSans-115\"/>\n       <use x=\"91.308594\" xlink:href=\"#DejaVuSans-117\"/>\n       <use x=\"154.6875\" xlink:href=\"#DejaVuSans-110\"/>\n       <use x=\"218.066406\" xlink:href=\"#DejaVuSans-97\"/>\n       <use x=\"279.345703\" xlink:href=\"#DejaVuSans-109\"/>\n       <use x=\"376.757812\" xlink:href=\"#DejaVuSans-105\"/>\n      </g>\n     </g>\n    </g>\n    <g id=\"xtick_67\">\n     <g id=\"line2d_67\">\n      <path clip-path=\"url(#p6456fcfb4f)\" d=\"M 151.726922 224.64 \nL 151.726922 7.2 \n\" style=\"fill:none;stroke:#cccccc;stroke-linecap:round;\"/>\n     </g>\n     <g id=\"text_67\">\n      <!-- twister -->\n      <g style=\"fill:#262626;\" transform=\"translate(154.762234 271.837344)rotate(-90)scale(0.11 -0.11)\">\n       <use xlink:href=\"#DejaVuSans-116\"/>\n       <use x=\"39.208984\" xlink:href=\"#DejaVuSans-119\"/>\n       <use x=\"120.996094\" xlink:href=\"#DejaVuSans-105\"/>\n       <use x=\"148.779297\" xlink:href=\"#DejaVuSans-115\"/>\n       <use x=\"200.878906\" xlink:href=\"#DejaVuSans-116\"/>\n       <use x=\"240.087891\" xlink:href=\"#DejaVuSans-101\"/>\n       <use x=\"301.611328\" xlink:href=\"#DejaVuSans-114\"/>\n      </g>\n     </g>\n    </g>\n    <g id=\"xtick_68\">\n     <g id=\"line2d_68\">\n      <path clip-path=\"url(#p6456fcfb4f)\" d=\"M 153.494342 224.64 \nL 153.494342 7.2 \n\" style=\"fill:none;stroke:#cccccc;stroke-linecap:round;\"/>\n     </g>\n     <g id=\"text_68\">\n      <!-- typhoon -->\n      <g style=\"fill:#262626;\" transform=\"translate(156.529655 279.35)rotate(-90)scale(0.11 -0.11)\">\n       <use xlink:href=\"#DejaVuSans-116\"/>\n       <use x=\"39.208984\" xlink:href=\"#DejaVuSans-121\"/>\n       <use x=\"98.388672\" xlink:href=\"#DejaVuSans-112\"/>\n       <use x=\"161.865234\" xlink:href=\"#DejaVuSans-104\"/>\n       <use x=\"225.244141\" xlink:href=\"#DejaVuSans-111\"/>\n       <use x=\"286.425781\" xlink:href=\"#DejaVuSans-111\"/>\n       <use x=\"347.607422\" xlink:href=\"#DejaVuSans-110\"/>\n      </g>\n     </g>\n    </g>\n    <g id=\"xtick_69\">\n     <g id=\"line2d_69\">\n      <path clip-path=\"url(#p6456fcfb4f)\" d=\"M 155.261763 224.64 \nL 155.261763 7.2 \n\" style=\"fill:none;stroke:#cccccc;stroke-linecap:round;\"/>\n     </g>\n     <g id=\"text_69\">\n      <!-- upheaval -->\n      <g style=\"fill:#262626;\" transform=\"translate(158.297076 284.882656)rotate(-90)scale(0.11 -0.11)\">\n       <use xlink:href=\"#DejaVuSans-117\"/>\n       <use x=\"63.378906\" xlink:href=\"#DejaVuSans-112\"/>\n       <use x=\"126.855469\" xlink:href=\"#DejaVuSans-104\"/>\n       <use x=\"190.234375\" xlink:href=\"#DejaVuSans-101\"/>\n       <use x=\"251.757812\" xlink:href=\"#DejaVuSans-97\"/>\n       <use x=\"313.037109\" xlink:href=\"#DejaVuSans-118\"/>\n       <use x=\"372.216797\" xlink:href=\"#DejaVuSans-97\"/>\n       <use x=\"433.496094\" xlink:href=\"#DejaVuSans-108\"/>\n      </g>\n     </g>\n    </g>\n    <g id=\"xtick_70\">\n     <g id=\"line2d_70\">\n      <path clip-path=\"url(#p6456fcfb4f)\" d=\"M 157.029184 224.64 \nL 157.029184 7.2 \n\" style=\"fill:none;stroke:#cccccc;stroke-linecap:round;\"/>\n     </g>\n     <g id=\"text_70\">\n      <!-- volcano -->\n      <g style=\"fill:#262626;\" transform=\"translate(160.064497 276.928281)rotate(-90)scale(0.11 -0.11)\">\n       <use xlink:href=\"#DejaVuSans-118\"/>\n       <use x=\"59.179688\" xlink:href=\"#DejaVuSans-111\"/>\n       <use x=\"120.361328\" xlink:href=\"#DejaVuSans-108\"/>\n       <use x=\"148.144531\" xlink:href=\"#DejaVuSans-99\"/>\n       <use x=\"203.125\" xlink:href=\"#DejaVuSans-97\"/>\n       <use x=\"264.404297\" xlink:href=\"#DejaVuSans-110\"/>\n       <use x=\"327.783203\" xlink:href=\"#DejaVuSans-111\"/>\n      </g>\n     </g>\n    </g>\n    <g id=\"xtick_71\">\n     <g id=\"line2d_71\">\n      <path clip-path=\"url(#p6456fcfb4f)\" d=\"M 158.796605 224.64 \nL 158.796605 7.2 \n\" style=\"fill:none;stroke:#cccccc;stroke-linecap:round;\"/>\n     </g>\n     <g id=\"text_71\">\n      <!-- rioting -->\n      <g style=\"fill:#262626;\" transform=\"translate(161.831917 269.771406)rotate(-90)scale(0.11 -0.11)\">\n       <use xlink:href=\"#DejaVuSans-114\"/>\n       <use x=\"41.113281\" xlink:href=\"#DejaVuSans-105\"/>\n       <use x=\"68.896484\" xlink:href=\"#DejaVuSans-111\"/>\n       <use x=\"130.078125\" xlink:href=\"#DejaVuSans-116\"/>\n       <use x=\"169.287109\" xlink:href=\"#DejaVuSans-105\"/>\n       <use x=\"197.070312\" xlink:href=\"#DejaVuSans-110\"/>\n       <use x=\"260.449219\" xlink:href=\"#DejaVuSans-103\"/>\n      </g>\n     </g>\n    </g>\n    <g id=\"xtick_72\">\n     <g id=\"line2d_72\">\n      <path clip-path=\"url(#p6456fcfb4f)\" d=\"M 160.564026 224.64 \nL 160.564026 7.2 \n\" style=\"fill:none;stroke:#cccccc;stroke-linecap:round;\"/>\n     </g>\n     <g id=\"text_72\">\n      <!-- war%20zone -->\n      <g style=\"fill:#262626;\" transform=\"translate(163.599338 305.091719)rotate(-90)scale(0.11 -0.11)\">\n       <use xlink:href=\"#DejaVuSans-119\"/>\n       <use x=\"81.787109\" xlink:href=\"#DejaVuSans-97\"/>\n       <use x=\"143.066406\" xlink:href=\"#DejaVuSans-114\"/>\n       <use x=\"184.179688\" xlink:href=\"#DejaVuSans-37\"/>\n       <use x=\"279.199219\" xlink:href=\"#DejaVuSans-50\"/>\n       <use x=\"342.822266\" xlink:href=\"#DejaVuSans-48\"/>\n       <use x=\"406.445312\" xlink:href=\"#DejaVuSans-122\"/>\n       <use x=\"458.935547\" xlink:href=\"#DejaVuSans-111\"/>\n       <use x=\"520.117188\" xlink:href=\"#DejaVuSans-110\"/>\n       <use x=\"583.496094\" xlink:href=\"#DejaVuSans-101\"/>\n      </g>\n     </g>\n    </g>\n    <g id=\"xtick_73\">\n     <g id=\"line2d_73\">\n      <path clip-path=\"url(#p6456fcfb4f)\" d=\"M 162.331447 224.64 \nL 162.331447 7.2 \n\" style=\"fill:none;stroke:#cccccc;stroke-linecap:round;\"/>\n     </g>\n     <g id=\"text_73\">\n      <!-- weapon -->\n      <g style=\"fill:#262626;\" transform=\"translate(165.366759 277.330469)rotate(-90)scale(0.11 -0.11)\">\n       <use xlink:href=\"#DejaVuSans-119\"/>\n       <use x=\"81.787109\" xlink:href=\"#DejaVuSans-101\"/>\n       <use x=\"143.310547\" xlink:href=\"#DejaVuSans-97\"/>\n       <use x=\"204.589844\" xlink:href=\"#DejaVuSans-112\"/>\n       <use x=\"268.066406\" xlink:href=\"#DejaVuSans-111\"/>\n       <use x=\"329.248047\" xlink:href=\"#DejaVuSans-110\"/>\n      </g>\n     </g>\n    </g>\n    <g id=\"xtick_74\">\n     <g id=\"line2d_74\">\n      <path clip-path=\"url(#p6456fcfb4f)\" d=\"M 164.098867 224.64 \nL 164.098867 7.2 \n\" style=\"fill:none;stroke:#cccccc;stroke-linecap:round;\"/>\n     </g>\n     <g id=\"text_74\">\n      <!-- weapons -->\n      <g style=\"fill:#262626;\" transform=\"translate(167.13418 283.060781)rotate(-90)scale(0.11 -0.11)\">\n       <use xlink:href=\"#DejaVuSans-119\"/>\n       <use x=\"81.787109\" xlink:href=\"#DejaVuSans-101\"/>\n       <use x=\"143.310547\" xlink:href=\"#DejaVuSans-97\"/>\n       <use x=\"204.589844\" xlink:href=\"#DejaVuSans-112\"/>\n       <use x=\"268.066406\" xlink:href=\"#DejaVuSans-111\"/>\n       <use x=\"329.248047\" xlink:href=\"#DejaVuSans-110\"/>\n       <use x=\"392.626953\" xlink:href=\"#DejaVuSans-115\"/>\n      </g>\n     </g>\n    </g>\n    <g id=\"xtick_75\">\n     <g id=\"line2d_75\">\n      <path clip-path=\"url(#p6456fcfb4f)\" d=\"M 165.866288 224.64 \nL 165.866288 7.2 \n\" style=\"fill:none;stroke:#cccccc;stroke-linecap:round;\"/>\n     </g>\n     <g id=\"text_75\">\n      <!-- whirlwind -->\n      <g style=\"fill:#262626;\" transform=\"translate(168.901601 286.7475)rotate(-90)scale(0.11 -0.11)\">\n       <use xlink:href=\"#DejaVuSans-119\"/>\n       <use x=\"81.787109\" xlink:href=\"#DejaVuSans-104\"/>\n       <use x=\"145.166016\" xlink:href=\"#DejaVuSans-105\"/>\n       <use x=\"172.949219\" xlink:href=\"#DejaVuSans-114\"/>\n       <use x=\"214.0625\" xlink:href=\"#DejaVuSans-108\"/>\n       <use x=\"241.845703\" xlink:href=\"#DejaVuSans-119\"/>\n       <use x=\"323.632812\" xlink:href=\"#DejaVuSans-105\"/>\n       <use x=\"351.416016\" xlink:href=\"#DejaVuSans-110\"/>\n       <use x=\"414.794922\" xlink:href=\"#DejaVuSans-100\"/>\n      </g>\n     </g>\n    </g>\n    <g id=\"xtick_76\">\n     <g id=\"line2d_76\">\n      <path clip-path=\"url(#p6456fcfb4f)\" d=\"M 167.633709 224.64 \nL 167.633709 7.2 \n\" style=\"fill:none;stroke:#cccccc;stroke-linecap:round;\"/>\n     </g>\n     <g id=\"text_76\">\n      <!-- wild%20fires -->\n      <g style=\"fill:#262626;\" transform=\"translate(170.669021 304.381875)rotate(-90)scale(0.11 -0.11)\">\n       <use xlink:href=\"#DejaVuSans-119\"/>\n       <use x=\"81.787109\" xlink:href=\"#DejaVuSans-105\"/>\n       <use x=\"109.570312\" xlink:href=\"#DejaVuSans-108\"/>\n       <use x=\"137.353516\" xlink:href=\"#DejaVuSans-100\"/>\n       <use x=\"200.830078\" xlink:href=\"#DejaVuSans-37\"/>\n       <use x=\"295.849609\" xlink:href=\"#DejaVuSans-50\"/>\n       <use x=\"359.472656\" xlink:href=\"#DejaVuSans-48\"/>\n       <use x=\"423.095703\" xlink:href=\"#DejaVuSans-102\"/>\n       <use x=\"458.300781\" xlink:href=\"#DejaVuSans-105\"/>\n       <use x=\"486.083984\" xlink:href=\"#DejaVuSans-114\"/>\n       <use x=\"524.947266\" xlink:href=\"#DejaVuSans-101\"/>\n       <use x=\"586.470703\" xlink:href=\"#DejaVuSans-115\"/>\n      </g>\n     </g>\n    </g>\n    <g id=\"xtick_77\">\n     <g id=\"line2d_77\">\n      <path clip-path=\"url(#p6456fcfb4f)\" d=\"M 169.40113 224.64 \nL 169.40113 7.2 \n\" style=\"fill:none;stroke:#cccccc;stroke-linecap:round;\"/>\n     </g>\n     <g id=\"text_77\">\n      <!-- wildfire -->\n      <g style=\"fill:#262626;\" transform=\"translate(172.436442 274.202344)rotate(-90)scale(0.11 -0.11)\">\n       <use xlink:href=\"#DejaVuSans-119\"/>\n       <use x=\"81.787109\" xlink:href=\"#DejaVuSans-105\"/>\n       <use x=\"109.570312\" xlink:href=\"#DejaVuSans-108\"/>\n       <use x=\"137.353516\" xlink:href=\"#DejaVuSans-100\"/>\n       <use x=\"200.830078\" xlink:href=\"#DejaVuSans-102\"/>\n       <use x=\"236.035156\" xlink:href=\"#DejaVuSans-105\"/>\n       <use x=\"263.818359\" xlink:href=\"#DejaVuSans-114\"/>\n       <use x=\"302.681641\" xlink:href=\"#DejaVuSans-101\"/>\n      </g>\n     </g>\n    </g>\n    <g id=\"xtick_78\">\n     <g id=\"line2d_78\">\n      <path clip-path=\"url(#p6456fcfb4f)\" d=\"M 171.168551 224.64 \nL 171.168551 7.2 \n\" style=\"fill:none;stroke:#cccccc;stroke-linecap:round;\"/>\n     </g>\n     <g id=\"text_78\">\n      <!-- windstorm -->\n      <g style=\"fill:#262626;\" transform=\"translate(174.203863 291.963906)rotate(-90)scale(0.11 -0.11)\">\n       <use xlink:href=\"#DejaVuSans-119\"/>\n       <use x=\"81.787109\" xlink:href=\"#DejaVuSans-105\"/>\n       <use x=\"109.570312\" xlink:href=\"#DejaVuSans-110\"/>\n       <use x=\"172.949219\" xlink:href=\"#DejaVuSans-100\"/>\n       <use x=\"236.425781\" xlink:href=\"#DejaVuSans-115\"/>\n       <use x=\"288.525391\" xlink:href=\"#DejaVuSans-116\"/>\n       <use x=\"327.734375\" xlink:href=\"#DejaVuSans-111\"/>\n       <use x=\"388.916016\" xlink:href=\"#DejaVuSans-114\"/>\n       <use x=\"428.279297\" xlink:href=\"#DejaVuSans-109\"/>\n      </g>\n     </g>\n    </g>\n    <g id=\"xtick_79\">\n     <g id=\"line2d_79\">\n      <path clip-path=\"url(#p6456fcfb4f)\" d=\"M 172.935971 224.64 \nL 172.935971 7.2 \n\" style=\"fill:none;stroke:#cccccc;stroke-linecap:round;\"/>\n     </g>\n     <g id=\"text_79\">\n      <!-- wounded -->\n      <g style=\"fill:#262626;\" transform=\"translate(175.971284 284.544062)rotate(-90)scale(0.11 -0.11)\">\n       <use xlink:href=\"#DejaVuSans-119\"/>\n       <use x=\"81.787109\" xlink:href=\"#DejaVuSans-111\"/>\n       <use x=\"142.96875\" xlink:href=\"#DejaVuSans-117\"/>\n       <use x=\"206.347656\" xlink:href=\"#DejaVuSans-110\"/>\n       <use x=\"269.726562\" xlink:href=\"#DejaVuSans-100\"/>\n       <use x=\"333.203125\" xlink:href=\"#DejaVuSans-101\"/>\n       <use x=\"394.726562\" xlink:href=\"#DejaVuSans-100\"/>\n      </g>\n     </g>\n    </g>\n    <g id=\"xtick_80\">\n     <g id=\"line2d_80\">\n      <path clip-path=\"url(#p6456fcfb4f)\" d=\"M 174.703392 224.64 \nL 174.703392 7.2 \n\" style=\"fill:none;stroke:#cccccc;stroke-linecap:round;\"/>\n     </g>\n     <g id=\"text_80\">\n      <!-- wounds -->\n      <g style=\"fill:#262626;\" transform=\"translate(177.738705 276.522656)rotate(-90)scale(0.11 -0.11)\">\n       <use xlink:href=\"#DejaVuSans-119\"/>\n       <use x=\"81.787109\" xlink:href=\"#DejaVuSans-111\"/>\n       <use x=\"142.96875\" xlink:href=\"#DejaVuSans-117\"/>\n       <use x=\"206.347656\" xlink:href=\"#DejaVuSans-110\"/>\n       <use x=\"269.726562\" xlink:href=\"#DejaVuSans-100\"/>\n       <use x=\"333.203125\" xlink:href=\"#DejaVuSans-115\"/>\n      </g>\n     </g>\n    </g>\n    <g id=\"xtick_81\">\n     <g id=\"line2d_81\">\n      <path clip-path=\"url(#p6456fcfb4f)\" d=\"M 176.470813 224.64 \nL 176.470813 7.2 \n\" style=\"fill:none;stroke:#cccccc;stroke-linecap:round;\"/>\n     </g>\n     <g id=\"text_81\">\n      <!-- wreck -->\n      <g style=\"fill:#262626;\" transform=\"translate(179.506126 266.596875)rotate(-90)scale(0.11 -0.11)\">\n       <use xlink:href=\"#DejaVuSans-119\"/>\n       <use x=\"81.787109\" xlink:href=\"#DejaVuSans-114\"/>\n       <use x=\"120.650391\" xlink:href=\"#DejaVuSans-101\"/>\n       <use x=\"182.173828\" xlink:href=\"#DejaVuSans-99\"/>\n       <use x=\"237.154297\" xlink:href=\"#DejaVuSans-107\"/>\n      </g>\n     </g>\n    </g>\n    <g id=\"xtick_82\">\n     <g id=\"line2d_82\">\n      <path clip-path=\"url(#p6456fcfb4f)\" d=\"M 178.238234 224.64 \nL 178.238234 7.2 \n\" style=\"fill:none;stroke:#cccccc;stroke-linecap:round;\"/>\n     </g>\n     <g id=\"text_82\">\n      <!-- wreckage -->\n      <g style=\"fill:#262626;\" transform=\"translate(181.273546 286.897031)rotate(-90)scale(0.11 -0.11)\">\n       <use xlink:href=\"#DejaVuSans-119\"/>\n       <use x=\"81.787109\" xlink:href=\"#DejaVuSans-114\"/>\n       <use x=\"120.650391\" xlink:href=\"#DejaVuSans-101\"/>\n       <use x=\"182.173828\" xlink:href=\"#DejaVuSans-99\"/>\n       <use x=\"237.154297\" xlink:href=\"#DejaVuSans-107\"/>\n       <use x=\"293.314453\" xlink:href=\"#DejaVuSans-97\"/>\n       <use x=\"354.59375\" xlink:href=\"#DejaVuSans-103\"/>\n       <use x=\"418.070312\" xlink:href=\"#DejaVuSans-101\"/>\n      </g>\n     </g>\n    </g>\n    <g id=\"xtick_83\">\n     <g id=\"line2d_83\">\n      <path clip-path=\"url(#p6456fcfb4f)\" d=\"M 180.005655 224.64 \nL 180.005655 7.2 \n\" style=\"fill:none;stroke:#cccccc;stroke-linecap:round;\"/>\n     </g>\n     <g id=\"text_83\">\n      <!-- thunder -->\n      <g style=\"fill:#262626;\" transform=\"translate(183.040967 277.639844)rotate(-90)scale(0.11 -0.11)\">\n       <use xlink:href=\"#DejaVuSans-116\"/>\n       <use x=\"39.208984\" xlink:href=\"#DejaVuSans-104\"/>\n       <use x=\"102.587891\" xlink:href=\"#DejaVuSans-117\"/>\n       <use x=\"165.966797\" xlink:href=\"#DejaVuSans-110\"/>\n       <use x=\"229.345703\" xlink:href=\"#DejaVuSans-100\"/>\n       <use x=\"292.822266\" xlink:href=\"#DejaVuSans-101\"/>\n       <use x=\"354.345703\" xlink:href=\"#DejaVuSans-114\"/>\n      </g>\n     </g>\n    </g>\n    <g id=\"xtick_84\">\n     <g id=\"line2d_84\">\n      <path clip-path=\"url(#p6456fcfb4f)\" d=\"M 181.773076 224.64 \nL 181.773076 7.2 \n\" style=\"fill:none;stroke:#cccccc;stroke-linecap:round;\"/>\n     </g>\n     <g id=\"text_84\">\n      <!-- threat -->\n      <g style=\"fill:#262626;\" transform=\"translate(184.808388 267.519844)rotate(-90)scale(0.11 -0.11)\">\n       <use xlink:href=\"#DejaVuSans-116\"/>\n       <use x=\"39.208984\" xlink:href=\"#DejaVuSans-104\"/>\n       <use x=\"102.587891\" xlink:href=\"#DejaVuSans-114\"/>\n       <use x=\"141.451172\" xlink:href=\"#DejaVuSans-101\"/>\n       <use x=\"202.974609\" xlink:href=\"#DejaVuSans-97\"/>\n       <use x=\"264.253906\" xlink:href=\"#DejaVuSans-116\"/>\n      </g>\n     </g>\n    </g>\n    <g id=\"xtick_85\">\n     <g id=\"line2d_85\">\n      <path clip-path=\"url(#p6456fcfb4f)\" d=\"M 183.540496 224.64 \nL 183.540496 7.2 \n\" style=\"fill:none;stroke:#cccccc;stroke-linecap:round;\"/>\n     </g>\n     <g id=\"text_85\">\n      <!-- terrorist -->\n      <g style=\"fill:#262626;\" transform=\"translate(186.575809 278.176094)rotate(-90)scale(0.11 -0.11)\">\n       <use xlink:href=\"#DejaVuSans-116\"/>\n       <use x=\"39.208984\" xlink:href=\"#DejaVuSans-101\"/>\n       <use x=\"100.732422\" xlink:href=\"#DejaVuSans-114\"/>\n       <use x=\"140.095703\" xlink:href=\"#DejaVuSans-114\"/>\n       <use x=\"178.958984\" xlink:href=\"#DejaVuSans-111\"/>\n       <use x=\"240.140625\" xlink:href=\"#DejaVuSans-114\"/>\n       <use x=\"281.253906\" xlink:href=\"#DejaVuSans-105\"/>\n       <use x=\"309.037109\" xlink:href=\"#DejaVuSans-115\"/>\n       <use x=\"361.136719\" xlink:href=\"#DejaVuSans-116\"/>\n      </g>\n     </g>\n    </g>\n    <g id=\"xtick_86\">\n     <g id=\"line2d_86\">\n      <path clip-path=\"url(#p6456fcfb4f)\" d=\"M 185.307917 224.64 \nL 185.307917 7.2 \n\" style=\"fill:none;stroke:#cccccc;stroke-linecap:round;\"/>\n     </g>\n     <g id=\"text_86\">\n      <!-- terrorism -->\n      <g style=\"fill:#262626;\" transform=\"translate(188.34323 284.578437)rotate(-90)scale(0.11 -0.11)\">\n       <use xlink:href=\"#DejaVuSans-116\"/>\n       <use x=\"39.208984\" xlink:href=\"#DejaVuSans-101\"/>\n       <use x=\"100.732422\" xlink:href=\"#DejaVuSans-114\"/>\n       <use x=\"140.095703\" xlink:href=\"#DejaVuSans-114\"/>\n       <use x=\"178.958984\" xlink:href=\"#DejaVuSans-111\"/>\n       <use x=\"240.140625\" xlink:href=\"#DejaVuSans-114\"/>\n       <use x=\"281.253906\" xlink:href=\"#DejaVuSans-105\"/>\n       <use x=\"309.037109\" xlink:href=\"#DejaVuSans-115\"/>\n       <use x=\"361.136719\" xlink:href=\"#DejaVuSans-109\"/>\n      </g>\n     </g>\n    </g>\n    <g id=\"xtick_87\">\n     <g id=\"line2d_87\">\n      <path clip-path=\"url(#p6456fcfb4f)\" d=\"M 187.075338 224.64 \nL 187.075338 7.2 \n\" style=\"fill:none;stroke:#cccccc;stroke-linecap:round;\"/>\n     </g>\n     <g id=\"text_87\">\n      <!-- rubble -->\n      <g style=\"fill:#262626;\" transform=\"translate(190.11065 269.424219)rotate(-90)scale(0.11 -0.11)\">\n       <use xlink:href=\"#DejaVuSans-114\"/>\n       <use x=\"41.113281\" xlink:href=\"#DejaVuSans-117\"/>\n       <use x=\"104.492188\" xlink:href=\"#DejaVuSans-98\"/>\n       <use x=\"167.96875\" xlink:href=\"#DejaVuSans-98\"/>\n       <use x=\"231.445312\" xlink:href=\"#DejaVuSans-108\"/>\n       <use x=\"259.228516\" xlink:href=\"#DejaVuSans-101\"/>\n      </g>\n     </g>\n    </g>\n    <g id=\"xtick_88\">\n     <g id=\"line2d_88\">\n      <path clip-path=\"url(#p6456fcfb4f)\" d=\"M 188.842759 224.64 \nL 188.842759 7.2 \n\" style=\"fill:none;stroke:#cccccc;stroke-linecap:round;\"/>\n     </g>\n     <g id=\"text_88\">\n      <!-- ruin -->\n      <g style=\"fill:#262626;\" transform=\"translate(191.878071 255.660469)rotate(-90)scale(0.11 -0.11)\">\n       <use xlink:href=\"#DejaVuSans-114\"/>\n       <use x=\"41.113281\" xlink:href=\"#DejaVuSans-117\"/>\n       <use x=\"104.492188\" xlink:href=\"#DejaVuSans-105\"/>\n       <use x=\"132.275391\" xlink:href=\"#DejaVuSans-110\"/>\n      </g>\n     </g>\n    </g>\n    <g id=\"xtick_89\">\n     <g id=\"line2d_89\">\n      <path clip-path=\"url(#p6456fcfb4f)\" d=\"M 190.61018 224.64 \nL 190.61018 7.2 \n\" style=\"fill:none;stroke:#cccccc;stroke-linecap:round;\"/>\n     </g>\n     <g id=\"text_89\">\n      <!-- sandstorm -->\n      <g style=\"fill:#262626;\" transform=\"translate(193.645492 292.383281)rotate(-90)scale(0.11 -0.11)\">\n       <use xlink:href=\"#DejaVuSans-115\"/>\n       <use x=\"52.099609\" xlink:href=\"#DejaVuSans-97\"/>\n       <use x=\"113.378906\" xlink:href=\"#DejaVuSans-110\"/>\n       <use x=\"176.757812\" xlink:href=\"#DejaVuSans-100\"/>\n       <use x=\"240.234375\" xlink:href=\"#DejaVuSans-115\"/>\n       <use x=\"292.333984\" xlink:href=\"#DejaVuSans-116\"/>\n       <use x=\"331.542969\" xlink:href=\"#DejaVuSans-111\"/>\n       <use x=\"392.724609\" xlink:href=\"#DejaVuSans-114\"/>\n       <use x=\"432.087891\" xlink:href=\"#DejaVuSans-109\"/>\n      </g>\n     </g>\n    </g>\n    <g id=\"xtick_90\">\n     <g id=\"line2d_90\">\n      <path clip-path=\"url(#p6456fcfb4f)\" d=\"M 192.3776 224.64 \nL 192.3776 7.2 \n\" style=\"fill:none;stroke:#cccccc;stroke-linecap:round;\"/>\n     </g>\n     <g id=\"text_90\">\n      <!-- screamed -->\n      <g style=\"fill:#262626;\" transform=\"translate(195.412913 288.168906)rotate(-90)scale(0.11 -0.11)\">\n       <use xlink:href=\"#DejaVuSans-115\"/>\n       <use x=\"52.099609\" xlink:href=\"#DejaVuSans-99\"/>\n       <use x=\"107.080078\" xlink:href=\"#DejaVuSans-114\"/>\n       <use x=\"145.943359\" xlink:href=\"#DejaVuSans-101\"/>\n       <use x=\"207.466797\" xlink:href=\"#DejaVuSans-97\"/>\n       <use x=\"268.746094\" xlink:href=\"#DejaVuSans-109\"/>\n       <use x=\"366.158203\" xlink:href=\"#DejaVuSans-101\"/>\n       <use x=\"427.681641\" xlink:href=\"#DejaVuSans-100\"/>\n      </g>\n     </g>\n    </g>\n    <g id=\"xtick_91\">\n     <g id=\"line2d_91\">\n      <path clip-path=\"url(#p6456fcfb4f)\" d=\"M 194.145021 224.64 \nL 194.145021 7.2 \n\" style=\"fill:none;stroke:#cccccc;stroke-linecap:round;\"/>\n     </g>\n     <g id=\"text_91\">\n      <!-- screaming -->\n      <g style=\"fill:#262626;\" transform=\"translate(197.180334 291.427656)rotate(-90)scale(0.11 -0.11)\">\n       <use xlink:href=\"#DejaVuSans-115\"/>\n       <use x=\"52.099609\" xlink:href=\"#DejaVuSans-99\"/>\n       <use x=\"107.080078\" xlink:href=\"#DejaVuSans-114\"/>\n       <use x=\"145.943359\" xlink:href=\"#DejaVuSans-101\"/>\n       <use x=\"207.466797\" xlink:href=\"#DejaVuSans-97\"/>\n       <use x=\"268.746094\" xlink:href=\"#DejaVuSans-109\"/>\n       <use x=\"366.158203\" xlink:href=\"#DejaVuSans-105\"/>\n       <use x=\"393.941406\" xlink:href=\"#DejaVuSans-110\"/>\n       <use x=\"457.320312\" xlink:href=\"#DejaVuSans-103\"/>\n      </g>\n     </g>\n    </g>\n    <g id=\"xtick_92\">\n     <g id=\"line2d_92\">\n      <path clip-path=\"url(#p6456fcfb4f)\" d=\"M 195.912442 224.64 \nL 195.912442 7.2 \n\" style=\"fill:none;stroke:#cccccc;stroke-linecap:round;\"/>\n     </g>\n     <g id=\"text_92\">\n      <!-- screams -->\n      <g style=\"fill:#262626;\" transform=\"translate(198.947755 280.1475)rotate(-90)scale(0.11 -0.11)\">\n       <use xlink:href=\"#DejaVuSans-115\"/>\n       <use x=\"52.099609\" xlink:href=\"#DejaVuSans-99\"/>\n       <use x=\"107.080078\" xlink:href=\"#DejaVuSans-114\"/>\n       <use x=\"145.943359\" xlink:href=\"#DejaVuSans-101\"/>\n       <use x=\"207.466797\" xlink:href=\"#DejaVuSans-97\"/>\n       <use x=\"268.746094\" xlink:href=\"#DejaVuSans-109\"/>\n       <use x=\"366.158203\" xlink:href=\"#DejaVuSans-115\"/>\n      </g>\n     </g>\n    </g>\n    <g id=\"xtick_93\">\n     <g id=\"line2d_93\">\n      <path clip-path=\"url(#p6456fcfb4f)\" d=\"M 197.679863 224.64 \nL 197.679863 7.2 \n\" style=\"fill:none;stroke:#cccccc;stroke-linecap:round;\"/>\n     </g>\n     <g id=\"text_93\">\n      <!-- seismic -->\n      <g style=\"fill:#262626;\" transform=\"translate(200.715175 275.243906)rotate(-90)scale(0.11 -0.11)\">\n       <use xlink:href=\"#DejaVuSans-115\"/>\n       <use x=\"52.099609\" xlink:href=\"#DejaVuSans-101\"/>\n       <use x=\"113.623047\" xlink:href=\"#DejaVuSans-105\"/>\n       <use x=\"141.40625\" xlink:href=\"#DejaVuSans-115\"/>\n       <use x=\"193.505859\" xlink:href=\"#DejaVuSans-109\"/>\n       <use x=\"290.917969\" xlink:href=\"#DejaVuSans-105\"/>\n       <use x=\"318.701172\" xlink:href=\"#DejaVuSans-99\"/>\n      </g>\n     </g>\n    </g>\n    <g id=\"xtick_94\">\n     <g id=\"line2d_94\">\n      <path clip-path=\"url(#p6456fcfb4f)\" d=\"M 199.447284 224.64 \nL 199.447284 7.2 \n\" style=\"fill:none;stroke:#cccccc;stroke-linecap:round;\"/>\n     </g>\n     <g id=\"text_94\">\n      <!-- sinkhole -->\n      <g style=\"fill:#262626;\" transform=\"translate(202.482596 279.793437)rotate(-90)scale(0.11 -0.11)\">\n       <use xlink:href=\"#DejaVuSans-115\"/>\n       <use x=\"52.099609\" xlink:href=\"#DejaVuSans-105\"/>\n       <use x=\"79.882812\" xlink:href=\"#DejaVuSans-110\"/>\n       <use x=\"143.261719\" xlink:href=\"#DejaVuSans-107\"/>\n       <use x=\"201.171875\" xlink:href=\"#DejaVuSans-104\"/>\n       <use x=\"264.550781\" xlink:href=\"#DejaVuSans-111\"/>\n       <use x=\"325.732422\" xlink:href=\"#DejaVuSans-108\"/>\n       <use x=\"353.515625\" xlink:href=\"#DejaVuSans-101\"/>\n      </g>\n     </g>\n    </g>\n    <g id=\"xtick_95\">\n     <g id=\"line2d_95\">\n      <path clip-path=\"url(#p6456fcfb4f)\" d=\"M 201.214704 224.64 \nL 201.214704 7.2 \n\" style=\"fill:none;stroke:#cccccc;stroke-linecap:round;\"/>\n     </g>\n     <g id=\"text_95\">\n      <!-- sinking -->\n      <g style=\"fill:#262626;\" transform=\"translate(204.250017 273.277656)rotate(-90)scale(0.11 -0.11)\">\n       <use xlink:href=\"#DejaVuSans-115\"/>\n       <use x=\"52.099609\" xlink:href=\"#DejaVuSans-105\"/>\n       <use x=\"79.882812\" xlink:href=\"#DejaVuSans-110\"/>\n       <use x=\"143.261719\" xlink:href=\"#DejaVuSans-107\"/>\n       <use x=\"201.171875\" xlink:href=\"#DejaVuSans-105\"/>\n       <use x=\"228.955078\" xlink:href=\"#DejaVuSans-110\"/>\n       <use x=\"292.333984\" xlink:href=\"#DejaVuSans-103\"/>\n      </g>\n     </g>\n    </g>\n    <g id=\"xtick_96\">\n     <g id=\"line2d_96\">\n      <path clip-path=\"url(#p6456fcfb4f)\" d=\"M 202.982125 224.64 \nL 202.982125 7.2 \n\" style=\"fill:none;stroke:#cccccc;stroke-linecap:round;\"/>\n     </g>\n     <g id=\"text_96\">\n      <!-- siren -->\n      <g style=\"fill:#262626;\" transform=\"translate(206.017438 260.940469)rotate(-90)scale(0.11 -0.11)\">\n       <use xlink:href=\"#DejaVuSans-115\"/>\n       <use x=\"52.099609\" xlink:href=\"#DejaVuSans-105\"/>\n       <use x=\"79.882812\" xlink:href=\"#DejaVuSans-114\"/>\n       <use x=\"118.746094\" xlink:href=\"#DejaVuSans-101\"/>\n       <use x=\"180.269531\" xlink:href=\"#DejaVuSans-110\"/>\n      </g>\n     </g>\n    </g>\n    <g id=\"xtick_97\">\n     <g id=\"line2d_97\">\n      <path clip-path=\"url(#p6456fcfb4f)\" d=\"M 204.749546 224.64 \nL 204.749546 7.2 \n\" style=\"fill:none;stroke:#cccccc;stroke-linecap:round;\"/>\n     </g>\n     <g id=\"text_97\">\n      <!-- sirens -->\n      <g style=\"fill:#262626;\" transform=\"translate(207.784859 266.670781)rotate(-90)scale(0.11 -0.11)\">\n       <use xlink:href=\"#DejaVuSans-115\"/>\n       <use x=\"52.099609\" xlink:href=\"#DejaVuSans-105\"/>\n       <use x=\"79.882812\" xlink:href=\"#DejaVuSans-114\"/>\n       <use x=\"118.746094\" xlink:href=\"#DejaVuSans-101\"/>\n       <use x=\"180.269531\" xlink:href=\"#DejaVuSans-110\"/>\n       <use x=\"243.648438\" xlink:href=\"#DejaVuSans-115\"/>\n      </g>\n     </g>\n    </g>\n    <g id=\"xtick_98\">\n     <g id=\"line2d_98\">\n      <path clip-path=\"url(#p6456fcfb4f)\" d=\"M 206.516967 224.64 \nL 206.516967 7.2 \n\" style=\"fill:none;stroke:#cccccc;stroke-linecap:round;\"/>\n     </g>\n     <g id=\"text_98\">\n      <!-- smoke -->\n      <g style=\"fill:#262626;\" transform=\"translate(209.552279 270.055)rotate(-90)scale(0.11 -0.11)\">\n       <use xlink:href=\"#DejaVuSans-115\"/>\n       <use x=\"52.099609\" xlink:href=\"#DejaVuSans-109\"/>\n       <use x=\"149.511719\" xlink:href=\"#DejaVuSans-111\"/>\n       <use x=\"210.693359\" xlink:href=\"#DejaVuSans-107\"/>\n       <use x=\"264.978516\" xlink:href=\"#DejaVuSans-101\"/>\n      </g>\n     </g>\n    </g>\n    <g id=\"xtick_99\">\n     <g id=\"line2d_99\">\n      <path clip-path=\"url(#p6456fcfb4f)\" d=\"M 208.284388 224.64 \nL 208.284388 7.2 \n\" style=\"fill:none;stroke:#cccccc;stroke-linecap:round;\"/>\n     </g>\n     <g id=\"text_99\">\n      <!-- snowstorm -->\n      <g style=\"fill:#262626;\" transform=\"translate(211.3197 294.385625)rotate(-90)scale(0.11 -0.11)\">\n       <use xlink:href=\"#DejaVuSans-115\"/>\n       <use x=\"52.099609\" xlink:href=\"#DejaVuSans-110\"/>\n       <use x=\"115.478516\" xlink:href=\"#DejaVuSans-111\"/>\n       <use x=\"176.660156\" xlink:href=\"#DejaVuSans-119\"/>\n       <use x=\"258.447266\" xlink:href=\"#DejaVuSans-115\"/>\n       <use x=\"310.546875\" xlink:href=\"#DejaVuSans-116\"/>\n       <use x=\"349.755859\" xlink:href=\"#DejaVuSans-111\"/>\n       <use x=\"410.9375\" xlink:href=\"#DejaVuSans-114\"/>\n       <use x=\"450.300781\" xlink:href=\"#DejaVuSans-109\"/>\n      </g>\n     </g>\n    </g>\n    <g id=\"xtick_100\">\n     <g id=\"line2d_100\">\n      <path clip-path=\"url(#p6456fcfb4f)\" d=\"M 210.051809 224.64 \nL 210.051809 7.2 \n\" style=\"fill:none;stroke:#cccccc;stroke-linecap:round;\"/>\n     </g>\n     <g id=\"text_100\">\n      <!-- storm -->\n      <g style=\"fill:#262626;\" transform=\"translate(213.087121 265.9575)rotate(-90)scale(0.11 -0.11)\">\n       <use xlink:href=\"#DejaVuSans-115\"/>\n       <use x=\"52.099609\" xlink:href=\"#DejaVuSans-116\"/>\n       <use x=\"91.308594\" xlink:href=\"#DejaVuSans-111\"/>\n       <use x=\"152.490234\" xlink:href=\"#DejaVuSans-114\"/>\n       <use x=\"191.853516\" xlink:href=\"#DejaVuSans-109\"/>\n      </g>\n     </g>\n    </g>\n    <g id=\"xtick_101\">\n     <g id=\"line2d_101\">\n      <path clip-path=\"url(#p6456fcfb4f)\" d=\"M 211.819229 224.64 \nL 211.819229 7.2 \n\" style=\"fill:none;stroke:#cccccc;stroke-linecap:round;\"/>\n     </g>\n     <g id=\"text_101\">\n      <!-- stretcher -->\n      <g style=\"fill:#262626;\" transform=\"translate(214.854542 283.847969)rotate(-90)scale(0.11 -0.11)\">\n       <use xlink:href=\"#DejaVuSans-115\"/>\n       <use x=\"52.099609\" xlink:href=\"#DejaVuSans-116\"/>\n       <use x=\"91.308594\" xlink:href=\"#DejaVuSans-114\"/>\n       <use x=\"130.171875\" xlink:href=\"#DejaVuSans-101\"/>\n       <use x=\"191.695312\" xlink:href=\"#DejaVuSans-116\"/>\n       <use x=\"230.904297\" xlink:href=\"#DejaVuSans-99\"/>\n       <use x=\"285.884766\" xlink:href=\"#DejaVuSans-104\"/>\n       <use x=\"349.263672\" xlink:href=\"#DejaVuSans-101\"/>\n       <use x=\"410.787109\" xlink:href=\"#DejaVuSans-114\"/>\n      </g>\n     </g>\n    </g>\n    <g id=\"xtick_102\">\n     <g id=\"line2d_102\">\n      <path clip-path=\"url(#p6456fcfb4f)\" d=\"M 213.58665 224.64 \nL 213.58665 7.2 \n\" style=\"fill:none;stroke:#cccccc;stroke-linecap:round;\"/>\n     </g>\n     <g id=\"text_102\">\n      <!-- structural%20failure -->\n      <g style=\"fill:#262626;\" transform=\"translate(216.621963 346.515312)rotate(-90)scale(0.11 -0.11)\">\n       <use xlink:href=\"#DejaVuSans-115\"/>\n       <use x=\"52.099609\" xlink:href=\"#DejaVuSans-116\"/>\n       <use x=\"91.308594\" xlink:href=\"#DejaVuSans-114\"/>\n       <use x=\"132.421875\" xlink:href=\"#DejaVuSans-117\"/>\n       <use x=\"195.800781\" xlink:href=\"#DejaVuSans-99\"/>\n       <use x=\"250.78125\" xlink:href=\"#DejaVuSans-116\"/>\n       <use x=\"289.990234\" xlink:href=\"#DejaVuSans-117\"/>\n       <use x=\"353.369141\" xlink:href=\"#DejaVuSans-114\"/>\n       <use x=\"394.482422\" xlink:href=\"#DejaVuSans-97\"/>\n       <use x=\"455.761719\" xlink:href=\"#DejaVuSans-108\"/>\n       <use x=\"483.544922\" xlink:href=\"#DejaVuSans-37\"/>\n       <use x=\"578.564453\" xlink:href=\"#DejaVuSans-50\"/>\n       <use x=\"642.1875\" xlink:href=\"#DejaVuSans-48\"/>\n       <use x=\"705.810547\" xlink:href=\"#DejaVuSans-102\"/>\n       <use x=\"741.015625\" xlink:href=\"#DejaVuSans-97\"/>\n       <use x=\"802.294922\" xlink:href=\"#DejaVuSans-105\"/>\n       <use x=\"830.078125\" xlink:href=\"#DejaVuSans-108\"/>\n       <use x=\"857.861328\" xlink:href=\"#DejaVuSans-117\"/>\n       <use x=\"921.240234\" xlink:href=\"#DejaVuSans-114\"/>\n       <use x=\"960.103516\" xlink:href=\"#DejaVuSans-101\"/>\n      </g>\n     </g>\n    </g>\n    <g id=\"xtick_103\">\n     <g id=\"line2d_103\">\n      <path clip-path=\"url(#p6456fcfb4f)\" d=\"M 215.354071 224.64 \nL 215.354071 7.2 \n\" style=\"fill:none;stroke:#cccccc;stroke-linecap:round;\"/>\n     </g>\n     <g id=\"text_103\">\n      <!-- suicide%20bomb -->\n      <g style=\"fill:#262626;\" transform=\"translate(218.389383 328.614531)rotate(-90)scale(0.11 -0.11)\">\n       <use xlink:href=\"#DejaVuSans-115\"/>\n       <use x=\"52.099609\" xlink:href=\"#DejaVuSans-117\"/>\n       <use x=\"115.478516\" xlink:href=\"#DejaVuSans-105\"/>\n       <use x=\"143.261719\" xlink:href=\"#DejaVuSans-99\"/>\n       <use x=\"198.242188\" xlink:href=\"#DejaVuSans-105\"/>\n       <use x=\"226.025391\" xlink:href=\"#DejaVuSans-100\"/>\n       <use x=\"289.501953\" xlink:href=\"#DejaVuSans-101\"/>\n       <use x=\"351.025391\" xlink:href=\"#DejaVuSans-37\"/>\n       <use x=\"446.044922\" xlink:href=\"#DejaVuSans-50\"/>\n       <use x=\"509.667969\" xlink:href=\"#DejaVuSans-48\"/>\n       <use x=\"573.291016\" xlink:href=\"#DejaVuSans-98\"/>\n       <use x=\"636.767578\" xlink:href=\"#DejaVuSans-111\"/>\n       <use x=\"697.949219\" xlink:href=\"#DejaVuSans-109\"/>\n       <use x=\"795.361328\" xlink:href=\"#DejaVuSans-98\"/>\n      </g>\n     </g>\n    </g>\n    <g id=\"xtick_104\">\n     <g id=\"line2d_104\">\n      <path clip-path=\"url(#p6456fcfb4f)\" d=\"M 217.121492 224.64 \nL 217.121492 7.2 \n\" style=\"fill:none;stroke:#cccccc;stroke-linecap:round;\"/>\n     </g>\n     <g id=\"text_104\">\n      <!-- suicide%20bomber -->\n      <g style=\"fill:#262626;\" transform=\"translate(220.156804 339.905)rotate(-90)scale(0.11 -0.11)\">\n       <use xlink:href=\"#DejaVuSans-115\"/>\n       <use x=\"52.099609\" xlink:href=\"#DejaVuSans-117\"/>\n       <use x=\"115.478516\" xlink:href=\"#DejaVuSans-105\"/>\n       <use x=\"143.261719\" xlink:href=\"#DejaVuSans-99\"/>\n       <use x=\"198.242188\" xlink:href=\"#DejaVuSans-105\"/>\n       <use x=\"226.025391\" xlink:href=\"#DejaVuSans-100\"/>\n       <use x=\"289.501953\" xlink:href=\"#DejaVuSans-101\"/>\n       <use x=\"351.025391\" xlink:href=\"#DejaVuSans-37\"/>\n       <use x=\"446.044922\" xlink:href=\"#DejaVuSans-50\"/>\n       <use x=\"509.667969\" xlink:href=\"#DejaVuSans-48\"/>\n       <use x=\"573.291016\" xlink:href=\"#DejaVuSans-98\"/>\n       <use x=\"636.767578\" xlink:href=\"#DejaVuSans-111\"/>\n       <use x=\"697.949219\" xlink:href=\"#DejaVuSans-109\"/>\n       <use x=\"795.361328\" xlink:href=\"#DejaVuSans-98\"/>\n       <use x=\"858.837891\" xlink:href=\"#DejaVuSans-101\"/>\n       <use x=\"920.361328\" xlink:href=\"#DejaVuSans-114\"/>\n      </g>\n     </g>\n    </g>\n    <g id=\"xtick_105\">\n     <g id=\"line2d_105\">\n      <path clip-path=\"url(#p6456fcfb4f)\" d=\"M 218.888913 224.64 \nL 218.888913 7.2 \n\" style=\"fill:none;stroke:#cccccc;stroke-linecap:round;\"/>\n     </g>\n     <g id=\"text_105\">\n      <!-- suicide%20bombing -->\n      <g style=\"fill:#262626;\" transform=\"translate(221.924225 345.625)rotate(-90)scale(0.11 -0.11)\">\n       <use xlink:href=\"#DejaVuSans-115\"/>\n       <use x=\"52.099609\" xlink:href=\"#DejaVuSans-117\"/>\n       <use x=\"115.478516\" xlink:href=\"#DejaVuSans-105\"/>\n       <use x=\"143.261719\" xlink:href=\"#DejaVuSans-99\"/>\n       <use x=\"198.242188\" xlink:href=\"#DejaVuSans-105\"/>\n       <use x=\"226.025391\" xlink:href=\"#DejaVuSans-100\"/>\n       <use x=\"289.501953\" xlink:href=\"#DejaVuSans-101\"/>\n       <use x=\"351.025391\" xlink:href=\"#DejaVuSans-37\"/>\n       <use x=\"446.044922\" xlink:href=\"#DejaVuSans-50\"/>\n       <use x=\"509.667969\" xlink:href=\"#DejaVuSans-48\"/>\n       <use x=\"573.291016\" xlink:href=\"#DejaVuSans-98\"/>\n       <use x=\"636.767578\" xlink:href=\"#DejaVuSans-111\"/>\n       <use x=\"697.949219\" xlink:href=\"#DejaVuSans-109\"/>\n       <use x=\"795.361328\" xlink:href=\"#DejaVuSans-98\"/>\n       <use x=\"858.837891\" xlink:href=\"#DejaVuSans-105\"/>\n       <use x=\"886.621094\" xlink:href=\"#DejaVuSans-110\"/>\n       <use x=\"950\" xlink:href=\"#DejaVuSans-103\"/>\n      </g>\n     </g>\n    </g>\n    <g id=\"xtick_106\">\n     <g id=\"line2d_106\">\n      <path clip-path=\"url(#p6456fcfb4f)\" d=\"M 220.656333 224.64 \nL 220.656333 7.2 \n\" style=\"fill:none;stroke:#cccccc;stroke-linecap:round;\"/>\n     </g>\n     <g id=\"text_106\">\n      <!-- sunk -->\n      <g style=\"fill:#262626;\" transform=\"translate(223.691646 260.1825)rotate(-90)scale(0.11 -0.11)\">\n       <use xlink:href=\"#DejaVuSans-115\"/>\n       <use x=\"52.099609\" xlink:href=\"#DejaVuSans-117\"/>\n       <use x=\"115.478516\" xlink:href=\"#DejaVuSans-110\"/>\n       <use x=\"178.857422\" xlink:href=\"#DejaVuSans-107\"/>\n      </g>\n     </g>\n    </g>\n    <g id=\"xtick_107\">\n     <g id=\"line2d_107\">\n      <path clip-path=\"url(#p6456fcfb4f)\" d=\"M 222.423754 224.64 \nL 222.423754 7.2 \n\" style=\"fill:none;stroke:#cccccc;stroke-linecap:round;\"/>\n     </g>\n     <g id=\"text_107\">\n      <!-- survive -->\n      <g style=\"fill:#262626;\" transform=\"translate(225.459067 274.209219)rotate(-90)scale(0.11 -0.11)\">\n       <use xlink:href=\"#DejaVuSans-115\"/>\n       <use x=\"52.099609\" xlink:href=\"#DejaVuSans-117\"/>\n       <use x=\"115.478516\" xlink:href=\"#DejaVuSans-114\"/>\n       <use x=\"156.591797\" xlink:href=\"#DejaVuSans-118\"/>\n       <use x=\"215.771484\" xlink:href=\"#DejaVuSans-105\"/>\n       <use x=\"243.554688\" xlink:href=\"#DejaVuSans-118\"/>\n       <use x=\"302.734375\" xlink:href=\"#DejaVuSans-101\"/>\n      </g>\n     </g>\n    </g>\n    <g id=\"xtick_108\">\n     <g id=\"line2d_108\">\n      <path clip-path=\"url(#p6456fcfb4f)\" d=\"M 224.191175 224.64 \nL 224.191175 7.2 \n\" style=\"fill:none;stroke:#cccccc;stroke-linecap:round;\"/>\n     </g>\n     <g id=\"text_108\">\n      <!-- survived -->\n      <g style=\"fill:#262626;\" transform=\"translate(227.226488 281.1925)rotate(-90)scale(0.11 -0.11)\">\n       <use xlink:href=\"#DejaVuSans-115\"/>\n       <use x=\"52.099609\" xlink:href=\"#DejaVuSans-117\"/>\n       <use x=\"115.478516\" xlink:href=\"#DejaVuSans-114\"/>\n       <use x=\"156.591797\" xlink:href=\"#DejaVuSans-118\"/>\n       <use x=\"215.771484\" xlink:href=\"#DejaVuSans-105\"/>\n       <use x=\"243.554688\" xlink:href=\"#DejaVuSans-118\"/>\n       <use x=\"302.734375\" xlink:href=\"#DejaVuSans-101\"/>\n       <use x=\"364.257812\" xlink:href=\"#DejaVuSans-100\"/>\n      </g>\n     </g>\n    </g>\n    <g id=\"xtick_109\">\n     <g id=\"line2d_109\">\n      <path clip-path=\"url(#p6456fcfb4f)\" d=\"M 225.958596 224.64 \nL 225.958596 7.2 \n\" style=\"fill:none;stroke:#cccccc;stroke-linecap:round;\"/>\n     </g>\n     <g id=\"text_109\">\n      <!-- survivors -->\n      <g style=\"fill:#262626;\" transform=\"translate(228.993908 284.42375)rotate(-90)scale(0.11 -0.11)\">\n       <use xlink:href=\"#DejaVuSans-115\"/>\n       <use x=\"52.099609\" xlink:href=\"#DejaVuSans-117\"/>\n       <use x=\"115.478516\" xlink:href=\"#DejaVuSans-114\"/>\n       <use x=\"156.591797\" xlink:href=\"#DejaVuSans-118\"/>\n       <use x=\"215.771484\" xlink:href=\"#DejaVuSans-105\"/>\n       <use x=\"243.554688\" xlink:href=\"#DejaVuSans-118\"/>\n       <use x=\"302.734375\" xlink:href=\"#DejaVuSans-111\"/>\n       <use x=\"363.916016\" xlink:href=\"#DejaVuSans-114\"/>\n       <use x=\"405.029297\" xlink:href=\"#DejaVuSans-115\"/>\n      </g>\n     </g>\n    </g>\n    <g id=\"xtick_110\">\n     <g id=\"line2d_110\">\n      <path clip-path=\"url(#p6456fcfb4f)\" d=\"M 227.726017 224.64 \nL 227.726017 7.2 \n\" style=\"fill:none;stroke:#cccccc;stroke-linecap:round;\"/>\n     </g>\n     <g id=\"text_110\">\n      <!-- flood -->\n      <g style=\"fill:#262626;\" transform=\"translate(230.761329 261.512812)rotate(-90)scale(0.11 -0.11)\">\n       <use xlink:href=\"#DejaVuSans-102\"/>\n       <use x=\"35.205078\" xlink:href=\"#DejaVuSans-108\"/>\n       <use x=\"62.988281\" xlink:href=\"#DejaVuSans-111\"/>\n       <use x=\"124.169922\" xlink:href=\"#DejaVuSans-111\"/>\n       <use x=\"185.351562\" xlink:href=\"#DejaVuSans-100\"/>\n      </g>\n     </g>\n    </g>\n    <g id=\"xtick_111\">\n     <g id=\"line2d_111\">\n      <path clip-path=\"url(#p6456fcfb4f)\" d=\"M 229.493437 224.64 \nL 229.493437 7.2 \n\" style=\"fill:none;stroke:#cccccc;stroke-linecap:round;\"/>\n     </g>\n     <g id=\"text_111\">\n      <!-- flames -->\n      <g style=\"fill:#262626;\" transform=\"translate(232.52875 271.022656)rotate(-90)scale(0.11 -0.11)\">\n       <use xlink:href=\"#DejaVuSans-102\"/>\n       <use x=\"35.205078\" xlink:href=\"#DejaVuSans-108\"/>\n       <use x=\"62.988281\" xlink:href=\"#DejaVuSans-97\"/>\n       <use x=\"124.267578\" xlink:href=\"#DejaVuSans-109\"/>\n       <use x=\"221.679688\" xlink:href=\"#DejaVuSans-101\"/>\n       <use x=\"283.203125\" xlink:href=\"#DejaVuSans-115\"/>\n      </g>\n     </g>\n    </g>\n    <g id=\"xtick_112\">\n     <g id=\"line2d_112\">\n      <path clip-path=\"url(#p6456fcfb4f)\" d=\"M 231.260858 224.64 \nL 231.260858 7.2 \n\" style=\"fill:none;stroke:#cccccc;stroke-linecap:round;\"/>\n     </g>\n     <g id=\"text_112\">\n      <!-- accident -->\n      <g style=\"fill:#262626;\" transform=\"translate(234.296171 281.06875)rotate(-90)scale(0.11 -0.11)\">\n       <use xlink:href=\"#DejaVuSans-97\"/>\n       <use x=\"61.279297\" xlink:href=\"#DejaVuSans-99\"/>\n       <use x=\"116.259766\" xlink:href=\"#DejaVuSans-99\"/>\n       <use x=\"171.240234\" xlink:href=\"#DejaVuSans-105\"/>\n       <use x=\"199.023438\" xlink:href=\"#DejaVuSans-100\"/>\n       <use x=\"262.5\" xlink:href=\"#DejaVuSans-101\"/>\n       <use x=\"324.023438\" xlink:href=\"#DejaVuSans-110\"/>\n       <use x=\"387.402344\" xlink:href=\"#DejaVuSans-116\"/>\n      </g>\n     </g>\n    </g>\n    <g id=\"xtick_113\">\n     <g id=\"line2d_113\">\n      <path clip-path=\"url(#p6456fcfb4f)\" d=\"M 233.028279 224.64 \nL 233.028279 7.2 \n\" style=\"fill:none;stroke:#cccccc;stroke-linecap:round;\"/>\n     </g>\n     <g id=\"text_113\">\n      <!-- casualty -->\n      <g style=\"fill:#262626;\" transform=\"translate(236.063592 280.250625)rotate(-90)scale(0.11 -0.11)\">\n       <use xlink:href=\"#DejaVuSans-99\"/>\n       <use x=\"54.980469\" xlink:href=\"#DejaVuSans-97\"/>\n       <use x=\"116.259766\" xlink:href=\"#DejaVuSans-115\"/>\n       <use x=\"168.359375\" xlink:href=\"#DejaVuSans-117\"/>\n       <use x=\"231.738281\" xlink:href=\"#DejaVuSans-97\"/>\n       <use x=\"293.017578\" xlink:href=\"#DejaVuSans-108\"/>\n       <use x=\"320.800781\" xlink:href=\"#DejaVuSans-116\"/>\n       <use x=\"360.009766\" xlink:href=\"#DejaVuSans-121\"/>\n      </g>\n     </g>\n    </g>\n    <g id=\"xtick_114\">\n     <g id=\"line2d_114\">\n      <path clip-path=\"url(#p6456fcfb4f)\" d=\"M 234.7957 224.64 \nL 234.7957 7.2 \n\" style=\"fill:none;stroke:#cccccc;stroke-linecap:round;\"/>\n     </g>\n     <g id=\"text_114\">\n      <!-- bomb -->\n      <g style=\"fill:#262626;\" transform=\"translate(237.831012 265.551875)rotate(-90)scale(0.11 -0.11)\">\n       <use xlink:href=\"#DejaVuSans-98\"/>\n       <use x=\"63.476562\" xlink:href=\"#DejaVuSans-111\"/>\n       <use x=\"124.658203\" xlink:href=\"#DejaVuSans-109\"/>\n       <use x=\"222.070312\" xlink:href=\"#DejaVuSans-98\"/>\n      </g>\n     </g>\n    </g>\n    <g id=\"xtick_115\">\n     <g id=\"line2d_115\">\n      <path clip-path=\"url(#p6456fcfb4f)\" d=\"M 236.563121 224.64 \nL 236.563121 7.2 \n\" style=\"fill:none;stroke:#cccccc;stroke-linecap:round;\"/>\n     </g>\n     <g id=\"text_115\">\n      <!-- bombed -->\n      <g style=\"fill:#262626;\" transform=\"translate(239.598433 279.303594)rotate(-90)scale(0.11 -0.11)\">\n       <use xlink:href=\"#DejaVuSans-98\"/>\n       <use x=\"63.476562\" xlink:href=\"#DejaVuSans-111\"/>\n       <use x=\"124.658203\" xlink:href=\"#DejaVuSans-109\"/>\n       <use x=\"222.070312\" xlink:href=\"#DejaVuSans-98\"/>\n       <use x=\"285.546875\" xlink:href=\"#DejaVuSans-101\"/>\n       <use x=\"347.070312\" xlink:href=\"#DejaVuSans-100\"/>\n      </g>\n     </g>\n    </g>\n    <g id=\"xtick_116\">\n     <g id=\"line2d_116\">\n      <path clip-path=\"url(#p6456fcfb4f)\" d=\"M 238.330542 224.64 \nL 238.330542 7.2 \n\" style=\"fill:none;stroke:#cccccc;stroke-linecap:round;\"/>\n     </g>\n     <g id=\"text_116\">\n      <!-- bombing -->\n      <g style=\"fill:#262626;\" transform=\"translate(241.365854 282.562344)rotate(-90)scale(0.11 -0.11)\">\n       <use xlink:href=\"#DejaVuSans-98\"/>\n       <use x=\"63.476562\" xlink:href=\"#DejaVuSans-111\"/>\n       <use x=\"124.658203\" xlink:href=\"#DejaVuSans-109\"/>\n       <use x=\"222.070312\" xlink:href=\"#DejaVuSans-98\"/>\n       <use x=\"285.546875\" xlink:href=\"#DejaVuSans-105\"/>\n       <use x=\"313.330078\" xlink:href=\"#DejaVuSans-110\"/>\n       <use x=\"376.708984\" xlink:href=\"#DejaVuSans-103\"/>\n      </g>\n     </g>\n    </g>\n    <g id=\"xtick_117\">\n     <g id=\"line2d_117\">\n      <path clip-path=\"url(#p6456fcfb4f)\" d=\"M 240.097962 224.64 \nL 240.097962 7.2 \n\" style=\"fill:none;stroke:#cccccc;stroke-linecap:round;\"/>\n     </g>\n     <g id=\"text_117\">\n      <!-- bridge%20collapse -->\n      <g style=\"fill:#262626;\" transform=\"translate(243.133275 338.999219)rotate(-90)scale(0.11 -0.11)\">\n       <use xlink:href=\"#DejaVuSans-98\"/>\n       <use x=\"63.476562\" xlink:href=\"#DejaVuSans-114\"/>\n       <use x=\"104.589844\" xlink:href=\"#DejaVuSans-105\"/>\n       <use x=\"132.373047\" xlink:href=\"#DejaVuSans-100\"/>\n       <use x=\"195.849609\" xlink:href=\"#DejaVuSans-103\"/>\n       <use x=\"259.326172\" xlink:href=\"#DejaVuSans-101\"/>\n       <use x=\"320.849609\" xlink:href=\"#DejaVuSans-37\"/>\n       <use x=\"415.869141\" xlink:href=\"#DejaVuSans-50\"/>\n       <use x=\"479.492188\" xlink:href=\"#DejaVuSans-48\"/>\n       <use x=\"543.115234\" xlink:href=\"#DejaVuSans-99\"/>\n       <use x=\"598.095703\" xlink:href=\"#DejaVuSans-111\"/>\n       <use x=\"659.277344\" xlink:href=\"#DejaVuSans-108\"/>\n       <use x=\"687.060547\" xlink:href=\"#DejaVuSans-108\"/>\n       <use x=\"714.84375\" xlink:href=\"#DejaVuSans-97\"/>\n       <use x=\"776.123047\" xlink:href=\"#DejaVuSans-112\"/>\n       <use x=\"839.599609\" xlink:href=\"#DejaVuSans-115\"/>\n       <use x=\"891.699219\" xlink:href=\"#DejaVuSans-101\"/>\n      </g>\n     </g>\n    </g>\n    <g id=\"xtick_118\">\n     <g id=\"line2d_118\">\n      <path clip-path=\"url(#p6456fcfb4f)\" d=\"M 241.865383 224.64 \nL 241.865383 7.2 \n\" style=\"fill:none;stroke:#cccccc;stroke-linecap:round;\"/>\n     </g>\n     <g id=\"text_118\">\n      <!-- buildings%20burning -->\n      <g style=\"fill:#262626;\" transform=\"translate(244.900696 350.645469)rotate(-90)scale(0.11 -0.11)\">\n       <use xlink:href=\"#DejaVuSans-98\"/>\n       <use x=\"63.476562\" xlink:href=\"#DejaVuSans-117\"/>\n       <use x=\"126.855469\" xlink:href=\"#DejaVuSans-105\"/>\n       <use x=\"154.638672\" xlink:href=\"#DejaVuSans-108\"/>\n       <use x=\"182.421875\" xlink:href=\"#DejaVuSans-100\"/>\n       <use x=\"245.898438\" xlink:href=\"#DejaVuSans-105\"/>\n       <use x=\"273.681641\" xlink:href=\"#DejaVuSans-110\"/>\n       <use x=\"337.060547\" xlink:href=\"#DejaVuSans-103\"/>\n       <use x=\"400.537109\" xlink:href=\"#DejaVuSans-115\"/>\n       <use x=\"452.636719\" xlink:href=\"#DejaVuSans-37\"/>\n       <use x=\"547.65625\" xlink:href=\"#DejaVuSans-50\"/>\n       <use x=\"611.279297\" xlink:href=\"#DejaVuSans-48\"/>\n       <use x=\"674.902344\" xlink:href=\"#DejaVuSans-98\"/>\n       <use x=\"738.378906\" xlink:href=\"#DejaVuSans-117\"/>\n       <use x=\"801.757812\" xlink:href=\"#DejaVuSans-114\"/>\n       <use x=\"841.121094\" xlink:href=\"#DejaVuSans-110\"/>\n       <use x=\"904.5\" xlink:href=\"#DejaVuSans-105\"/>\n       <use x=\"932.283203\" xlink:href=\"#DejaVuSans-110\"/>\n       <use x=\"995.662109\" xlink:href=\"#DejaVuSans-103\"/>\n      </g>\n     </g>\n    </g>\n    <g id=\"xtick_119\">\n     <g id=\"line2d_119\">\n      <path clip-path=\"url(#p6456fcfb4f)\" d=\"M 243.632804 224.64 \nL 243.632804 7.2 \n\" style=\"fill:none;stroke:#cccccc;stroke-linecap:round;\"/>\n     </g>\n     <g id=\"text_119\">\n      <!-- buildings%20on%20fire -->\n      <g style=\"fill:#262626;\" transform=\"translate(246.668117 364.502031)rotate(-90)scale(0.11 -0.11)\">\n       <use xlink:href=\"#DejaVuSans-98\"/>\n       <use x=\"63.476562\" xlink:href=\"#DejaVuSans-117\"/>\n       <use x=\"126.855469\" xlink:href=\"#DejaVuSans-105\"/>\n       <use x=\"154.638672\" xlink:href=\"#DejaVuSans-108\"/>\n       <use x=\"182.421875\" xlink:href=\"#DejaVuSans-100\"/>\n       <use x=\"245.898438\" xlink:href=\"#DejaVuSans-105\"/>\n       <use x=\"273.681641\" xlink:href=\"#DejaVuSans-110\"/>\n       <use x=\"337.060547\" xlink:href=\"#DejaVuSans-103\"/>\n       <use x=\"400.537109\" xlink:href=\"#DejaVuSans-115\"/>\n       <use x=\"452.636719\" xlink:href=\"#DejaVuSans-37\"/>\n       <use x=\"547.65625\" xlink:href=\"#DejaVuSans-50\"/>\n       <use x=\"611.279297\" xlink:href=\"#DejaVuSans-48\"/>\n       <use x=\"674.902344\" xlink:href=\"#DejaVuSans-111\"/>\n       <use x=\"736.083984\" xlink:href=\"#DejaVuSans-110\"/>\n       <use x=\"799.462891\" xlink:href=\"#DejaVuSans-37\"/>\n       <use x=\"894.482422\" xlink:href=\"#DejaVuSans-50\"/>\n       <use x=\"958.105469\" xlink:href=\"#DejaVuSans-48\"/>\n       <use x=\"1021.728516\" xlink:href=\"#DejaVuSans-102\"/>\n       <use x=\"1056.933594\" xlink:href=\"#DejaVuSans-105\"/>\n       <use x=\"1084.716797\" xlink:href=\"#DejaVuSans-114\"/>\n       <use x=\"1123.580078\" xlink:href=\"#DejaVuSans-101\"/>\n      </g>\n     </g>\n    </g>\n    <g id=\"xtick_120\">\n     <g id=\"line2d_120\">\n      <path clip-path=\"url(#p6456fcfb4f)\" d=\"M 245.400225 224.64 \nL 245.400225 7.2 \n\" style=\"fill:none;stroke:#cccccc;stroke-linecap:round;\"/>\n     </g>\n     <g id=\"text_120\">\n      <!-- burned -->\n      <g style=\"fill:#262626;\" transform=\"translate(248.435537 273.147031)rotate(-90)scale(0.11 -0.11)\">\n       <use xlink:href=\"#DejaVuSans-98\"/>\n       <use x=\"63.476562\" xlink:href=\"#DejaVuSans-117\"/>\n       <use x=\"126.855469\" xlink:href=\"#DejaVuSans-114\"/>\n       <use x=\"166.21875\" xlink:href=\"#DejaVuSans-110\"/>\n       <use x=\"229.597656\" xlink:href=\"#DejaVuSans-101\"/>\n       <use x=\"291.121094\" xlink:href=\"#DejaVuSans-100\"/>\n      </g>\n     </g>\n    </g>\n    <g id=\"xtick_121\">\n     <g id=\"line2d_121\">\n      <path clip-path=\"url(#p6456fcfb4f)\" d=\"M 247.167646 224.64 \nL 247.167646 7.2 \n\" style=\"fill:none;stroke:#cccccc;stroke-linecap:round;\"/>\n     </g>\n     <g id=\"text_121\">\n      <!-- burning -->\n      <g style=\"fill:#262626;\" transform=\"translate(250.202958 276.405781)rotate(-90)scale(0.11 -0.11)\">\n       <use xlink:href=\"#DejaVuSans-98\"/>\n       <use x=\"63.476562\" xlink:href=\"#DejaVuSans-117\"/>\n       <use x=\"126.855469\" xlink:href=\"#DejaVuSans-114\"/>\n       <use x=\"166.21875\" xlink:href=\"#DejaVuSans-110\"/>\n       <use x=\"229.597656\" xlink:href=\"#DejaVuSans-105\"/>\n       <use x=\"257.380859\" xlink:href=\"#DejaVuSans-110\"/>\n       <use x=\"320.759766\" xlink:href=\"#DejaVuSans-103\"/>\n      </g>\n     </g>\n    </g>\n    <g id=\"xtick_122\">\n     <g id=\"line2d_122\">\n      <path clip-path=\"url(#p6456fcfb4f)\" d=\"M 248.935066 224.64 \nL 248.935066 7.2 \n\" style=\"fill:none;stroke:#cccccc;stroke-linecap:round;\"/>\n     </g>\n     <g id=\"text_122\">\n      <!-- burning%20buildings -->\n      <g style=\"fill:#262626;\" transform=\"translate(251.970379 350.645469)rotate(-90)scale(0.11 -0.11)\">\n       <use xlink:href=\"#DejaVuSans-98\"/>\n       <use x=\"63.476562\" xlink:href=\"#DejaVuSans-117\"/>\n       <use x=\"126.855469\" xlink:href=\"#DejaVuSans-114\"/>\n       <use x=\"166.21875\" xlink:href=\"#DejaVuSans-110\"/>\n       <use x=\"229.597656\" xlink:href=\"#DejaVuSans-105\"/>\n       <use x=\"257.380859\" xlink:href=\"#DejaVuSans-110\"/>\n       <use x=\"320.759766\" xlink:href=\"#DejaVuSans-103\"/>\n       <use x=\"384.236328\" xlink:href=\"#DejaVuSans-37\"/>\n       <use x=\"479.255859\" xlink:href=\"#DejaVuSans-50\"/>\n       <use x=\"542.878906\" xlink:href=\"#DejaVuSans-48\"/>\n       <use x=\"606.501953\" xlink:href=\"#DejaVuSans-98\"/>\n       <use x=\"669.978516\" xlink:href=\"#DejaVuSans-117\"/>\n       <use x=\"733.357422\" xlink:href=\"#DejaVuSans-105\"/>\n       <use x=\"761.140625\" xlink:href=\"#DejaVuSans-108\"/>\n       <use x=\"788.923828\" xlink:href=\"#DejaVuSans-100\"/>\n       <use x=\"852.400391\" xlink:href=\"#DejaVuSans-105\"/>\n       <use x=\"880.183594\" xlink:href=\"#DejaVuSans-110\"/>\n       <use x=\"943.5625\" xlink:href=\"#DejaVuSans-103\"/>\n       <use x=\"1007.039062\" xlink:href=\"#DejaVuSans-115\"/>\n      </g>\n     </g>\n    </g>\n    <g id=\"xtick_123\">\n     <g id=\"line2d_123\">\n      <path clip-path=\"url(#p6456fcfb4f)\" d=\"M 250.702487 224.64 \nL 250.702487 7.2 \n\" style=\"fill:none;stroke:#cccccc;stroke-linecap:round;\"/>\n     </g>\n     <g id=\"text_123\">\n      <!-- bush%20fires -->\n      <g style=\"fill:#262626;\" transform=\"translate(253.7378 308.946875)rotate(-90)scale(0.11 -0.11)\">\n       <use xlink:href=\"#DejaVuSans-98\"/>\n       <use x=\"63.476562\" xlink:href=\"#DejaVuSans-117\"/>\n       <use x=\"126.855469\" xlink:href=\"#DejaVuSans-115\"/>\n       <use x=\"178.955078\" xlink:href=\"#DejaVuSans-104\"/>\n       <use x=\"242.333984\" xlink:href=\"#DejaVuSans-37\"/>\n       <use x=\"337.353516\" xlink:href=\"#DejaVuSans-50\"/>\n       <use x=\"400.976562\" xlink:href=\"#DejaVuSans-48\"/>\n       <use x=\"464.599609\" xlink:href=\"#DejaVuSans-102\"/>\n       <use x=\"499.804688\" xlink:href=\"#DejaVuSans-105\"/>\n       <use x=\"527.587891\" xlink:href=\"#DejaVuSans-114\"/>\n       <use x=\"566.451172\" xlink:href=\"#DejaVuSans-101\"/>\n       <use x=\"627.974609\" xlink:href=\"#DejaVuSans-115\"/>\n      </g>\n     </g>\n    </g>\n    <g id=\"xtick_124\">\n     <g id=\"line2d_124\">\n      <path clip-path=\"url(#p6456fcfb4f)\" d=\"M 252.469908 224.64 \nL 252.469908 7.2 \n\" style=\"fill:none;stroke:#cccccc;stroke-linecap:round;\"/>\n     </g>\n     <g id=\"text_124\">\n      <!-- casualties -->\n      <g style=\"fill:#262626;\" transform=\"translate(255.505221 289.294687)rotate(-90)scale(0.11 -0.11)\">\n       <use xlink:href=\"#DejaVuSans-99\"/>\n       <use x=\"54.980469\" xlink:href=\"#DejaVuSans-97\"/>\n       <use x=\"116.259766\" xlink:href=\"#DejaVuSans-115\"/>\n       <use x=\"168.359375\" xlink:href=\"#DejaVuSans-117\"/>\n       <use x=\"231.738281\" xlink:href=\"#DejaVuSans-97\"/>\n       <use x=\"293.017578\" xlink:href=\"#DejaVuSans-108\"/>\n       <use x=\"320.800781\" xlink:href=\"#DejaVuSans-116\"/>\n       <use x=\"360.009766\" xlink:href=\"#DejaVuSans-105\"/>\n       <use x=\"387.792969\" xlink:href=\"#DejaVuSans-101\"/>\n       <use x=\"449.316406\" xlink:href=\"#DejaVuSans-115\"/>\n      </g>\n     </g>\n    </g>\n    <g id=\"xtick_125\">\n     <g id=\"line2d_125\">\n      <path clip-path=\"url(#p6456fcfb4f)\" d=\"M 254.237329 224.64 \nL 254.237329 7.2 \n\" style=\"fill:none;stroke:#cccccc;stroke-linecap:round;\"/>\n     </g>\n     <g id=\"text_125\">\n      <!-- catastrophe -->\n      <g style=\"fill:#262626;\" transform=\"translate(257.272641 299.753281)rotate(-90)scale(0.11 -0.11)\">\n       <use xlink:href=\"#DejaVuSans-99\"/>\n       <use x=\"54.980469\" xlink:href=\"#DejaVuSans-97\"/>\n       <use x=\"116.259766\" xlink:href=\"#DejaVuSans-116\"/>\n       <use x=\"155.46875\" xlink:href=\"#DejaVuSans-97\"/>\n       <use x=\"216.748047\" xlink:href=\"#DejaVuSans-115\"/>\n       <use x=\"268.847656\" xlink:href=\"#DejaVuSans-116\"/>\n       <use x=\"308.056641\" xlink:href=\"#DejaVuSans-114\"/>\n       <use x=\"346.919922\" xlink:href=\"#DejaVuSans-111\"/>\n       <use x=\"408.101562\" xlink:href=\"#DejaVuSans-112\"/>\n       <use x=\"471.578125\" xlink:href=\"#DejaVuSans-104\"/>\n       <use x=\"534.957031\" xlink:href=\"#DejaVuSans-101\"/>\n      </g>\n     </g>\n    </g>\n    <g id=\"xtick_126\">\n     <g id=\"line2d_126\">\n      <path clip-path=\"url(#p6456fcfb4f)\" d=\"M 256.00475 224.64 \nL 256.00475 7.2 \n\" style=\"fill:none;stroke:#cccccc;stroke-linecap:round;\"/>\n     </g>\n     <g id=\"text_126\">\n      <!-- body%20bagging -->\n      <g style=\"fill:#262626;\" transform=\"translate(259.040062 330.498281)rotate(-90)scale(0.11 -0.11)\">\n       <use xlink:href=\"#DejaVuSans-98\"/>\n       <use x=\"63.476562\" xlink:href=\"#DejaVuSans-111\"/>\n       <use x=\"124.658203\" xlink:href=\"#DejaVuSans-100\"/>\n       <use x=\"188.134766\" xlink:href=\"#DejaVuSans-121\"/>\n       <use x=\"247.314453\" xlink:href=\"#DejaVuSans-37\"/>\n       <use x=\"342.333984\" xlink:href=\"#DejaVuSans-50\"/>\n       <use x=\"405.957031\" xlink:href=\"#DejaVuSans-48\"/>\n       <use x=\"469.580078\" xlink:href=\"#DejaVuSans-98\"/>\n       <use x=\"533.056641\" xlink:href=\"#DejaVuSans-97\"/>\n       <use x=\"594.335938\" xlink:href=\"#DejaVuSans-103\"/>\n       <use x=\"657.8125\" xlink:href=\"#DejaVuSans-103\"/>\n       <use x=\"721.289062\" xlink:href=\"#DejaVuSans-105\"/>\n       <use x=\"749.072266\" xlink:href=\"#DejaVuSans-110\"/>\n       <use x=\"812.451172\" xlink:href=\"#DejaVuSans-103\"/>\n      </g>\n     </g>\n    </g>\n    <g id=\"xtick_127\">\n     <g id=\"line2d_127\">\n      <path clip-path=\"url(#p6456fcfb4f)\" d=\"M 257.772171 224.64 \nL 257.772171 7.2 \n\" style=\"fill:none;stroke:#cccccc;stroke-linecap:round;\"/>\n     </g>\n     <g id=\"text_127\">\n      <!-- catastrophic -->\n      <g style=\"fill:#262626;\" transform=\"translate(260.807483 302.089062)rotate(-90)scale(0.11 -0.11)\">\n       <use xlink:href=\"#DejaVuSans-99\"/>\n       <use x=\"54.980469\" xlink:href=\"#DejaVuSans-97\"/>\n       <use x=\"116.259766\" xlink:href=\"#DejaVuSans-116\"/>\n       <use x=\"155.46875\" xlink:href=\"#DejaVuSans-97\"/>\n       <use x=\"216.748047\" xlink:href=\"#DejaVuSans-115\"/>\n       <use x=\"268.847656\" xlink:href=\"#DejaVuSans-116\"/>\n       <use x=\"308.056641\" xlink:href=\"#DejaVuSans-114\"/>\n       <use x=\"346.919922\" xlink:href=\"#DejaVuSans-111\"/>\n       <use x=\"408.101562\" xlink:href=\"#DejaVuSans-112\"/>\n       <use x=\"471.578125\" xlink:href=\"#DejaVuSans-104\"/>\n       <use x=\"534.957031\" xlink:href=\"#DejaVuSans-105\"/>\n       <use x=\"562.740234\" xlink:href=\"#DejaVuSans-99\"/>\n      </g>\n     </g>\n    </g>\n    <g id=\"xtick_128\">\n     <g id=\"line2d_128\">\n      <path clip-path=\"url(#p6456fcfb4f)\" d=\"M 259.539591 224.64 \nL 259.539591 7.2 \n\" style=\"fill:none;stroke:#cccccc;stroke-linecap:round;\"/>\n     </g>\n     <g id=\"text_128\">\n      <!-- chemical%20emergency -->\n      <g style=\"fill:#262626;\" transform=\"translate(262.574904 369.855937)rotate(-90)scale(0.11 -0.11)\">\n       <use xlink:href=\"#DejaVuSans-99\"/>\n       <use x=\"54.980469\" xlink:href=\"#DejaVuSans-104\"/>\n       <use x=\"118.359375\" xlink:href=\"#DejaVuSans-101\"/>\n       <use x=\"179.882812\" xlink:href=\"#DejaVuSans-109\"/>\n       <use x=\"277.294922\" xlink:href=\"#DejaVuSans-105\"/>\n       <use x=\"305.078125\" xlink:href=\"#DejaVuSans-99\"/>\n       <use x=\"360.058594\" xlink:href=\"#DejaVuSans-97\"/>\n       <use x=\"421.337891\" xlink:href=\"#DejaVuSans-108\"/>\n       <use x=\"449.121094\" xlink:href=\"#DejaVuSans-37\"/>\n       <use x=\"544.140625\" xlink:href=\"#DejaVuSans-50\"/>\n       <use x=\"607.763672\" xlink:href=\"#DejaVuSans-48\"/>\n       <use x=\"671.386719\" xlink:href=\"#DejaVuSans-101\"/>\n       <use x=\"732.910156\" xlink:href=\"#DejaVuSans-109\"/>\n       <use x=\"830.322266\" xlink:href=\"#DejaVuSans-101\"/>\n       <use x=\"891.845703\" xlink:href=\"#DejaVuSans-114\"/>\n       <use x=\"931.208984\" xlink:href=\"#DejaVuSans-103\"/>\n       <use x=\"994.685547\" xlink:href=\"#DejaVuSans-101\"/>\n       <use x=\"1056.208984\" xlink:href=\"#DejaVuSans-110\"/>\n       <use x=\"1119.587891\" xlink:href=\"#DejaVuSans-99\"/>\n       <use x=\"1174.568359\" xlink:href=\"#DejaVuSans-121\"/>\n      </g>\n     </g>\n    </g>\n    <g id=\"xtick_129\">\n     <g id=\"line2d_129\">\n      <path clip-path=\"url(#p6456fcfb4f)\" d=\"M 261.307012 224.64 \nL 261.307012 7.2 \n\" style=\"fill:none;stroke:#cccccc;stroke-linecap:round;\"/>\n     </g>\n     <g id=\"text_129\">\n      <!-- cliff%20fall -->\n      <g style=\"fill:#262626;\" transform=\"translate(264.342325 295.219219)rotate(-90)scale(0.11 -0.11)\">\n       <use xlink:href=\"#DejaVuSans-99\"/>\n       <use x=\"54.980469\" xlink:href=\"#DejaVuSans-108\"/>\n       <use x=\"82.763672\" xlink:href=\"#DejaVuSans-105\"/>\n       <use x=\"110.546875\" xlink:href=\"#DejaVuSans-102\"/>\n       <use x=\"145.751953\" xlink:href=\"#DejaVuSans-102\"/>\n       <use x=\"180.957031\" xlink:href=\"#DejaVuSans-37\"/>\n       <use x=\"275.976562\" xlink:href=\"#DejaVuSans-50\"/>\n       <use x=\"339.599609\" xlink:href=\"#DejaVuSans-48\"/>\n       <use x=\"403.222656\" xlink:href=\"#DejaVuSans-102\"/>\n       <use x=\"438.427734\" xlink:href=\"#DejaVuSans-97\"/>\n       <use x=\"499.707031\" xlink:href=\"#DejaVuSans-108\"/>\n       <use x=\"527.490234\" xlink:href=\"#DejaVuSans-108\"/>\n      </g>\n     </g>\n    </g>\n    <g id=\"xtick_130\">\n     <g id=\"line2d_130\">\n      <path clip-path=\"url(#p6456fcfb4f)\" d=\"M 263.074433 224.64 \nL 263.074433 7.2 \n\" style=\"fill:none;stroke:#cccccc;stroke-linecap:round;\"/>\n     </g>\n     <g id=\"text_130\">\n      <!-- collapse -->\n      <g style=\"fill:#262626;\" transform=\"translate(266.109745 279.25375)rotate(-90)scale(0.11 -0.11)\">\n       <use xlink:href=\"#DejaVuSans-99\"/>\n       <use x=\"54.980469\" xlink:href=\"#DejaVuSans-111\"/>\n       <use x=\"116.162109\" xlink:href=\"#DejaVuSans-108\"/>\n       <use x=\"143.945312\" xlink:href=\"#DejaVuSans-108\"/>\n       <use x=\"171.728516\" xlink:href=\"#DejaVuSans-97\"/>\n       <use x=\"233.007812\" xlink:href=\"#DejaVuSans-112\"/>\n       <use x=\"296.484375\" xlink:href=\"#DejaVuSans-115\"/>\n       <use x=\"348.583984\" xlink:href=\"#DejaVuSans-101\"/>\n      </g>\n     </g>\n    </g>\n    <g id=\"xtick_131\">\n     <g id=\"line2d_131\">\n      <path clip-path=\"url(#p6456fcfb4f)\" d=\"M 264.841854 224.64 \nL 264.841854 7.2 \n\" style=\"fill:none;stroke:#cccccc;stroke-linecap:round;\"/>\n     </g>\n     <g id=\"text_131\">\n      <!-- collapsed -->\n      <g style=\"fill:#262626;\" transform=\"translate(267.877166 286.237031)rotate(-90)scale(0.11 -0.11)\">\n       <use xlink:href=\"#DejaVuSans-99\"/>\n       <use x=\"54.980469\" xlink:href=\"#DejaVuSans-111\"/>\n       <use x=\"116.162109\" xlink:href=\"#DejaVuSans-108\"/>\n       <use x=\"143.945312\" xlink:href=\"#DejaVuSans-108\"/>\n       <use x=\"171.728516\" xlink:href=\"#DejaVuSans-97\"/>\n       <use x=\"233.007812\" xlink:href=\"#DejaVuSans-112\"/>\n       <use x=\"296.484375\" xlink:href=\"#DejaVuSans-115\"/>\n       <use x=\"348.583984\" xlink:href=\"#DejaVuSans-101\"/>\n       <use x=\"410.107422\" xlink:href=\"#DejaVuSans-100\"/>\n      </g>\n     </g>\n    </g>\n    <g id=\"xtick_132\">\n     <g id=\"line2d_132\">\n      <path clip-path=\"url(#p6456fcfb4f)\" d=\"M 266.609275 224.64 \nL 266.609275 7.2 \n\" style=\"fill:none;stroke:#cccccc;stroke-linecap:round;\"/>\n     </g>\n     <g id=\"text_132\">\n      <!-- collide -->\n      <g style=\"fill:#262626;\" transform=\"translate(269.644587 269.838437)rotate(-90)scale(0.11 -0.11)\">\n       <use xlink:href=\"#DejaVuSans-99\"/>\n       <use x=\"54.980469\" xlink:href=\"#DejaVuSans-111\"/>\n       <use x=\"116.162109\" xlink:href=\"#DejaVuSans-108\"/>\n       <use x=\"143.945312\" xlink:href=\"#DejaVuSans-108\"/>\n       <use x=\"171.728516\" xlink:href=\"#DejaVuSans-105\"/>\n       <use x=\"199.511719\" xlink:href=\"#DejaVuSans-100\"/>\n       <use x=\"262.988281\" xlink:href=\"#DejaVuSans-101\"/>\n      </g>\n     </g>\n    </g>\n    <g id=\"xtick_133\">\n     <g id=\"line2d_133\">\n      <path clip-path=\"url(#p6456fcfb4f)\" d=\"M 268.376695 224.64 \nL 268.376695 7.2 \n\" style=\"fill:none;stroke:#cccccc;stroke-linecap:round;\"/>\n     </g>\n     <g id=\"text_133\">\n      <!-- collided -->\n      <g style=\"fill:#262626;\" transform=\"translate(271.412008 276.821719)rotate(-90)scale(0.11 -0.11)\">\n       <use xlink:href=\"#DejaVuSans-99\"/>\n       <use x=\"54.980469\" xlink:href=\"#DejaVuSans-111\"/>\n       <use x=\"116.162109\" xlink:href=\"#DejaVuSans-108\"/>\n       <use x=\"143.945312\" xlink:href=\"#DejaVuSans-108\"/>\n       <use x=\"171.728516\" xlink:href=\"#DejaVuSans-105\"/>\n       <use x=\"199.511719\" xlink:href=\"#DejaVuSans-100\"/>\n       <use x=\"262.988281\" xlink:href=\"#DejaVuSans-101\"/>\n       <use x=\"324.511719\" xlink:href=\"#DejaVuSans-100\"/>\n      </g>\n     </g>\n    </g>\n    <g id=\"xtick_134\">\n     <g id=\"line2d_134\">\n      <path clip-path=\"url(#p6456fcfb4f)\" d=\"M 270.144116 224.64 \nL 270.144116 7.2 \n\" style=\"fill:none;stroke:#cccccc;stroke-linecap:round;\"/>\n     </g>\n     <g id=\"text_134\">\n      <!-- collision -->\n      <g style=\"fill:#262626;\" transform=\"translate(273.179429 278.574844)rotate(-90)scale(0.11 -0.11)\">\n       <use xlink:href=\"#DejaVuSans-99\"/>\n       <use x=\"54.980469\" xlink:href=\"#DejaVuSans-111\"/>\n       <use x=\"116.162109\" xlink:href=\"#DejaVuSans-108\"/>\n       <use x=\"143.945312\" xlink:href=\"#DejaVuSans-108\"/>\n       <use x=\"171.728516\" xlink:href=\"#DejaVuSans-105\"/>\n       <use x=\"199.511719\" xlink:href=\"#DejaVuSans-115\"/>\n       <use x=\"251.611328\" xlink:href=\"#DejaVuSans-105\"/>\n       <use x=\"279.394531\" xlink:href=\"#DejaVuSans-111\"/>\n       <use x=\"340.576172\" xlink:href=\"#DejaVuSans-110\"/>\n      </g>\n     </g>\n    </g>\n    <g id=\"xtick_135\">\n     <g id=\"line2d_135\">\n      <path clip-path=\"url(#p6456fcfb4f)\" d=\"M 271.911537 224.64 \nL 271.911537 7.2 \n\" style=\"fill:none;stroke:#cccccc;stroke-linecap:round;\"/>\n     </g>\n     <g id=\"text_135\">\n      <!-- crash -->\n      <g style=\"fill:#262626;\" transform=\"translate(274.94685 264.152812)rotate(-90)scale(0.11 -0.11)\">\n       <use xlink:href=\"#DejaVuSans-99\"/>\n       <use x=\"54.980469\" xlink:href=\"#DejaVuSans-114\"/>\n       <use x=\"96.09375\" xlink:href=\"#DejaVuSans-97\"/>\n       <use x=\"157.373047\" xlink:href=\"#DejaVuSans-115\"/>\n       <use x=\"209.472656\" xlink:href=\"#DejaVuSans-104\"/>\n      </g>\n     </g>\n    </g>\n    <g id=\"xtick_136\">\n     <g id=\"line2d_136\">\n      <path clip-path=\"url(#p6456fcfb4f)\" d=\"M 273.678958 224.64 \nL 273.678958 7.2 \n\" style=\"fill:none;stroke:#cccccc;stroke-linecap:round;\"/>\n     </g>\n     <g id=\"text_136\">\n      <!-- crashed -->\n      <g style=\"fill:#262626;\" transform=\"translate(276.71427 277.904531)rotate(-90)scale(0.11 -0.11)\">\n       <use xlink:href=\"#DejaVuSans-99\"/>\n       <use x=\"54.980469\" xlink:href=\"#DejaVuSans-114\"/>\n       <use x=\"96.09375\" xlink:href=\"#DejaVuSans-97\"/>\n       <use x=\"157.373047\" xlink:href=\"#DejaVuSans-115\"/>\n       <use x=\"209.472656\" xlink:href=\"#DejaVuSans-104\"/>\n       <use x=\"272.851562\" xlink:href=\"#DejaVuSans-101\"/>\n       <use x=\"334.375\" xlink:href=\"#DejaVuSans-100\"/>\n      </g>\n     </g>\n    </g>\n    <g id=\"xtick_137\">\n     <g id=\"line2d_137\">\n      <path clip-path=\"url(#p6456fcfb4f)\" d=\"M 275.446379 224.64 \nL 275.446379 7.2 \n\" style=\"fill:none;stroke:#cccccc;stroke-linecap:round;\"/>\n     </g>\n     <g id=\"text_137\">\n      <!-- crush -->\n      <g style=\"fill:#262626;\" transform=\"translate(278.481691 264.383125)rotate(-90)scale(0.11 -0.11)\">\n       <use xlink:href=\"#DejaVuSans-99\"/>\n       <use x=\"54.980469\" xlink:href=\"#DejaVuSans-114\"/>\n       <use x=\"96.09375\" xlink:href=\"#DejaVuSans-117\"/>\n       <use x=\"159.472656\" xlink:href=\"#DejaVuSans-115\"/>\n       <use x=\"211.572266\" xlink:href=\"#DejaVuSans-104\"/>\n      </g>\n     </g>\n    </g>\n    <g id=\"xtick_138\">\n     <g id=\"line2d_138\">\n      <path clip-path=\"url(#p6456fcfb4f)\" d=\"M 277.213799 224.64 \nL 277.213799 7.2 \n\" style=\"fill:none;stroke:#cccccc;stroke-linecap:round;\"/>\n     </g>\n     <g id=\"text_138\">\n      <!-- body%20bags -->\n      <g style=\"fill:#262626;\" transform=\"translate(280.249112 312.234844)rotate(-90)scale(0.11 -0.11)\">\n       <use xlink:href=\"#DejaVuSans-98\"/>\n       <use x=\"63.476562\" xlink:href=\"#DejaVuSans-111\"/>\n       <use x=\"124.658203\" xlink:href=\"#DejaVuSans-100\"/>\n       <use x=\"188.134766\" xlink:href=\"#DejaVuSans-121\"/>\n       <use x=\"247.314453\" xlink:href=\"#DejaVuSans-37\"/>\n       <use x=\"342.333984\" xlink:href=\"#DejaVuSans-50\"/>\n       <use x=\"405.957031\" xlink:href=\"#DejaVuSans-48\"/>\n       <use x=\"469.580078\" xlink:href=\"#DejaVuSans-98\"/>\n       <use x=\"533.056641\" xlink:href=\"#DejaVuSans-97\"/>\n       <use x=\"594.335938\" xlink:href=\"#DejaVuSans-103\"/>\n       <use x=\"657.8125\" xlink:href=\"#DejaVuSans-115\"/>\n      </g>\n     </g>\n    </g>\n    <g id=\"xtick_139\">\n     <g id=\"line2d_139\">\n      <path clip-path=\"url(#p6456fcfb4f)\" d=\"M 278.98122 224.64 \nL 278.98122 7.2 \n\" style=\"fill:none;stroke:#cccccc;stroke-linecap:round;\"/>\n     </g>\n     <g id=\"text_139\">\n      <!-- body%20bag -->\n      <g style=\"fill:#262626;\" transform=\"translate(282.016533 306.504531)rotate(-90)scale(0.11 -0.11)\">\n       <use xlink:href=\"#DejaVuSans-98\"/>\n       <use x=\"63.476562\" xlink:href=\"#DejaVuSans-111\"/>\n       <use x=\"124.658203\" xlink:href=\"#DejaVuSans-100\"/>\n       <use x=\"188.134766\" xlink:href=\"#DejaVuSans-121\"/>\n       <use x=\"247.314453\" xlink:href=\"#DejaVuSans-37\"/>\n       <use x=\"342.333984\" xlink:href=\"#DejaVuSans-50\"/>\n       <use x=\"405.957031\" xlink:href=\"#DejaVuSans-48\"/>\n       <use x=\"469.580078\" xlink:href=\"#DejaVuSans-98\"/>\n       <use x=\"533.056641\" xlink:href=\"#DejaVuSans-97\"/>\n       <use x=\"594.335938\" xlink:href=\"#DejaVuSans-103\"/>\n      </g>\n     </g>\n    </g>\n    <g id=\"xtick_140\">\n     <g id=\"line2d_140\">\n      <path clip-path=\"url(#p6456fcfb4f)\" d=\"M 280.748641 224.64 \nL 280.748641 7.2 \n\" style=\"fill:none;stroke:#cccccc;stroke-linecap:round;\"/>\n     </g>\n     <g id=\"text_140\">\n      <!-- first%20responders -->\n      <g style=\"fill:#262626;\" transform=\"translate(283.783954 341.544687)rotate(-90)scale(0.11 -0.11)\">\n       <use xlink:href=\"#DejaVuSans-102\"/>\n       <use x=\"35.205078\" xlink:href=\"#DejaVuSans-105\"/>\n       <use x=\"62.988281\" xlink:href=\"#DejaVuSans-114\"/>\n       <use x=\"104.101562\" xlink:href=\"#DejaVuSans-115\"/>\n       <use x=\"156.201172\" xlink:href=\"#DejaVuSans-116\"/>\n       <use x=\"195.410156\" xlink:href=\"#DejaVuSans-37\"/>\n       <use x=\"290.429688\" xlink:href=\"#DejaVuSans-50\"/>\n       <use x=\"354.052734\" xlink:href=\"#DejaVuSans-48\"/>\n       <use x=\"417.675781\" xlink:href=\"#DejaVuSans-114\"/>\n       <use x=\"456.539062\" xlink:href=\"#DejaVuSans-101\"/>\n       <use x=\"518.0625\" xlink:href=\"#DejaVuSans-115\"/>\n       <use x=\"570.162109\" xlink:href=\"#DejaVuSans-112\"/>\n       <use x=\"633.638672\" xlink:href=\"#DejaVuSans-111\"/>\n       <use x=\"694.820312\" xlink:href=\"#DejaVuSans-110\"/>\n       <use x=\"758.199219\" xlink:href=\"#DejaVuSans-100\"/>\n       <use x=\"821.675781\" xlink:href=\"#DejaVuSans-101\"/>\n       <use x=\"883.199219\" xlink:href=\"#DejaVuSans-114\"/>\n       <use x=\"924.3125\" xlink:href=\"#DejaVuSans-115\"/>\n      </g>\n     </g>\n    </g>\n    <g id=\"xtick_141\">\n     <g id=\"line2d_141\">\n      <path clip-path=\"url(#p6456fcfb4f)\" d=\"M 282.516062 224.64 \nL 282.516062 7.2 \n\" style=\"fill:none;stroke:#cccccc;stroke-linecap:round;\"/>\n     </g>\n     <g id=\"text_141\">\n      <!-- attacked -->\n      <g style=\"fill:#262626;\" transform=\"translate(285.551374 282.0175)rotate(-90)scale(0.11 -0.11)\">\n       <use xlink:href=\"#DejaVuSans-97\"/>\n       <use x=\"61.279297\" xlink:href=\"#DejaVuSans-116\"/>\n       <use x=\"100.488281\" xlink:href=\"#DejaVuSans-116\"/>\n       <use x=\"139.697266\" xlink:href=\"#DejaVuSans-97\"/>\n       <use x=\"200.976562\" xlink:href=\"#DejaVuSans-99\"/>\n       <use x=\"255.957031\" xlink:href=\"#DejaVuSans-107\"/>\n       <use x=\"310.242188\" xlink:href=\"#DejaVuSans-101\"/>\n       <use x=\"371.765625\" xlink:href=\"#DejaVuSans-100\"/>\n      </g>\n     </g>\n    </g>\n    <g id=\"xtick_142\">\n     <g id=\"line2d_142\">\n      <path clip-path=\"url(#p6456fcfb4f)\" d=\"M 284.283483 224.64 \nL 284.283483 7.2 \n\" style=\"fill:none;stroke:#cccccc;stroke-linecap:round;\"/>\n     </g>\n     <g id=\"text_142\">\n      <!-- aftershock -->\n      <g style=\"fill:#262626;\" transform=\"translate(287.318795 292.01375)rotate(-90)scale(0.11 -0.11)\">\n       <use xlink:href=\"#DejaVuSans-97\"/>\n       <use x=\"61.279297\" xlink:href=\"#DejaVuSans-102\"/>\n       <use x=\"94.734375\" xlink:href=\"#DejaVuSans-116\"/>\n       <use x=\"133.943359\" xlink:href=\"#DejaVuSans-101\"/>\n       <use x=\"195.466797\" xlink:href=\"#DejaVuSans-114\"/>\n       <use x=\"236.580078\" xlink:href=\"#DejaVuSans-115\"/>\n       <use x=\"288.679688\" xlink:href=\"#DejaVuSans-104\"/>\n       <use x=\"352.058594\" xlink:href=\"#DejaVuSans-111\"/>\n       <use x=\"413.240234\" xlink:href=\"#DejaVuSans-99\"/>\n       <use x=\"468.220703\" xlink:href=\"#DejaVuSans-107\"/>\n      </g>\n     </g>\n    </g>\n    <g id=\"xtick_143\">\n     <g id=\"line2d_143\">\n      <path clip-path=\"url(#p6456fcfb4f)\" d=\"M 286.050904 224.64 \nL 286.050904 7.2 \n\" style=\"fill:none;stroke:#cccccc;stroke-linecap:round;\"/>\n     </g>\n     <g id=\"text_143\">\n      <!-- airplane%20accident -->\n      <g style=\"fill:#262626;\" transform=\"translate(289.086216 350.356719)rotate(-90)scale(0.11 -0.11)\">\n       <use xlink:href=\"#DejaVuSans-97\"/>\n       <use x=\"61.279297\" xlink:href=\"#DejaVuSans-105\"/>\n       <use x=\"89.0625\" xlink:href=\"#DejaVuSans-114\"/>\n       <use x=\"130.175781\" xlink:href=\"#DejaVuSans-112\"/>\n       <use x=\"193.652344\" xlink:href=\"#DejaVuSans-108\"/>\n       <use x=\"221.435547\" xlink:href=\"#DejaVuSans-97\"/>\n       <use x=\"282.714844\" xlink:href=\"#DejaVuSans-110\"/>\n       <use x=\"346.09375\" xlink:href=\"#DejaVuSans-101\"/>\n       <use x=\"407.617188\" xlink:href=\"#DejaVuSans-37\"/>\n       <use x=\"502.636719\" xlink:href=\"#DejaVuSans-50\"/>\n       <use x=\"566.259766\" xlink:href=\"#DejaVuSans-48\"/>\n       <use x=\"629.882812\" xlink:href=\"#DejaVuSans-97\"/>\n       <use x=\"691.162109\" xlink:href=\"#DejaVuSans-99\"/>\n       <use x=\"746.142578\" xlink:href=\"#DejaVuSans-99\"/>\n       <use x=\"801.123047\" xlink:href=\"#DejaVuSans-105\"/>\n       <use x=\"828.90625\" xlink:href=\"#DejaVuSans-100\"/>\n       <use x=\"892.382812\" xlink:href=\"#DejaVuSans-101\"/>\n       <use x=\"953.90625\" xlink:href=\"#DejaVuSans-110\"/>\n       <use x=\"1017.285156\" xlink:href=\"#DejaVuSans-116\"/>\n      </g>\n     </g>\n    </g>\n    <g id=\"xtick_144\">\n     <g id=\"line2d_144\">\n      <path clip-path=\"url(#p6456fcfb4f)\" d=\"M 287.818324 224.64 \nL 287.818324 7.2 \n\" style=\"fill:none;stroke:#cccccc;stroke-linecap:round;\"/>\n     </g>\n     <g id=\"text_144\">\n      <!-- ambulance -->\n      <g style=\"fill:#262626;\" transform=\"translate(290.853637 295.135)rotate(-90)scale(0.11 -0.11)\">\n       <use xlink:href=\"#DejaVuSans-97\"/>\n       <use x=\"61.279297\" xlink:href=\"#DejaVuSans-109\"/>\n       <use x=\"158.691406\" xlink:href=\"#DejaVuSans-98\"/>\n       <use x=\"222.167969\" xlink:href=\"#DejaVuSans-117\"/>\n       <use x=\"285.546875\" xlink:href=\"#DejaVuSans-108\"/>\n       <use x=\"313.330078\" xlink:href=\"#DejaVuSans-97\"/>\n       <use x=\"374.609375\" xlink:href=\"#DejaVuSans-110\"/>\n       <use x=\"437.988281\" xlink:href=\"#DejaVuSans-99\"/>\n       <use x=\"492.96875\" xlink:href=\"#DejaVuSans-101\"/>\n      </g>\n     </g>\n    </g>\n    <g id=\"xtick_145\">\n     <g id=\"line2d_145\">\n      <path clip-path=\"url(#p6456fcfb4f)\" d=\"M 289.585745 224.64 \nL 289.585745 7.2 \n\" style=\"fill:none;stroke:#cccccc;stroke-linecap:round;\"/>\n     </g>\n     <g id=\"text_145\">\n      <!-- annihilated -->\n      <g style=\"fill:#262626;\" transform=\"translate(292.621058 295.7675)rotate(-90)scale(0.11 -0.11)\">\n       <use xlink:href=\"#DejaVuSans-97\"/>\n       <use x=\"61.279297\" xlink:href=\"#DejaVuSans-110\"/>\n       <use x=\"124.658203\" xlink:href=\"#DejaVuSans-110\"/>\n       <use x=\"188.037109\" xlink:href=\"#DejaVuSans-105\"/>\n       <use x=\"215.820312\" xlink:href=\"#DejaVuSans-104\"/>\n       <use x=\"279.199219\" xlink:href=\"#DejaVuSans-105\"/>\n       <use x=\"306.982422\" xlink:href=\"#DejaVuSans-108\"/>\n       <use x=\"334.765625\" xlink:href=\"#DejaVuSans-97\"/>\n       <use x=\"396.044922\" xlink:href=\"#DejaVuSans-116\"/>\n       <use x=\"435.253906\" xlink:href=\"#DejaVuSans-101\"/>\n       <use x=\"496.777344\" xlink:href=\"#DejaVuSans-100\"/>\n      </g>\n     </g>\n    </g>\n    <g id=\"xtick_146\">\n     <g id=\"line2d_146\">\n      <path clip-path=\"url(#p6456fcfb4f)\" d=\"M 291.353166 224.64 \nL 291.353166 7.2 \n\" style=\"fill:none;stroke:#cccccc;stroke-linecap:round;\"/>\n     </g>\n     <g id=\"text_146\">\n      <!-- annihilation -->\n      <g style=\"fill:#262626;\" transform=\"translate(294.388479 298.773594)rotate(-90)scale(0.11 -0.11)\">\n       <use xlink:href=\"#DejaVuSans-97\"/>\n       <use x=\"61.279297\" xlink:href=\"#DejaVuSans-110\"/>\n       <use x=\"124.658203\" xlink:href=\"#DejaVuSans-110\"/>\n       <use x=\"188.037109\" xlink:href=\"#DejaVuSans-105\"/>\n       <use x=\"215.820312\" xlink:href=\"#DejaVuSans-104\"/>\n       <use x=\"279.199219\" xlink:href=\"#DejaVuSans-105\"/>\n       <use x=\"306.982422\" xlink:href=\"#DejaVuSans-108\"/>\n       <use x=\"334.765625\" xlink:href=\"#DejaVuSans-97\"/>\n       <use x=\"396.044922\" xlink:href=\"#DejaVuSans-116\"/>\n       <use x=\"435.253906\" xlink:href=\"#DejaVuSans-105\"/>\n       <use x=\"463.037109\" xlink:href=\"#DejaVuSans-111\"/>\n       <use x=\"524.21875\" xlink:href=\"#DejaVuSans-110\"/>\n      </g>\n     </g>\n    </g>\n    <g id=\"xtick_147\">\n     <g id=\"line2d_147\">\n      <path clip-path=\"url(#p6456fcfb4f)\" d=\"M 293.120587 224.64 \nL 293.120587 7.2 \n\" style=\"fill:none;stroke:#cccccc;stroke-linecap:round;\"/>\n     </g>\n     <g id=\"text_147\">\n      <!-- apocalypse -->\n      <g style=\"fill:#262626;\" transform=\"translate(296.155899 296.432656)rotate(-90)scale(0.11 -0.11)\">\n       <use xlink:href=\"#DejaVuSans-97\"/>\n       <use x=\"61.279297\" xlink:href=\"#DejaVuSans-112\"/>\n       <use x=\"124.755859\" xlink:href=\"#DejaVuSans-111\"/>\n       <use x=\"185.9375\" xlink:href=\"#DejaVuSans-99\"/>\n       <use x=\"240.917969\" xlink:href=\"#DejaVuSans-97\"/>\n       <use x=\"302.197266\" xlink:href=\"#DejaVuSans-108\"/>\n       <use x=\"329.980469\" xlink:href=\"#DejaVuSans-121\"/>\n       <use x=\"389.160156\" xlink:href=\"#DejaVuSans-112\"/>\n       <use x=\"452.636719\" xlink:href=\"#DejaVuSans-115\"/>\n       <use x=\"504.736328\" xlink:href=\"#DejaVuSans-101\"/>\n      </g>\n     </g>\n    </g>\n    <g id=\"xtick_148\">\n     <g id=\"line2d_148\">\n      <path clip-path=\"url(#p6456fcfb4f)\" d=\"M 294.888008 224.64 \nL 294.888008 7.2 \n\" style=\"fill:none;stroke:#cccccc;stroke-linecap:round;\"/>\n     </g>\n     <g id=\"text_148\">\n      <!-- armageddon -->\n      <g style=\"fill:#262626;\" transform=\"translate(297.92332 304.08625)rotate(-90)scale(0.11 -0.11)\">\n       <use xlink:href=\"#DejaVuSans-97\"/>\n       <use x=\"61.279297\" xlink:href=\"#DejaVuSans-114\"/>\n       <use x=\"100.642578\" xlink:href=\"#DejaVuSans-109\"/>\n       <use x=\"198.054688\" xlink:href=\"#DejaVuSans-97\"/>\n       <use x=\"259.333984\" xlink:href=\"#DejaVuSans-103\"/>\n       <use x=\"322.810547\" xlink:href=\"#DejaVuSans-101\"/>\n       <use x=\"384.333984\" xlink:href=\"#DejaVuSans-100\"/>\n       <use x=\"447.810547\" xlink:href=\"#DejaVuSans-100\"/>\n       <use x=\"511.287109\" xlink:href=\"#DejaVuSans-111\"/>\n       <use x=\"572.46875\" xlink:href=\"#DejaVuSans-110\"/>\n      </g>\n     </g>\n    </g>\n    <g id=\"xtick_149\">\n     <g id=\"line2d_149\">\n      <path clip-path=\"url(#p6456fcfb4f)\" d=\"M 296.655428 224.64 \nL 296.655428 7.2 \n\" style=\"fill:none;stroke:#cccccc;stroke-linecap:round;\"/>\n     </g>\n     <g id=\"text_149\">\n      <!-- army -->\n      <g style=\"fill:#262626;\" transform=\"translate(299.690741 262.435781)rotate(-90)scale(0.11 -0.11)\">\n       <use xlink:href=\"#DejaVuSans-97\"/>\n       <use x=\"61.279297\" xlink:href=\"#DejaVuSans-114\"/>\n       <use x=\"100.642578\" xlink:href=\"#DejaVuSans-109\"/>\n       <use x=\"198.054688\" xlink:href=\"#DejaVuSans-121\"/>\n      </g>\n     </g>\n    </g>\n    <g id=\"xtick_150\">\n     <g id=\"line2d_150\">\n      <path clip-path=\"url(#p6456fcfb4f)\" d=\"M 298.422849 224.64 \nL 298.422849 7.2 \n\" style=\"fill:none;stroke:#cccccc;stroke-linecap:round;\"/>\n     </g>\n     <g id=\"text_150\">\n      <!-- arson -->\n      <g style=\"fill:#262626;\" transform=\"translate(301.458162 264.835156)rotate(-90)scale(0.11 -0.11)\">\n       <use xlink:href=\"#DejaVuSans-97\"/>\n       <use x=\"61.279297\" xlink:href=\"#DejaVuSans-114\"/>\n       <use x=\"102.392578\" xlink:href=\"#DejaVuSans-115\"/>\n       <use x=\"154.492188\" xlink:href=\"#DejaVuSans-111\"/>\n       <use x=\"215.673828\" xlink:href=\"#DejaVuSans-110\"/>\n      </g>\n     </g>\n    </g>\n    <g id=\"xtick_151\">\n     <g id=\"line2d_151\">\n      <path clip-path=\"url(#p6456fcfb4f)\" d=\"M 300.19027 224.64 \nL 300.19027 7.2 \n\" style=\"fill:none;stroke:#cccccc;stroke-linecap:round;\"/>\n     </g>\n     <g id=\"text_151\">\n      <!-- arsonist -->\n      <g style=\"fill:#262626;\" transform=\"translate(303.225583 277.93375)rotate(-90)scale(0.11 -0.11)\">\n       <use xlink:href=\"#DejaVuSans-97\"/>\n       <use x=\"61.279297\" xlink:href=\"#DejaVuSans-114\"/>\n       <use x=\"102.392578\" xlink:href=\"#DejaVuSans-115\"/>\n       <use x=\"154.492188\" xlink:href=\"#DejaVuSans-111\"/>\n       <use x=\"215.673828\" xlink:href=\"#DejaVuSans-110\"/>\n       <use x=\"279.052734\" xlink:href=\"#DejaVuSans-105\"/>\n       <use x=\"306.835938\" xlink:href=\"#DejaVuSans-115\"/>\n       <use x=\"358.935547\" xlink:href=\"#DejaVuSans-116\"/>\n      </g>\n     </g>\n    </g>\n    <g id=\"xtick_152\">\n     <g id=\"line2d_152\">\n      <path clip-path=\"url(#p6456fcfb4f)\" d=\"M 301.957691 224.64 \nL 301.957691 7.2 \n\" style=\"fill:none;stroke:#cccccc;stroke-linecap:round;\"/>\n     </g>\n     <g id=\"text_152\">\n      <!-- attack -->\n      <g style=\"fill:#262626;\" transform=\"translate(304.993003 268.664531)rotate(-90)scale(0.11 -0.11)\">\n       <use xlink:href=\"#DejaVuSans-97\"/>\n       <use x=\"61.279297\" xlink:href=\"#DejaVuSans-116\"/>\n       <use x=\"100.488281\" xlink:href=\"#DejaVuSans-116\"/>\n       <use x=\"139.697266\" xlink:href=\"#DejaVuSans-97\"/>\n       <use x=\"200.976562\" xlink:href=\"#DejaVuSans-99\"/>\n       <use x=\"255.957031\" xlink:href=\"#DejaVuSans-107\"/>\n      </g>\n     </g>\n    </g>\n    <g id=\"xtick_153\">\n     <g id=\"line2d_153\">\n      <path clip-path=\"url(#p6456fcfb4f)\" d=\"M 303.725112 224.64 \nL 303.725112 7.2 \n\" style=\"fill:none;stroke:#cccccc;stroke-linecap:round;\"/>\n     </g>\n     <g id=\"text_153\">\n      <!-- avalanche -->\n      <g style=\"fill:#262626;\" transform=\"translate(306.760424 290.688594)rotate(-90)scale(0.11 -0.11)\">\n       <use xlink:href=\"#DejaVuSans-97\"/>\n       <use x=\"61.279297\" xlink:href=\"#DejaVuSans-118\"/>\n       <use x=\"120.458984\" xlink:href=\"#DejaVuSans-97\"/>\n       <use x=\"181.738281\" xlink:href=\"#DejaVuSans-108\"/>\n       <use x=\"209.521484\" xlink:href=\"#DejaVuSans-97\"/>\n       <use x=\"270.800781\" xlink:href=\"#DejaVuSans-110\"/>\n       <use x=\"334.179688\" xlink:href=\"#DejaVuSans-99\"/>\n       <use x=\"389.160156\" xlink:href=\"#DejaVuSans-104\"/>\n       <use x=\"452.539062\" xlink:href=\"#DejaVuSans-101\"/>\n      </g>\n     </g>\n    </g>\n    <g id=\"xtick_154\">\n     <g id=\"line2d_154\">\n      <path clip-path=\"url(#p6456fcfb4f)\" d=\"M 305.492533 224.64 \nL 305.492533 7.2 \n\" style=\"fill:none;stroke:#cccccc;stroke-linecap:round;\"/>\n     </g>\n     <g id=\"text_154\">\n      <!-- blown%20up -->\n      <g style=\"fill:#262626;\" transform=\"translate(308.527845 305.280781)rotate(-90)scale(0.11 -0.11)\">\n       <use xlink:href=\"#DejaVuSans-98\"/>\n       <use x=\"63.476562\" xlink:href=\"#DejaVuSans-108\"/>\n       <use x=\"91.259766\" xlink:href=\"#DejaVuSans-111\"/>\n       <use x=\"152.441406\" xlink:href=\"#DejaVuSans-119\"/>\n       <use x=\"234.228516\" xlink:href=\"#DejaVuSans-110\"/>\n       <use x=\"297.607422\" xlink:href=\"#DejaVuSans-37\"/>\n       <use x=\"392.626953\" xlink:href=\"#DejaVuSans-50\"/>\n       <use x=\"456.25\" xlink:href=\"#DejaVuSans-48\"/>\n       <use x=\"519.873047\" xlink:href=\"#DejaVuSans-117\"/>\n       <use x=\"583.251953\" xlink:href=\"#DejaVuSans-112\"/>\n      </g>\n     </g>\n    </g>\n    <g id=\"xtick_155\">\n     <g id=\"line2d_155\">\n      <path clip-path=\"url(#p6456fcfb4f)\" d=\"M 307.259953 224.64 \nL 307.259953 7.2 \n\" style=\"fill:none;stroke:#cccccc;stroke-linecap:round;\"/>\n     </g>\n     <g id=\"text_155\">\n      <!-- battle -->\n      <g style=\"fill:#262626;\" transform=\"translate(310.295266 266.313281)rotate(-90)scale(0.11 -0.11)\">\n       <use xlink:href=\"#DejaVuSans-98\"/>\n       <use x=\"63.476562\" xlink:href=\"#DejaVuSans-97\"/>\n       <use x=\"124.755859\" xlink:href=\"#DejaVuSans-116\"/>\n       <use x=\"163.964844\" xlink:href=\"#DejaVuSans-116\"/>\n       <use x=\"203.173828\" xlink:href=\"#DejaVuSans-108\"/>\n       <use x=\"230.957031\" xlink:href=\"#DejaVuSans-101\"/>\n      </g>\n     </g>\n    </g>\n    <g id=\"xtick_156\">\n     <g id=\"line2d_156\">\n      <path clip-path=\"url(#p6456fcfb4f)\" d=\"M 309.027374 224.64 \nL 309.027374 7.2 \n\" style=\"fill:none;stroke:#cccccc;stroke-linecap:round;\"/>\n     </g>\n     <g id=\"text_156\">\n      <!-- bioterror -->\n      <g style=\"fill:#262626;\" transform=\"translate(312.062687 281.847344)rotate(-90)scale(0.11 -0.11)\">\n       <use xlink:href=\"#DejaVuSans-98\"/>\n       <use x=\"63.476562\" xlink:href=\"#DejaVuSans-105\"/>\n       <use x=\"91.259766\" xlink:href=\"#DejaVuSans-111\"/>\n       <use x=\"152.441406\" xlink:href=\"#DejaVuSans-116\"/>\n       <use x=\"191.650391\" xlink:href=\"#DejaVuSans-101\"/>\n       <use x=\"253.173828\" xlink:href=\"#DejaVuSans-114\"/>\n       <use x=\"292.537109\" xlink:href=\"#DejaVuSans-114\"/>\n       <use x=\"331.400391\" xlink:href=\"#DejaVuSans-111\"/>\n       <use x=\"392.582031\" xlink:href=\"#DejaVuSans-114\"/>\n      </g>\n     </g>\n    </g>\n    <g id=\"xtick_157\">\n     <g id=\"line2d_157\">\n      <path clip-path=\"url(#p6456fcfb4f)\" d=\"M 310.794795 224.64 \nL 310.794795 7.2 \n\" style=\"fill:none;stroke:#cccccc;stroke-linecap:round;\"/>\n     </g>\n     <g id=\"text_157\">\n      <!-- bioterrorism -->\n      <g style=\"fill:#262626;\" transform=\"translate(313.830107 301.348281)rotate(-90)scale(0.11 -0.11)\">\n       <use xlink:href=\"#DejaVuSans-98\"/>\n       <use x=\"63.476562\" xlink:href=\"#DejaVuSans-105\"/>\n       <use x=\"91.259766\" xlink:href=\"#DejaVuSans-111\"/>\n       <use x=\"152.441406\" xlink:href=\"#DejaVuSans-116\"/>\n       <use x=\"191.650391\" xlink:href=\"#DejaVuSans-101\"/>\n       <use x=\"253.173828\" xlink:href=\"#DejaVuSans-114\"/>\n       <use x=\"292.537109\" xlink:href=\"#DejaVuSans-114\"/>\n       <use x=\"331.400391\" xlink:href=\"#DejaVuSans-111\"/>\n       <use x=\"392.582031\" xlink:href=\"#DejaVuSans-114\"/>\n       <use x=\"433.695312\" xlink:href=\"#DejaVuSans-105\"/>\n       <use x=\"461.478516\" xlink:href=\"#DejaVuSans-115\"/>\n       <use x=\"513.578125\" xlink:href=\"#DejaVuSans-109\"/>\n      </g>\n     </g>\n    </g>\n    <g id=\"xtick_158\">\n     <g id=\"line2d_158\">\n      <path clip-path=\"url(#p6456fcfb4f)\" d=\"M 312.562216 224.64 \nL 312.562216 7.2 \n\" style=\"fill:none;stroke:#cccccc;stroke-linecap:round;\"/>\n     </g>\n     <g id=\"text_158\">\n      <!-- blaze -->\n      <g style=\"fill:#262626;\" transform=\"translate(315.597528 263.461875)rotate(-90)scale(0.11 -0.11)\">\n       <use xlink:href=\"#DejaVuSans-98\"/>\n       <use x=\"63.476562\" xlink:href=\"#DejaVuSans-108\"/>\n       <use x=\"91.259766\" xlink:href=\"#DejaVuSans-97\"/>\n       <use x=\"152.539062\" xlink:href=\"#DejaVuSans-122\"/>\n       <use x=\"205.029297\" xlink:href=\"#DejaVuSans-101\"/>\n      </g>\n     </g>\n    </g>\n    <g id=\"xtick_159\">\n     <g id=\"line2d_159\">\n      <path clip-path=\"url(#p6456fcfb4f)\" d=\"M 314.329637 224.64 \nL 314.329637 7.2 \n\" style=\"fill:none;stroke:#cccccc;stroke-linecap:round;\"/>\n     </g>\n     <g id=\"text_159\">\n      <!-- blazing -->\n      <g style=\"fill:#262626;\" transform=\"translate(317.364949 273.703906)rotate(-90)scale(0.11 -0.11)\">\n       <use xlink:href=\"#DejaVuSans-98\"/>\n       <use x=\"63.476562\" xlink:href=\"#DejaVuSans-108\"/>\n       <use x=\"91.259766\" xlink:href=\"#DejaVuSans-97\"/>\n       <use x=\"152.539062\" xlink:href=\"#DejaVuSans-122\"/>\n       <use x=\"205.029297\" xlink:href=\"#DejaVuSans-105\"/>\n       <use x=\"232.8125\" xlink:href=\"#DejaVuSans-110\"/>\n       <use x=\"296.191406\" xlink:href=\"#DejaVuSans-103\"/>\n      </g>\n     </g>\n    </g>\n    <g id=\"xtick_160\">\n     <g id=\"line2d_160\">\n      <path clip-path=\"url(#p6456fcfb4f)\" d=\"M 316.097057 224.64 \nL 316.097057 7.2 \n\" style=\"fill:none;stroke:#cccccc;stroke-linecap:round;\"/>\n     </g>\n     <g id=\"text_160\">\n      <!-- bleeding -->\n      <g style=\"fill:#262626;\" transform=\"translate(319.13237 281.709844)rotate(-90)scale(0.11 -0.11)\">\n       <use xlink:href=\"#DejaVuSans-98\"/>\n       <use x=\"63.476562\" xlink:href=\"#DejaVuSans-108\"/>\n       <use x=\"91.259766\" xlink:href=\"#DejaVuSans-101\"/>\n       <use x=\"152.783203\" xlink:href=\"#DejaVuSans-101\"/>\n       <use x=\"214.306641\" xlink:href=\"#DejaVuSans-100\"/>\n       <use x=\"277.783203\" xlink:href=\"#DejaVuSans-105\"/>\n       <use x=\"305.566406\" xlink:href=\"#DejaVuSans-110\"/>\n       <use x=\"368.945312\" xlink:href=\"#DejaVuSans-103\"/>\n      </g>\n     </g>\n    </g>\n    <g id=\"xtick_161\">\n     <g id=\"line2d_161\">\n      <path clip-path=\"url(#p6456fcfb4f)\" d=\"M 317.864478 224.64 \nL 317.864478 7.2 \n\" style=\"fill:none;stroke:#cccccc;stroke-linecap:round;\"/>\n     </g>\n     <g id=\"text_161\">\n      <!-- blew%20up -->\n      <g style=\"fill:#262626;\" transform=\"translate(320.899791 298.347344)rotate(-90)scale(0.11 -0.11)\">\n       <use xlink:href=\"#DejaVuSans-98\"/>\n       <use x=\"63.476562\" xlink:href=\"#DejaVuSans-108\"/>\n       <use x=\"91.259766\" xlink:href=\"#DejaVuSans-101\"/>\n       <use x=\"152.783203\" xlink:href=\"#DejaVuSans-119\"/>\n       <use x=\"234.570312\" xlink:href=\"#DejaVuSans-37\"/>\n       <use x=\"329.589844\" xlink:href=\"#DejaVuSans-50\"/>\n       <use x=\"393.212891\" xlink:href=\"#DejaVuSans-48\"/>\n       <use x=\"456.835938\" xlink:href=\"#DejaVuSans-117\"/>\n       <use x=\"520.214844\" xlink:href=\"#DejaVuSans-112\"/>\n      </g>\n     </g>\n    </g>\n    <g id=\"xtick_162\">\n     <g id=\"line2d_162\">\n      <path clip-path=\"url(#p6456fcfb4f)\" d=\"M 319.631899 224.64 \nL 319.631899 7.2 \n\" style=\"fill:none;stroke:#cccccc;stroke-linecap:round;\"/>\n     </g>\n     <g id=\"text_162\">\n      <!-- blight -->\n      <g style=\"fill:#262626;\" transform=\"translate(322.667212 265.502031)rotate(-90)scale(0.11 -0.11)\">\n       <use xlink:href=\"#DejaVuSans-98\"/>\n       <use x=\"63.476562\" xlink:href=\"#DejaVuSans-108\"/>\n       <use x=\"91.259766\" xlink:href=\"#DejaVuSans-105\"/>\n       <use x=\"119.042969\" xlink:href=\"#DejaVuSans-103\"/>\n       <use x=\"182.519531\" xlink:href=\"#DejaVuSans-104\"/>\n       <use x=\"245.898438\" xlink:href=\"#DejaVuSans-116\"/>\n      </g>\n     </g>\n    </g>\n    <g id=\"xtick_163\">\n     <g id=\"line2d_163\">\n      <path clip-path=\"url(#p6456fcfb4f)\" d=\"M 321.39932 224.64 \nL 321.39932 7.2 \n\" style=\"fill:none;stroke:#cccccc;stroke-linecap:round;\"/>\n     </g>\n     <g id=\"text_163\">\n      <!-- blizzard -->\n      <g style=\"fill:#262626;\" transform=\"translate(324.434632 276.835469)rotate(-90)scale(0.11 -0.11)\">\n       <use xlink:href=\"#DejaVuSans-98\"/>\n       <use x=\"63.476562\" xlink:href=\"#DejaVuSans-108\"/>\n       <use x=\"91.259766\" xlink:href=\"#DejaVuSans-105\"/>\n       <use x=\"119.042969\" xlink:href=\"#DejaVuSans-122\"/>\n       <use x=\"171.533203\" xlink:href=\"#DejaVuSans-122\"/>\n       <use x=\"224.023438\" xlink:href=\"#DejaVuSans-97\"/>\n       <use x=\"285.302734\" xlink:href=\"#DejaVuSans-114\"/>\n       <use x=\"324.666016\" xlink:href=\"#DejaVuSans-100\"/>\n      </g>\n     </g>\n    </g>\n    <g id=\"xtick_164\">\n     <g id=\"line2d_164\">\n      <path clip-path=\"url(#p6456fcfb4f)\" d=\"M 323.166741 224.64 \nL 323.166741 7.2 \n\" style=\"fill:none;stroke:#cccccc;stroke-linecap:round;\"/>\n     </g>\n     <g id=\"text_164\">\n      <!-- blood -->\n      <g style=\"fill:#262626;\" transform=\"translate(326.202053 264.62375)rotate(-90)scale(0.11 -0.11)\">\n       <use xlink:href=\"#DejaVuSans-98\"/>\n       <use x=\"63.476562\" xlink:href=\"#DejaVuSans-108\"/>\n       <use x=\"91.259766\" xlink:href=\"#DejaVuSans-111\"/>\n       <use x=\"152.441406\" xlink:href=\"#DejaVuSans-111\"/>\n       <use x=\"213.623047\" xlink:href=\"#DejaVuSans-100\"/>\n      </g>\n     </g>\n    </g>\n    <g id=\"xtick_165\">\n     <g id=\"line2d_165\">\n      <path clip-path=\"url(#p6456fcfb4f)\" d=\"M 324.934161 224.64 \nL 324.934161 7.2 \n\" style=\"fill:none;stroke:#cccccc;stroke-linecap:round;\"/>\n     </g>\n     <g id=\"text_165\">\n      <!-- bloody -->\n      <g style=\"fill:#262626;\" transform=\"translate(327.969474 271.134375)rotate(-90)scale(0.11 -0.11)\">\n       <use xlink:href=\"#DejaVuSans-98\"/>\n       <use x=\"63.476562\" xlink:href=\"#DejaVuSans-108\"/>\n       <use x=\"91.259766\" xlink:href=\"#DejaVuSans-111\"/>\n       <use x=\"152.441406\" xlink:href=\"#DejaVuSans-111\"/>\n       <use x=\"213.623047\" xlink:href=\"#DejaVuSans-100\"/>\n       <use x=\"277.099609\" xlink:href=\"#DejaVuSans-121\"/>\n      </g>\n     </g>\n    </g>\n    <g id=\"xtick_166\">\n     <g id=\"line2d_166\">\n      <path clip-path=\"url(#p6456fcfb4f)\" d=\"M 326.701582 224.64 \nL 326.701582 7.2 \n\" style=\"fill:none;stroke:#cccccc;stroke-linecap:round;\"/>\n     </g>\n     <g id=\"text_166\">\n      <!-- crushed -->\n      <g style=\"fill:#262626;\" transform=\"translate(329.736895 278.134844)rotate(-90)scale(0.11 -0.11)\">\n       <use xlink:href=\"#DejaVuSans-99\"/>\n       <use x=\"54.980469\" xlink:href=\"#DejaVuSans-114\"/>\n       <use x=\"96.09375\" xlink:href=\"#DejaVuSans-117\"/>\n       <use x=\"159.472656\" xlink:href=\"#DejaVuSans-115\"/>\n       <use x=\"211.572266\" xlink:href=\"#DejaVuSans-104\"/>\n       <use x=\"274.951172\" xlink:href=\"#DejaVuSans-101\"/>\n       <use x=\"336.474609\" xlink:href=\"#DejaVuSans-100\"/>\n      </g>\n     </g>\n    </g>\n    <g id=\"xtick_167\">\n     <g id=\"line2d_167\">\n      <path clip-path=\"url(#p6456fcfb4f)\" d=\"M 328.469003 224.64 \nL 328.469003 7.2 \n\" style=\"fill:none;stroke:#cccccc;stroke-linecap:round;\"/>\n     </g>\n     <g id=\"text_167\">\n      <!-- curfew -->\n      <g style=\"fill:#262626;\" transform=\"translate(331.504316 271.318281)rotate(-90)scale(0.11 -0.11)\">\n       <use xlink:href=\"#DejaVuSans-99\"/>\n       <use x=\"54.980469\" xlink:href=\"#DejaVuSans-117\"/>\n       <use x=\"118.359375\" xlink:href=\"#DejaVuSans-114\"/>\n       <use x=\"159.472656\" xlink:href=\"#DejaVuSans-102\"/>\n       <use x=\"194.677734\" xlink:href=\"#DejaVuSans-101\"/>\n       <use x=\"256.201172\" xlink:href=\"#DejaVuSans-119\"/>\n      </g>\n     </g>\n    </g>\n    <g id=\"xtick_168\">\n     <g id=\"line2d_168\">\n      <path clip-path=\"url(#p6456fcfb4f)\" d=\"M 330.236424 224.64 \nL 330.236424 7.2 \n\" style=\"fill:none;stroke:#cccccc;stroke-linecap:round;\"/>\n     </g>\n     <g id=\"text_168\">\n      <!-- cyclone -->\n      <g style=\"fill:#262626;\" transform=\"translate(333.271736 276.273437)rotate(-90)scale(0.11 -0.11)\">\n       <use xlink:href=\"#DejaVuSans-99\"/>\n       <use x=\"54.980469\" xlink:href=\"#DejaVuSans-121\"/>\n       <use x=\"114.160156\" xlink:href=\"#DejaVuSans-99\"/>\n       <use x=\"169.140625\" xlink:href=\"#DejaVuSans-108\"/>\n       <use x=\"196.923828\" xlink:href=\"#DejaVuSans-111\"/>\n       <use x=\"258.105469\" xlink:href=\"#DejaVuSans-110\"/>\n       <use x=\"321.484375\" xlink:href=\"#DejaVuSans-101\"/>\n      </g>\n     </g>\n    </g>\n    <g id=\"xtick_169\">\n     <g id=\"line2d_169\">\n      <path clip-path=\"url(#p6456fcfb4f)\" d=\"M 332.003845 224.64 \nL 332.003845 7.2 \n\" style=\"fill:none;stroke:#cccccc;stroke-linecap:round;\"/>\n     </g>\n     <g id=\"text_169\">\n      <!-- evacuated -->\n      <g style=\"fill:#262626;\" transform=\"translate(335.039157 291.984531)rotate(-90)scale(0.11 -0.11)\">\n       <use xlink:href=\"#DejaVuSans-101\"/>\n       <use x=\"61.523438\" xlink:href=\"#DejaVuSans-118\"/>\n       <use x=\"120.703125\" xlink:href=\"#DejaVuSans-97\"/>\n       <use x=\"181.982422\" xlink:href=\"#DejaVuSans-99\"/>\n       <use x=\"236.962891\" xlink:href=\"#DejaVuSans-117\"/>\n       <use x=\"300.341797\" xlink:href=\"#DejaVuSans-97\"/>\n       <use x=\"361.621094\" xlink:href=\"#DejaVuSans-116\"/>\n       <use x=\"400.830078\" xlink:href=\"#DejaVuSans-101\"/>\n       <use x=\"462.353516\" xlink:href=\"#DejaVuSans-100\"/>\n      </g>\n     </g>\n    </g>\n    <g id=\"xtick_170\">\n     <g id=\"line2d_170\">\n      <path clip-path=\"url(#p6456fcfb4f)\" d=\"M 333.771266 224.64 \nL 333.771266 7.2 \n\" style=\"fill:none;stroke:#cccccc;stroke-linecap:round;\"/>\n     </g>\n     <g id=\"text_170\">\n      <!-- drowning -->\n      <g style=\"fill:#262626;\" transform=\"translate(336.806578 285.106094)rotate(-90)scale(0.11 -0.11)\">\n       <use xlink:href=\"#DejaVuSans-100\"/>\n       <use x=\"63.476562\" xlink:href=\"#DejaVuSans-114\"/>\n       <use x=\"102.339844\" xlink:href=\"#DejaVuSans-111\"/>\n       <use x=\"163.521484\" xlink:href=\"#DejaVuSans-119\"/>\n       <use x=\"245.308594\" xlink:href=\"#DejaVuSans-110\"/>\n       <use x=\"308.6875\" xlink:href=\"#DejaVuSans-105\"/>\n       <use x=\"336.470703\" xlink:href=\"#DejaVuSans-110\"/>\n       <use x=\"399.849609\" xlink:href=\"#DejaVuSans-103\"/>\n      </g>\n     </g>\n    </g>\n    <g id=\"xtick_171\">\n     <g id=\"line2d_171\">\n      <path clip-path=\"url(#p6456fcfb4f)\" d=\"M 335.538686 224.64 \nL 335.538686 7.2 \n\" style=\"fill:none;stroke:#cccccc;stroke-linecap:round;\"/>\n     </g>\n     <g id=\"text_171\">\n      <!-- dust%20storm -->\n      <g style=\"fill:#262626;\" transform=\"translate(338.573999 314.403906)rotate(-90)scale(0.11 -0.11)\">\n       <use xlink:href=\"#DejaVuSans-100\"/>\n       <use x=\"63.476562\" xlink:href=\"#DejaVuSans-117\"/>\n       <use x=\"126.855469\" xlink:href=\"#DejaVuSans-115\"/>\n       <use x=\"178.955078\" xlink:href=\"#DejaVuSans-116\"/>\n       <use x=\"218.164062\" xlink:href=\"#DejaVuSans-37\"/>\n       <use x=\"313.183594\" xlink:href=\"#DejaVuSans-50\"/>\n       <use x=\"376.806641\" xlink:href=\"#DejaVuSans-48\"/>\n       <use x=\"440.429688\" xlink:href=\"#DejaVuSans-115\"/>\n       <use x=\"492.529297\" xlink:href=\"#DejaVuSans-116\"/>\n       <use x=\"531.738281\" xlink:href=\"#DejaVuSans-111\"/>\n       <use x=\"592.919922\" xlink:href=\"#DejaVuSans-114\"/>\n       <use x=\"632.283203\" xlink:href=\"#DejaVuSans-109\"/>\n      </g>\n     </g>\n    </g>\n    <g id=\"xtick_172\">\n     <g id=\"line2d_172\">\n      <path clip-path=\"url(#p6456fcfb4f)\" d=\"M 337.306107 224.64 \nL 337.306107 7.2 \n\" style=\"fill:none;stroke:#cccccc;stroke-linecap:round;\"/>\n     </g>\n     <g id=\"text_172\">\n      <!-- earthquake -->\n      <g style=\"fill:#262626;\" transform=\"translate(340.34142 296.889844)rotate(-90)scale(0.11 -0.11)\">\n       <use xlink:href=\"#DejaVuSans-101\"/>\n       <use x=\"61.523438\" xlink:href=\"#DejaVuSans-97\"/>\n       <use x=\"122.802734\" xlink:href=\"#DejaVuSans-114\"/>\n       <use x=\"163.916016\" xlink:href=\"#DejaVuSans-116\"/>\n       <use x=\"203.125\" xlink:href=\"#DejaVuSans-104\"/>\n       <use x=\"266.503906\" xlink:href=\"#DejaVuSans-113\"/>\n       <use x=\"329.980469\" xlink:href=\"#DejaVuSans-117\"/>\n       <use x=\"393.359375\" xlink:href=\"#DejaVuSans-97\"/>\n       <use x=\"454.638672\" xlink:href=\"#DejaVuSans-107\"/>\n       <use x=\"508.923828\" xlink:href=\"#DejaVuSans-101\"/>\n      </g>\n     </g>\n    </g>\n    <g id=\"xtick_173\">\n     <g id=\"line2d_173\">\n      <path clip-path=\"url(#p6456fcfb4f)\" d=\"M 339.073528 224.64 \nL 339.073528 7.2 \n\" style=\"fill:none;stroke:#cccccc;stroke-linecap:round;\"/>\n     </g>\n     <g id=\"text_173\">\n      <!-- electrocute -->\n      <g style=\"fill:#262626;\" transform=\"translate(342.10884 296.198906)rotate(-90)scale(0.11 -0.11)\">\n       <use xlink:href=\"#DejaVuSans-101\"/>\n       <use x=\"61.523438\" xlink:href=\"#DejaVuSans-108\"/>\n       <use x=\"89.306641\" xlink:href=\"#DejaVuSans-101\"/>\n       <use x=\"150.830078\" xlink:href=\"#DejaVuSans-99\"/>\n       <use x=\"205.810547\" xlink:href=\"#DejaVuSans-116\"/>\n       <use x=\"245.019531\" xlink:href=\"#DejaVuSans-114\"/>\n       <use x=\"283.882812\" xlink:href=\"#DejaVuSans-111\"/>\n       <use x=\"345.064453\" xlink:href=\"#DejaVuSans-99\"/>\n       <use x=\"400.044922\" xlink:href=\"#DejaVuSans-117\"/>\n       <use x=\"463.423828\" xlink:href=\"#DejaVuSans-116\"/>\n       <use x=\"502.632812\" xlink:href=\"#DejaVuSans-101\"/>\n      </g>\n     </g>\n    </g>\n    <g id=\"xtick_174\">\n     <g id=\"line2d_174\">\n      <path clip-path=\"url(#p6456fcfb4f)\" d=\"M 340.840949 224.64 \nL 340.840949 7.2 \n\" style=\"fill:none;stroke:#cccccc;stroke-linecap:round;\"/>\n     </g>\n     <g id=\"text_174\">\n      <!-- electrocuted -->\n      <g style=\"fill:#262626;\" transform=\"translate(343.876261 303.182187)rotate(-90)scale(0.11 -0.11)\">\n       <use xlink:href=\"#DejaVuSans-101\"/>\n       <use x=\"61.523438\" xlink:href=\"#DejaVuSans-108\"/>\n       <use x=\"89.306641\" xlink:href=\"#DejaVuSans-101\"/>\n       <use x=\"150.830078\" xlink:href=\"#DejaVuSans-99\"/>\n       <use x=\"205.810547\" xlink:href=\"#DejaVuSans-116\"/>\n       <use x=\"245.019531\" xlink:href=\"#DejaVuSans-114\"/>\n       <use x=\"283.882812\" xlink:href=\"#DejaVuSans-111\"/>\n       <use x=\"345.064453\" xlink:href=\"#DejaVuSans-99\"/>\n       <use x=\"400.044922\" xlink:href=\"#DejaVuSans-117\"/>\n       <use x=\"463.423828\" xlink:href=\"#DejaVuSans-116\"/>\n       <use x=\"502.632812\" xlink:href=\"#DejaVuSans-101\"/>\n       <use x=\"564.15625\" xlink:href=\"#DejaVuSans-100\"/>\n      </g>\n     </g>\n    </g>\n    <g id=\"xtick_175\">\n     <g id=\"line2d_175\">\n      <path clip-path=\"url(#p6456fcfb4f)\" d=\"M 342.60837 224.64 \nL 342.60837 7.2 \n\" style=\"fill:none;stroke:#cccccc;stroke-linecap:round;\"/>\n     </g>\n     <g id=\"text_175\">\n      <!-- emergency -->\n      <g style=\"fill:#262626;\" transform=\"translate(345.643682 296.002969)rotate(-90)scale(0.11 -0.11)\">\n       <use xlink:href=\"#DejaVuSans-101\"/>\n       <use x=\"61.523438\" xlink:href=\"#DejaVuSans-109\"/>\n       <use x=\"158.935547\" xlink:href=\"#DejaVuSans-101\"/>\n       <use x=\"220.458984\" xlink:href=\"#DejaVuSans-114\"/>\n       <use x=\"259.822266\" xlink:href=\"#DejaVuSans-103\"/>\n       <use x=\"323.298828\" xlink:href=\"#DejaVuSans-101\"/>\n       <use x=\"384.822266\" xlink:href=\"#DejaVuSans-110\"/>\n       <use x=\"448.201172\" xlink:href=\"#DejaVuSans-99\"/>\n       <use x=\"503.181641\" xlink:href=\"#DejaVuSans-121\"/>\n      </g>\n     </g>\n    </g>\n    <g id=\"xtick_176\">\n     <g id=\"line2d_176\">\n      <path clip-path=\"url(#p6456fcfb4f)\" d=\"M 344.37579 224.64 \nL 344.37579 7.2 \n\" style=\"fill:none;stroke:#cccccc;stroke-linecap:round;\"/>\n     </g>\n     <g id=\"text_176\">\n      <!-- emergency%20plan -->\n      <g style=\"fill:#262626;\" transform=\"translate(347.411103 344.203594)rotate(-90)scale(0.11 -0.11)\">\n       <use xlink:href=\"#DejaVuSans-101\"/>\n       <use x=\"61.523438\" xlink:href=\"#DejaVuSans-109\"/>\n       <use x=\"158.935547\" xlink:href=\"#DejaVuSans-101\"/>\n       <use x=\"220.458984\" xlink:href=\"#DejaVuSans-114\"/>\n       <use x=\"259.822266\" xlink:href=\"#DejaVuSans-103\"/>\n       <use x=\"323.298828\" xlink:href=\"#DejaVuSans-101\"/>\n       <use x=\"384.822266\" xlink:href=\"#DejaVuSans-110\"/>\n       <use x=\"448.201172\" xlink:href=\"#DejaVuSans-99\"/>\n       <use x=\"503.181641\" xlink:href=\"#DejaVuSans-121\"/>\n       <use x=\"562.361328\" xlink:href=\"#DejaVuSans-37\"/>\n       <use x=\"657.380859\" xlink:href=\"#DejaVuSans-50\"/>\n       <use x=\"721.003906\" xlink:href=\"#DejaVuSans-48\"/>\n       <use x=\"784.626953\" xlink:href=\"#DejaVuSans-112\"/>\n       <use x=\"848.103516\" xlink:href=\"#DejaVuSans-108\"/>\n       <use x=\"875.886719\" xlink:href=\"#DejaVuSans-97\"/>\n       <use x=\"937.166016\" xlink:href=\"#DejaVuSans-110\"/>\n      </g>\n     </g>\n    </g>\n    <g id=\"xtick_177\">\n     <g id=\"line2d_177\">\n      <path clip-path=\"url(#p6456fcfb4f)\" d=\"M 346.143211 224.64 \nL 346.143211 7.2 \n\" style=\"fill:none;stroke:#cccccc;stroke-linecap:round;\"/>\n     </g>\n     <g id=\"text_177\">\n      <!-- emergency%20services -->\n      <g style=\"fill:#262626;\" transform=\"translate(349.178524 365.586562)rotate(-90)scale(0.11 -0.11)\">\n       <use xlink:href=\"#DejaVuSans-101\"/>\n       <use x=\"61.523438\" xlink:href=\"#DejaVuSans-109\"/>\n       <use x=\"158.935547\" xlink:href=\"#DejaVuSans-101\"/>\n       <use x=\"220.458984\" xlink:href=\"#DejaVuSans-114\"/>\n       <use x=\"259.822266\" xlink:href=\"#DejaVuSans-103\"/>\n       <use x=\"323.298828\" xlink:href=\"#DejaVuSans-101\"/>\n       <use x=\"384.822266\" xlink:href=\"#DejaVuSans-110\"/>\n       <use x=\"448.201172\" xlink:href=\"#DejaVuSans-99\"/>\n       <use x=\"503.181641\" xlink:href=\"#DejaVuSans-121\"/>\n       <use x=\"562.361328\" xlink:href=\"#DejaVuSans-37\"/>\n       <use x=\"657.380859\" xlink:href=\"#DejaVuSans-50\"/>\n       <use x=\"721.003906\" xlink:href=\"#DejaVuSans-48\"/>\n       <use x=\"784.626953\" xlink:href=\"#DejaVuSans-115\"/>\n       <use x=\"836.726562\" xlink:href=\"#DejaVuSans-101\"/>\n       <use x=\"898.25\" xlink:href=\"#DejaVuSans-114\"/>\n       <use x=\"939.363281\" xlink:href=\"#DejaVuSans-118\"/>\n       <use x=\"998.542969\" xlink:href=\"#DejaVuSans-105\"/>\n       <use x=\"1026.326172\" xlink:href=\"#DejaVuSans-99\"/>\n       <use x=\"1081.306641\" xlink:href=\"#DejaVuSans-101\"/>\n       <use x=\"1142.830078\" xlink:href=\"#DejaVuSans-115\"/>\n      </g>\n     </g>\n    </g>\n    <g id=\"xtick_178\">\n     <g id=\"line2d_178\">\n      <path clip-path=\"url(#p6456fcfb4f)\" d=\"M 347.910632 224.64 \nL 347.910632 7.2 \n\" style=\"fill:none;stroke:#cccccc;stroke-linecap:round;\"/>\n     </g>\n     <g id=\"text_178\">\n      <!-- engulfed -->\n      <g style=\"fill:#262626;\" transform=\"translate(350.945945 282.514219)rotate(-90)scale(0.11 -0.11)\">\n       <use xlink:href=\"#DejaVuSans-101\"/>\n       <use x=\"61.523438\" xlink:href=\"#DejaVuSans-110\"/>\n       <use x=\"124.902344\" xlink:href=\"#DejaVuSans-103\"/>\n       <use x=\"188.378906\" xlink:href=\"#DejaVuSans-117\"/>\n       <use x=\"251.757812\" xlink:href=\"#DejaVuSans-108\"/>\n       <use x=\"279.541016\" xlink:href=\"#DejaVuSans-102\"/>\n       <use x=\"314.746094\" xlink:href=\"#DejaVuSans-101\"/>\n       <use x=\"376.269531\" xlink:href=\"#DejaVuSans-100\"/>\n      </g>\n     </g>\n    </g>\n    <g id=\"xtick_179\">\n     <g id=\"line2d_179\">\n      <path clip-path=\"url(#p6456fcfb4f)\" d=\"M 349.678053 224.64 \nL 349.678053 7.2 \n\" style=\"fill:none;stroke:#cccccc;stroke-linecap:round;\"/>\n     </g>\n     <g id=\"text_179\">\n      <!-- epicentre -->\n      <g style=\"fill:#262626;\" transform=\"translate(352.713365 286.090937)rotate(-90)scale(0.11 -0.11)\">\n       <use xlink:href=\"#DejaVuSans-101\"/>\n       <use x=\"61.523438\" xlink:href=\"#DejaVuSans-112\"/>\n       <use x=\"125\" xlink:href=\"#DejaVuSans-105\"/>\n       <use x=\"152.783203\" xlink:href=\"#DejaVuSans-99\"/>\n       <use x=\"207.763672\" xlink:href=\"#DejaVuSans-101\"/>\n       <use x=\"269.287109\" xlink:href=\"#DejaVuSans-110\"/>\n       <use x=\"332.666016\" xlink:href=\"#DejaVuSans-116\"/>\n       <use x=\"371.875\" xlink:href=\"#DejaVuSans-114\"/>\n       <use x=\"410.738281\" xlink:href=\"#DejaVuSans-101\"/>\n      </g>\n     </g>\n    </g>\n    <g id=\"xtick_180\">\n     <g id=\"line2d_180\">\n      <path clip-path=\"url(#p6456fcfb4f)\" d=\"M 351.445474 224.64 \nL 351.445474 7.2 \n\" style=\"fill:none;stroke:#cccccc;stroke-linecap:round;\"/>\n     </g>\n     <g id=\"text_180\">\n      <!-- evacuate -->\n      <g style=\"fill:#262626;\" transform=\"translate(354.480786 285.00125)rotate(-90)scale(0.11 -0.11)\">\n       <use xlink:href=\"#DejaVuSans-101\"/>\n       <use x=\"61.523438\" xlink:href=\"#DejaVuSans-118\"/>\n       <use x=\"120.703125\" xlink:href=\"#DejaVuSans-97\"/>\n       <use x=\"181.982422\" xlink:href=\"#DejaVuSans-99\"/>\n       <use x=\"236.962891\" xlink:href=\"#DejaVuSans-117\"/>\n       <use x=\"300.341797\" xlink:href=\"#DejaVuSans-97\"/>\n       <use x=\"361.621094\" xlink:href=\"#DejaVuSans-116\"/>\n       <use x=\"400.830078\" xlink:href=\"#DejaVuSans-101\"/>\n      </g>\n     </g>\n    </g>\n    <g id=\"xtick_181\">\n     <g id=\"line2d_181\">\n      <path clip-path=\"url(#p6456fcfb4f)\" d=\"M 353.212895 224.64 \nL 353.212895 7.2 \n\" style=\"fill:none;stroke:#cccccc;stroke-linecap:round;\"/>\n     </g>\n     <g id=\"text_181\">\n      <!-- evacuation -->\n      <g style=\"fill:#262626;\" transform=\"translate(356.248207 294.990625)rotate(-90)scale(0.11 -0.11)\">\n       <use xlink:href=\"#DejaVuSans-101\"/>\n       <use x=\"61.523438\" xlink:href=\"#DejaVuSans-118\"/>\n       <use x=\"120.703125\" xlink:href=\"#DejaVuSans-97\"/>\n       <use x=\"181.982422\" xlink:href=\"#DejaVuSans-99\"/>\n       <use x=\"236.962891\" xlink:href=\"#DejaVuSans-117\"/>\n       <use x=\"300.341797\" xlink:href=\"#DejaVuSans-97\"/>\n       <use x=\"361.621094\" xlink:href=\"#DejaVuSans-116\"/>\n       <use x=\"400.830078\" xlink:href=\"#DejaVuSans-105\"/>\n       <use x=\"428.613281\" xlink:href=\"#DejaVuSans-111\"/>\n       <use x=\"489.794922\" xlink:href=\"#DejaVuSans-110\"/>\n      </g>\n     </g>\n    </g>\n    <g id=\"xtick_182\">\n     <g id=\"line2d_182\">\n      <path clip-path=\"url(#p6456fcfb4f)\" d=\"M 354.980315 224.64 \nL 354.980315 7.2 \n\" style=\"fill:none;stroke:#cccccc;stroke-linecap:round;\"/>\n     </g>\n     <g id=\"text_182\">\n      <!-- damage -->\n      <g style=\"fill:#262626;\" transform=\"translate(358.015628 279.071562)rotate(-90)scale(0.11 -0.11)\">\n       <use xlink:href=\"#DejaVuSans-100\"/>\n       <use x=\"63.476562\" xlink:href=\"#DejaVuSans-97\"/>\n       <use x=\"124.755859\" xlink:href=\"#DejaVuSans-109\"/>\n       <use x=\"222.167969\" xlink:href=\"#DejaVuSans-97\"/>\n       <use x=\"283.447266\" xlink:href=\"#DejaVuSans-103\"/>\n       <use x=\"346.923828\" xlink:href=\"#DejaVuSans-101\"/>\n      </g>\n     </g>\n    </g>\n    <g id=\"xtick_183\">\n     <g id=\"line2d_183\">\n      <path clip-path=\"url(#p6456fcfb4f)\" d=\"M 356.747736 224.64 \nL 356.747736 7.2 \n\" style=\"fill:none;stroke:#cccccc;stroke-linecap:round;\"/>\n     </g>\n     <g id=\"text_183\">\n      <!-- explode -->\n      <defs>\n       <path d=\"M 54.890625 54.6875 \nL 35.109375 28.078125 \nL 55.90625 0 \nL 45.3125 0 \nL 29.390625 21.484375 \nL 13.484375 0 \nL 2.875 0 \nL 24.125 28.609375 \nL 4.6875 54.6875 \nL 15.28125 54.6875 \nL 29.78125 35.203125 \nL 44.28125 54.6875 \nz\n\" id=\"DejaVuSans-120\"/>\n      </defs>\n      <g style=\"fill:#262626;\" transform=\"translate(359.783049 277.748125)rotate(-90)scale(0.11 -0.11)\">\n       <use xlink:href=\"#DejaVuSans-101\"/>\n       <use x=\"59.773438\" xlink:href=\"#DejaVuSans-120\"/>\n       <use x=\"118.953125\" xlink:href=\"#DejaVuSans-112\"/>\n       <use x=\"182.429688\" xlink:href=\"#DejaVuSans-108\"/>\n       <use x=\"210.212891\" xlink:href=\"#DejaVuSans-111\"/>\n       <use x=\"271.394531\" xlink:href=\"#DejaVuSans-100\"/>\n       <use x=\"334.871094\" xlink:href=\"#DejaVuSans-101\"/>\n      </g>\n     </g>\n    </g>\n    <g id=\"xtick_184\">\n     <g id=\"line2d_184\">\n      <path clip-path=\"url(#p6456fcfb4f)\" d=\"M 358.515157 224.64 \nL 358.515157 7.2 \n\" style=\"fill:none;stroke:#cccccc;stroke-linecap:round;\"/>\n     </g>\n     <g id=\"text_184\">\n      <!-- exploded -->\n      <g style=\"fill:#262626;\" transform=\"translate(361.550469 284.731406)rotate(-90)scale(0.11 -0.11)\">\n       <use xlink:href=\"#DejaVuSans-101\"/>\n       <use x=\"59.773438\" xlink:href=\"#DejaVuSans-120\"/>\n       <use x=\"118.953125\" xlink:href=\"#DejaVuSans-112\"/>\n       <use x=\"182.429688\" xlink:href=\"#DejaVuSans-108\"/>\n       <use x=\"210.212891\" xlink:href=\"#DejaVuSans-111\"/>\n       <use x=\"271.394531\" xlink:href=\"#DejaVuSans-100\"/>\n       <use x=\"334.871094\" xlink:href=\"#DejaVuSans-101\"/>\n       <use x=\"396.394531\" xlink:href=\"#DejaVuSans-100\"/>\n      </g>\n     </g>\n    </g>\n    <g id=\"xtick_185\">\n     <g id=\"line2d_185\">\n      <path clip-path=\"url(#p6456fcfb4f)\" d=\"M 360.282578 224.64 \nL 360.282578 7.2 \n\" style=\"fill:none;stroke:#cccccc;stroke-linecap:round;\"/>\n     </g>\n     <g id=\"text_185\">\n      <!-- explosion -->\n      <g style=\"fill:#262626;\" transform=\"translate(363.31789 286.484531)rotate(-90)scale(0.11 -0.11)\">\n       <use xlink:href=\"#DejaVuSans-101\"/>\n       <use x=\"59.773438\" xlink:href=\"#DejaVuSans-120\"/>\n       <use x=\"118.953125\" xlink:href=\"#DejaVuSans-112\"/>\n       <use x=\"182.429688\" xlink:href=\"#DejaVuSans-108\"/>\n       <use x=\"210.212891\" xlink:href=\"#DejaVuSans-111\"/>\n       <use x=\"271.394531\" xlink:href=\"#DejaVuSans-115\"/>\n       <use x=\"323.494141\" xlink:href=\"#DejaVuSans-105\"/>\n       <use x=\"351.277344\" xlink:href=\"#DejaVuSans-111\"/>\n       <use x=\"412.458984\" xlink:href=\"#DejaVuSans-110\"/>\n      </g>\n     </g>\n    </g>\n    <g id=\"xtick_186\">\n     <g id=\"line2d_186\">\n      <path clip-path=\"url(#p6456fcfb4f)\" d=\"M 362.049999 224.64 \nL 362.049999 7.2 \n\" style=\"fill:none;stroke:#cccccc;stroke-linecap:round;\"/>\n     </g>\n     <g id=\"text_186\">\n      <!-- eyewitness -->\n      <g style=\"fill:#262626;\" transform=\"translate(365.085311 295.752031)rotate(-90)scale(0.11 -0.11)\">\n       <use xlink:href=\"#DejaVuSans-101\"/>\n       <use x=\"61.523438\" xlink:href=\"#DejaVuSans-121\"/>\n       <use x=\"120.703125\" xlink:href=\"#DejaVuSans-101\"/>\n       <use x=\"182.226562\" xlink:href=\"#DejaVuSans-119\"/>\n       <use x=\"264.013672\" xlink:href=\"#DejaVuSans-105\"/>\n       <use x=\"291.796875\" xlink:href=\"#DejaVuSans-116\"/>\n       <use x=\"331.005859\" xlink:href=\"#DejaVuSans-110\"/>\n       <use x=\"394.384766\" xlink:href=\"#DejaVuSans-101\"/>\n       <use x=\"455.908203\" xlink:href=\"#DejaVuSans-115\"/>\n       <use x=\"508.007812\" xlink:href=\"#DejaVuSans-115\"/>\n      </g>\n     </g>\n    </g>\n    <g id=\"xtick_187\">\n     <g id=\"line2d_187\">\n      <path clip-path=\"url(#p6456fcfb4f)\" d=\"M 363.817419 224.64 \nL 363.817419 7.2 \n\" style=\"fill:none;stroke:#cccccc;stroke-linecap:round;\"/>\n     </g>\n     <g id=\"text_187\">\n      <!-- famine -->\n      <g style=\"fill:#262626;\" transform=\"translate(366.852732 272.263594)rotate(-90)scale(0.11 -0.11)\">\n       <use xlink:href=\"#DejaVuSans-102\"/>\n       <use x=\"35.205078\" xlink:href=\"#DejaVuSans-97\"/>\n       <use x=\"96.484375\" xlink:href=\"#DejaVuSans-109\"/>\n       <use x=\"193.896484\" xlink:href=\"#DejaVuSans-105\"/>\n       <use x=\"221.679688\" xlink:href=\"#DejaVuSans-110\"/>\n       <use x=\"285.058594\" xlink:href=\"#DejaVuSans-101\"/>\n      </g>\n     </g>\n    </g>\n    <g id=\"xtick_188\">\n     <g id=\"line2d_188\">\n      <path clip-path=\"url(#p6456fcfb4f)\" d=\"M 365.58484 224.64 \nL 365.58484 7.2 \n\" style=\"fill:none;stroke:#cccccc;stroke-linecap:round;\"/>\n     </g>\n     <g id=\"text_188\">\n      <!-- fatal -->\n      <g style=\"fill:#262626;\" transform=\"translate(368.620153 258.8625)rotate(-90)scale(0.11 -0.11)\">\n       <use xlink:href=\"#DejaVuSans-102\"/>\n       <use x=\"35.205078\" xlink:href=\"#DejaVuSans-97\"/>\n       <use x=\"96.484375\" xlink:href=\"#DejaVuSans-116\"/>\n       <use x=\"135.693359\" xlink:href=\"#DejaVuSans-97\"/>\n       <use x=\"196.972656\" xlink:href=\"#DejaVuSans-108\"/>\n      </g>\n     </g>\n    </g>\n    <g id=\"xtick_189\">\n     <g id=\"line2d_189\">\n      <path clip-path=\"url(#p6456fcfb4f)\" d=\"M 367.352261 224.64 \nL 367.352261 7.2 \n\" style=\"fill:none;stroke:#cccccc;stroke-linecap:round;\"/>\n     </g>\n     <g id=\"text_189\">\n      <!-- fatalities -->\n      <g style=\"fill:#262626;\" transform=\"translate(370.387574 281.785469)rotate(-90)scale(0.11 -0.11)\">\n       <use xlink:href=\"#DejaVuSans-102\"/>\n       <use x=\"35.205078\" xlink:href=\"#DejaVuSans-97\"/>\n       <use x=\"96.484375\" xlink:href=\"#DejaVuSans-116\"/>\n       <use x=\"135.693359\" xlink:href=\"#DejaVuSans-97\"/>\n       <use x=\"196.972656\" xlink:href=\"#DejaVuSans-108\"/>\n       <use x=\"224.755859\" xlink:href=\"#DejaVuSans-105\"/>\n       <use x=\"252.539062\" xlink:href=\"#DejaVuSans-116\"/>\n       <use x=\"291.748047\" xlink:href=\"#DejaVuSans-105\"/>\n       <use x=\"319.53125\" xlink:href=\"#DejaVuSans-101\"/>\n       <use x=\"381.054688\" xlink:href=\"#DejaVuSans-115\"/>\n      </g>\n     </g>\n    </g>\n    <g id=\"xtick_190\">\n     <g id=\"line2d_190\">\n      <path clip-path=\"url(#p6456fcfb4f)\" d=\"M 369.119682 224.64 \nL 369.119682 7.2 \n\" style=\"fill:none;stroke:#cccccc;stroke-linecap:round;\"/>\n     </g>\n     <g id=\"text_190\">\n      <!-- fatality -->\n      <g style=\"fill:#262626;\" transform=\"translate(372.154994 272.741406)rotate(-90)scale(0.11 -0.11)\">\n       <use xlink:href=\"#DejaVuSans-102\"/>\n       <use x=\"35.205078\" xlink:href=\"#DejaVuSans-97\"/>\n       <use x=\"96.484375\" xlink:href=\"#DejaVuSans-116\"/>\n       <use x=\"135.693359\" xlink:href=\"#DejaVuSans-97\"/>\n       <use x=\"196.972656\" xlink:href=\"#DejaVuSans-108\"/>\n       <use x=\"224.755859\" xlink:href=\"#DejaVuSans-105\"/>\n       <use x=\"252.539062\" xlink:href=\"#DejaVuSans-116\"/>\n       <use x=\"291.748047\" xlink:href=\"#DejaVuSans-121\"/>\n      </g>\n     </g>\n    </g>\n    <g id=\"xtick_191\">\n     <g id=\"line2d_191\">\n      <path clip-path=\"url(#p6456fcfb4f)\" d=\"M 370.887103 224.64 \nL 370.887103 7.2 \n\" style=\"fill:none;stroke:#cccccc;stroke-linecap:round;\"/>\n     </g>\n     <g id=\"text_191\">\n      <!-- fear -->\n      <g style=\"fill:#262626;\" transform=\"translate(373.922415 256.04375)rotate(-90)scale(0.11 -0.11)\">\n       <use xlink:href=\"#DejaVuSans-102\"/>\n       <use x=\"35.205078\" xlink:href=\"#DejaVuSans-101\"/>\n       <use x=\"96.728516\" xlink:href=\"#DejaVuSans-97\"/>\n       <use x=\"158.007812\" xlink:href=\"#DejaVuSans-114\"/>\n      </g>\n     </g>\n    </g>\n    <g id=\"xtick_192\">\n     <g id=\"line2d_192\">\n      <path clip-path=\"url(#p6456fcfb4f)\" d=\"M 372.654523 224.64 \nL 372.654523 7.2 \n\" style=\"fill:none;stroke:#cccccc;stroke-linecap:round;\"/>\n     </g>\n     <g id=\"text_192\">\n      <!-- fire -->\n      <g style=\"fill:#262626;\" transform=\"translate(375.689836 252.11125)rotate(-90)scale(0.11 -0.11)\">\n       <use xlink:href=\"#DejaVuSans-102\"/>\n       <use x=\"35.205078\" xlink:href=\"#DejaVuSans-105\"/>\n       <use x=\"62.988281\" xlink:href=\"#DejaVuSans-114\"/>\n       <use x=\"101.851562\" xlink:href=\"#DejaVuSans-101\"/>\n      </g>\n     </g>\n    </g>\n    <g id=\"xtick_193\">\n     <g id=\"line2d_193\">\n      <path clip-path=\"url(#p6456fcfb4f)\" d=\"M 374.421944 224.64 \nL 374.421944 7.2 \n\" style=\"fill:none;stroke:#cccccc;stroke-linecap:round;\"/>\n     </g>\n     <g id=\"text_193\">\n      <!-- fire%20truck -->\n      <g style=\"fill:#262626;\" transform=\"translate(377.457257 304.784062)rotate(-90)scale(0.11 -0.11)\">\n       <use xlink:href=\"#DejaVuSans-102\"/>\n       <use x=\"35.205078\" xlink:href=\"#DejaVuSans-105\"/>\n       <use x=\"62.988281\" xlink:href=\"#DejaVuSans-114\"/>\n       <use x=\"101.851562\" xlink:href=\"#DejaVuSans-101\"/>\n       <use x=\"163.375\" xlink:href=\"#DejaVuSans-37\"/>\n       <use x=\"258.394531\" xlink:href=\"#DejaVuSans-50\"/>\n       <use x=\"322.017578\" xlink:href=\"#DejaVuSans-48\"/>\n       <use x=\"385.640625\" xlink:href=\"#DejaVuSans-116\"/>\n       <use x=\"424.849609\" xlink:href=\"#DejaVuSans-114\"/>\n       <use x=\"465.962891\" xlink:href=\"#DejaVuSans-117\"/>\n       <use x=\"529.341797\" xlink:href=\"#DejaVuSans-99\"/>\n       <use x=\"584.322266\" xlink:href=\"#DejaVuSans-107\"/>\n      </g>\n     </g>\n    </g>\n    <g id=\"xtick_194\">\n     <g id=\"line2d_194\">\n      <path clip-path=\"url(#p6456fcfb4f)\" d=\"M 376.189365 224.64 \nL 376.189365 7.2 \n\" style=\"fill:none;stroke:#cccccc;stroke-linecap:round;\"/>\n     </g>\n     <g id=\"text_194\">\n      <!-- drowned -->\n      <g style=\"fill:#262626;\" transform=\"translate(379.224678 281.847344)rotate(-90)scale(0.11 -0.11)\">\n       <use xlink:href=\"#DejaVuSans-100\"/>\n       <use x=\"63.476562\" xlink:href=\"#DejaVuSans-114\"/>\n       <use x=\"102.339844\" xlink:href=\"#DejaVuSans-111\"/>\n       <use x=\"163.521484\" xlink:href=\"#DejaVuSans-119\"/>\n       <use x=\"245.308594\" xlink:href=\"#DejaVuSans-110\"/>\n       <use x=\"308.6875\" xlink:href=\"#DejaVuSans-101\"/>\n       <use x=\"370.210938\" xlink:href=\"#DejaVuSans-100\"/>\n      </g>\n     </g>\n    </g>\n    <g id=\"xtick_195\">\n     <g id=\"line2d_195\">\n      <path clip-path=\"url(#p6456fcfb4f)\" d=\"M 377.956786 224.64 \nL 377.956786 7.2 \n\" style=\"fill:none;stroke:#cccccc;stroke-linecap:round;\"/>\n     </g>\n     <g id=\"text_195\">\n      <!-- drown -->\n      <g style=\"fill:#262626;\" transform=\"translate(380.992098 268.095625)rotate(-90)scale(0.11 -0.11)\">\n       <use xlink:href=\"#DejaVuSans-100\"/>\n       <use x=\"63.476562\" xlink:href=\"#DejaVuSans-114\"/>\n       <use x=\"102.339844\" xlink:href=\"#DejaVuSans-111\"/>\n       <use x=\"163.521484\" xlink:href=\"#DejaVuSans-119\"/>\n       <use x=\"245.308594\" xlink:href=\"#DejaVuSans-110\"/>\n      </g>\n     </g>\n    </g>\n    <g id=\"xtick_196\">\n     <g id=\"line2d_196\">\n      <path clip-path=\"url(#p6456fcfb4f)\" d=\"M 379.724207 224.64 \nL 379.724207 7.2 \n\" style=\"fill:none;stroke:#cccccc;stroke-linecap:round;\"/>\n     </g>\n     <g id=\"text_196\">\n      <!-- drought -->\n      <g style=\"fill:#262626;\" transform=\"translate(382.759519 277.366562)rotate(-90)scale(0.11 -0.11)\">\n       <use xlink:href=\"#DejaVuSans-100\"/>\n       <use x=\"63.476562\" xlink:href=\"#DejaVuSans-114\"/>\n       <use x=\"102.339844\" xlink:href=\"#DejaVuSans-111\"/>\n       <use x=\"163.521484\" xlink:href=\"#DejaVuSans-117\"/>\n       <use x=\"226.900391\" xlink:href=\"#DejaVuSans-103\"/>\n       <use x=\"290.376953\" xlink:href=\"#DejaVuSans-104\"/>\n       <use x=\"353.755859\" xlink:href=\"#DejaVuSans-116\"/>\n      </g>\n     </g>\n    </g>\n    <g id=\"xtick_197\">\n     <g id=\"line2d_197\">\n      <path clip-path=\"url(#p6456fcfb4f)\" d=\"M 381.491628 224.64 \nL 381.491628 7.2 \n\" style=\"fill:none;stroke:#cccccc;stroke-linecap:round;\"/>\n     </g>\n     <g id=\"text_197\">\n      <!-- displaced -->\n      <g style=\"fill:#262626;\" transform=\"translate(384.52694 286.489687)rotate(-90)scale(0.11 -0.11)\">\n       <use xlink:href=\"#DejaVuSans-100\"/>\n       <use x=\"63.476562\" xlink:href=\"#DejaVuSans-105\"/>\n       <use x=\"91.259766\" xlink:href=\"#DejaVuSans-115\"/>\n       <use x=\"143.359375\" xlink:href=\"#DejaVuSans-112\"/>\n       <use x=\"206.835938\" xlink:href=\"#DejaVuSans-108\"/>\n       <use x=\"234.619141\" xlink:href=\"#DejaVuSans-97\"/>\n       <use x=\"295.898438\" xlink:href=\"#DejaVuSans-99\"/>\n       <use x=\"350.878906\" xlink:href=\"#DejaVuSans-101\"/>\n       <use x=\"412.402344\" xlink:href=\"#DejaVuSans-100\"/>\n      </g>\n     </g>\n    </g>\n    <g id=\"xtick_198\">\n     <g id=\"line2d_198\">\n      <path clip-path=\"url(#p6456fcfb4f)\" d=\"M 383.259048 224.64 \nL 383.259048 7.2 \n\" style=\"fill:none;stroke:#cccccc;stroke-linecap:round;\"/>\n     </g>\n     <g id=\"text_198\">\n      <!-- danger -->\n      <g style=\"fill:#262626;\" transform=\"translate(386.294361 273.109219)rotate(-90)scale(0.11 -0.11)\">\n       <use xlink:href=\"#DejaVuSans-100\"/>\n       <use x=\"63.476562\" xlink:href=\"#DejaVuSans-97\"/>\n       <use x=\"124.755859\" xlink:href=\"#DejaVuSans-110\"/>\n       <use x=\"188.134766\" xlink:href=\"#DejaVuSans-103\"/>\n       <use x=\"251.611328\" xlink:href=\"#DejaVuSans-101\"/>\n       <use x=\"313.134766\" xlink:href=\"#DejaVuSans-114\"/>\n      </g>\n     </g>\n    </g>\n    <g id=\"xtick_199\">\n     <g id=\"line2d_199\">\n      <path clip-path=\"url(#p6456fcfb4f)\" d=\"M 385.026469 224.64 \nL 385.026469 7.2 \n\" style=\"fill:none;stroke:#cccccc;stroke-linecap:round;\"/>\n     </g>\n     <g id=\"text_199\">\n      <!-- dead -->\n      <g style=\"fill:#262626;\" transform=\"translate(388.061782 261.615937)rotate(-90)scale(0.11 -0.11)\">\n       <use xlink:href=\"#DejaVuSans-100\"/>\n       <use x=\"63.476562\" xlink:href=\"#DejaVuSans-101\"/>\n       <use x=\"125\" xlink:href=\"#DejaVuSans-97\"/>\n       <use x=\"186.279297\" xlink:href=\"#DejaVuSans-100\"/>\n      </g>\n     </g>\n    </g>\n    <g id=\"xtick_200\">\n     <g id=\"line2d_200\">\n      <path clip-path=\"url(#p6456fcfb4f)\" d=\"M 386.79389 224.64 \nL 386.79389 7.2 \n\" style=\"fill:none;stroke:#cccccc;stroke-linecap:round;\"/>\n     </g>\n     <g id=\"text_200\">\n      <!-- death -->\n      <g style=\"fill:#262626;\" transform=\"translate(389.829202 265.91625)rotate(-90)scale(0.11 -0.11)\">\n       <use xlink:href=\"#DejaVuSans-100\"/>\n       <use x=\"63.476562\" xlink:href=\"#DejaVuSans-101\"/>\n       <use x=\"125\" xlink:href=\"#DejaVuSans-97\"/>\n       <use x=\"186.279297\" xlink:href=\"#DejaVuSans-116\"/>\n       <use x=\"225.488281\" xlink:href=\"#DejaVuSans-104\"/>\n      </g>\n     </g>\n    </g>\n    <g id=\"xtick_201\">\n     <g id=\"line2d_201\">\n      <path clip-path=\"url(#p6456fcfb4f)\" d=\"M 388.561311 224.64 \nL 388.561311 7.2 \n\" style=\"fill:none;stroke:#cccccc;stroke-linecap:round;\"/>\n     </g>\n     <g id=\"text_201\">\n      <!-- deaths -->\n      <g style=\"fill:#262626;\" transform=\"translate(391.596623 271.646562)rotate(-90)scale(0.11 -0.11)\">\n       <use xlink:href=\"#DejaVuSans-100\"/>\n       <use x=\"63.476562\" xlink:href=\"#DejaVuSans-101\"/>\n       <use x=\"125\" xlink:href=\"#DejaVuSans-97\"/>\n       <use x=\"186.279297\" xlink:href=\"#DejaVuSans-116\"/>\n       <use x=\"225.488281\" xlink:href=\"#DejaVuSans-104\"/>\n       <use x=\"288.867188\" xlink:href=\"#DejaVuSans-115\"/>\n      </g>\n     </g>\n    </g>\n    <g id=\"xtick_202\">\n     <g id=\"line2d_202\">\n      <path clip-path=\"url(#p6456fcfb4f)\" d=\"M 390.328732 224.64 \nL 390.328732 7.2 \n\" style=\"fill:none;stroke:#cccccc;stroke-linecap:round;\"/>\n     </g>\n     <g id=\"text_202\">\n      <!-- debris -->\n      <g style=\"fill:#262626;\" transform=\"translate(393.364044 268.183281)rotate(-90)scale(0.11 -0.11)\">\n       <use xlink:href=\"#DejaVuSans-100\"/>\n       <use x=\"63.476562\" xlink:href=\"#DejaVuSans-101\"/>\n       <use x=\"125\" xlink:href=\"#DejaVuSans-98\"/>\n       <use x=\"188.476562\" xlink:href=\"#DejaVuSans-114\"/>\n       <use x=\"229.589844\" xlink:href=\"#DejaVuSans-105\"/>\n       <use x=\"257.373047\" xlink:href=\"#DejaVuSans-115\"/>\n      </g>\n     </g>\n    </g>\n    <g id=\"xtick_203\">\n     <g id=\"line2d_203\">\n      <path clip-path=\"url(#p6456fcfb4f)\" d=\"M 392.096152 224.64 \nL 392.096152 7.2 \n\" style=\"fill:none;stroke:#cccccc;stroke-linecap:round;\"/>\n     </g>\n     <g id=\"text_203\">\n      <!-- deluge -->\n      <g style=\"fill:#262626;\" transform=\"translate(395.131465 271.670625)rotate(-90)scale(0.11 -0.11)\">\n       <use xlink:href=\"#DejaVuSans-100\"/>\n       <use x=\"63.476562\" xlink:href=\"#DejaVuSans-101\"/>\n       <use x=\"125\" xlink:href=\"#DejaVuSans-108\"/>\n       <use x=\"152.783203\" xlink:href=\"#DejaVuSans-117\"/>\n       <use x=\"216.162109\" xlink:href=\"#DejaVuSans-103\"/>\n       <use x=\"279.638672\" xlink:href=\"#DejaVuSans-101\"/>\n      </g>\n     </g>\n    </g>\n    <g id=\"xtick_204\">\n     <g id=\"line2d_204\">\n      <path clip-path=\"url(#p6456fcfb4f)\" d=\"M 393.863573 224.64 \nL 393.863573 7.2 \n\" style=\"fill:none;stroke:#cccccc;stroke-linecap:round;\"/>\n     </g>\n     <g id=\"text_204\">\n      <!-- deluged -->\n      <g style=\"fill:#262626;\" transform=\"translate(396.898886 278.653906)rotate(-90)scale(0.11 -0.11)\">\n       <use xlink:href=\"#DejaVuSans-100\"/>\n       <use x=\"63.476562\" xlink:href=\"#DejaVuSans-101\"/>\n       <use x=\"125\" xlink:href=\"#DejaVuSans-108\"/>\n       <use x=\"152.783203\" xlink:href=\"#DejaVuSans-117\"/>\n       <use x=\"216.162109\" xlink:href=\"#DejaVuSans-103\"/>\n       <use x=\"279.638672\" xlink:href=\"#DejaVuSans-101\"/>\n       <use x=\"341.162109\" xlink:href=\"#DejaVuSans-100\"/>\n      </g>\n     </g>\n    </g>\n    <g id=\"xtick_205\">\n     <g id=\"line2d_205\">\n      <path clip-path=\"url(#p6456fcfb4f)\" d=\"M 395.630994 224.64 \nL 395.630994 7.2 \n\" style=\"fill:none;stroke:#cccccc;stroke-linecap:round;\"/>\n     </g>\n     <g id=\"text_205\">\n      <!-- demolish -->\n      <g style=\"fill:#262626;\" transform=\"translate(398.666307 284.150469)rotate(-90)scale(0.11 -0.11)\">\n       <use xlink:href=\"#DejaVuSans-100\"/>\n       <use x=\"63.476562\" xlink:href=\"#DejaVuSans-101\"/>\n       <use x=\"125\" xlink:href=\"#DejaVuSans-109\"/>\n       <use x=\"222.412109\" xlink:href=\"#DejaVuSans-111\"/>\n       <use x=\"283.59375\" xlink:href=\"#DejaVuSans-108\"/>\n       <use x=\"311.376953\" xlink:href=\"#DejaVuSans-105\"/>\n       <use x=\"339.160156\" xlink:href=\"#DejaVuSans-115\"/>\n       <use x=\"391.259766\" xlink:href=\"#DejaVuSans-104\"/>\n      </g>\n     </g>\n    </g>\n    <g id=\"xtick_206\">\n     <g id=\"line2d_206\">\n      <path clip-path=\"url(#p6456fcfb4f)\" d=\"M 397.398415 224.64 \nL 397.398415 7.2 \n\" style=\"fill:none;stroke:#cccccc;stroke-linecap:round;\"/>\n     </g>\n     <g id=\"text_206\">\n      <!-- demolished -->\n      <g style=\"fill:#262626;\" transform=\"translate(400.433727 297.902187)rotate(-90)scale(0.11 -0.11)\">\n       <use xlink:href=\"#DejaVuSans-100\"/>\n       <use x=\"63.476562\" xlink:href=\"#DejaVuSans-101\"/>\n       <use x=\"125\" xlink:href=\"#DejaVuSans-109\"/>\n       <use x=\"222.412109\" xlink:href=\"#DejaVuSans-111\"/>\n       <use x=\"283.59375\" xlink:href=\"#DejaVuSans-108\"/>\n       <use x=\"311.376953\" xlink:href=\"#DejaVuSans-105\"/>\n       <use x=\"339.160156\" xlink:href=\"#DejaVuSans-115\"/>\n       <use x=\"391.259766\" xlink:href=\"#DejaVuSans-104\"/>\n       <use x=\"454.638672\" xlink:href=\"#DejaVuSans-101\"/>\n       <use x=\"516.162109\" xlink:href=\"#DejaVuSans-100\"/>\n      </g>\n     </g>\n    </g>\n    <g id=\"xtick_207\">\n     <g id=\"line2d_207\">\n      <path clip-path=\"url(#p6456fcfb4f)\" d=\"M 399.165836 224.64 \nL 399.165836 7.2 \n\" style=\"fill:none;stroke:#cccccc;stroke-linecap:round;\"/>\n     </g>\n     <g id=\"text_207\">\n      <!-- demolition -->\n      <g style=\"fill:#262626;\" transform=\"translate(402.201148 292.519062)rotate(-90)scale(0.11 -0.11)\">\n       <use xlink:href=\"#DejaVuSans-100\"/>\n       <use x=\"63.476562\" xlink:href=\"#DejaVuSans-101\"/>\n       <use x=\"125\" xlink:href=\"#DejaVuSans-109\"/>\n       <use x=\"222.412109\" xlink:href=\"#DejaVuSans-111\"/>\n       <use x=\"283.59375\" xlink:href=\"#DejaVuSans-108\"/>\n       <use x=\"311.376953\" xlink:href=\"#DejaVuSans-105\"/>\n       <use x=\"339.160156\" xlink:href=\"#DejaVuSans-116\"/>\n       <use x=\"378.369141\" xlink:href=\"#DejaVuSans-105\"/>\n       <use x=\"406.152344\" xlink:href=\"#DejaVuSans-111\"/>\n       <use x=\"467.333984\" xlink:href=\"#DejaVuSans-110\"/>\n      </g>\n     </g>\n    </g>\n    <g id=\"xtick_208\">\n     <g id=\"line2d_208\">\n      <path clip-path=\"url(#p6456fcfb4f)\" d=\"M 400.933257 224.64 \nL 400.933257 7.2 \n\" style=\"fill:none;stroke:#cccccc;stroke-linecap:round;\"/>\n     </g>\n     <g id=\"text_208\">\n      <!-- derail -->\n      <g style=\"fill:#262626;\" transform=\"translate(403.968569 265.266562)rotate(-90)scale(0.11 -0.11)\">\n       <use xlink:href=\"#DejaVuSans-100\"/>\n       <use x=\"63.476562\" xlink:href=\"#DejaVuSans-101\"/>\n       <use x=\"125\" xlink:href=\"#DejaVuSans-114\"/>\n       <use x=\"166.113281\" xlink:href=\"#DejaVuSans-97\"/>\n       <use x=\"227.392578\" xlink:href=\"#DejaVuSans-105\"/>\n       <use x=\"255.175781\" xlink:href=\"#DejaVuSans-108\"/>\n      </g>\n     </g>\n    </g>\n    <g id=\"xtick_209\">\n     <g id=\"line2d_209\">\n      <path clip-path=\"url(#p6456fcfb4f)\" d=\"M 402.700677 224.64 \nL 402.700677 7.2 \n\" style=\"fill:none;stroke:#cccccc;stroke-linecap:round;\"/>\n     </g>\n     <g id=\"text_209\">\n      <!-- derailed -->\n      <g style=\"fill:#262626;\" transform=\"translate(405.73599 279.018281)rotate(-90)scale(0.11 -0.11)\">\n       <use xlink:href=\"#DejaVuSans-100\"/>\n       <use x=\"63.476562\" xlink:href=\"#DejaVuSans-101\"/>\n       <use x=\"125\" xlink:href=\"#DejaVuSans-114\"/>\n       <use x=\"166.113281\" xlink:href=\"#DejaVuSans-97\"/>\n       <use x=\"227.392578\" xlink:href=\"#DejaVuSans-105\"/>\n       <use x=\"255.175781\" xlink:href=\"#DejaVuSans-108\"/>\n       <use x=\"282.958984\" xlink:href=\"#DejaVuSans-101\"/>\n       <use x=\"344.482422\" xlink:href=\"#DejaVuSans-100\"/>\n      </g>\n     </g>\n    </g>\n    <g id=\"xtick_210\">\n     <g id=\"line2d_210\">\n      <path clip-path=\"url(#p6456fcfb4f)\" d=\"M 404.468098 224.64 \nL 404.468098 7.2 \n\" style=\"fill:none;stroke:#cccccc;stroke-linecap:round;\"/>\n     </g>\n     <g id=\"text_210\">\n      <!-- derailment -->\n      <g style=\"fill:#262626;\" transform=\"translate(407.503411 294.033281)rotate(-90)scale(0.11 -0.11)\">\n       <use xlink:href=\"#DejaVuSans-100\"/>\n       <use x=\"63.476562\" xlink:href=\"#DejaVuSans-101\"/>\n       <use x=\"125\" xlink:href=\"#DejaVuSans-114\"/>\n       <use x=\"166.113281\" xlink:href=\"#DejaVuSans-97\"/>\n       <use x=\"227.392578\" xlink:href=\"#DejaVuSans-105\"/>\n       <use x=\"255.175781\" xlink:href=\"#DejaVuSans-108\"/>\n       <use x=\"282.958984\" xlink:href=\"#DejaVuSans-109\"/>\n       <use x=\"380.371094\" xlink:href=\"#DejaVuSans-101\"/>\n       <use x=\"441.894531\" xlink:href=\"#DejaVuSans-110\"/>\n       <use x=\"505.273438\" xlink:href=\"#DejaVuSans-116\"/>\n      </g>\n     </g>\n    </g>\n    <g id=\"xtick_211\">\n     <g id=\"line2d_211\">\n      <path clip-path=\"url(#p6456fcfb4f)\" d=\"M 406.235519 224.64 \nL 406.235519 7.2 \n\" style=\"fill:none;stroke:#cccccc;stroke-linecap:round;\"/>\n     </g>\n     <g id=\"text_211\">\n      <!-- desolate -->\n      <g style=\"fill:#262626;\" transform=\"translate(409.270831 281.230312)rotate(-90)scale(0.11 -0.11)\">\n       <use xlink:href=\"#DejaVuSans-100\"/>\n       <use x=\"63.476562\" xlink:href=\"#DejaVuSans-101\"/>\n       <use x=\"125\" xlink:href=\"#DejaVuSans-115\"/>\n       <use x=\"177.099609\" xlink:href=\"#DejaVuSans-111\"/>\n       <use x=\"238.28125\" xlink:href=\"#DejaVuSans-108\"/>\n       <use x=\"266.064453\" xlink:href=\"#DejaVuSans-97\"/>\n       <use x=\"327.34375\" xlink:href=\"#DejaVuSans-116\"/>\n       <use x=\"366.552734\" xlink:href=\"#DejaVuSans-101\"/>\n      </g>\n     </g>\n    </g>\n    <g id=\"xtick_212\">\n     <g id=\"line2d_212\">\n      <path clip-path=\"url(#p6456fcfb4f)\" d=\"M 408.00294 224.64 \nL 408.00294 7.2 \n\" style=\"fill:none;stroke:#cccccc;stroke-linecap:round;\"/>\n     </g>\n     <g id=\"text_212\">\n      <!-- desolation -->\n      <g style=\"fill:#262626;\" transform=\"translate(411.038252 291.219687)rotate(-90)scale(0.11 -0.11)\">\n       <use xlink:href=\"#DejaVuSans-100\"/>\n       <use x=\"63.476562\" xlink:href=\"#DejaVuSans-101\"/>\n       <use x=\"125\" xlink:href=\"#DejaVuSans-115\"/>\n       <use x=\"177.099609\" xlink:href=\"#DejaVuSans-111\"/>\n       <use x=\"238.28125\" xlink:href=\"#DejaVuSans-108\"/>\n       <use x=\"266.064453\" xlink:href=\"#DejaVuSans-97\"/>\n       <use x=\"327.34375\" xlink:href=\"#DejaVuSans-116\"/>\n       <use x=\"366.552734\" xlink:href=\"#DejaVuSans-105\"/>\n       <use x=\"394.335938\" xlink:href=\"#DejaVuSans-111\"/>\n       <use x=\"455.517578\" xlink:href=\"#DejaVuSans-110\"/>\n      </g>\n     </g>\n    </g>\n    <g id=\"xtick_213\">\n     <g id=\"line2d_213\">\n      <path clip-path=\"url(#p6456fcfb4f)\" d=\"M 409.770361 224.64 \nL 409.770361 7.2 \n\" style=\"fill:none;stroke:#cccccc;stroke-linecap:round;\"/>\n     </g>\n     <g id=\"text_213\">\n      <!-- destroy -->\n      <g style=\"fill:#262626;\" transform=\"translate(412.805673 275.450156)rotate(-90)scale(0.11 -0.11)\">\n       <use xlink:href=\"#DejaVuSans-100\"/>\n       <use x=\"63.476562\" xlink:href=\"#DejaVuSans-101\"/>\n       <use x=\"125\" xlink:href=\"#DejaVuSans-115\"/>\n       <use x=\"177.099609\" xlink:href=\"#DejaVuSans-116\"/>\n       <use x=\"216.308594\" xlink:href=\"#DejaVuSans-114\"/>\n       <use x=\"255.171875\" xlink:href=\"#DejaVuSans-111\"/>\n       <use x=\"316.353516\" xlink:href=\"#DejaVuSans-121\"/>\n      </g>\n     </g>\n    </g>\n    <g id=\"xtick_214\">\n     <g id=\"line2d_214\">\n      <path clip-path=\"url(#p6456fcfb4f)\" d=\"M 411.537781 224.64 \nL 411.537781 7.2 \n\" style=\"fill:none;stroke:#cccccc;stroke-linecap:round;\"/>\n     </g>\n     <g id=\"text_214\">\n      <!-- destroyed -->\n      <g style=\"fill:#262626;\" transform=\"translate(414.573094 289.201875)rotate(-90)scale(0.11 -0.11)\">\n       <use xlink:href=\"#DejaVuSans-100\"/>\n       <use x=\"63.476562\" xlink:href=\"#DejaVuSans-101\"/>\n       <use x=\"125\" xlink:href=\"#DejaVuSans-115\"/>\n       <use x=\"177.099609\" xlink:href=\"#DejaVuSans-116\"/>\n       <use x=\"216.308594\" xlink:href=\"#DejaVuSans-114\"/>\n       <use x=\"255.171875\" xlink:href=\"#DejaVuSans-111\"/>\n       <use x=\"316.353516\" xlink:href=\"#DejaVuSans-121\"/>\n       <use x=\"375.533203\" xlink:href=\"#DejaVuSans-101\"/>\n       <use x=\"437.056641\" xlink:href=\"#DejaVuSans-100\"/>\n      </g>\n     </g>\n    </g>\n    <g id=\"xtick_215\">\n     <g id=\"line2d_215\">\n      <path clip-path=\"url(#p6456fcfb4f)\" d=\"M 413.305202 224.64 \nL 413.305202 7.2 \n\" style=\"fill:none;stroke:#cccccc;stroke-linecap:round;\"/>\n     </g>\n     <g id=\"text_215\">\n      <!-- destruction -->\n      <g style=\"fill:#262626;\" transform=\"translate(416.340515 296.546094)rotate(-90)scale(0.11 -0.11)\">\n       <use xlink:href=\"#DejaVuSans-100\"/>\n       <use x=\"63.476562\" xlink:href=\"#DejaVuSans-101\"/>\n       <use x=\"125\" xlink:href=\"#DejaVuSans-115\"/>\n       <use x=\"177.099609\" xlink:href=\"#DejaVuSans-116\"/>\n       <use x=\"216.308594\" xlink:href=\"#DejaVuSans-114\"/>\n       <use x=\"257.421875\" xlink:href=\"#DejaVuSans-117\"/>\n       <use x=\"320.800781\" xlink:href=\"#DejaVuSans-99\"/>\n       <use x=\"375.78125\" xlink:href=\"#DejaVuSans-116\"/>\n       <use x=\"414.990234\" xlink:href=\"#DejaVuSans-105\"/>\n       <use x=\"442.773438\" xlink:href=\"#DejaVuSans-111\"/>\n       <use x=\"503.955078\" xlink:href=\"#DejaVuSans-110\"/>\n      </g>\n     </g>\n    </g>\n    <g id=\"xtick_216\">\n     <g id=\"line2d_216\">\n      <path clip-path=\"url(#p6456fcfb4f)\" d=\"M 415.072623 224.64 \nL 415.072623 7.2 \n\" style=\"fill:none;stroke:#cccccc;stroke-linecap:round;\"/>\n     </g>\n     <g id=\"text_216\">\n      <!-- detonate -->\n      <g style=\"fill:#262626;\" transform=\"translate(418.107936 283.727656)rotate(-90)scale(0.11 -0.11)\">\n       <use xlink:href=\"#DejaVuSans-100\"/>\n       <use x=\"63.476562\" xlink:href=\"#DejaVuSans-101\"/>\n       <use x=\"125\" xlink:href=\"#DejaVuSans-116\"/>\n       <use x=\"164.208984\" xlink:href=\"#DejaVuSans-111\"/>\n       <use x=\"225.390625\" xlink:href=\"#DejaVuSans-110\"/>\n       <use x=\"288.769531\" xlink:href=\"#DejaVuSans-97\"/>\n       <use x=\"350.048828\" xlink:href=\"#DejaVuSans-116\"/>\n       <use x=\"389.257812\" xlink:href=\"#DejaVuSans-101\"/>\n      </g>\n     </g>\n    </g>\n    <g id=\"xtick_217\">\n     <g id=\"line2d_217\">\n      <path clip-path=\"url(#p6456fcfb4f)\" d=\"M 416.840044 224.64 \nL 416.840044 7.2 \n\" style=\"fill:none;stroke:#cccccc;stroke-linecap:round;\"/>\n     </g>\n     <g id=\"text_217\">\n      <!-- detonation -->\n      <g style=\"fill:#262626;\" transform=\"translate(419.875356 293.717031)rotate(-90)scale(0.11 -0.11)\">\n       <use xlink:href=\"#DejaVuSans-100\"/>\n       <use x=\"63.476562\" xlink:href=\"#DejaVuSans-101\"/>\n       <use x=\"125\" xlink:href=\"#DejaVuSans-116\"/>\n       <use x=\"164.208984\" xlink:href=\"#DejaVuSans-111\"/>\n       <use x=\"225.390625\" xlink:href=\"#DejaVuSans-110\"/>\n       <use x=\"288.769531\" xlink:href=\"#DejaVuSans-97\"/>\n       <use x=\"350.048828\" xlink:href=\"#DejaVuSans-116\"/>\n       <use x=\"389.257812\" xlink:href=\"#DejaVuSans-105\"/>\n       <use x=\"417.041016\" xlink:href=\"#DejaVuSans-111\"/>\n       <use x=\"478.222656\" xlink:href=\"#DejaVuSans-110\"/>\n      </g>\n     </g>\n    </g>\n    <g id=\"xtick_218\">\n     <g id=\"line2d_218\">\n      <path clip-path=\"url(#p6456fcfb4f)\" d=\"M 418.607465 224.64 \nL 418.607465 7.2 \n\" style=\"fill:none;stroke:#cccccc;stroke-linecap:round;\"/>\n     </g>\n     <g id=\"text_218\">\n      <!-- devastated -->\n      <g style=\"fill:#262626;\" transform=\"translate(421.642777 295.990937)rotate(-90)scale(0.11 -0.11)\">\n       <use xlink:href=\"#DejaVuSans-100\"/>\n       <use x=\"63.476562\" xlink:href=\"#DejaVuSans-101\"/>\n       <use x=\"125\" xlink:href=\"#DejaVuSans-118\"/>\n       <use x=\"184.179688\" xlink:href=\"#DejaVuSans-97\"/>\n       <use x=\"245.458984\" xlink:href=\"#DejaVuSans-115\"/>\n       <use x=\"297.558594\" xlink:href=\"#DejaVuSans-116\"/>\n       <use x=\"336.767578\" xlink:href=\"#DejaVuSans-97\"/>\n       <use x=\"398.046875\" xlink:href=\"#DejaVuSans-116\"/>\n       <use x=\"437.255859\" xlink:href=\"#DejaVuSans-101\"/>\n       <use x=\"498.779297\" xlink:href=\"#DejaVuSans-100\"/>\n      </g>\n     </g>\n    </g>\n    <g id=\"xtick_219\">\n     <g id=\"line2d_219\">\n      <path clip-path=\"url(#p6456fcfb4f)\" d=\"M 420.374885 224.64 \nL 420.374885 7.2 \n\" style=\"fill:none;stroke:#cccccc;stroke-linecap:round;\"/>\n     </g>\n     <g id=\"text_219\">\n      <!-- devastation -->\n      <g style=\"fill:#262626;\" transform=\"translate(423.410198 298.997031)rotate(-90)scale(0.11 -0.11)\">\n       <use xlink:href=\"#DejaVuSans-100\"/>\n       <use x=\"63.476562\" xlink:href=\"#DejaVuSans-101\"/>\n       <use x=\"125\" xlink:href=\"#DejaVuSans-118\"/>\n       <use x=\"184.179688\" xlink:href=\"#DejaVuSans-97\"/>\n       <use x=\"245.458984\" xlink:href=\"#DejaVuSans-115\"/>\n       <use x=\"297.558594\" xlink:href=\"#DejaVuSans-116\"/>\n       <use x=\"336.767578\" xlink:href=\"#DejaVuSans-97\"/>\n       <use x=\"398.046875\" xlink:href=\"#DejaVuSans-116\"/>\n       <use x=\"437.255859\" xlink:href=\"#DejaVuSans-105\"/>\n       <use x=\"465.039062\" xlink:href=\"#DejaVuSans-111\"/>\n       <use x=\"526.220703\" xlink:href=\"#DejaVuSans-110\"/>\n      </g>\n     </g>\n    </g>\n    <g id=\"xtick_220\">\n     <g id=\"line2d_220\">\n      <path clip-path=\"url(#p6456fcfb4f)\" d=\"M 422.142306 224.64 \nL 422.142306 7.2 \n\" style=\"fill:none;stroke:#cccccc;stroke-linecap:round;\"/>\n     </g>\n     <g id=\"text_220\">\n      <!-- disaster -->\n      <g style=\"fill:#262626;\" transform=\"translate(425.177619 277.983594)rotate(-90)scale(0.11 -0.11)\">\n       <use xlink:href=\"#DejaVuSans-100\"/>\n       <use x=\"63.476562\" xlink:href=\"#DejaVuSans-105\"/>\n       <use x=\"91.259766\" xlink:href=\"#DejaVuSans-115\"/>\n       <use x=\"143.359375\" xlink:href=\"#DejaVuSans-97\"/>\n       <use x=\"204.638672\" xlink:href=\"#DejaVuSans-115\"/>\n       <use x=\"256.738281\" xlink:href=\"#DejaVuSans-116\"/>\n       <use x=\"295.947266\" xlink:href=\"#DejaVuSans-101\"/>\n       <use x=\"357.470703\" xlink:href=\"#DejaVuSans-114\"/>\n      </g>\n     </g>\n    </g>\n    <g id=\"xtick_221\">\n     <g id=\"line2d_221\">\n      <path clip-path=\"url(#p6456fcfb4f)\" d=\"M 423.909727 224.64 \nL 423.909727 7.2 \n\" style=\"fill:none;stroke:#cccccc;stroke-linecap:round;\"/>\n     </g>\n     <g id=\"text_221\">\n      <!-- wrecked -->\n      <g style=\"fill:#262626;\" transform=\"translate(426.94504 279.949844)rotate(-90)scale(0.11 -0.11)\">\n       <use xlink:href=\"#DejaVuSans-119\"/>\n       <use x=\"81.787109\" xlink:href=\"#DejaVuSans-114\"/>\n       <use x=\"120.650391\" xlink:href=\"#DejaVuSans-101\"/>\n       <use x=\"182.173828\" xlink:href=\"#DejaVuSans-99\"/>\n       <use x=\"237.154297\" xlink:href=\"#DejaVuSans-107\"/>\n       <use x=\"291.439453\" xlink:href=\"#DejaVuSans-101\"/>\n       <use x=\"352.962891\" xlink:href=\"#DejaVuSans-100\"/>\n      </g>\n     </g>\n    </g>\n    <g id=\"text_222\">\n     <!-- keyword -->\n     <g style=\"fill:#262626;\" transform=\"translate(204.244687 382.974062)scale(0.12 -0.12)\">\n      <use xlink:href=\"#DejaVuSans-107\"/>\n      <use x=\"54.285156\" xlink:href=\"#DejaVuSans-101\"/>\n      <use x=\"115.808594\" xlink:href=\"#DejaVuSans-121\"/>\n      <use x=\"174.988281\" xlink:href=\"#DejaVuSans-119\"/>\n      <use x=\"256.775391\" xlink:href=\"#DejaVuSans-111\"/>\n      <use x=\"317.957031\" xlink:href=\"#DejaVuSans-114\"/>\n      <use x=\"357.320312\" xlink:href=\"#DejaVuSans-100\"/>\n     </g>\n    </g>\n   </g>\n   <g id=\"matplotlib.axis_2\">\n    <g id=\"ytick_1\">\n     <g id=\"line2d_222\">\n      <path clip-path=\"url(#p6456fcfb4f)\" d=\"M 34.193437 224.64 \nL 424.793438 224.64 \n\" style=\"fill:none;stroke:#cccccc;stroke-linecap:round;\"/>\n     </g>\n     <g id=\"text_223\">\n      <!-- 0.0 -->\n      <defs>\n       <path d=\"M 10.6875 12.40625 \nL 21 12.40625 \nL 21 0 \nL 10.6875 0 \nz\n\" id=\"DejaVuSans-46\"/>\n      </defs>\n      <g style=\"fill:#262626;\" transform=\"translate(7.2 228.819141)scale(0.11 -0.11)\">\n       <use xlink:href=\"#DejaVuSans-48\"/>\n       <use x=\"63.623047\" xlink:href=\"#DejaVuSans-46\"/>\n       <use x=\"95.410156\" xlink:href=\"#DejaVuSans-48\"/>\n      </g>\n     </g>\n    </g>\n    <g id=\"ytick_2\">\n     <g id=\"line2d_223\">\n      <path clip-path=\"url(#p6456fcfb4f)\" d=\"M 34.193437 183.222857 \nL 424.793438 183.222857 \n\" style=\"fill:none;stroke:#cccccc;stroke-linecap:round;\"/>\n     </g>\n     <g id=\"text_224\">\n      <!-- 0.2 -->\n      <g style=\"fill:#262626;\" transform=\"translate(7.2 187.401998)scale(0.11 -0.11)\">\n       <use xlink:href=\"#DejaVuSans-48\"/>\n       <use x=\"63.623047\" xlink:href=\"#DejaVuSans-46\"/>\n       <use x=\"95.410156\" xlink:href=\"#DejaVuSans-50\"/>\n      </g>\n     </g>\n    </g>\n    <g id=\"ytick_3\">\n     <g id=\"line2d_224\">\n      <path clip-path=\"url(#p6456fcfb4f)\" d=\"M 34.193437 141.805714 \nL 424.793438 141.805714 \n\" style=\"fill:none;stroke:#cccccc;stroke-linecap:round;\"/>\n     </g>\n     <g id=\"text_225\">\n      <!-- 0.4 -->\n      <defs>\n       <path d=\"M 37.796875 64.3125 \nL 12.890625 25.390625 \nL 37.796875 25.390625 \nz\nM 35.203125 72.90625 \nL 47.609375 72.90625 \nL 47.609375 25.390625 \nL 58.015625 25.390625 \nL 58.015625 17.1875 \nL 47.609375 17.1875 \nL 47.609375 0 \nL 37.796875 0 \nL 37.796875 17.1875 \nL 4.890625 17.1875 \nL 4.890625 26.703125 \nz\n\" id=\"DejaVuSans-52\"/>\n      </defs>\n      <g style=\"fill:#262626;\" transform=\"translate(7.2 145.984855)scale(0.11 -0.11)\">\n       <use xlink:href=\"#DejaVuSans-48\"/>\n       <use x=\"63.623047\" xlink:href=\"#DejaVuSans-46\"/>\n       <use x=\"95.410156\" xlink:href=\"#DejaVuSans-52\"/>\n      </g>\n     </g>\n    </g>\n    <g id=\"ytick_4\">\n     <g id=\"line2d_225\">\n      <path clip-path=\"url(#p6456fcfb4f)\" d=\"M 34.193437 100.388571 \nL 424.793438 100.388571 \n\" style=\"fill:none;stroke:#cccccc;stroke-linecap:round;\"/>\n     </g>\n     <g id=\"text_226\">\n      <!-- 0.6 -->\n      <defs>\n       <path d=\"M 33.015625 40.375 \nQ 26.375 40.375 22.484375 35.828125 \nQ 18.609375 31.296875 18.609375 23.390625 \nQ 18.609375 15.53125 22.484375 10.953125 \nQ 26.375 6.390625 33.015625 6.390625 \nQ 39.65625 6.390625 43.53125 10.953125 \nQ 47.40625 15.53125 47.40625 23.390625 \nQ 47.40625 31.296875 43.53125 35.828125 \nQ 39.65625 40.375 33.015625 40.375 \nz\nM 52.59375 71.296875 \nL 52.59375 62.3125 \nQ 48.875 64.0625 45.09375 64.984375 \nQ 41.3125 65.921875 37.59375 65.921875 \nQ 27.828125 65.921875 22.671875 59.328125 \nQ 17.53125 52.734375 16.796875 39.40625 \nQ 19.671875 43.65625 24.015625 45.921875 \nQ 28.375 48.1875 33.59375 48.1875 \nQ 44.578125 48.1875 50.953125 41.515625 \nQ 57.328125 34.859375 57.328125 23.390625 \nQ 57.328125 12.15625 50.6875 5.359375 \nQ 44.046875 -1.421875 33.015625 -1.421875 \nQ 20.359375 -1.421875 13.671875 8.265625 \nQ 6.984375 17.96875 6.984375 36.375 \nQ 6.984375 53.65625 15.1875 63.9375 \nQ 23.390625 74.21875 37.203125 74.21875 \nQ 40.921875 74.21875 44.703125 73.484375 \nQ 48.484375 72.75 52.59375 71.296875 \nz\n\" id=\"DejaVuSans-54\"/>\n      </defs>\n      <g style=\"fill:#262626;\" transform=\"translate(7.2 104.567712)scale(0.11 -0.11)\">\n       <use xlink:href=\"#DejaVuSans-48\"/>\n       <use x=\"63.623047\" xlink:href=\"#DejaVuSans-46\"/>\n       <use x=\"95.410156\" xlink:href=\"#DejaVuSans-54\"/>\n      </g>\n     </g>\n    </g>\n    <g id=\"ytick_5\">\n     <g id=\"line2d_226\">\n      <path clip-path=\"url(#p6456fcfb4f)\" d=\"M 34.193437 58.971429 \nL 424.793438 58.971429 \n\" style=\"fill:none;stroke:#cccccc;stroke-linecap:round;\"/>\n     </g>\n     <g id=\"text_227\">\n      <!-- 0.8 -->\n      <defs>\n       <path d=\"M 31.78125 34.625 \nQ 24.75 34.625 20.71875 30.859375 \nQ 16.703125 27.09375 16.703125 20.515625 \nQ 16.703125 13.921875 20.71875 10.15625 \nQ 24.75 6.390625 31.78125 6.390625 \nQ 38.8125 6.390625 42.859375 10.171875 \nQ 46.921875 13.96875 46.921875 20.515625 \nQ 46.921875 27.09375 42.890625 30.859375 \nQ 38.875 34.625 31.78125 34.625 \nz\nM 21.921875 38.8125 \nQ 15.578125 40.375 12.03125 44.71875 \nQ 8.5 49.078125 8.5 55.328125 \nQ 8.5 64.0625 14.71875 69.140625 \nQ 20.953125 74.21875 31.78125 74.21875 \nQ 42.671875 74.21875 48.875 69.140625 \nQ 55.078125 64.0625 55.078125 55.328125 \nQ 55.078125 49.078125 51.53125 44.71875 \nQ 48 40.375 41.703125 38.8125 \nQ 48.828125 37.15625 52.796875 32.3125 \nQ 56.78125 27.484375 56.78125 20.515625 \nQ 56.78125 9.90625 50.3125 4.234375 \nQ 43.84375 -1.421875 31.78125 -1.421875 \nQ 19.734375 -1.421875 13.25 4.234375 \nQ 6.78125 9.90625 6.78125 20.515625 \nQ 6.78125 27.484375 10.78125 32.3125 \nQ 14.796875 37.15625 21.921875 38.8125 \nz\nM 18.3125 54.390625 \nQ 18.3125 48.734375 21.84375 45.5625 \nQ 25.390625 42.390625 31.78125 42.390625 \nQ 38.140625 42.390625 41.71875 45.5625 \nQ 45.3125 48.734375 45.3125 54.390625 \nQ 45.3125 60.0625 41.71875 63.234375 \nQ 38.140625 66.40625 31.78125 66.40625 \nQ 25.390625 66.40625 21.84375 63.234375 \nQ 18.3125 60.0625 18.3125 54.390625 \nz\n\" id=\"DejaVuSans-56\"/>\n      </defs>\n      <g style=\"fill:#262626;\" transform=\"translate(7.2 63.150569)scale(0.11 -0.11)\">\n       <use xlink:href=\"#DejaVuSans-48\"/>\n       <use x=\"63.623047\" xlink:href=\"#DejaVuSans-46\"/>\n       <use x=\"95.410156\" xlink:href=\"#DejaVuSans-56\"/>\n      </g>\n     </g>\n    </g>\n    <g id=\"ytick_6\">\n     <g id=\"line2d_227\">\n      <path clip-path=\"url(#p6456fcfb4f)\" d=\"M 34.193437 17.554286 \nL 424.793438 17.554286 \n\" style=\"fill:none;stroke:#cccccc;stroke-linecap:round;\"/>\n     </g>\n     <g id=\"text_228\">\n      <!-- 1.0 -->\n      <defs>\n       <path d=\"M 12.40625 8.296875 \nL 28.515625 8.296875 \nL 28.515625 63.921875 \nL 10.984375 60.40625 \nL 10.984375 69.390625 \nL 28.421875 72.90625 \nL 38.28125 72.90625 \nL 38.28125 8.296875 \nL 54.390625 8.296875 \nL 54.390625 0 \nL 12.40625 0 \nz\n\" id=\"DejaVuSans-49\"/>\n      </defs>\n      <g style=\"fill:#262626;\" transform=\"translate(7.2 21.733426)scale(0.11 -0.11)\">\n       <use xlink:href=\"#DejaVuSans-49\"/>\n       <use x=\"63.623047\" xlink:href=\"#DejaVuSans-46\"/>\n       <use x=\"95.410156\" xlink:href=\"#DejaVuSans-48\"/>\n      </g>\n     </g>\n    </g>\n   </g>\n   <g id=\"patch_3\">\n    <path clip-path=\"url(#p6456fcfb4f)\" d=\"M 34.635293 224.64 \nL 35.519003 224.64 \nL 35.519003 17.554286 \nL 34.635293 17.554286 \nz\n\" style=\"fill:#4c72b0;stroke:#ffffff;stroke-linejoin:miter;\"/>\n   </g>\n   <g id=\"patch_4\">\n    <path clip-path=\"url(#p6456fcfb4f)\" d=\"M 36.402714 224.64 \nL 37.286424 224.64 \nL 37.286424 17.554286 \nL 36.402714 17.554286 \nz\n\" style=\"fill:#4c72b0;stroke:#ffffff;stroke-linejoin:miter;\"/>\n   </g>\n   <g id=\"patch_5\">\n    <path clip-path=\"url(#p6456fcfb4f)\" d=\"M 38.170134 224.64 \nL 39.053845 224.64 \nL 39.053845 17.554286 \nL 38.170134 17.554286 \nz\n\" style=\"fill:#4c72b0;stroke:#ffffff;stroke-linejoin:miter;\"/>\n   </g>\n   <g id=\"patch_6\">\n    <path clip-path=\"url(#p6456fcfb4f)\" d=\"M 39.937555 224.64 \nL 40.821266 224.64 \nL 40.821266 17.554286 \nL 39.937555 17.554286 \nz\n\" style=\"fill:#4c72b0;stroke:#ffffff;stroke-linejoin:miter;\"/>\n   </g>\n   <g id=\"patch_7\">\n    <path clip-path=\"url(#p6456fcfb4f)\" d=\"M 41.704976 224.64 \nL 42.588686 224.64 \nL 42.588686 17.554286 \nL 41.704976 17.554286 \nz\n\" style=\"fill:#4c72b0;stroke:#ffffff;stroke-linejoin:miter;\"/>\n   </g>\n   <g id=\"patch_8\">\n    <path clip-path=\"url(#p6456fcfb4f)\" d=\"M 43.472397 224.64 \nL 44.356107 224.64 \nL 44.356107 17.554286 \nL 43.472397 17.554286 \nz\n\" style=\"fill:#4c72b0;stroke:#ffffff;stroke-linejoin:miter;\"/>\n   </g>\n   <g id=\"patch_9\">\n    <path clip-path=\"url(#p6456fcfb4f)\" d=\"M 45.239818 224.64 \nL 46.123528 224.64 \nL 46.123528 17.554286 \nL 45.239818 17.554286 \nz\n\" style=\"fill:#4c72b0;stroke:#ffffff;stroke-linejoin:miter;\"/>\n   </g>\n   <g id=\"patch_10\">\n    <path clip-path=\"url(#p6456fcfb4f)\" d=\"M 47.007238 224.64 \nL 47.890949 224.64 \nL 47.890949 17.554286 \nL 47.007238 17.554286 \nz\n\" style=\"fill:#4c72b0;stroke:#ffffff;stroke-linejoin:miter;\"/>\n   </g>\n   <g id=\"patch_11\">\n    <path clip-path=\"url(#p6456fcfb4f)\" d=\"M 48.774659 224.64 \nL 49.65837 224.64 \nL 49.65837 17.554286 \nL 48.774659 17.554286 \nz\n\" style=\"fill:#4c72b0;stroke:#ffffff;stroke-linejoin:miter;\"/>\n   </g>\n   <g id=\"patch_12\">\n    <path clip-path=\"url(#p6456fcfb4f)\" d=\"M 50.54208 224.64 \nL 51.42579 224.64 \nL 51.42579 17.554286 \nL 50.54208 17.554286 \nz\n\" style=\"fill:#4c72b0;stroke:#ffffff;stroke-linejoin:miter;\"/>\n   </g>\n   <g id=\"patch_13\">\n    <path clip-path=\"url(#p6456fcfb4f)\" d=\"M 52.309501 224.64 \nL 53.193211 224.64 \nL 53.193211 17.554286 \nL 52.309501 17.554286 \nz\n\" style=\"fill:#4c72b0;stroke:#ffffff;stroke-linejoin:miter;\"/>\n   </g>\n   <g id=\"patch_14\">\n    <path clip-path=\"url(#p6456fcfb4f)\" d=\"M 54.076922 224.64 \nL 54.960632 224.64 \nL 54.960632 17.554286 \nL 54.076922 17.554286 \nz\n\" style=\"fill:#4c72b0;stroke:#ffffff;stroke-linejoin:miter;\"/>\n   </g>\n   <g id=\"patch_15\">\n    <path clip-path=\"url(#p6456fcfb4f)\" d=\"M 55.844342 224.64 \nL 56.728053 224.64 \nL 56.728053 17.554286 \nL 55.844342 17.554286 \nz\n\" style=\"fill:#4c72b0;stroke:#ffffff;stroke-linejoin:miter;\"/>\n   </g>\n   <g id=\"patch_16\">\n    <path clip-path=\"url(#p6456fcfb4f)\" d=\"M 57.611763 224.64 \nL 58.495474 224.64 \nL 58.495474 17.554286 \nL 57.611763 17.554286 \nz\n\" style=\"fill:#4c72b0;stroke:#ffffff;stroke-linejoin:miter;\"/>\n   </g>\n   <g id=\"patch_17\">\n    <path clip-path=\"url(#p6456fcfb4f)\" d=\"M 59.379184 224.64 \nL 60.262895 224.64 \nL 60.262895 17.554286 \nL 59.379184 17.554286 \nz\n\" style=\"fill:#4c72b0;stroke:#ffffff;stroke-linejoin:miter;\"/>\n   </g>\n   <g id=\"patch_18\">\n    <path clip-path=\"url(#p6456fcfb4f)\" d=\"M 61.146605 224.64 \nL 62.030315 224.64 \nL 62.030315 17.554286 \nL 61.146605 17.554286 \nz\n\" style=\"fill:#4c72b0;stroke:#ffffff;stroke-linejoin:miter;\"/>\n   </g>\n   <g id=\"patch_19\">\n    <path clip-path=\"url(#p6456fcfb4f)\" d=\"M 62.914026 224.64 \nL 63.797736 224.64 \nL 63.797736 17.554286 \nL 62.914026 17.554286 \nz\n\" style=\"fill:#4c72b0;stroke:#ffffff;stroke-linejoin:miter;\"/>\n   </g>\n   <g id=\"patch_20\">\n    <path clip-path=\"url(#p6456fcfb4f)\" d=\"M 64.681447 224.64 \nL 65.565157 224.64 \nL 65.565157 17.554286 \nL 64.681447 17.554286 \nz\n\" style=\"fill:#4c72b0;stroke:#ffffff;stroke-linejoin:miter;\"/>\n   </g>\n   <g id=\"patch_21\">\n    <path clip-path=\"url(#p6456fcfb4f)\" d=\"M 66.448867 224.64 \nL 67.332578 224.64 \nL 67.332578 17.554286 \nL 66.448867 17.554286 \nz\n\" style=\"fill:#4c72b0;stroke:#ffffff;stroke-linejoin:miter;\"/>\n   </g>\n   <g id=\"patch_22\">\n    <path clip-path=\"url(#p6456fcfb4f)\" d=\"M 68.216288 224.64 \nL 69.099999 224.64 \nL 69.099999 17.554286 \nL 68.216288 17.554286 \nz\n\" style=\"fill:#4c72b0;stroke:#ffffff;stroke-linejoin:miter;\"/>\n   </g>\n   <g id=\"patch_23\">\n    <path clip-path=\"url(#p6456fcfb4f)\" d=\"M 69.983709 224.64 \nL 70.867419 224.64 \nL 70.867419 17.554286 \nL 69.983709 17.554286 \nz\n\" style=\"fill:#4c72b0;stroke:#ffffff;stroke-linejoin:miter;\"/>\n   </g>\n   <g id=\"patch_24\">\n    <path clip-path=\"url(#p6456fcfb4f)\" d=\"M 71.75113 224.64 \nL 72.63484 224.64 \nL 72.63484 17.554286 \nL 71.75113 17.554286 \nz\n\" style=\"fill:#4c72b0;stroke:#ffffff;stroke-linejoin:miter;\"/>\n   </g>\n   <g id=\"patch_25\">\n    <path clip-path=\"url(#p6456fcfb4f)\" d=\"M 73.518551 224.64 \nL 74.402261 224.64 \nL 74.402261 17.554286 \nL 73.518551 17.554286 \nz\n\" style=\"fill:#4c72b0;stroke:#ffffff;stroke-linejoin:miter;\"/>\n   </g>\n   <g id=\"patch_26\">\n    <path clip-path=\"url(#p6456fcfb4f)\" d=\"M 75.285971 224.64 \nL 76.169682 224.64 \nL 76.169682 17.554286 \nL 75.285971 17.554286 \nz\n\" style=\"fill:#4c72b0;stroke:#ffffff;stroke-linejoin:miter;\"/>\n   </g>\n   <g id=\"patch_27\">\n    <path clip-path=\"url(#p6456fcfb4f)\" d=\"M 77.053392 224.64 \nL 77.937103 224.64 \nL 77.937103 17.554286 \nL 77.053392 17.554286 \nz\n\" style=\"fill:#4c72b0;stroke:#ffffff;stroke-linejoin:miter;\"/>\n   </g>\n   <g id=\"patch_28\">\n    <path clip-path=\"url(#p6456fcfb4f)\" d=\"M 78.820813 224.64 \nL 79.704523 224.64 \nL 79.704523 17.554286 \nL 78.820813 17.554286 \nz\n\" style=\"fill:#4c72b0;stroke:#ffffff;stroke-linejoin:miter;\"/>\n   </g>\n   <g id=\"patch_29\">\n    <path clip-path=\"url(#p6456fcfb4f)\" d=\"M 80.588234 224.64 \nL 81.471944 224.64 \nL 81.471944 17.554286 \nL 80.588234 17.554286 \nz\n\" style=\"fill:#4c72b0;stroke:#ffffff;stroke-linejoin:miter;\"/>\n   </g>\n   <g id=\"patch_30\">\n    <path clip-path=\"url(#p6456fcfb4f)\" d=\"M 82.355655 224.64 \nL 83.239365 224.64 \nL 83.239365 17.554286 \nL 82.355655 17.554286 \nz\n\" style=\"fill:#4c72b0;stroke:#ffffff;stroke-linejoin:miter;\"/>\n   </g>\n   <g id=\"patch_31\">\n    <path clip-path=\"url(#p6456fcfb4f)\" d=\"M 84.123076 224.64 \nL 85.006786 224.64 \nL 85.006786 17.554286 \nL 84.123076 17.554286 \nz\n\" style=\"fill:#4c72b0;stroke:#ffffff;stroke-linejoin:miter;\"/>\n   </g>\n   <g id=\"patch_32\">\n    <path clip-path=\"url(#p6456fcfb4f)\" d=\"M 85.890496 224.64 \nL 86.774207 224.64 \nL 86.774207 17.554286 \nL 85.890496 17.554286 \nz\n\" style=\"fill:#4c72b0;stroke:#ffffff;stroke-linejoin:miter;\"/>\n   </g>\n   <g id=\"patch_33\">\n    <path clip-path=\"url(#p6456fcfb4f)\" d=\"M 87.657917 224.64 \nL 88.541628 224.64 \nL 88.541628 17.554286 \nL 87.657917 17.554286 \nz\n\" style=\"fill:#4c72b0;stroke:#ffffff;stroke-linejoin:miter;\"/>\n   </g>\n   <g id=\"patch_34\">\n    <path clip-path=\"url(#p6456fcfb4f)\" d=\"M 89.425338 224.64 \nL 90.309048 224.64 \nL 90.309048 17.554286 \nL 89.425338 17.554286 \nz\n\" style=\"fill:#4c72b0;stroke:#ffffff;stroke-linejoin:miter;\"/>\n   </g>\n   <g id=\"patch_35\">\n    <path clip-path=\"url(#p6456fcfb4f)\" d=\"M 91.192759 224.64 \nL 92.076469 224.64 \nL 92.076469 17.554286 \nL 91.192759 17.554286 \nz\n\" style=\"fill:#4c72b0;stroke:#ffffff;stroke-linejoin:miter;\"/>\n   </g>\n   <g id=\"patch_36\">\n    <path clip-path=\"url(#p6456fcfb4f)\" d=\"M 92.96018 224.64 \nL 93.84389 224.64 \nL 93.84389 17.554286 \nL 92.96018 17.554286 \nz\n\" style=\"fill:#4c72b0;stroke:#ffffff;stroke-linejoin:miter;\"/>\n   </g>\n   <g id=\"patch_37\">\n    <path clip-path=\"url(#p6456fcfb4f)\" d=\"M 94.7276 224.64 \nL 95.611311 224.64 \nL 95.611311 17.554286 \nL 94.7276 17.554286 \nz\n\" style=\"fill:#4c72b0;stroke:#ffffff;stroke-linejoin:miter;\"/>\n   </g>\n   <g id=\"patch_38\">\n    <path clip-path=\"url(#p6456fcfb4f)\" d=\"M 96.495021 224.64 \nL 97.378732 224.64 \nL 97.378732 17.554286 \nL 96.495021 17.554286 \nz\n\" style=\"fill:#4c72b0;stroke:#ffffff;stroke-linejoin:miter;\"/>\n   </g>\n   <g id=\"patch_39\">\n    <path clip-path=\"url(#p6456fcfb4f)\" d=\"M 98.262442 224.64 \nL 99.146152 224.64 \nL 99.146152 17.554286 \nL 98.262442 17.554286 \nz\n\" style=\"fill:#4c72b0;stroke:#ffffff;stroke-linejoin:miter;\"/>\n   </g>\n   <g id=\"patch_40\">\n    <path clip-path=\"url(#p6456fcfb4f)\" d=\"M 100.029863 224.64 \nL 100.913573 224.64 \nL 100.913573 17.554286 \nL 100.029863 17.554286 \nz\n\" style=\"fill:#4c72b0;stroke:#ffffff;stroke-linejoin:miter;\"/>\n   </g>\n   <g id=\"patch_41\">\n    <path clip-path=\"url(#p6456fcfb4f)\" d=\"M 101.797284 224.64 \nL 102.680994 224.64 \nL 102.680994 17.554286 \nL 101.797284 17.554286 \nz\n\" style=\"fill:#4c72b0;stroke:#ffffff;stroke-linejoin:miter;\"/>\n   </g>\n   <g id=\"patch_42\">\n    <path clip-path=\"url(#p6456fcfb4f)\" d=\"M 103.564704 224.64 \nL 104.448415 224.64 \nL 104.448415 17.554286 \nL 103.564704 17.554286 \nz\n\" style=\"fill:#4c72b0;stroke:#ffffff;stroke-linejoin:miter;\"/>\n   </g>\n   <g id=\"patch_43\">\n    <path clip-path=\"url(#p6456fcfb4f)\" d=\"M 105.332125 224.64 \nL 106.215836 224.64 \nL 106.215836 17.554286 \nL 105.332125 17.554286 \nz\n\" style=\"fill:#4c72b0;stroke:#ffffff;stroke-linejoin:miter;\"/>\n   </g>\n   <g id=\"patch_44\">\n    <path clip-path=\"url(#p6456fcfb4f)\" d=\"M 107.099546 224.64 \nL 107.983257 224.64 \nL 107.983257 17.554286 \nL 107.099546 17.554286 \nz\n\" style=\"fill:#4c72b0;stroke:#ffffff;stroke-linejoin:miter;\"/>\n   </g>\n   <g id=\"patch_45\">\n    <path clip-path=\"url(#p6456fcfb4f)\" d=\"M 108.866967 224.64 \nL 109.750677 224.64 \nL 109.750677 17.554286 \nL 108.866967 17.554286 \nz\n\" style=\"fill:#4c72b0;stroke:#ffffff;stroke-linejoin:miter;\"/>\n   </g>\n   <g id=\"patch_46\">\n    <path clip-path=\"url(#p6456fcfb4f)\" d=\"M 110.634388 224.64 \nL 111.518098 224.64 \nL 111.518098 17.554286 \nL 110.634388 17.554286 \nz\n\" style=\"fill:#4c72b0;stroke:#ffffff;stroke-linejoin:miter;\"/>\n   </g>\n   <g id=\"patch_47\">\n    <path clip-path=\"url(#p6456fcfb4f)\" d=\"M 112.401809 224.64 \nL 113.285519 224.64 \nL 113.285519 17.554286 \nL 112.401809 17.554286 \nz\n\" style=\"fill:#4c72b0;stroke:#ffffff;stroke-linejoin:miter;\"/>\n   </g>\n   <g id=\"patch_48\">\n    <path clip-path=\"url(#p6456fcfb4f)\" d=\"M 114.169229 224.64 \nL 115.05294 224.64 \nL 115.05294 17.554286 \nL 114.169229 17.554286 \nz\n\" style=\"fill:#4c72b0;stroke:#ffffff;stroke-linejoin:miter;\"/>\n   </g>\n   <g id=\"patch_49\">\n    <path clip-path=\"url(#p6456fcfb4f)\" d=\"M 115.93665 224.64 \nL 116.820361 224.64 \nL 116.820361 17.554286 \nL 115.93665 17.554286 \nz\n\" style=\"fill:#4c72b0;stroke:#ffffff;stroke-linejoin:miter;\"/>\n   </g>\n   <g id=\"patch_50\">\n    <path clip-path=\"url(#p6456fcfb4f)\" d=\"M 117.704071 224.64 \nL 118.587781 224.64 \nL 118.587781 17.554286 \nL 117.704071 17.554286 \nz\n\" style=\"fill:#4c72b0;stroke:#ffffff;stroke-linejoin:miter;\"/>\n   </g>\n   <g id=\"patch_51\">\n    <path clip-path=\"url(#p6456fcfb4f)\" d=\"M 119.471492 224.64 \nL 120.355202 224.64 \nL 120.355202 17.554286 \nL 119.471492 17.554286 \nz\n\" style=\"fill:#4c72b0;stroke:#ffffff;stroke-linejoin:miter;\"/>\n   </g>\n   <g id=\"patch_52\">\n    <path clip-path=\"url(#p6456fcfb4f)\" d=\"M 121.238913 224.64 \nL 122.122623 224.64 \nL 122.122623 17.554286 \nL 121.238913 17.554286 \nz\n\" style=\"fill:#4c72b0;stroke:#ffffff;stroke-linejoin:miter;\"/>\n   </g>\n   <g id=\"patch_53\">\n    <path clip-path=\"url(#p6456fcfb4f)\" d=\"M 123.006333 224.64 \nL 123.890044 224.64 \nL 123.890044 17.554286 \nL 123.006333 17.554286 \nz\n\" style=\"fill:#4c72b0;stroke:#ffffff;stroke-linejoin:miter;\"/>\n   </g>\n   <g id=\"patch_54\">\n    <path clip-path=\"url(#p6456fcfb4f)\" d=\"M 124.773754 224.64 \nL 125.657465 224.64 \nL 125.657465 17.554286 \nL 124.773754 17.554286 \nz\n\" style=\"fill:#4c72b0;stroke:#ffffff;stroke-linejoin:miter;\"/>\n   </g>\n   <g id=\"patch_55\">\n    <path clip-path=\"url(#p6456fcfb4f)\" d=\"M 126.541175 224.64 \nL 127.424885 224.64 \nL 127.424885 17.554286 \nL 126.541175 17.554286 \nz\n\" style=\"fill:#4c72b0;stroke:#ffffff;stroke-linejoin:miter;\"/>\n   </g>\n   <g id=\"patch_56\">\n    <path clip-path=\"url(#p6456fcfb4f)\" d=\"M 128.308596 224.64 \nL 129.192306 224.64 \nL 129.192306 17.554286 \nL 128.308596 17.554286 \nz\n\" style=\"fill:#4c72b0;stroke:#ffffff;stroke-linejoin:miter;\"/>\n   </g>\n   <g id=\"patch_57\">\n    <path clip-path=\"url(#p6456fcfb4f)\" d=\"M 130.076017 224.64 \nL 130.959727 224.64 \nL 130.959727 17.554286 \nL 130.076017 17.554286 \nz\n\" style=\"fill:#4c72b0;stroke:#ffffff;stroke-linejoin:miter;\"/>\n   </g>\n   <g id=\"patch_58\">\n    <path clip-path=\"url(#p6456fcfb4f)\" d=\"M 131.843437 224.64 \nL 132.727148 224.64 \nL 132.727148 17.554286 \nL 131.843437 17.554286 \nz\n\" style=\"fill:#4c72b0;stroke:#ffffff;stroke-linejoin:miter;\"/>\n   </g>\n   <g id=\"patch_59\">\n    <path clip-path=\"url(#p6456fcfb4f)\" d=\"M 133.610858 224.64 \nL 134.494569 224.64 \nL 134.494569 17.554286 \nL 133.610858 17.554286 \nz\n\" style=\"fill:#4c72b0;stroke:#ffffff;stroke-linejoin:miter;\"/>\n   </g>\n   <g id=\"patch_60\">\n    <path clip-path=\"url(#p6456fcfb4f)\" d=\"M 135.378279 224.64 \nL 136.26199 224.64 \nL 136.26199 17.554286 \nL 135.378279 17.554286 \nz\n\" style=\"fill:#4c72b0;stroke:#ffffff;stroke-linejoin:miter;\"/>\n   </g>\n   <g id=\"patch_61\">\n    <path clip-path=\"url(#p6456fcfb4f)\" d=\"M 137.1457 224.64 \nL 138.02941 224.64 \nL 138.02941 17.554286 \nL 137.1457 17.554286 \nz\n\" style=\"fill:#4c72b0;stroke:#ffffff;stroke-linejoin:miter;\"/>\n   </g>\n   <g id=\"patch_62\">\n    <path clip-path=\"url(#p6456fcfb4f)\" d=\"M 138.913121 224.64 \nL 139.796831 224.64 \nL 139.796831 17.554286 \nL 138.913121 17.554286 \nz\n\" style=\"fill:#4c72b0;stroke:#ffffff;stroke-linejoin:miter;\"/>\n   </g>\n   <g id=\"patch_63\">\n    <path clip-path=\"url(#p6456fcfb4f)\" d=\"M 140.680542 224.64 \nL 141.564252 224.64 \nL 141.564252 17.554286 \nL 140.680542 17.554286 \nz\n\" style=\"fill:#4c72b0;stroke:#ffffff;stroke-linejoin:miter;\"/>\n   </g>\n   <g id=\"patch_64\">\n    <path clip-path=\"url(#p6456fcfb4f)\" d=\"M 142.447962 224.64 \nL 143.331673 224.64 \nL 143.331673 17.554286 \nL 142.447962 17.554286 \nz\n\" style=\"fill:#4c72b0;stroke:#ffffff;stroke-linejoin:miter;\"/>\n   </g>\n   <g id=\"patch_65\">\n    <path clip-path=\"url(#p6456fcfb4f)\" d=\"M 144.215383 224.64 \nL 145.099094 224.64 \nL 145.099094 17.554286 \nL 144.215383 17.554286 \nz\n\" style=\"fill:#4c72b0;stroke:#ffffff;stroke-linejoin:miter;\"/>\n   </g>\n   <g id=\"patch_66\">\n    <path clip-path=\"url(#p6456fcfb4f)\" d=\"M 145.982804 224.64 \nL 146.866514 224.64 \nL 146.866514 17.554286 \nL 145.982804 17.554286 \nz\n\" style=\"fill:#4c72b0;stroke:#ffffff;stroke-linejoin:miter;\"/>\n   </g>\n   <g id=\"patch_67\">\n    <path clip-path=\"url(#p6456fcfb4f)\" d=\"M 147.750225 224.64 \nL 148.633935 224.64 \nL 148.633935 17.554286 \nL 147.750225 17.554286 \nz\n\" style=\"fill:#4c72b0;stroke:#ffffff;stroke-linejoin:miter;\"/>\n   </g>\n   <g id=\"patch_68\">\n    <path clip-path=\"url(#p6456fcfb4f)\" d=\"M 149.517646 224.64 \nL 150.401356 224.64 \nL 150.401356 17.554286 \nL 149.517646 17.554286 \nz\n\" style=\"fill:#4c72b0;stroke:#ffffff;stroke-linejoin:miter;\"/>\n   </g>\n   <g id=\"patch_69\">\n    <path clip-path=\"url(#p6456fcfb4f)\" d=\"M 151.285066 224.64 \nL 152.168777 224.64 \nL 152.168777 17.554286 \nL 151.285066 17.554286 \nz\n\" style=\"fill:#4c72b0;stroke:#ffffff;stroke-linejoin:miter;\"/>\n   </g>\n   <g id=\"patch_70\">\n    <path clip-path=\"url(#p6456fcfb4f)\" d=\"M 153.052487 224.64 \nL 153.936198 224.64 \nL 153.936198 17.554286 \nL 153.052487 17.554286 \nz\n\" style=\"fill:#4c72b0;stroke:#ffffff;stroke-linejoin:miter;\"/>\n   </g>\n   <g id=\"patch_71\">\n    <path clip-path=\"url(#p6456fcfb4f)\" d=\"M 154.819908 224.64 \nL 155.703618 224.64 \nL 155.703618 17.554286 \nL 154.819908 17.554286 \nz\n\" style=\"fill:#4c72b0;stroke:#ffffff;stroke-linejoin:miter;\"/>\n   </g>\n   <g id=\"patch_72\">\n    <path clip-path=\"url(#p6456fcfb4f)\" d=\"M 156.587329 224.64 \nL 157.471039 224.64 \nL 157.471039 17.554286 \nL 156.587329 17.554286 \nz\n\" style=\"fill:#4c72b0;stroke:#ffffff;stroke-linejoin:miter;\"/>\n   </g>\n   <g id=\"patch_73\">\n    <path clip-path=\"url(#p6456fcfb4f)\" d=\"M 158.35475 224.64 \nL 159.23846 224.64 \nL 159.23846 17.554286 \nL 158.35475 17.554286 \nz\n\" style=\"fill:#4c72b0;stroke:#ffffff;stroke-linejoin:miter;\"/>\n   </g>\n   <g id=\"patch_74\">\n    <path clip-path=\"url(#p6456fcfb4f)\" d=\"M 160.122171 224.64 \nL 161.005881 224.64 \nL 161.005881 17.554286 \nL 160.122171 17.554286 \nz\n\" style=\"fill:#4c72b0;stroke:#ffffff;stroke-linejoin:miter;\"/>\n   </g>\n   <g id=\"patch_75\">\n    <path clip-path=\"url(#p6456fcfb4f)\" d=\"M 161.889591 224.64 \nL 162.773302 224.64 \nL 162.773302 17.554286 \nL 161.889591 17.554286 \nz\n\" style=\"fill:#4c72b0;stroke:#ffffff;stroke-linejoin:miter;\"/>\n   </g>\n   <g id=\"patch_76\">\n    <path clip-path=\"url(#p6456fcfb4f)\" d=\"M 163.657012 224.64 \nL 164.540723 224.64 \nL 164.540723 17.554286 \nL 163.657012 17.554286 \nz\n\" style=\"fill:#4c72b0;stroke:#ffffff;stroke-linejoin:miter;\"/>\n   </g>\n   <g id=\"patch_77\">\n    <path clip-path=\"url(#p6456fcfb4f)\" d=\"M 165.424433 224.64 \nL 166.308143 224.64 \nL 166.308143 17.554286 \nL 165.424433 17.554286 \nz\n\" style=\"fill:#4c72b0;stroke:#ffffff;stroke-linejoin:miter;\"/>\n   </g>\n   <g id=\"patch_78\">\n    <path clip-path=\"url(#p6456fcfb4f)\" d=\"M 167.191854 224.64 \nL 168.075564 224.64 \nL 168.075564 17.554286 \nL 167.191854 17.554286 \nz\n\" style=\"fill:#4c72b0;stroke:#ffffff;stroke-linejoin:miter;\"/>\n   </g>\n   <g id=\"patch_79\">\n    <path clip-path=\"url(#p6456fcfb4f)\" d=\"M 168.959275 224.64 \nL 169.842985 224.64 \nL 169.842985 17.554286 \nL 168.959275 17.554286 \nz\n\" style=\"fill:#4c72b0;stroke:#ffffff;stroke-linejoin:miter;\"/>\n   </g>\n   <g id=\"patch_80\">\n    <path clip-path=\"url(#p6456fcfb4f)\" d=\"M 170.726695 224.64 \nL 171.610406 224.64 \nL 171.610406 17.554286 \nL 170.726695 17.554286 \nz\n\" style=\"fill:#4c72b0;stroke:#ffffff;stroke-linejoin:miter;\"/>\n   </g>\n   <g id=\"patch_81\">\n    <path clip-path=\"url(#p6456fcfb4f)\" d=\"M 172.494116 224.64 \nL 173.377827 224.64 \nL 173.377827 17.554286 \nL 172.494116 17.554286 \nz\n\" style=\"fill:#4c72b0;stroke:#ffffff;stroke-linejoin:miter;\"/>\n   </g>\n   <g id=\"patch_82\">\n    <path clip-path=\"url(#p6456fcfb4f)\" d=\"M 174.261537 224.64 \nL 175.145247 224.64 \nL 175.145247 17.554286 \nL 174.261537 17.554286 \nz\n\" style=\"fill:#4c72b0;stroke:#ffffff;stroke-linejoin:miter;\"/>\n   </g>\n   <g id=\"patch_83\">\n    <path clip-path=\"url(#p6456fcfb4f)\" d=\"M 176.028958 224.64 \nL 176.912668 224.64 \nL 176.912668 17.554286 \nL 176.028958 17.554286 \nz\n\" style=\"fill:#4c72b0;stroke:#ffffff;stroke-linejoin:miter;\"/>\n   </g>\n   <g id=\"patch_84\">\n    <path clip-path=\"url(#p6456fcfb4f)\" d=\"M 177.796379 224.64 \nL 178.680089 224.64 \nL 178.680089 17.554286 \nL 177.796379 17.554286 \nz\n\" style=\"fill:#4c72b0;stroke:#ffffff;stroke-linejoin:miter;\"/>\n   </g>\n   <g id=\"patch_85\">\n    <path clip-path=\"url(#p6456fcfb4f)\" d=\"M 179.563799 224.64 \nL 180.44751 224.64 \nL 180.44751 17.554286 \nL 179.563799 17.554286 \nz\n\" style=\"fill:#4c72b0;stroke:#ffffff;stroke-linejoin:miter;\"/>\n   </g>\n   <g id=\"patch_86\">\n    <path clip-path=\"url(#p6456fcfb4f)\" d=\"M 181.33122 224.64 \nL 182.214931 224.64 \nL 182.214931 17.554286 \nL 181.33122 17.554286 \nz\n\" style=\"fill:#4c72b0;stroke:#ffffff;stroke-linejoin:miter;\"/>\n   </g>\n   <g id=\"patch_87\">\n    <path clip-path=\"url(#p6456fcfb4f)\" d=\"M 183.098641 224.64 \nL 183.982352 224.64 \nL 183.982352 17.554286 \nL 183.098641 17.554286 \nz\n\" style=\"fill:#4c72b0;stroke:#ffffff;stroke-linejoin:miter;\"/>\n   </g>\n   <g id=\"patch_88\">\n    <path clip-path=\"url(#p6456fcfb4f)\" d=\"M 184.866062 224.64 \nL 185.749772 224.64 \nL 185.749772 17.554286 \nL 184.866062 17.554286 \nz\n\" style=\"fill:#4c72b0;stroke:#ffffff;stroke-linejoin:miter;\"/>\n   </g>\n   <g id=\"patch_89\">\n    <path clip-path=\"url(#p6456fcfb4f)\" d=\"M 186.633483 224.64 \nL 187.517193 224.64 \nL 187.517193 17.554286 \nL 186.633483 17.554286 \nz\n\" style=\"fill:#4c72b0;stroke:#ffffff;stroke-linejoin:miter;\"/>\n   </g>\n   <g id=\"patch_90\">\n    <path clip-path=\"url(#p6456fcfb4f)\" d=\"M 188.400904 224.64 \nL 189.284614 224.64 \nL 189.284614 17.554286 \nL 188.400904 17.554286 \nz\n\" style=\"fill:#4c72b0;stroke:#ffffff;stroke-linejoin:miter;\"/>\n   </g>\n   <g id=\"patch_91\">\n    <path clip-path=\"url(#p6456fcfb4f)\" d=\"M 190.168324 224.64 \nL 191.052035 224.64 \nL 191.052035 17.554286 \nL 190.168324 17.554286 \nz\n\" style=\"fill:#4c72b0;stroke:#ffffff;stroke-linejoin:miter;\"/>\n   </g>\n   <g id=\"patch_92\">\n    <path clip-path=\"url(#p6456fcfb4f)\" d=\"M 191.935745 224.64 \nL 192.819456 224.64 \nL 192.819456 17.554286 \nL 191.935745 17.554286 \nz\n\" style=\"fill:#4c72b0;stroke:#ffffff;stroke-linejoin:miter;\"/>\n   </g>\n   <g id=\"patch_93\">\n    <path clip-path=\"url(#p6456fcfb4f)\" d=\"M 193.703166 224.64 \nL 194.586876 224.64 \nL 194.586876 17.554286 \nL 193.703166 17.554286 \nz\n\" style=\"fill:#4c72b0;stroke:#ffffff;stroke-linejoin:miter;\"/>\n   </g>\n   <g id=\"patch_94\">\n    <path clip-path=\"url(#p6456fcfb4f)\" d=\"M 195.470587 224.64 \nL 196.354297 224.64 \nL 196.354297 17.554286 \nL 195.470587 17.554286 \nz\n\" style=\"fill:#4c72b0;stroke:#ffffff;stroke-linejoin:miter;\"/>\n   </g>\n   <g id=\"patch_95\">\n    <path clip-path=\"url(#p6456fcfb4f)\" d=\"M 197.238008 224.64 \nL 198.121718 224.64 \nL 198.121718 17.554286 \nL 197.238008 17.554286 \nz\n\" style=\"fill:#4c72b0;stroke:#ffffff;stroke-linejoin:miter;\"/>\n   </g>\n   <g id=\"patch_96\">\n    <path clip-path=\"url(#p6456fcfb4f)\" d=\"M 199.005428 224.64 \nL 199.889139 224.64 \nL 199.889139 17.554286 \nL 199.005428 17.554286 \nz\n\" style=\"fill:#4c72b0;stroke:#ffffff;stroke-linejoin:miter;\"/>\n   </g>\n   <g id=\"patch_97\">\n    <path clip-path=\"url(#p6456fcfb4f)\" d=\"M 200.772849 224.64 \nL 201.65656 224.64 \nL 201.65656 17.554286 \nL 200.772849 17.554286 \nz\n\" style=\"fill:#4c72b0;stroke:#ffffff;stroke-linejoin:miter;\"/>\n   </g>\n   <g id=\"patch_98\">\n    <path clip-path=\"url(#p6456fcfb4f)\" d=\"M 202.54027 224.64 \nL 203.42398 224.64 \nL 203.42398 17.554286 \nL 202.54027 17.554286 \nz\n\" style=\"fill:#4c72b0;stroke:#ffffff;stroke-linejoin:miter;\"/>\n   </g>\n   <g id=\"patch_99\">\n    <path clip-path=\"url(#p6456fcfb4f)\" d=\"M 204.307691 224.64 \nL 205.191401 224.64 \nL 205.191401 17.554286 \nL 204.307691 17.554286 \nz\n\" style=\"fill:#4c72b0;stroke:#ffffff;stroke-linejoin:miter;\"/>\n   </g>\n   <g id=\"patch_100\">\n    <path clip-path=\"url(#p6456fcfb4f)\" d=\"M 206.075112 224.64 \nL 206.958822 224.64 \nL 206.958822 17.554286 \nL 206.075112 17.554286 \nz\n\" style=\"fill:#4c72b0;stroke:#ffffff;stroke-linejoin:miter;\"/>\n   </g>\n   <g id=\"patch_101\">\n    <path clip-path=\"url(#p6456fcfb4f)\" d=\"M 207.842533 224.64 \nL 208.726243 224.64 \nL 208.726243 17.554286 \nL 207.842533 17.554286 \nz\n\" style=\"fill:#4c72b0;stroke:#ffffff;stroke-linejoin:miter;\"/>\n   </g>\n   <g id=\"patch_102\">\n    <path clip-path=\"url(#p6456fcfb4f)\" d=\"M 209.609953 224.64 \nL 210.493664 224.64 \nL 210.493664 17.554286 \nL 209.609953 17.554286 \nz\n\" style=\"fill:#4c72b0;stroke:#ffffff;stroke-linejoin:miter;\"/>\n   </g>\n   <g id=\"patch_103\">\n    <path clip-path=\"url(#p6456fcfb4f)\" d=\"M 211.377374 224.64 \nL 212.261085 224.64 \nL 212.261085 17.554286 \nL 211.377374 17.554286 \nz\n\" style=\"fill:#4c72b0;stroke:#ffffff;stroke-linejoin:miter;\"/>\n   </g>\n   <g id=\"patch_104\">\n    <path clip-path=\"url(#p6456fcfb4f)\" d=\"M 213.144795 224.64 \nL 214.028505 224.64 \nL 214.028505 17.554286 \nL 213.144795 17.554286 \nz\n\" style=\"fill:#4c72b0;stroke:#ffffff;stroke-linejoin:miter;\"/>\n   </g>\n   <g id=\"patch_105\">\n    <path clip-path=\"url(#p6456fcfb4f)\" d=\"M 214.912216 224.64 \nL 215.795926 224.64 \nL 215.795926 17.554286 \nL 214.912216 17.554286 \nz\n\" style=\"fill:#4c72b0;stroke:#ffffff;stroke-linejoin:miter;\"/>\n   </g>\n   <g id=\"patch_106\">\n    <path clip-path=\"url(#p6456fcfb4f)\" d=\"M 216.679637 224.64 \nL 217.563347 224.64 \nL 217.563347 17.554286 \nL 216.679637 17.554286 \nz\n\" style=\"fill:#4c72b0;stroke:#ffffff;stroke-linejoin:miter;\"/>\n   </g>\n   <g id=\"patch_107\">\n    <path clip-path=\"url(#p6456fcfb4f)\" d=\"M 218.447057 224.64 \nL 219.330768 224.64 \nL 219.330768 17.554286 \nL 218.447057 17.554286 \nz\n\" style=\"fill:#4c72b0;stroke:#ffffff;stroke-linejoin:miter;\"/>\n   </g>\n   <g id=\"patch_108\">\n    <path clip-path=\"url(#p6456fcfb4f)\" d=\"M 220.214478 224.64 \nL 221.098189 224.64 \nL 221.098189 17.554286 \nL 220.214478 17.554286 \nz\n\" style=\"fill:#4c72b0;stroke:#ffffff;stroke-linejoin:miter;\"/>\n   </g>\n   <g id=\"patch_109\">\n    <path clip-path=\"url(#p6456fcfb4f)\" d=\"M 221.981899 224.64 \nL 222.865609 224.64 \nL 222.865609 17.554286 \nL 221.981899 17.554286 \nz\n\" style=\"fill:#4c72b0;stroke:#ffffff;stroke-linejoin:miter;\"/>\n   </g>\n   <g id=\"patch_110\">\n    <path clip-path=\"url(#p6456fcfb4f)\" d=\"M 223.74932 224.64 \nL 224.63303 224.64 \nL 224.63303 17.554286 \nL 223.74932 17.554286 \nz\n\" style=\"fill:#4c72b0;stroke:#ffffff;stroke-linejoin:miter;\"/>\n   </g>\n   <g id=\"patch_111\">\n    <path clip-path=\"url(#p6456fcfb4f)\" d=\"M 225.516741 224.64 \nL 226.400451 224.64 \nL 226.400451 17.554286 \nL 225.516741 17.554286 \nz\n\" style=\"fill:#4c72b0;stroke:#ffffff;stroke-linejoin:miter;\"/>\n   </g>\n   <g id=\"patch_112\">\n    <path clip-path=\"url(#p6456fcfb4f)\" d=\"M 227.284161 224.64 \nL 228.167872 224.64 \nL 228.167872 17.554286 \nL 227.284161 17.554286 \nz\n\" style=\"fill:#4c72b0;stroke:#ffffff;stroke-linejoin:miter;\"/>\n   </g>\n   <g id=\"patch_113\">\n    <path clip-path=\"url(#p6456fcfb4f)\" d=\"M 229.051582 224.64 \nL 229.935293 224.64 \nL 229.935293 17.554286 \nL 229.051582 17.554286 \nz\n\" style=\"fill:#4c72b0;stroke:#ffffff;stroke-linejoin:miter;\"/>\n   </g>\n   <g id=\"patch_114\">\n    <path clip-path=\"url(#p6456fcfb4f)\" d=\"M 230.819003 224.64 \nL 231.702714 224.64 \nL 231.702714 17.554286 \nL 230.819003 17.554286 \nz\n\" style=\"fill:#4c72b0;stroke:#ffffff;stroke-linejoin:miter;\"/>\n   </g>\n   <g id=\"patch_115\">\n    <path clip-path=\"url(#p6456fcfb4f)\" d=\"M 232.586424 224.64 \nL 233.470134 224.64 \nL 233.470134 17.554286 \nL 232.586424 17.554286 \nz\n\" style=\"fill:#4c72b0;stroke:#ffffff;stroke-linejoin:miter;\"/>\n   </g>\n   <g id=\"patch_116\">\n    <path clip-path=\"url(#p6456fcfb4f)\" d=\"M 234.353845 224.64 \nL 235.237555 224.64 \nL 235.237555 17.554286 \nL 234.353845 17.554286 \nz\n\" style=\"fill:#4c72b0;stroke:#ffffff;stroke-linejoin:miter;\"/>\n   </g>\n   <g id=\"patch_117\">\n    <path clip-path=\"url(#p6456fcfb4f)\" d=\"M 236.121266 224.64 \nL 237.004976 224.64 \nL 237.004976 17.554286 \nL 236.121266 17.554286 \nz\n\" style=\"fill:#4c72b0;stroke:#ffffff;stroke-linejoin:miter;\"/>\n   </g>\n   <g id=\"patch_118\">\n    <path clip-path=\"url(#p6456fcfb4f)\" d=\"M 237.888686 224.64 \nL 238.772397 224.64 \nL 238.772397 17.554286 \nL 237.888686 17.554286 \nz\n\" style=\"fill:#4c72b0;stroke:#ffffff;stroke-linejoin:miter;\"/>\n   </g>\n   <g id=\"patch_119\">\n    <path clip-path=\"url(#p6456fcfb4f)\" d=\"M 239.656107 224.64 \nL 240.539818 224.64 \nL 240.539818 17.554286 \nL 239.656107 17.554286 \nz\n\" style=\"fill:#4c72b0;stroke:#ffffff;stroke-linejoin:miter;\"/>\n   </g>\n   <g id=\"patch_120\">\n    <path clip-path=\"url(#p6456fcfb4f)\" d=\"M 241.423528 224.64 \nL 242.307238 224.64 \nL 242.307238 17.554286 \nL 241.423528 17.554286 \nz\n\" style=\"fill:#4c72b0;stroke:#ffffff;stroke-linejoin:miter;\"/>\n   </g>\n   <g id=\"patch_121\">\n    <path clip-path=\"url(#p6456fcfb4f)\" d=\"M 243.190949 224.64 \nL 244.074659 224.64 \nL 244.074659 17.554286 \nL 243.190949 17.554286 \nz\n\" style=\"fill:#4c72b0;stroke:#ffffff;stroke-linejoin:miter;\"/>\n   </g>\n   <g id=\"patch_122\">\n    <path clip-path=\"url(#p6456fcfb4f)\" d=\"M 244.95837 224.64 \nL 245.84208 224.64 \nL 245.84208 17.554286 \nL 244.95837 17.554286 \nz\n\" style=\"fill:#4c72b0;stroke:#ffffff;stroke-linejoin:miter;\"/>\n   </g>\n   <g id=\"patch_123\">\n    <path clip-path=\"url(#p6456fcfb4f)\" d=\"M 246.72579 224.64 \nL 247.609501 224.64 \nL 247.609501 17.554286 \nL 246.72579 17.554286 \nz\n\" style=\"fill:#4c72b0;stroke:#ffffff;stroke-linejoin:miter;\"/>\n   </g>\n   <g id=\"patch_124\">\n    <path clip-path=\"url(#p6456fcfb4f)\" d=\"M 248.493211 224.64 \nL 249.376922 224.64 \nL 249.376922 17.554286 \nL 248.493211 17.554286 \nz\n\" style=\"fill:#4c72b0;stroke:#ffffff;stroke-linejoin:miter;\"/>\n   </g>\n   <g id=\"patch_125\">\n    <path clip-path=\"url(#p6456fcfb4f)\" d=\"M 250.260632 224.64 \nL 251.144342 224.64 \nL 251.144342 17.554286 \nL 250.260632 17.554286 \nz\n\" style=\"fill:#4c72b0;stroke:#ffffff;stroke-linejoin:miter;\"/>\n   </g>\n   <g id=\"patch_126\">\n    <path clip-path=\"url(#p6456fcfb4f)\" d=\"M 252.028053 224.64 \nL 252.911763 224.64 \nL 252.911763 17.554286 \nL 252.028053 17.554286 \nz\n\" style=\"fill:#4c72b0;stroke:#ffffff;stroke-linejoin:miter;\"/>\n   </g>\n   <g id=\"patch_127\">\n    <path clip-path=\"url(#p6456fcfb4f)\" d=\"M 253.795474 224.64 \nL 254.679184 224.64 \nL 254.679184 17.554286 \nL 253.795474 17.554286 \nz\n\" style=\"fill:#4c72b0;stroke:#ffffff;stroke-linejoin:miter;\"/>\n   </g>\n   <g id=\"patch_128\">\n    <path clip-path=\"url(#p6456fcfb4f)\" d=\"M 255.562895 224.64 \nL 256.446605 224.64 \nL 256.446605 17.554286 \nL 255.562895 17.554286 \nz\n\" style=\"fill:#4c72b0;stroke:#ffffff;stroke-linejoin:miter;\"/>\n   </g>\n   <g id=\"patch_129\">\n    <path clip-path=\"url(#p6456fcfb4f)\" d=\"M 257.330315 224.64 \nL 258.214026 224.64 \nL 258.214026 17.554286 \nL 257.330315 17.554286 \nz\n\" style=\"fill:#4c72b0;stroke:#ffffff;stroke-linejoin:miter;\"/>\n   </g>\n   <g id=\"patch_130\">\n    <path clip-path=\"url(#p6456fcfb4f)\" d=\"M 259.097736 224.64 \nL 259.981447 224.64 \nL 259.981447 17.554286 \nL 259.097736 17.554286 \nz\n\" style=\"fill:#4c72b0;stroke:#ffffff;stroke-linejoin:miter;\"/>\n   </g>\n   <g id=\"patch_131\">\n    <path clip-path=\"url(#p6456fcfb4f)\" d=\"M 260.865157 224.64 \nL 261.748867 224.64 \nL 261.748867 17.554286 \nL 260.865157 17.554286 \nz\n\" style=\"fill:#4c72b0;stroke:#ffffff;stroke-linejoin:miter;\"/>\n   </g>\n   <g id=\"patch_132\">\n    <path clip-path=\"url(#p6456fcfb4f)\" d=\"M 262.632578 224.64 \nL 263.516288 224.64 \nL 263.516288 17.554286 \nL 262.632578 17.554286 \nz\n\" style=\"fill:#4c72b0;stroke:#ffffff;stroke-linejoin:miter;\"/>\n   </g>\n   <g id=\"patch_133\">\n    <path clip-path=\"url(#p6456fcfb4f)\" d=\"M 264.399999 224.64 \nL 265.283709 224.64 \nL 265.283709 17.554286 \nL 264.399999 17.554286 \nz\n\" style=\"fill:#4c72b0;stroke:#ffffff;stroke-linejoin:miter;\"/>\n   </g>\n   <g id=\"patch_134\">\n    <path clip-path=\"url(#p6456fcfb4f)\" d=\"M 266.167419 224.64 \nL 267.05113 224.64 \nL 267.05113 17.554286 \nL 266.167419 17.554286 \nz\n\" style=\"fill:#4c72b0;stroke:#ffffff;stroke-linejoin:miter;\"/>\n   </g>\n   <g id=\"patch_135\">\n    <path clip-path=\"url(#p6456fcfb4f)\" d=\"M 267.93484 224.64 \nL 268.818551 224.64 \nL 268.818551 17.554286 \nL 267.93484 17.554286 \nz\n\" style=\"fill:#4c72b0;stroke:#ffffff;stroke-linejoin:miter;\"/>\n   </g>\n   <g id=\"patch_136\">\n    <path clip-path=\"url(#p6456fcfb4f)\" d=\"M 269.702261 224.64 \nL 270.585971 224.64 \nL 270.585971 17.554286 \nL 269.702261 17.554286 \nz\n\" style=\"fill:#4c72b0;stroke:#ffffff;stroke-linejoin:miter;\"/>\n   </g>\n   <g id=\"patch_137\">\n    <path clip-path=\"url(#p6456fcfb4f)\" d=\"M 271.469682 224.64 \nL 272.353392 224.64 \nL 272.353392 17.554286 \nL 271.469682 17.554286 \nz\n\" style=\"fill:#4c72b0;stroke:#ffffff;stroke-linejoin:miter;\"/>\n   </g>\n   <g id=\"patch_138\">\n    <path clip-path=\"url(#p6456fcfb4f)\" d=\"M 273.237103 224.64 \nL 274.120813 224.64 \nL 274.120813 17.554286 \nL 273.237103 17.554286 \nz\n\" style=\"fill:#4c72b0;stroke:#ffffff;stroke-linejoin:miter;\"/>\n   </g>\n   <g id=\"patch_139\">\n    <path clip-path=\"url(#p6456fcfb4f)\" d=\"M 275.004523 224.64 \nL 275.888234 224.64 \nL 275.888234 17.554286 \nL 275.004523 17.554286 \nz\n\" style=\"fill:#4c72b0;stroke:#ffffff;stroke-linejoin:miter;\"/>\n   </g>\n   <g id=\"patch_140\">\n    <path clip-path=\"url(#p6456fcfb4f)\" d=\"M 276.771944 224.64 \nL 277.655655 224.64 \nL 277.655655 17.554286 \nL 276.771944 17.554286 \nz\n\" style=\"fill:#4c72b0;stroke:#ffffff;stroke-linejoin:miter;\"/>\n   </g>\n   <g id=\"patch_141\">\n    <path clip-path=\"url(#p6456fcfb4f)\" d=\"M 278.539365 224.64 \nL 279.423076 224.64 \nL 279.423076 17.554286 \nL 278.539365 17.554286 \nz\n\" style=\"fill:#4c72b0;stroke:#ffffff;stroke-linejoin:miter;\"/>\n   </g>\n   <g id=\"patch_142\">\n    <path clip-path=\"url(#p6456fcfb4f)\" d=\"M 280.306786 224.64 \nL 281.190496 224.64 \nL 281.190496 17.554286 \nL 280.306786 17.554286 \nz\n\" style=\"fill:#4c72b0;stroke:#ffffff;stroke-linejoin:miter;\"/>\n   </g>\n   <g id=\"patch_143\">\n    <path clip-path=\"url(#p6456fcfb4f)\" d=\"M 282.074207 224.64 \nL 282.957917 224.64 \nL 282.957917 17.554286 \nL 282.074207 17.554286 \nz\n\" style=\"fill:#4c72b0;stroke:#ffffff;stroke-linejoin:miter;\"/>\n   </g>\n   <g id=\"patch_144\">\n    <path clip-path=\"url(#p6456fcfb4f)\" d=\"M 283.841628 224.64 \nL 284.725338 224.64 \nL 284.725338 17.554286 \nL 283.841628 17.554286 \nz\n\" style=\"fill:#4c72b0;stroke:#ffffff;stroke-linejoin:miter;\"/>\n   </g>\n   <g id=\"patch_145\">\n    <path clip-path=\"url(#p6456fcfb4f)\" d=\"M 285.609048 224.64 \nL 286.492759 224.64 \nL 286.492759 17.554286 \nL 285.609048 17.554286 \nz\n\" style=\"fill:#4c72b0;stroke:#ffffff;stroke-linejoin:miter;\"/>\n   </g>\n   <g id=\"patch_146\">\n    <path clip-path=\"url(#p6456fcfb4f)\" d=\"M 287.376469 224.64 \nL 288.26018 224.64 \nL 288.26018 17.554286 \nL 287.376469 17.554286 \nz\n\" style=\"fill:#4c72b0;stroke:#ffffff;stroke-linejoin:miter;\"/>\n   </g>\n   <g id=\"patch_147\">\n    <path clip-path=\"url(#p6456fcfb4f)\" d=\"M 289.14389 224.64 \nL 290.0276 224.64 \nL 290.0276 17.554286 \nL 289.14389 17.554286 \nz\n\" style=\"fill:#4c72b0;stroke:#ffffff;stroke-linejoin:miter;\"/>\n   </g>\n   <g id=\"patch_148\">\n    <path clip-path=\"url(#p6456fcfb4f)\" d=\"M 290.911311 224.64 \nL 291.795021 224.64 \nL 291.795021 17.554286 \nL 290.911311 17.554286 \nz\n\" style=\"fill:#4c72b0;stroke:#ffffff;stroke-linejoin:miter;\"/>\n   </g>\n   <g id=\"patch_149\">\n    <path clip-path=\"url(#p6456fcfb4f)\" d=\"M 292.678732 224.64 \nL 293.562442 224.64 \nL 293.562442 17.554286 \nL 292.678732 17.554286 \nz\n\" style=\"fill:#4c72b0;stroke:#ffffff;stroke-linejoin:miter;\"/>\n   </g>\n   <g id=\"patch_150\">\n    <path clip-path=\"url(#p6456fcfb4f)\" d=\"M 294.446152 224.64 \nL 295.329863 224.64 \nL 295.329863 17.554286 \nL 294.446152 17.554286 \nz\n\" style=\"fill:#4c72b0;stroke:#ffffff;stroke-linejoin:miter;\"/>\n   </g>\n   <g id=\"patch_151\">\n    <path clip-path=\"url(#p6456fcfb4f)\" d=\"M 296.213573 224.64 \nL 297.097284 224.64 \nL 297.097284 17.554286 \nL 296.213573 17.554286 \nz\n\" style=\"fill:#4c72b0;stroke:#ffffff;stroke-linejoin:miter;\"/>\n   </g>\n   <g id=\"patch_152\">\n    <path clip-path=\"url(#p6456fcfb4f)\" d=\"M 297.980994 224.64 \nL 298.864704 224.64 \nL 298.864704 17.554286 \nL 297.980994 17.554286 \nz\n\" style=\"fill:#4c72b0;stroke:#ffffff;stroke-linejoin:miter;\"/>\n   </g>\n   <g id=\"patch_153\">\n    <path clip-path=\"url(#p6456fcfb4f)\" d=\"M 299.748415 224.64 \nL 300.632125 224.64 \nL 300.632125 17.554286 \nL 299.748415 17.554286 \nz\n\" style=\"fill:#4c72b0;stroke:#ffffff;stroke-linejoin:miter;\"/>\n   </g>\n   <g id=\"patch_154\">\n    <path clip-path=\"url(#p6456fcfb4f)\" d=\"M 301.515836 224.64 \nL 302.399546 224.64 \nL 302.399546 17.554286 \nL 301.515836 17.554286 \nz\n\" style=\"fill:#4c72b0;stroke:#ffffff;stroke-linejoin:miter;\"/>\n   </g>\n   <g id=\"patch_155\">\n    <path clip-path=\"url(#p6456fcfb4f)\" d=\"M 303.283257 224.64 \nL 304.166967 224.64 \nL 304.166967 17.554286 \nL 303.283257 17.554286 \nz\n\" style=\"fill:#4c72b0;stroke:#ffffff;stroke-linejoin:miter;\"/>\n   </g>\n   <g id=\"patch_156\">\n    <path clip-path=\"url(#p6456fcfb4f)\" d=\"M 305.050677 224.64 \nL 305.934388 224.64 \nL 305.934388 17.554286 \nL 305.050677 17.554286 \nz\n\" style=\"fill:#4c72b0;stroke:#ffffff;stroke-linejoin:miter;\"/>\n   </g>\n   <g id=\"patch_157\">\n    <path clip-path=\"url(#p6456fcfb4f)\" d=\"M 306.818098 224.64 \nL 307.701809 224.64 \nL 307.701809 17.554286 \nL 306.818098 17.554286 \nz\n\" style=\"fill:#4c72b0;stroke:#ffffff;stroke-linejoin:miter;\"/>\n   </g>\n   <g id=\"patch_158\">\n    <path clip-path=\"url(#p6456fcfb4f)\" d=\"M 308.585519 224.64 \nL 309.469229 224.64 \nL 309.469229 17.554286 \nL 308.585519 17.554286 \nz\n\" style=\"fill:#4c72b0;stroke:#ffffff;stroke-linejoin:miter;\"/>\n   </g>\n   <g id=\"patch_159\">\n    <path clip-path=\"url(#p6456fcfb4f)\" d=\"M 310.35294 224.64 \nL 311.23665 224.64 \nL 311.23665 17.554286 \nL 310.35294 17.554286 \nz\n\" style=\"fill:#4c72b0;stroke:#ffffff;stroke-linejoin:miter;\"/>\n   </g>\n   <g id=\"patch_160\">\n    <path clip-path=\"url(#p6456fcfb4f)\" d=\"M 312.120361 224.64 \nL 313.004071 224.64 \nL 313.004071 17.554286 \nL 312.120361 17.554286 \nz\n\" style=\"fill:#4c72b0;stroke:#ffffff;stroke-linejoin:miter;\"/>\n   </g>\n   <g id=\"patch_161\">\n    <path clip-path=\"url(#p6456fcfb4f)\" d=\"M 313.887781 224.64 \nL 314.771492 224.64 \nL 314.771492 17.554286 \nL 313.887781 17.554286 \nz\n\" style=\"fill:#4c72b0;stroke:#ffffff;stroke-linejoin:miter;\"/>\n   </g>\n   <g id=\"patch_162\">\n    <path clip-path=\"url(#p6456fcfb4f)\" d=\"M 315.655202 224.64 \nL 316.538913 224.64 \nL 316.538913 17.554286 \nL 315.655202 17.554286 \nz\n\" style=\"fill:#4c72b0;stroke:#ffffff;stroke-linejoin:miter;\"/>\n   </g>\n   <g id=\"patch_163\">\n    <path clip-path=\"url(#p6456fcfb4f)\" d=\"M 317.422623 224.64 \nL 318.306333 224.64 \nL 318.306333 17.554286 \nL 317.422623 17.554286 \nz\n\" style=\"fill:#4c72b0;stroke:#ffffff;stroke-linejoin:miter;\"/>\n   </g>\n   <g id=\"patch_164\">\n    <path clip-path=\"url(#p6456fcfb4f)\" d=\"M 319.190044 224.64 \nL 320.073754 224.64 \nL 320.073754 17.554286 \nL 319.190044 17.554286 \nz\n\" style=\"fill:#4c72b0;stroke:#ffffff;stroke-linejoin:miter;\"/>\n   </g>\n   <g id=\"patch_165\">\n    <path clip-path=\"url(#p6456fcfb4f)\" d=\"M 320.957465 224.64 \nL 321.841175 224.64 \nL 321.841175 17.554286 \nL 320.957465 17.554286 \nz\n\" style=\"fill:#4c72b0;stroke:#ffffff;stroke-linejoin:miter;\"/>\n   </g>\n   <g id=\"patch_166\">\n    <path clip-path=\"url(#p6456fcfb4f)\" d=\"M 322.724885 224.64 \nL 323.608596 224.64 \nL 323.608596 17.554286 \nL 322.724885 17.554286 \nz\n\" style=\"fill:#4c72b0;stroke:#ffffff;stroke-linejoin:miter;\"/>\n   </g>\n   <g id=\"patch_167\">\n    <path clip-path=\"url(#p6456fcfb4f)\" d=\"M 324.492306 224.64 \nL 325.376017 224.64 \nL 325.376017 17.554286 \nL 324.492306 17.554286 \nz\n\" style=\"fill:#4c72b0;stroke:#ffffff;stroke-linejoin:miter;\"/>\n   </g>\n   <g id=\"patch_168\">\n    <path clip-path=\"url(#p6456fcfb4f)\" d=\"M 326.259727 224.64 \nL 327.143438 224.64 \nL 327.143438 17.554286 \nL 326.259727 17.554286 \nz\n\" style=\"fill:#4c72b0;stroke:#ffffff;stroke-linejoin:miter;\"/>\n   </g>\n   <g id=\"patch_169\">\n    <path clip-path=\"url(#p6456fcfb4f)\" d=\"M 328.027148 224.64 \nL 328.910858 224.64 \nL 328.910858 17.554286 \nL 328.027148 17.554286 \nz\n\" style=\"fill:#4c72b0;stroke:#ffffff;stroke-linejoin:miter;\"/>\n   </g>\n   <g id=\"patch_170\">\n    <path clip-path=\"url(#p6456fcfb4f)\" d=\"M 329.794569 224.64 \nL 330.678279 224.64 \nL 330.678279 17.554286 \nL 329.794569 17.554286 \nz\n\" style=\"fill:#4c72b0;stroke:#ffffff;stroke-linejoin:miter;\"/>\n   </g>\n   <g id=\"patch_171\">\n    <path clip-path=\"url(#p6456fcfb4f)\" d=\"M 331.56199 224.64 \nL 332.4457 224.64 \nL 332.4457 17.554286 \nL 331.56199 17.554286 \nz\n\" style=\"fill:#4c72b0;stroke:#ffffff;stroke-linejoin:miter;\"/>\n   </g>\n   <g id=\"patch_172\">\n    <path clip-path=\"url(#p6456fcfb4f)\" d=\"M 333.32941 224.64 \nL 334.213121 224.64 \nL 334.213121 17.554286 \nL 333.32941 17.554286 \nz\n\" style=\"fill:#4c72b0;stroke:#ffffff;stroke-linejoin:miter;\"/>\n   </g>\n   <g id=\"patch_173\">\n    <path clip-path=\"url(#p6456fcfb4f)\" d=\"M 335.096831 224.64 \nL 335.980542 224.64 \nL 335.980542 17.554286 \nL 335.096831 17.554286 \nz\n\" style=\"fill:#4c72b0;stroke:#ffffff;stroke-linejoin:miter;\"/>\n   </g>\n   <g id=\"patch_174\">\n    <path clip-path=\"url(#p6456fcfb4f)\" d=\"M 336.864252 224.64 \nL 337.747962 224.64 \nL 337.747962 17.554286 \nL 336.864252 17.554286 \nz\n\" style=\"fill:#4c72b0;stroke:#ffffff;stroke-linejoin:miter;\"/>\n   </g>\n   <g id=\"patch_175\">\n    <path clip-path=\"url(#p6456fcfb4f)\" d=\"M 338.631673 224.64 \nL 339.515383 224.64 \nL 339.515383 17.554286 \nL 338.631673 17.554286 \nz\n\" style=\"fill:#4c72b0;stroke:#ffffff;stroke-linejoin:miter;\"/>\n   </g>\n   <g id=\"patch_176\">\n    <path clip-path=\"url(#p6456fcfb4f)\" d=\"M 340.399094 224.64 \nL 341.282804 224.64 \nL 341.282804 17.554286 \nL 340.399094 17.554286 \nz\n\" style=\"fill:#4c72b0;stroke:#ffffff;stroke-linejoin:miter;\"/>\n   </g>\n   <g id=\"patch_177\">\n    <path clip-path=\"url(#p6456fcfb4f)\" d=\"M 342.166514 224.64 \nL 343.050225 224.64 \nL 343.050225 17.554286 \nL 342.166514 17.554286 \nz\n\" style=\"fill:#4c72b0;stroke:#ffffff;stroke-linejoin:miter;\"/>\n   </g>\n   <g id=\"patch_178\">\n    <path clip-path=\"url(#p6456fcfb4f)\" d=\"M 343.933935 224.64 \nL 344.817646 224.64 \nL 344.817646 17.554286 \nL 343.933935 17.554286 \nz\n\" style=\"fill:#4c72b0;stroke:#ffffff;stroke-linejoin:miter;\"/>\n   </g>\n   <g id=\"patch_179\">\n    <path clip-path=\"url(#p6456fcfb4f)\" d=\"M 345.701356 224.64 \nL 346.585066 224.64 \nL 346.585066 17.554286 \nL 345.701356 17.554286 \nz\n\" style=\"fill:#4c72b0;stroke:#ffffff;stroke-linejoin:miter;\"/>\n   </g>\n   <g id=\"patch_180\">\n    <path clip-path=\"url(#p6456fcfb4f)\" d=\"M 347.468777 224.64 \nL 348.352487 224.64 \nL 348.352487 17.554286 \nL 347.468777 17.554286 \nz\n\" style=\"fill:#4c72b0;stroke:#ffffff;stroke-linejoin:miter;\"/>\n   </g>\n   <g id=\"patch_181\">\n    <path clip-path=\"url(#p6456fcfb4f)\" d=\"M 349.236198 224.64 \nL 350.119908 224.64 \nL 350.119908 17.554286 \nL 349.236198 17.554286 \nz\n\" style=\"fill:#4c72b0;stroke:#ffffff;stroke-linejoin:miter;\"/>\n   </g>\n   <g id=\"patch_182\">\n    <path clip-path=\"url(#p6456fcfb4f)\" d=\"M 351.003618 224.64 \nL 351.887329 224.64 \nL 351.887329 17.554286 \nL 351.003618 17.554286 \nz\n\" style=\"fill:#4c72b0;stroke:#ffffff;stroke-linejoin:miter;\"/>\n   </g>\n   <g id=\"patch_183\">\n    <path clip-path=\"url(#p6456fcfb4f)\" d=\"M 352.771039 224.64 \nL 353.65475 224.64 \nL 353.65475 17.554286 \nL 352.771039 17.554286 \nz\n\" style=\"fill:#4c72b0;stroke:#ffffff;stroke-linejoin:miter;\"/>\n   </g>\n   <g id=\"patch_184\">\n    <path clip-path=\"url(#p6456fcfb4f)\" d=\"M 354.53846 224.64 \nL 355.422171 224.64 \nL 355.422171 17.554286 \nL 354.53846 17.554286 \nz\n\" style=\"fill:#4c72b0;stroke:#ffffff;stroke-linejoin:miter;\"/>\n   </g>\n   <g id=\"patch_185\">\n    <path clip-path=\"url(#p6456fcfb4f)\" d=\"M 356.305881 224.64 \nL 357.189591 224.64 \nL 357.189591 17.554286 \nL 356.305881 17.554286 \nz\n\" style=\"fill:#4c72b0;stroke:#ffffff;stroke-linejoin:miter;\"/>\n   </g>\n   <g id=\"patch_186\">\n    <path clip-path=\"url(#p6456fcfb4f)\" d=\"M 358.073302 224.64 \nL 358.957012 224.64 \nL 358.957012 17.554286 \nL 358.073302 17.554286 \nz\n\" style=\"fill:#4c72b0;stroke:#ffffff;stroke-linejoin:miter;\"/>\n   </g>\n   <g id=\"patch_187\">\n    <path clip-path=\"url(#p6456fcfb4f)\" d=\"M 359.840723 224.64 \nL 360.724433 224.64 \nL 360.724433 17.554286 \nL 359.840723 17.554286 \nz\n\" style=\"fill:#4c72b0;stroke:#ffffff;stroke-linejoin:miter;\"/>\n   </g>\n   <g id=\"patch_188\">\n    <path clip-path=\"url(#p6456fcfb4f)\" d=\"M 361.608143 224.64 \nL 362.491854 224.64 \nL 362.491854 17.554286 \nL 361.608143 17.554286 \nz\n\" style=\"fill:#4c72b0;stroke:#ffffff;stroke-linejoin:miter;\"/>\n   </g>\n   <g id=\"patch_189\">\n    <path clip-path=\"url(#p6456fcfb4f)\" d=\"M 363.375564 224.64 \nL 364.259275 224.64 \nL 364.259275 17.554286 \nL 363.375564 17.554286 \nz\n\" style=\"fill:#4c72b0;stroke:#ffffff;stroke-linejoin:miter;\"/>\n   </g>\n   <g id=\"patch_190\">\n    <path clip-path=\"url(#p6456fcfb4f)\" d=\"M 365.142985 224.64 \nL 366.026695 224.64 \nL 366.026695 17.554286 \nL 365.142985 17.554286 \nz\n\" style=\"fill:#4c72b0;stroke:#ffffff;stroke-linejoin:miter;\"/>\n   </g>\n   <g id=\"patch_191\">\n    <path clip-path=\"url(#p6456fcfb4f)\" d=\"M 366.910406 224.64 \nL 367.794116 224.64 \nL 367.794116 17.554286 \nL 366.910406 17.554286 \nz\n\" style=\"fill:#4c72b0;stroke:#ffffff;stroke-linejoin:miter;\"/>\n   </g>\n   <g id=\"patch_192\">\n    <path clip-path=\"url(#p6456fcfb4f)\" d=\"M 368.677827 224.64 \nL 369.561537 224.64 \nL 369.561537 17.554286 \nL 368.677827 17.554286 \nz\n\" style=\"fill:#4c72b0;stroke:#ffffff;stroke-linejoin:miter;\"/>\n   </g>\n   <g id=\"patch_193\">\n    <path clip-path=\"url(#p6456fcfb4f)\" d=\"M 370.445247 224.64 \nL 371.328958 224.64 \nL 371.328958 17.554286 \nL 370.445247 17.554286 \nz\n\" style=\"fill:#4c72b0;stroke:#ffffff;stroke-linejoin:miter;\"/>\n   </g>\n   <g id=\"patch_194\">\n    <path clip-path=\"url(#p6456fcfb4f)\" d=\"M 372.212668 224.64 \nL 373.096379 224.64 \nL 373.096379 17.554286 \nL 372.212668 17.554286 \nz\n\" style=\"fill:#4c72b0;stroke:#ffffff;stroke-linejoin:miter;\"/>\n   </g>\n   <g id=\"patch_195\">\n    <path clip-path=\"url(#p6456fcfb4f)\" d=\"M 373.980089 224.64 \nL 374.863799 224.64 \nL 374.863799 17.554286 \nL 373.980089 17.554286 \nz\n\" style=\"fill:#4c72b0;stroke:#ffffff;stroke-linejoin:miter;\"/>\n   </g>\n   <g id=\"patch_196\">\n    <path clip-path=\"url(#p6456fcfb4f)\" d=\"M 375.74751 224.64 \nL 376.63122 224.64 \nL 376.63122 17.554286 \nL 375.74751 17.554286 \nz\n\" style=\"fill:#4c72b0;stroke:#ffffff;stroke-linejoin:miter;\"/>\n   </g>\n   <g id=\"patch_197\">\n    <path clip-path=\"url(#p6456fcfb4f)\" d=\"M 377.514931 224.64 \nL 378.398641 224.64 \nL 378.398641 17.554286 \nL 377.514931 17.554286 \nz\n\" style=\"fill:#4c72b0;stroke:#ffffff;stroke-linejoin:miter;\"/>\n   </g>\n   <g id=\"patch_198\">\n    <path clip-path=\"url(#p6456fcfb4f)\" d=\"M 379.282352 224.64 \nL 380.166062 224.64 \nL 380.166062 17.554286 \nL 379.282352 17.554286 \nz\n\" style=\"fill:#4c72b0;stroke:#ffffff;stroke-linejoin:miter;\"/>\n   </g>\n   <g id=\"patch_199\">\n    <path clip-path=\"url(#p6456fcfb4f)\" d=\"M 381.049772 224.64 \nL 381.933483 224.64 \nL 381.933483 17.554286 \nL 381.049772 17.554286 \nz\n\" style=\"fill:#4c72b0;stroke:#ffffff;stroke-linejoin:miter;\"/>\n   </g>\n   <g id=\"patch_200\">\n    <path clip-path=\"url(#p6456fcfb4f)\" d=\"M 382.817193 224.64 \nL 383.700904 224.64 \nL 383.700904 17.554286 \nL 382.817193 17.554286 \nz\n\" style=\"fill:#4c72b0;stroke:#ffffff;stroke-linejoin:miter;\"/>\n   </g>\n   <g id=\"patch_201\">\n    <path clip-path=\"url(#p6456fcfb4f)\" d=\"M 384.584614 224.64 \nL 385.468324 224.64 \nL 385.468324 17.554286 \nL 384.584614 17.554286 \nz\n\" style=\"fill:#4c72b0;stroke:#ffffff;stroke-linejoin:miter;\"/>\n   </g>\n   <g id=\"patch_202\">\n    <path clip-path=\"url(#p6456fcfb4f)\" d=\"M 386.352035 224.64 \nL 387.235745 224.64 \nL 387.235745 17.554286 \nL 386.352035 17.554286 \nz\n\" style=\"fill:#4c72b0;stroke:#ffffff;stroke-linejoin:miter;\"/>\n   </g>\n   <g id=\"patch_203\">\n    <path clip-path=\"url(#p6456fcfb4f)\" d=\"M 388.119456 224.64 \nL 389.003166 224.64 \nL 389.003166 17.554286 \nL 388.119456 17.554286 \nz\n\" style=\"fill:#4c72b0;stroke:#ffffff;stroke-linejoin:miter;\"/>\n   </g>\n   <g id=\"patch_204\">\n    <path clip-path=\"url(#p6456fcfb4f)\" d=\"M 389.886876 224.64 \nL 390.770587 224.64 \nL 390.770587 17.554286 \nL 389.886876 17.554286 \nz\n\" style=\"fill:#4c72b0;stroke:#ffffff;stroke-linejoin:miter;\"/>\n   </g>\n   <g id=\"patch_205\">\n    <path clip-path=\"url(#p6456fcfb4f)\" d=\"M 391.654297 224.64 \nL 392.538008 224.64 \nL 392.538008 17.554286 \nL 391.654297 17.554286 \nz\n\" style=\"fill:#4c72b0;stroke:#ffffff;stroke-linejoin:miter;\"/>\n   </g>\n   <g id=\"patch_206\">\n    <path clip-path=\"url(#p6456fcfb4f)\" d=\"M 393.421718 224.64 \nL 394.305428 224.64 \nL 394.305428 17.554286 \nL 393.421718 17.554286 \nz\n\" style=\"fill:#4c72b0;stroke:#ffffff;stroke-linejoin:miter;\"/>\n   </g>\n   <g id=\"patch_207\">\n    <path clip-path=\"url(#p6456fcfb4f)\" d=\"M 395.189139 224.64 \nL 396.072849 224.64 \nL 396.072849 17.554286 \nL 395.189139 17.554286 \nz\n\" style=\"fill:#4c72b0;stroke:#ffffff;stroke-linejoin:miter;\"/>\n   </g>\n   <g id=\"patch_208\">\n    <path clip-path=\"url(#p6456fcfb4f)\" d=\"M 396.95656 224.64 \nL 397.84027 224.64 \nL 397.84027 17.554286 \nL 396.95656 17.554286 \nz\n\" style=\"fill:#4c72b0;stroke:#ffffff;stroke-linejoin:miter;\"/>\n   </g>\n   <g id=\"patch_209\">\n    <path clip-path=\"url(#p6456fcfb4f)\" d=\"M 398.72398 224.64 \nL 399.607691 224.64 \nL 399.607691 17.554286 \nL 398.72398 17.554286 \nz\n\" style=\"fill:#4c72b0;stroke:#ffffff;stroke-linejoin:miter;\"/>\n   </g>\n   <g id=\"patch_210\">\n    <path clip-path=\"url(#p6456fcfb4f)\" d=\"M 400.491401 224.64 \nL 401.375112 224.64 \nL 401.375112 17.554286 \nL 400.491401 17.554286 \nz\n\" style=\"fill:#4c72b0;stroke:#ffffff;stroke-linejoin:miter;\"/>\n   </g>\n   <g id=\"patch_211\">\n    <path clip-path=\"url(#p6456fcfb4f)\" d=\"M 402.258822 224.64 \nL 403.142533 224.64 \nL 403.142533 17.554286 \nL 402.258822 17.554286 \nz\n\" style=\"fill:#4c72b0;stroke:#ffffff;stroke-linejoin:miter;\"/>\n   </g>\n   <g id=\"patch_212\">\n    <path clip-path=\"url(#p6456fcfb4f)\" d=\"M 404.026243 224.64 \nL 404.909953 224.64 \nL 404.909953 17.554286 \nL 404.026243 17.554286 \nz\n\" style=\"fill:#4c72b0;stroke:#ffffff;stroke-linejoin:miter;\"/>\n   </g>\n   <g id=\"patch_213\">\n    <path clip-path=\"url(#p6456fcfb4f)\" d=\"M 405.793664 224.64 \nL 406.677374 224.64 \nL 406.677374 17.554286 \nL 405.793664 17.554286 \nz\n\" style=\"fill:#4c72b0;stroke:#ffffff;stroke-linejoin:miter;\"/>\n   </g>\n   <g id=\"patch_214\">\n    <path clip-path=\"url(#p6456fcfb4f)\" d=\"M 407.561085 224.64 \nL 408.444795 224.64 \nL 408.444795 17.554286 \nL 407.561085 17.554286 \nz\n\" style=\"fill:#4c72b0;stroke:#ffffff;stroke-linejoin:miter;\"/>\n   </g>\n   <g id=\"patch_215\">\n    <path clip-path=\"url(#p6456fcfb4f)\" d=\"M 409.328505 224.64 \nL 410.212216 224.64 \nL 410.212216 17.554286 \nL 409.328505 17.554286 \nz\n\" style=\"fill:#4c72b0;stroke:#ffffff;stroke-linejoin:miter;\"/>\n   </g>\n   <g id=\"patch_216\">\n    <path clip-path=\"url(#p6456fcfb4f)\" d=\"M 411.095926 224.64 \nL 411.979637 224.64 \nL 411.979637 17.554286 \nL 411.095926 17.554286 \nz\n\" style=\"fill:#4c72b0;stroke:#ffffff;stroke-linejoin:miter;\"/>\n   </g>\n   <g id=\"patch_217\">\n    <path clip-path=\"url(#p6456fcfb4f)\" d=\"M 412.863347 224.64 \nL 413.747057 224.64 \nL 413.747057 17.554286 \nL 412.863347 17.554286 \nz\n\" style=\"fill:#4c72b0;stroke:#ffffff;stroke-linejoin:miter;\"/>\n   </g>\n   <g id=\"patch_218\">\n    <path clip-path=\"url(#p6456fcfb4f)\" d=\"M 414.630768 224.64 \nL 415.514478 224.64 \nL 415.514478 17.554286 \nL 414.630768 17.554286 \nz\n\" style=\"fill:#4c72b0;stroke:#ffffff;stroke-linejoin:miter;\"/>\n   </g>\n   <g id=\"patch_219\">\n    <path clip-path=\"url(#p6456fcfb4f)\" d=\"M 416.398189 224.64 \nL 417.281899 224.64 \nL 417.281899 17.554286 \nL 416.398189 17.554286 \nz\n\" style=\"fill:#4c72b0;stroke:#ffffff;stroke-linejoin:miter;\"/>\n   </g>\n   <g id=\"patch_220\">\n    <path clip-path=\"url(#p6456fcfb4f)\" d=\"M 418.165609 224.64 \nL 419.04932 224.64 \nL 419.04932 17.554286 \nL 418.165609 17.554286 \nz\n\" style=\"fill:#4c72b0;stroke:#ffffff;stroke-linejoin:miter;\"/>\n   </g>\n   <g id=\"patch_221\">\n    <path clip-path=\"url(#p6456fcfb4f)\" d=\"M 419.93303 224.64 \nL 420.816741 224.64 \nL 420.816741 17.554286 \nL 419.93303 17.554286 \nz\n\" style=\"fill:#4c72b0;stroke:#ffffff;stroke-linejoin:miter;\"/>\n   </g>\n   <g id=\"patch_222\">\n    <path clip-path=\"url(#p6456fcfb4f)\" d=\"M 421.700451 224.64 \nL 422.584161 224.64 \nL 422.584161 17.554286 \nL 421.700451 17.554286 \nz\n\" style=\"fill:#4c72b0;stroke:#ffffff;stroke-linejoin:miter;\"/>\n   </g>\n   <g id=\"patch_223\">\n    <path clip-path=\"url(#p6456fcfb4f)\" d=\"M 423.467872 224.64 \nL 424.351582 224.64 \nL 424.351582 17.554286 \nL 423.467872 17.554286 \nz\n\" style=\"fill:#4c72b0;stroke:#ffffff;stroke-linejoin:miter;\"/>\n   </g>\n   <g id=\"patch_224\">\n    <path d=\"M 34.193437 224.64 \nL 34.193437 7.2 \n\" style=\"fill:none;stroke:#cccccc;stroke-linecap:square;stroke-linejoin:miter;stroke-width:1.25;\"/>\n   </g>\n   <g id=\"patch_225\">\n    <path d=\"M 424.793438 224.64 \nL 424.793438 7.2 \n\" style=\"fill:none;stroke:#cccccc;stroke-linecap:square;stroke-linejoin:miter;stroke-width:1.25;\"/>\n   </g>\n   <g id=\"patch_226\">\n    <path d=\"M 34.193437 224.64 \nL 424.793438 224.64 \n\" style=\"fill:none;stroke:#cccccc;stroke-linecap:square;stroke-linejoin:miter;stroke-width:1.25;\"/>\n   </g>\n   <g id=\"patch_227\">\n    <path d=\"M 34.193437 7.2 \nL 424.793438 7.2 \n\" style=\"fill:none;stroke:#cccccc;stroke-linecap:square;stroke-linejoin:miter;stroke-width:1.25;\"/>\n   </g>\n   <g id=\"legend_1\">\n    <g id=\"patch_228\">\n     <path d=\"M 305.446875 32.451875 \nL 417.093438 32.451875 \nQ 419.293438 32.451875 419.293438 30.251875 \nL 419.293438 14.9 \nQ 419.293438 12.7 417.093438 12.7 \nL 305.446875 12.7 \nQ 303.246875 12.7 303.246875 14.9 \nL 303.246875 30.251875 \nQ 303.246875 32.451875 305.446875 32.451875 \nz\n\" style=\"fill:#ffffff;opacity:0.8;stroke:#cccccc;stroke-linejoin:miter;\"/>\n    </g>\n    <g id=\"patch_229\">\n     <path d=\"M 307.646875 25.458281 \nL 329.646875 25.458281 \nL 329.646875 17.758281 \nL 307.646875 17.758281 \nz\n\" style=\"fill:#4c72b0;stroke:#ffffff;stroke-linejoin:miter;\"/>\n    </g>\n    <g id=\"text_229\">\n     <!-- num_keyword -->\n     <defs>\n      <path d=\"M 50.984375 -16.609375 \nL 50.984375 -23.578125 \nL -0.984375 -23.578125 \nL -0.984375 -16.609375 \nz\n\" id=\"DejaVuSans-95\"/>\n     </defs>\n     <g style=\"fill:#262626;\" transform=\"translate(338.446875 25.458281)scale(0.11 -0.11)\">\n      <use xlink:href=\"#DejaVuSans-110\"/>\n      <use x=\"63.378906\" xlink:href=\"#DejaVuSans-117\"/>\n      <use x=\"126.757812\" xlink:href=\"#DejaVuSans-109\"/>\n      <use x=\"224.169922\" xlink:href=\"#DejaVuSans-95\"/>\n      <use x=\"274.169922\" xlink:href=\"#DejaVuSans-107\"/>\n      <use x=\"328.455078\" xlink:href=\"#DejaVuSans-101\"/>\n      <use x=\"389.978516\" xlink:href=\"#DejaVuSans-121\"/>\n      <use x=\"449.158203\" xlink:href=\"#DejaVuSans-119\"/>\n      <use x=\"530.945312\" xlink:href=\"#DejaVuSans-111\"/>\n      <use x=\"592.126953\" xlink:href=\"#DejaVuSans-114\"/>\n      <use x=\"631.490234\" xlink:href=\"#DejaVuSans-100\"/>\n     </g>\n    </g>\n   </g>\n  </g>\n </g>\n <defs>\n  <clipPath id=\"p6456fcfb4f\">\n   <rect height=\"217.44\" width=\"390.6\" x=\"34.193437\" y=\"7.2\"/>\n  </clipPath>\n </defs>\n</svg>\n"
          },
          "metadata": {}
        }
      ]
    },
    {
      "cell_type": "markdown",
      "source": [
        "## Exploring Word Frequencies"
      ],
      "metadata": {
        "id": "9VZGQk5bM3tc"
      }
    },
    {
      "cell_type": "code",
      "source": [
        "# create a data frame slice\n",
        "sub_train = train_data[train_data['keyword']=='disaster']\n",
        "\n",
        "# sample cleaned text and tokens tagged as nouns\n",
        "sub_train[['selftext_clean', 'selftext_nouns']].sample(2)"
      ],
      "metadata": {
        "colab": {
          "base_uri": "https://localhost:8080/",
          "height": 235
        },
        "id": "uJm46JoHMoGr",
        "outputId": "81dabd02-31bc-4c51-e6eb-18c11480734b"
      },
      "execution_count": null,
      "outputs": [
        {
          "output_type": "error",
          "ename": "NameError",
          "evalue": "ignored",
          "traceback": [
            "\u001b[0;31m---------------------------------------------------------------------------\u001b[0m",
            "\u001b[0;31mNameError\u001b[0m                                 Traceback (most recent call last)",
            "\u001b[0;32m<ipython-input-1-48559a4e4aeb>\u001b[0m in \u001b[0;36m<module>\u001b[0;34m\u001b[0m\n\u001b[1;32m      1\u001b[0m \u001b[0;31m# create a data frame slice\u001b[0m\u001b[0;34m\u001b[0m\u001b[0;34m\u001b[0m\u001b[0;34m\u001b[0m\u001b[0m\n\u001b[0;32m----> 2\u001b[0;31m \u001b[0msub_train\u001b[0m \u001b[0;34m=\u001b[0m \u001b[0mtrain_data\u001b[0m\u001b[0;34m[\u001b[0m\u001b[0mtrain_data\u001b[0m\u001b[0;34m[\u001b[0m\u001b[0;34m'keyword'\u001b[0m\u001b[0;34m]\u001b[0m\u001b[0;34m==\u001b[0m\u001b[0;34m'disaster'\u001b[0m\u001b[0;34m]\u001b[0m\u001b[0;34m\u001b[0m\u001b[0;34m\u001b[0m\u001b[0m\n\u001b[0m\u001b[1;32m      3\u001b[0m \u001b[0;34m\u001b[0m\u001b[0m\n\u001b[1;32m      4\u001b[0m \u001b[0;31m# sample cleaned text and tokens tagged as nouns\u001b[0m\u001b[0;34m\u001b[0m\u001b[0;34m\u001b[0m\u001b[0;34m\u001b[0m\u001b[0m\n\u001b[1;32m      5\u001b[0m \u001b[0msub_train\u001b[0m\u001b[0;34m[\u001b[0m\u001b[0;34m[\u001b[0m\u001b[0;34m'selftext_clean'\u001b[0m\u001b[0;34m,\u001b[0m \u001b[0;34m'selftext_nouns'\u001b[0m\u001b[0;34m]\u001b[0m\u001b[0;34m]\u001b[0m\u001b[0;34m.\u001b[0m\u001b[0msample\u001b[0m\u001b[0;34m(\u001b[0m\u001b[0;36m2\u001b[0m\u001b[0;34m)\u001b[0m\u001b[0;34m\u001b[0m\u001b[0;34m\u001b[0m\u001b[0m\n",
            "\u001b[0;31mNameError\u001b[0m: name 'train_data' is not defined"
          ]
        }
      ]
    },
    {
      "cell_type": "markdown",
      "source": [
        "### Creating a List of Tokens from a List of Documents"
      ],
      "metadata": {
        "id": "EM7kk8HGNPKL"
      }
    },
    {
      "cell_type": "code",
      "source": [
        "def my_tokenizer(text):\n",
        "    return text.split() if text != None else []"
      ],
      "metadata": {
        "id": "Vw45_DN6NERM"
      },
      "execution_count": null,
      "outputs": []
    },
    {
      "cell_type": "code",
      "source": [
        "# transform list of documents into a single list of tokens\n",
        "tokens = sub_train.selftext_nouns.map(my_tokenizer).sum()"
      ],
      "metadata": {
        "id": "FAbjvmthNGIE"
      },
      "execution_count": null,
      "outputs": []
    },
    {
      "cell_type": "code",
      "source": [
        "print(tokens[:200])"
      ],
      "metadata": {
        "id": "95ZS1FgHNJ1U"
      },
      "execution_count": null,
      "outputs": []
    },
    {
      "cell_type": "markdown",
      "source": [
        "### Counting Frequencies with a Counter"
      ],
      "metadata": {
        "id": "3W-mZV_VNSSU"
      }
    },
    {
      "cell_type": "code",
      "source": [
        "from collections import Counter\n",
        "\n",
        "counter = Counter(tokens)\n",
        "counter.most_common(20)"
      ],
      "metadata": {
        "id": "L5hDi3IyNS7E"
      },
      "execution_count": null,
      "outputs": []
    },
    {
      "cell_type": "code",
      "source": [
        "train_data.keyword.unique()"
      ],
      "metadata": {
        "id": "NoceLhqnNXMt"
      },
      "execution_count": null,
      "outputs": []
    },
    {
      "cell_type": "code",
      "source": [
        "print([t[0] for t in counter.most_common(200)])   "
      ],
      "metadata": {
        "id": "KXhyNpbKNk9c"
      },
      "execution_count": null,
      "outputs": []
    },
    {
      "cell_type": "code",
      "source": [
        "from spacy.lang.en.stop_words import STOP_WORDS\n",
        "\n",
        "def remove_stopwords(tokens):\n",
        "    \"\"\"Remove stopwords from a list of tokens.\"\"\"\n",
        "    return [t for t in tokens if t not in STOP_WORDS]\n",
        "\n",
        "# rebuild counter\n",
        "counter = Counter(remove_stopwords(tokens))"
      ],
      "metadata": {
        "id": "bQWj_BTPNnsE"
      },
      "execution_count": null,
      "outputs": []
    },
    {
      "cell_type": "code",
      "source": [
        "# convert list of tuples into data frame\n",
        "freq_train = pd.DataFrame.from_records(counter.most_common(20),\n",
        "                                    columns=['token', 'count'])\n",
        "\n",
        "# create bar plot\n",
        "freq_train.plot(kind='bar', x='token');"
      ],
      "metadata": {
        "id": "QpLy8RZMNrfM"
      },
      "execution_count": null,
      "outputs": []
    },
    {
      "cell_type": "markdown",
      "source": [
        "### Using Word Clouds"
      ],
      "metadata": {
        "id": "v8Qr-HajN3Ac"
      }
    },
    {
      "cell_type": "code",
      "source": [
        "from wordcloud import WordCloud\n",
        "\n",
        "def wordcloud(counter):\n",
        "    \"\"\"A small wordloud wrapper\"\"\"\n",
        "    wc = WordCloud(width=1200, height=800, \n",
        "                   background_color=\"white\", \n",
        "                   max_words=200) \n",
        "    wc.generate_from_frequencies(counter)\n",
        "\n",
        "    # Plot\n",
        "    fig=plt.figure(figsize=(6, 4))\n",
        "    plt.imshow(wc, interpolation='bilinear')\n",
        "    plt.axis(\"off\")\n",
        "    plt.tight_layout(pad=0)\n",
        "    plt.show()"
      ],
      "metadata": {
        "id": "Cgpnsws5NybM"
      },
      "execution_count": null,
      "outputs": []
    },
    {
      "cell_type": "code",
      "source": [
        "# create wordcloud\n",
        "wordcloud(counter)"
      ],
      "metadata": {
        "id": "Q5WrYh_-N6vc"
      },
      "execution_count": null,
      "outputs": []
    }
  ]
}